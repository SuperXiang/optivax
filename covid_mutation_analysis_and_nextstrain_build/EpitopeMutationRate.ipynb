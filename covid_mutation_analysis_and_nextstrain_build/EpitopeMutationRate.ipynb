{
 "cells": [
  {
   "cell_type": "code",
   "execution_count": 1,
   "metadata": {},
   "outputs": [
    {
     "data": {
      "text/plain": [
       "'\\nComputing entropy at the full epitope level.\\n'"
      ]
     },
     "execution_count": 1,
     "metadata": {},
     "output_type": "execute_result"
    }
   ],
   "source": [
    "'''\n",
    "Computing entropy at the full epitope level.\n",
    "'''"
   ]
  },
  {
   "cell_type": "code",
   "execution_count": 2,
   "metadata": {},
   "outputs": [],
   "source": [
    "import gzip\n",
    "from Bio import SeqIO\n",
    "from Bio.Seq import Seq\n",
    "import numpy as np\n",
    "import matplotlib.pyplot as plt\n",
    "import pandas as pd"
   ]
  },
  {
   "cell_type": "code",
   "execution_count": 3,
   "metadata": {},
   "outputs": [
    {
     "data": {
      "text/plain": [
       "['data/larger_version_modified/aligned_protein_E.fasta',\n",
       " 'data/larger_version_modified/aligned_protein_M.fasta',\n",
       " 'data/larger_version_modified/aligned_protein_N.fasta',\n",
       " 'data/larger_version_modified/aligned_protein_ORF10.fasta',\n",
       " 'data/larger_version_modified/aligned_protein_ORF1a.fasta',\n",
       " 'data/larger_version_modified/aligned_protein_ORF1b.fasta',\n",
       " 'data/larger_version_modified/aligned_protein_ORF3a.fasta',\n",
       " 'data/larger_version_modified/aligned_protein_ORF6.fasta',\n",
       " 'data/larger_version_modified/aligned_protein_ORF7a.fasta',\n",
       " 'data/larger_version_modified/aligned_protein_ORF7b.fasta',\n",
       " 'data/larger_version_modified/aligned_protein_ORF8.fasta',\n",
       " 'data/larger_version_modified/aligned_protein_ORF9b.fasta',\n",
       " 'data/larger_version_modified/aligned_protein_S.fasta']"
      ]
     },
     "execution_count": 3,
     "metadata": {},
     "output_type": "execute_result"
    }
   ],
   "source": [
    "amino_acid_files = !ls data/larger_version_modified/*_protein_* # newer code\n",
    "amino_acid_files"
   ]
  },
  {
   "cell_type": "code",
   "execution_count": 4,
   "metadata": {},
   "outputs": [
    {
     "data": {
      "text/plain": [
       "13"
      ]
     },
     "execution_count": 4,
     "metadata": {},
     "output_type": "execute_result"
    }
   ],
   "source": [
    "len(amino_acid_files)"
   ]
  },
  {
   "cell_type": "markdown",
   "metadata": {},
   "source": [
    "## Random aside, making a fasta file for each of the full proteins"
   ]
  },
  {
   "cell_type": "code",
   "execution_count": 5,
   "metadata": {},
   "outputs": [
    {
     "name": "stdout",
     "output_type": "stream",
     "text": [
      "ind =  0\n",
      "ind =  0\n",
      "ind =  0\n",
      "ind =  0\n",
      "ind =  0\n",
      "ind =  0\n",
      "ind =  0\n",
      "ind =  0\n",
      "ind =  0\n",
      "ind =  0\n",
      "ind =  0\n",
      "ind =  0\n",
      "ind =  0\n"
     ]
    }
   ],
   "source": [
    "seq_dict = dict()\n",
    "for aa_file in amino_acid_files:\n",
    "    protein = aa_file.split('_')[-1].split('.')[0]\n",
    "    new_aa_file= 'data/larger_version_modified/aligned_protein_'+protein+'.fasta' # newer code\n",
    "    with open(new_aa_file, \"rt\") as handle:\n",
    "        records = list(SeqIO.parse(handle, \"fasta\"))\n",
    "        \n",
    "\n",
    "    for ind, r in enumerate(records): \n",
    "        if r.id == 'Wuhan-Hu-1/2019':\n",
    "            print('ind = ', ind)\n",
    "            ref_seq_ind = ind\n",
    "\n",
    "    ref_seq_new = str(records[ref_seq_ind].seq)\n",
    "    seq_dict[protein] = ref_seq_new\n",
    "seq_dict; \n",
    "\n",
    "### All ind's should be zero by design, because I have added the reference sequence to the beginning of all the \n",
    "### protein files"
   ]
  },
  {
   "cell_type": "code",
   "execution_count": null,
   "metadata": {},
   "outputs": [],
   "source": []
  },
  {
   "cell_type": "code",
   "execution_count": 10,
   "metadata": {},
   "outputs": [],
   "source": [
    "### Create the 'base_proteins_with_end_codon_larger.fasta' file\n",
    "with open('base_proteins_with_end_codon_larger.fasta', 'w') as f: \n",
    "    for k, v in seq_dict.items():\n",
    "        f.write('> Protein: '+k+' | Base Sequence: Wuhan-Hu-1/2019\\n')\n",
    "        f.write(v +'\\n')"
   ]
  },
  {
   "cell_type": "markdown",
   "metadata": {},
   "source": [
    "# Checking if the proteins have changed from original due to new masking\n",
    "\n",
    "* This was necessary when NextStrain was doing different read calling!"
   ]
  },
  {
   "cell_type": "code",
   "execution_count": 6,
   "metadata": {},
   "outputs": [],
   "source": [
    "# for aa_file in amino_acid_files:\n",
    "#     protein = aa_file.split('_')[-1].split('.')[0]\n",
    "#     old_aa_file = '../PUFFIN/proteins/v1/aligned_aa_'+protein+'.fasta' # Trenton's code\n",
    "# #     old_aa_file = 'PUFFIN/proteins/aligned_aa_'+protein+'.fasta' # new code wrong \n",
    "# #     old_aa_file = '../PUFFIN/proteins/v1/aligned_aa_'+protein+'.fasta' # newer code wrong\n",
    "\n",
    "#     print('protein:', protein)\n",
    "#     with open(old_aa_file, \"rt\") as handle:\n",
    "#         records = list(SeqIO.parse(handle, \"fasta\"))\n",
    "\n",
    "#     # getting rid of the node sequences!\n",
    "#     no_nodes = []\n",
    "#     for r in records: \n",
    "#         if 'NODE_' not in r.id:\n",
    "#             no_nodes.append(r)\n",
    "#     records = no_nodes\n",
    "#     len(records)\n",
    "\n",
    "#     for ind, r in enumerate(records): \n",
    "#             if r.id == 'Wuhan/IPBCAMS-WH-01/2019':#'Wuhan-Hu-1/2019':#'Wuhan/WH01/2019':#'Wuhan/IPBCAMS-WH-01/2019':\n",
    "#                 print(ind)\n",
    "#                 ref_seq_ind = ind\n",
    "\n",
    "#     ref_seq_old = str(records[ref_seq_ind].seq)[:-1]\n",
    "    \n",
    "#     print('length of old sequence', len(ref_seq_old))\n",
    "    \n",
    "#     new_aa_file= 'PUFFIN/proteins/aligned_protein_'+protein+'.fasta'\n",
    "#     with open(new_aa_file, \"rt\") as handle:\n",
    "#         records = list(SeqIO.parse(handle, \"fasta\"))\n",
    "\n",
    "#     # getting rid of the node sequences!\n",
    "#     no_nodes = []\n",
    "#     for r in records: \n",
    "#         if 'NODE_' not in r.id:\n",
    "#             no_nodes.append(r)\n",
    "#     records = no_nodes\n",
    "#     len(records)\n",
    "\n",
    "#     for ind, r in enumerate(records): \n",
    "#             if r.id == 'Wuhan/IPBCAMS-WH-01/2019':#'Wuhan-Hu-1/2019':#'Wuhan/WH01/2019':#'Wuhan/IPBCAMS-WH-01/2019':\n",
    "#                 print(ind)\n",
    "#                 ref_seq_ind = ind\n",
    "\n",
    "#     ref_seq_new = str(records[ref_seq_ind].seq)[:-1]\n",
    "    \n",
    "#     if str(records[ref_seq_ind].seq)[-1] == '*':\n",
    "#         print(protein, 'has star at end')\n",
    "#     else: \n",
    "#         print(protein, 'has NO STAR at end')\n",
    "    \n",
    "#     mask = np.asarray(list(ref_seq_old)) != np.asarray(list(ref_seq_new)) \n",
    "    \n",
    "#     print(np.asarray(list(ref_seq_old))[mask])\n",
    "#     print(np.arange(len(ref_seq_old))[mask])"
   ]
  },
  {
   "cell_type": "code",
   "execution_count": 7,
   "metadata": {},
   "outputs": [],
   "source": [
    "# for aa_file in amino_acid_files:\n",
    "#     protein = aa_file.split('_')[-1].split('.')[0]\n",
    "#     old_aa_file = '../PUFFIN/proteins/v1/aligned_aa_'+protein+'.fasta'\n",
    "\n",
    "#     print('protein:', protein)\n",
    "#     with open(old_aa_file, \"rt\") as handle:\n",
    "#         records = list(SeqIO.parse(handle, \"fasta\"))\n",
    "\n",
    "#     # getting rid of the node sequences!\n",
    "#     no_nodes = []\n",
    "#     for r in records: \n",
    "#         if 'NODE_' not in r.id:\n",
    "#             no_nodes.append(r)\n",
    "#     records = no_nodes\n",
    "#     len(records)\n",
    "\n",
    "#     for ind, r in enumerate(records): \n",
    "#             if r.id == 'Wuhan/IPBCAMS-WH-01/2019':#'Wuhan-Hu-1/2019':#'Wuhan/WH01/2019':#'Wuhan/IPBCAMS-WH-01/2019':\n",
    "#                 print(ind)\n",
    "#                 ref_seq_ind = ind\n",
    "\n",
    "#     ref_seq_old = str(records[ref_seq_ind].seq)[:-1]\n",
    "    \n",
    "#     print('length of old sequence', len(ref_seq_old))\n",
    "    \n",
    "#     new_aa_file= '../PUFFIN/proteins/v6/aligned_protein_'+protein+'.fasta'\n",
    "#     with open(new_aa_file, \"rt\") as handle:\n",
    "#         records = list(SeqIO.parse(handle, \"fasta\"))\n",
    "\n",
    "#     # getting rid of the node sequences!\n",
    "#     no_nodes = []\n",
    "#     for r in records: \n",
    "#         if 'NODE_' not in r.id:\n",
    "#             no_nodes.append(r)\n",
    "#     records = no_nodes\n",
    "#     len(records)\n",
    "\n",
    "#     for ind, r in enumerate(records): \n",
    "#             if r.id == 'Wuhan/IPBCAMS-WH-01/2019':#'Wuhan-Hu-1/2019':#'Wuhan/WH01/2019':#'Wuhan/IPBCAMS-WH-01/2019':\n",
    "#                 print(ind)\n",
    "#                 ref_seq_ind = ind\n",
    "\n",
    "#     ref_seq_new = str(records[ref_seq_ind].seq)[:-1]\n",
    "    \n",
    "#     if str(records[ref_seq_ind].seq)[-1] == '*':\n",
    "#         print(protein, 'has star at end')\n",
    "#     else: \n",
    "#         print(protein, 'has NO STAR at end')\n",
    "    \n",
    "#     mask = np.asarray(list(ref_seq_old)) != np.asarray(list(ref_seq_new)) \n",
    "    \n",
    "#     print(np.asarray(list(ref_seq_old))[mask])\n",
    "#     print(np.arange(len(ref_seq_old))[mask])"
   ]
  },
  {
   "cell_type": "code",
   "execution_count": 8,
   "metadata": {},
   "outputs": [],
   "source": [
    "# # what is the frequency before and after at these different sites? \n",
    "# protein_name = 'ORF1b'\n",
    "# position = 1687\n",
    "# old_aa_file = '../PUFFIN/proteins/v1/aligned_aa_'+protein_name+'.fasta'\n",
    "\n",
    "# print('protein:', protein)\n",
    "# with open(old_aa_file, \"rt\") as handle:\n",
    "#     records = list(SeqIO.parse(handle, \"fasta\"))\n",
    "\n",
    "# # getting rid of the node sequences!\n",
    "# no_nodes = []\n",
    "# for r in records: \n",
    "#     if 'NODE_' not in r.id:\n",
    "#         no_nodes.append(r)\n",
    "# records = no_nodes\n",
    "# len(records)\n",
    "\n",
    "# for ind, r in enumerate(records): \n",
    "#     if r.id == 'Wuhan/IPBCAMS-WH-01/2019':#'Wuhan-Hu-1/2019':#'Wuhan/WH01/2019':#'Wuhan/IPBCAMS-WH-01/2019':\n",
    "#         print(ind)\n",
    "#         ref_seq_ind = ind\n",
    "# aa_counter={}\n",
    "# ref_seq_old = str(records[ref_seq_ind].seq)[:-1]\n",
    "\n",
    "# for ind, r in enumerate(records): \n",
    "#     try: \n",
    "#         aa_counter[str(r.seq[position])] += 1\n",
    "#     except:\n",
    "#         aa_counter[str(r.seq[position])] =1\n",
    "# aa_counter"
   ]
  },
  {
   "cell_type": "code",
   "execution_count": 9,
   "metadata": {},
   "outputs": [],
   "source": [
    "# new_aa_file = 'data/v6/aligned_protein_'+protein_name+'.fasta'\n",
    "\n",
    "# print('protein:', protein)\n",
    "# with open(new_aa_file, \"rt\") as handle:\n",
    "#     records = list(SeqIO.parse(handle, \"fasta\"))\n",
    "\n",
    "# # getting rid of the node sequences!\n",
    "# no_nodes = []\n",
    "# for r in records: \n",
    "#     if 'NODE_' not in r.id:\n",
    "#         no_nodes.append(r)\n",
    "# records = no_nodes\n",
    "# len(records)\n",
    "\n",
    "# for ind, r in enumerate(records): \n",
    "#     if r.id == 'Wuhan/IPBCAMS-WH-01/2019':#'Wuhan-Hu-1/2019':#'Wuhan/WH01/2019':#'Wuhan/IPBCAMS-WH-01/2019':\n",
    "#         print(ind)\n",
    "#         ref_seq_ind = ind\n",
    "# aa_counter={}\n",
    "# for ind, r in enumerate(records): \n",
    "#     try: \n",
    "#         aa_counter[str(r.seq[position])] += 1\n",
    "#     except:\n",
    "#         aa_counter[str(r.seq[position])] =1\n",
    "# aa_counter"
   ]
  },
  {
   "cell_type": "code",
   "execution_count": 10,
   "metadata": {},
   "outputs": [],
   "source": [
    "# len(records)"
   ]
  },
  {
   "cell_type": "code",
   "execution_count": 11,
   "metadata": {},
   "outputs": [],
   "source": [
    "# amino_acid_files"
   ]
  },
  {
   "cell_type": "markdown",
   "metadata": {},
   "source": [
    "# Removing sequences with Gap, X, * or no M to start (except for ORF1b, doesnt start with a M!)"
   ]
  },
  {
   "cell_type": "code",
   "execution_count": 6,
   "metadata": {},
   "outputs": [
    {
     "name": "stdout",
     "output_type": "stream",
     "text": [
      "E 7 0.09333333333333334 0\n",
      "M 1 0.0045045045045045045 0\n",
      "N 23 0.05489260143198091 0\n",
      "ORF10 39 1.0263157894736843 3\n",
      "ORF1a 12788 2.9063636363636363 0\n",
      "ORF1b 70 0.025974025974025976 0\n",
      "ORF3a 122 0.44363636363636366 3\n",
      "ORF6 48 0.7868852459016393 3\n",
      "ORF7a 63 0.5206611570247934 7\n",
      "ORF7b 90 2.0930232558139537 7\n",
      "ORF8 611 5.049586776859504 10\n",
      "ORF9b 10 0.10309278350515463 0\n",
      "S 715 0.5616653574234093 0\n"
     ]
    }
   ],
   "source": [
    "# doing a quality check \n",
    "error_seq = np.zeros(len(records))\n",
    "for aa_file in amino_acid_files: \n",
    "    \n",
    "    protein = aa_file.split('_')[-1].split('.')[0]\n",
    "    #print('protein:', protein)\n",
    "    with open(aa_file, \"rt\") as handle:\n",
    "        records = list(SeqIO.parse(handle, \"fasta\"))\n",
    "        \n",
    "    # getting rid of the node sequences!\n",
    "    no_nodes = []\n",
    "    for r in records: \n",
    "        if 'NODE_' not in r.id:\n",
    "            no_nodes.append(r)\n",
    "    records = no_nodes\n",
    "    \n",
    "    num_errs = 0\n",
    "    stop_errs =[]\n",
    "    m_errs = 0\n",
    "    \n",
    "    #records = clean_records\n",
    "    \n",
    "    for r_ind, r in enumerate(records): \n",
    "\n",
    "        trans = r.seq[:-1] # ignores final stop codon\n",
    "        \n",
    "        if protein=='ORF1b': # ignore this masked region\n",
    "            if '*' in trans or 'X' in trans or '-' in trans: # doesnt seem to start with an M for anything\n",
    "                num_errs+=1\n",
    "                error_seq[r_ind] += 1\n",
    "                stop_errs.append(  (np.asarray( list(trans) )=='*').sum()  )\n",
    "        \n",
    "        elif '*' in trans or trans[0] != 'M' or 'X' in trans or '-' in trans: \n",
    "            num_errs+=1\n",
    "            error_seq[r_ind] += 1\n",
    "            stop_errs.append(  (np.asarray( list(trans) )=='*').sum()  )\n",
    "\n",
    "            #if p=='ORF14':\n",
    "            #print(trans)\n",
    "\n",
    "            if trans[0] != 'M':\n",
    "                m_errs += 1\n",
    "\n",
    "\n",
    "    print(protein, num_errs, num_errs/len(trans), m_errs)"
   ]
  },
  {
   "cell_type": "code",
   "execution_count": 7,
   "metadata": {},
   "outputs": [
    {
     "data": {
      "text/plain": [
       "(array([10944.,     0., 11395.,     0.,     0.,   999.,     0.,   382.,\n",
       "            0.,    12.]),\n",
       " array([0. , 0.4, 0.8, 1.2, 1.6, 2. , 2.4, 2.8, 3.2, 3.6, 4. ]),\n",
       " <BarContainer object of 10 artists>)"
      ]
     },
     "execution_count": 7,
     "metadata": {},
     "output_type": "execute_result"
    },
    {
     "data": {
      "image/png": "[encoded data removed]",
      "text/plain": [
       "<Figure size 432x288 with 1 Axes>"
      ]
     },
     "metadata": {
      "needs_background": "light"
     },
     "output_type": "display_data"
    }
   ],
   "source": [
    "plt.hist(error_seq)"
   ]
  },
  {
   "cell_type": "code",
   "execution_count": 8,
   "metadata": {},
   "outputs": [
    {
     "data": {
      "text/plain": [
       "12788"
      ]
     },
     "execution_count": 8,
     "metadata": {},
     "output_type": "execute_result"
    }
   ],
   "source": [
    "(error_seq>0).sum()"
   ]
  },
  {
   "cell_type": "code",
   "execution_count": 9,
   "metadata": {},
   "outputs": [
    {
     "data": {
      "text/plain": [
       "23732"
      ]
     },
     "execution_count": 9,
     "metadata": {},
     "output_type": "execute_result"
    }
   ],
   "source": [
    "len(error_seq)"
   ]
  },
  {
   "cell_type": "code",
   "execution_count": 10,
   "metadata": {},
   "outputs": [],
   "source": [
    "drop_seq = (error_seq>0)"
   ]
  },
  {
   "cell_type": "markdown",
   "metadata": {},
   "source": [
    "## Removing Belgian Sequences\n",
    "https://github.com/nextstrain/ncov/commit/6b7b822858ccc3e21ec279fc6afde30365d25aa0 They had 3 masked regions that need to be accounted for. May be more read quality issues too\n",
    "\n",
    "* This should no longer be a problem!"
   ]
  },
  {
   "cell_type": "code",
   "execution_count": 94,
   "metadata": {},
   "outputs": [
    {
     "data": {
      "text/plain": [
       "'# getting the nt regions\\n\\nwith open(\\'nextstrain_covid19_ref_protein_pos.txt\\', \\'r\\') as f: \\n    lines = f.readlines()\\ntake_next_line = False\\nregions = []\\nproteins = []\\nfor l in lines:\\n    if \\'CDS \\' in l:\\n        regions.append(l.split(\\'CDS\\')[1].strip())\\n        take_next_line=True\\n        \\n    elif take_next_line:\\n        proteins.append(l.split(\\'gene=\\')[1].strip().strip(\\'\"\\'))\\n        take_next_line=False\\n        \\nprotein_regions = {p:r for p,r in zip(proteins, regions)}\\nprotein_regions'"
      ]
     },
     "execution_count": 94,
     "metadata": {},
     "output_type": "execute_result"
    }
   ],
   "source": [
    "'''# getting the nt regions\n",
    "\n",
    "with open('nextstrain_covid19_ref_protein_pos.txt', 'r') as f: \n",
    "    lines = f.readlines()\n",
    "take_next_line = False\n",
    "regions = []\n",
    "proteins = []\n",
    "for l in lines:\n",
    "    if 'CDS ' in l:\n",
    "        regions.append(l.split('CDS')[1].strip())\n",
    "        take_next_line=True\n",
    "        \n",
    "    elif take_next_line:\n",
    "        proteins.append(l.split('gene=')[1].strip().strip('\"'))\n",
    "        take_next_line=False\n",
    "        \n",
    "protein_regions = {p:r for p,r in zip(proteins, regions)}\n",
    "protein_regions'''"
   ]
  },
  {
   "cell_type": "code",
   "execution_count": 95,
   "metadata": {},
   "outputs": [
    {
     "data": {
      "text/plain": [
       "'belgian_masked_sites = [ \\n               13402-266,\\n               24389-21563, \\n               24390-21563]\\nbelgian_masked_sites = np.asarray(belgian_masked_sites)/3\\nbelgian_masked_sites'"
      ]
     },
     "execution_count": 95,
     "metadata": {},
     "output_type": "execute_result"
    }
   ],
   "source": [
    "'''belgian_masked_sites = [ \n",
    "               13402-266,\n",
    "               24389-21563, \n",
    "               24390-21563]\n",
    "belgian_masked_sites = np.asarray(belgian_masked_sites)/3\n",
    "belgian_masked_sites'''"
   ]
  },
  {
   "cell_type": "code",
   "execution_count": 96,
   "metadata": {},
   "outputs": [
    {
     "data": {
      "text/plain": [
       "\"the_proteins = ['ORF1a', 'S', 'S']\\n#for prot, pos in zip(the_proteins,belgian_masked_sites )\\nmasked_dict = {'ORF1a':4378, 'S':942 }\\nmasked_dict\""
      ]
     },
     "execution_count": 96,
     "metadata": {},
     "output_type": "execute_result"
    }
   ],
   "source": [
    "'''the_proteins = ['ORF1a', 'S', 'S']\n",
    "#for prot, pos in zip(the_proteins,belgian_masked_sites )\n",
    "masked_dict = {'ORF1a':4378, 'S':942 }\n",
    "masked_dict'''"
   ]
  },
  {
   "cell_type": "code",
   "execution_count": 97,
   "metadata": {},
   "outputs": [
    {
     "data": {
      "text/plain": [
       "'for aa_file in amino_acid_files:\\n    protein = aa_file.split(\\'_\\')[-1].split(\\'.\\')[0]\\n    print(\\'protein:\\', protein)\\n    old_aa_file = \\'../PUFFIN/proteins/v4/aligned_protein_\\'+protein+\\'.fasta\\'\\n\\n    with open(old_aa_file, \"rt\") as handle:\\n        old_records = list(SeqIO.parse(handle, \"fasta\"))\\n        \\n    n_belg = 0\\n    no_nodes = []\\n    for r in old_records: \\n        if \\'Belgium\\' in r.id:\\n            n_belg+=1\\n        if \\'NODE_\\' not in r.id:\\n            no_nodes.append(r)\\n    old_records = no_nodes\\n    print(\\'reference sequences number belgian\\', n_belg)\\n        \\n    for ind, r in enumerate(old_records): \\n        if r.id == \\'Wuhan/IPBCAMS-WH-01/2019\\':#\\'Wuhan-Hu-1/2019\\':#\\'Wuhan/WH01/2019\\':#\\'Wuhan/IPBCAMS-WH-01/2019\\':\\n            print(ind)\\n            ref_seq_ind = ind\\n    ref_seq_old = str(old_records[ref_seq_ind].seq)[:-1]\\n    # this sequence does not have these same masking positions applied. \\n    \\n    curr_aa_file = \\'../PUFFIN/proteins/v6/cleaned_aligned_protein_\\'+protein+\\'.fasta\\'\\n    with open(curr_aa_file, \"rt\") as handle:\\n        records = list(SeqIO.parse(handle, \"fasta\"))\\n\\n    belg_seqs=[]\\n    for ind, r in enumerate(records): \\n        if \\'Belgium\\' in r.id:\\n            belg_seqs.append(r.seq)\\n            \\n    print(\\'num belg seqs\\', len(belg_seqs))\\n    \\n    if protein in masked_dict.keys():\\n        mask_pos = masked_dict[protein]\\n        print(\\'reference value\\',ref_seq_old[mask_pos] )\\n        \\n        old_records= np.asarray(old_records)\\n        unique, counts = np.unique(old_records[:, mask_pos], return_counts=True)\\n        count_dict = dict(zip(unique, counts))\\n        print(\\'reference values\\', count_dict)\\n        \\n        belg_seqs = np.asarray(belg_seqs)\\n        unique, counts = np.unique(belg_seqs[:, mask_pos], return_counts=True)\\n        count_dict = dict(zip(unique, counts))\\n        print(\\'belgian masked values\\', count_dict)\\n        \\n        \\n        records = np.asarray(records)\\n        unique, counts = np.unique(records[:, mask_pos], return_counts=True)\\n        count_dict = dict(zip(unique, counts))\\n        print(\\'all masked sequences\\', count_dict)'"
      ]
     },
     "execution_count": 97,
     "metadata": {},
     "output_type": "execute_result"
    }
   ],
   "source": [
    "'''for aa_file in amino_acid_files:\n",
    "    protein = aa_file.split('_')[-1].split('.')[0]\n",
    "    print('protein:', protein)\n",
    "    old_aa_file = '../PUFFIN/proteins/v4/aligned_protein_'+protein+'.fasta'\n",
    "\n",
    "    with open(old_aa_file, \"rt\") as handle:\n",
    "        old_records = list(SeqIO.parse(handle, \"fasta\"))\n",
    "        \n",
    "    n_belg = 0\n",
    "    no_nodes = []\n",
    "    for r in old_records: \n",
    "        if 'Belgium' in r.id:\n",
    "            n_belg+=1\n",
    "        if 'NODE_' not in r.id:\n",
    "            no_nodes.append(r)\n",
    "    old_records = no_nodes\n",
    "    print('reference sequences number belgian', n_belg)\n",
    "        \n",
    "    for ind, r in enumerate(old_records): \n",
    "        if r.id == 'Wuhan/IPBCAMS-WH-01/2019':#'Wuhan-Hu-1/2019':#'Wuhan/WH01/2019':#'Wuhan/IPBCAMS-WH-01/2019':\n",
    "            print(ind)\n",
    "            ref_seq_ind = ind\n",
    "    ref_seq_old = str(old_records[ref_seq_ind].seq)[:-1]\n",
    "    # this sequence does not have these same masking positions applied. \n",
    "    \n",
    "    curr_aa_file = '../PUFFIN/proteins/v6/cleaned_aligned_protein_'+protein+'.fasta'\n",
    "    with open(curr_aa_file, \"rt\") as handle:\n",
    "        records = list(SeqIO.parse(handle, \"fasta\"))\n",
    "\n",
    "    belg_seqs=[]\n",
    "    for ind, r in enumerate(records): \n",
    "        if 'Belgium' in r.id:\n",
    "            belg_seqs.append(r.seq)\n",
    "            \n",
    "    print('num belg seqs', len(belg_seqs))\n",
    "    \n",
    "    if protein in masked_dict.keys():\n",
    "        mask_pos = masked_dict[protein]\n",
    "        print('reference value',ref_seq_old[mask_pos] )\n",
    "        \n",
    "        old_records= np.asarray(old_records)\n",
    "        unique, counts = np.unique(old_records[:, mask_pos], return_counts=True)\n",
    "        count_dict = dict(zip(unique, counts))\n",
    "        print('reference values', count_dict)\n",
    "        \n",
    "        belg_seqs = np.asarray(belg_seqs)\n",
    "        unique, counts = np.unique(belg_seqs[:, mask_pos], return_counts=True)\n",
    "        count_dict = dict(zip(unique, counts))\n",
    "        print('belgian masked values', count_dict)\n",
    "        \n",
    "        \n",
    "        records = np.asarray(records)\n",
    "        unique, counts = np.unique(records[:, mask_pos], return_counts=True)\n",
    "        count_dict = dict(zip(unique, counts))\n",
    "        print('all masked sequences', count_dict)'''"
   ]
  },
  {
   "cell_type": "code",
   "execution_count": 98,
   "metadata": {},
   "outputs": [
    {
     "data": {
      "text/plain": [
       "'unique, counts = np.unique(belg_seqs[:, mask_pos], return_counts=True)\\ncount_dict = dict(zip(unique, counts))\\ncount_dict'"
      ]
     },
     "execution_count": 98,
     "metadata": {},
     "output_type": "execute_result"
    }
   ],
   "source": [
    "'''unique, counts = np.unique(belg_seqs[:, mask_pos], return_counts=True)\n",
    "count_dict = dict(zip(unique, counts))\n",
    "count_dict'''"
   ]
  },
  {
   "cell_type": "markdown",
   "metadata": {},
   "source": [
    "## Saving out these cleaned sequences"
   ]
  },
  {
   "cell_type": "code",
   "execution_count": 13,
   "metadata": {},
   "outputs": [],
   "source": [
    "# # write out the dropped sequences. \n",
    "# from Bio import SeqIO\n",
    "# for aa_file in amino_acid_files: \n",
    "    \n",
    "#     protein = aa_file.split('_')[-1].split('.')[0]\n",
    "#     #print('protein:', protein)\n",
    "#     with open(aa_file, \"rt\") as handle:\n",
    "#         records = list(SeqIO.parse(handle, \"fasta\"))\n",
    "        \n",
    "#     # getting rid of the node sequences!\n",
    "#     no_nodes = []\n",
    "#     for r in records: \n",
    "#         if 'NODE_' not in r.id:\n",
    "#             no_nodes.append(r)\n",
    "#     records = no_nodes\n",
    "    \n",
    "#     clean_records = []\n",
    "#     for r_ind, r in enumerate(records): \n",
    "#         if drop_seq[r_ind]==False:\n",
    "#             clean_records.append(r)\n",
    "#     print(len(clean_records))\n",
    "\n",
    "#     with open(\"../PUFFIN/proteins/v6_cleaned/aligned_protein_\"+protein+\".fasta\", \"w\") as output_handle:\n",
    "#         SeqIO.write(clean_records, output_handle, \"fasta\")"
   ]
  },
  {
   "cell_type": "code",
   "execution_count": 14,
   "metadata": {},
   "outputs": [],
   "source": [
    "# amino_acid_files"
   ]
  },
  {
   "cell_type": "markdown",
   "metadata": {},
   "source": [
    "## Computing the Entropy in a Parallelized Fashion"
   ]
  },
  {
   "cell_type": "code",
   "execution_count": 12,
   "metadata": {},
   "outputs": [],
   "source": [
    "def computeWindows(aa_file):\n",
    "    print('computeWindows!!!')\n",
    "    print('aa_file = ', aa_file) ## Alex\n",
    "    \n",
    "    def entropy_calc(x):\n",
    "        # where x is a list of numbers. \n",
    "        summ = 0\n",
    "        nc = np.sum(x)\n",
    "        for e in x: \n",
    "            p = e/nc\n",
    "            summ += p*np.log2(p)\n",
    "        return -summ\n",
    "    \n",
    "    window_sizes = list(range(8,12)) + list(range(13,26)) # why were sliding windows of 12 excluded? -- Alex\n",
    "    #df = dict() # will store the results. \n",
    "    protein_res = []\n",
    "    protein = aa_file.split('_')[-1].split('.')[0]\n",
    "    print('protein:', protein)\n",
    "    with open(aa_file, \"rt\") as handle:\n",
    "        records = list(SeqIO.parse(handle, \"fasta\"))\n",
    "    \n",
    "    \n",
    "    # getting rid of the node sequences!\n",
    "    no_nodes = []\n",
    "    for r in records: \n",
    "        if 'NODE_' not in r.id:\n",
    "            no_nodes.append(r)\n",
    "    records = no_nodes\n",
    "    print('size of records', len(records))\n",
    "    # getting the reference sequence\n",
    "    for ind, r in enumerate(records): \n",
    "        if r.id == 'Wuhan-Hu-1/2019':#'Wuhan/WH01/2019':#'Wuhan/IPBCAMS-WH-01/2019':\n",
    "            ref_seq_ind = ind\n",
    "            \n",
    "    ref_seq = str(records[ref_seq_ind].seq)\n",
    "    \n",
    "    seqs = np.array(records)\n",
    "    \n",
    "    if seqs[ref_seq_ind, -1]=='*': # ignore the stop code at the end. \n",
    "        print('removing the stop codon at the end', protein)\n",
    "        ref_seq = ref_seq[:-1]\n",
    "        seqs = seqs[:, :-1]\n",
    "    \n",
    "    for window in window_sizes:\n",
    "        print('window size', window)\n",
    "        \n",
    "        window_res = []\n",
    "        \n",
    "        # get epitope based column slices. gives a list of epi columns. \n",
    "        epi_columns = [seqs[:,i:i+window] for i in range(seqs.shape[1]-window+1)]\n",
    "    \n",
    "        for col_ind, col in enumerate(epi_columns):\n",
    "            # count all of the unique epitopes here. \n",
    "            \n",
    "            #first need to convert each of the columns into strings:\n",
    "            col = np.asarray(  [  ''.join(col[i,:]) for i in range(col.shape[0]) ])\n",
    "            unique, counts = np.unique(col, return_counts=True) \n",
    "            ent = entropy_calc(counts)\n",
    "            \n",
    "            # useful for percentages\n",
    "            ref_epitope = col[ref_seq_ind]\n",
    "            count_dict = dict(zip(unique, counts))\n",
    "            # -1 for no self count. percentage mutated. \n",
    "            perc = 1 - ((count_dict[ref_epitope]-1)/(np.sum(counts)-1))\n",
    "            \n",
    "            # start pos, window size, entropy\n",
    "            window_res.append([protein, ref_epitope, col_ind, window, ent, perc])\n",
    "            \n",
    "        protein_res += window_res\n",
    "        \n",
    "    df = pd.DataFrame(protein_res)\n",
    "    df.columns = ['protein', 'epitope', 'start_pos', 'epi_len', 'entropy', 'perc_mutated']\n",
    "#     df.to_csv('../data/processed/epitope_calcs/Epitope_calc_'+protein+'.csv' , index=False)\n",
    "    df.to_csv('data/processed/epitope_calcs_larger/Epitope_calc_'+protein+'.csv' , index=False)\n",
    "\n",
    "        \n",
    "    #df[protein] = protein_res"
   ]
  },
  {
   "cell_type": "code",
   "execution_count": 15,
   "metadata": {},
   "outputs": [
    {
     "data": {
      "text/plain": [
       "['data/larger_version_modified/aligned_protein_E.fasta',\n",
       " 'data/larger_version_modified/aligned_protein_M.fasta',\n",
       " 'data/larger_version_modified/aligned_protein_N.fasta',\n",
       " 'data/larger_version_modified/aligned_protein_ORF10.fasta',\n",
       " 'data/larger_version_modified/aligned_protein_ORF1a.fasta',\n",
       " 'data/larger_version_modified/aligned_protein_ORF1b.fasta',\n",
       " 'data/larger_version_modified/aligned_protein_ORF3a.fasta',\n",
       " 'data/larger_version_modified/aligned_protein_ORF6.fasta',\n",
       " 'data/larger_version_modified/aligned_protein_ORF7a.fasta',\n",
       " 'data/larger_version_modified/aligned_protein_ORF7b.fasta',\n",
       " 'data/larger_version_modified/aligned_protein_ORF8.fasta',\n",
       " 'data/larger_version_modified/aligned_protein_ORF9b.fasta',\n",
       " 'data/larger_version_modified/aligned_protein_S.fasta']"
      ]
     },
     "execution_count": 15,
     "metadata": {},
     "output_type": "execute_result"
    }
   ],
   "source": [
    "### Check that these are the larger_version_modified files\n",
    "amino_acid_files"
   ]
  },
  {
   "cell_type": "code",
   "execution_count": 14,
   "metadata": {},
   "outputs": [],
   "source": [
    "# # check these are the right AA files: \n",
    "# # amino_acid_files = !ls ../PUFFIN/proteins/v6_cleaned/*_protein_*\n",
    "# amino_acid_files = !ls data/v6_cleaned/*_protein_*\n",
    "\n",
    "# amino_acid_files\n",
    "# # len(amino_acid_files)"
   ]
  },
  {
   "cell_type": "code",
   "execution_count": null,
   "metadata": {},
   "outputs": [],
   "source": []
  },
  {
   "cell_type": "code",
   "execution_count": 16,
   "metadata": {},
   "outputs": [
    {
     "name": "stdout",
     "output_type": "stream",
     "text": [
      "Starting pooling!!!\n",
      "computeWindows!!!computeWindows!!!computeWindows!!!\n",
      "\n",
      "computeWindows!!!\n",
      "aa_file = computeWindows!!!aa_file = aa_file = computeWindows!!!\n",
      "computeWindows!!!  \n",
      " aa_file = data/larger_version_modified/aligned_protein_M.fasta\n",
      "\n",
      "aa_file = data/larger_version_modified/aligned_protein_E.fasta\n",
      " aa_file = data/larger_version_modified/aligned_protein_N.fasta\n",
      "aa_file =  protein:data/larger_version_modified/aligned_protein_ORF10.fasta \n",
      "data/larger_version_modified/aligned_protein_ORF1a.fastaprotein:  \n",
      "data/larger_version_modified/aligned_protein_ORF1b.fastaprotein:\n",
      " data/larger_version_modified/aligned_protein_ORF3a.fastaMprotein:E\n",
      " protein:\n",
      "\n",
      " \n",
      " protein:Nprotein:ORF1aORF10 \n",
      " \n",
      "\n",
      "ORF1bORF3a\n",
      "\n",
      "size of records size of records12789 \n",
      "12789\n",
      "size of records 12789\n",
      "size of records 12789\n",
      "size of records 12789\n",
      "size of records removing the stop codon at the end12789\n",
      " ORF10\n",
      "window size 8\n",
      "removing the stop codon at the end E\n",
      "size of recordswindow size  127898\n",
      "\n",
      "removing the stop codon at the end M\n",
      "window size 8\n",
      "window size 9\n",
      "removing the stop codon at the end ORF3a\n",
      "window size 8\n",
      "window size 10\n",
      "removing the stop codon at the end N\n",
      "window size 8\n",
      "window size 9\n",
      "window size 11\n",
      "window size 13\n",
      "window size 10\n",
      "window size 14\n",
      "window size 15\n",
      "window size 11\n",
      "window size 9\n",
      "window size 16\n",
      "window size 17\n",
      "window size 9\n",
      "window size 13\n",
      "window size 18\n",
      "window size 19\n",
      "window size 14\n",
      "window size 20\n",
      "window size 21\n",
      "window size 22\n",
      "removing the stop codon at the end ORF1b\n",
      "window size 8\n",
      "window size 9\n",
      "window size 10\n",
      "window size 15\n",
      "window size 23\n",
      "window size 24\n",
      "window size 25\n",
      "window size 16\n",
      "window size 10\n",
      "computeWindows!!!\n",
      "aa_file =  data/larger_version_modified/aligned_protein_ORF6.fasta\n",
      "protein: ORF6\n",
      "size of records 12789\n",
      "removing the stop codon at the end ORF6\n",
      "window size 8\n",
      "window size 17\n",
      "window size 9\n",
      "window size 11\n",
      "window size 10\n",
      "window size 8\n",
      "window size 18\n",
      "window size 11\n",
      "window size 13\n",
      "window size 19\n",
      "window size 11\n",
      "window size 10\n",
      "window size 14\n",
      "window size 13\n",
      "window size 20\n",
      "window size 15\n",
      "window size 16\n",
      "window size 21\n",
      "window size 17\n",
      "window size 22\n",
      "window size 18\n",
      "window size 13\n",
      "window size 14\n",
      "window size 19\n",
      "window size 23\n",
      "window size 20\n",
      "window size 11\n",
      "window size 24\n",
      "window size 21\n",
      "window size 22\n",
      "window size 25\n",
      "window size 15\n",
      "window size 14\n",
      "window size 23\n",
      "computeWindows!!!\n",
      "aa_file =  data/larger_version_modified/aligned_protein_ORF7a.fasta\n",
      "protein: ORF7a\n",
      "size of records 12789\n",
      "removing the stop codon at the end ORF7a\n",
      "window size 8\n",
      "window size 24\n",
      "window size 25\n",
      "window size 9\n",
      "computeWindows!!!\n",
      "aa_file =  data/larger_version_modified/aligned_protein_ORF7b.fasta\n",
      "protein: ORF7b\n",
      "size of records 12789\n",
      "removing the stop codon at the end ORF7b\n",
      "window size 8\n",
      "window size 13\n",
      "window size 16\n",
      "window size 10\n",
      "window size 9\n",
      "window size 10\n",
      "window size 15\n",
      "window size 11\n",
      "window size 13\n",
      "window size 11\n",
      "window size 14\n",
      "window size 15\n",
      "window size 16\n",
      "window size 13\n",
      "window size 17\n",
      "window size 17\n",
      "window size 18\n",
      "window size 19\n",
      "window size 14\n",
      "window size 20\n",
      "window size 16\n",
      "window size 21\n",
      "window size 22\n",
      "window size 14\n",
      "window size 23\n",
      "window size 15\n",
      "window size 24\n",
      "window size 18\n",
      "window size 25\n",
      "computeWindows!!!\n",
      "aa_file =  data/larger_version_modified/aligned_protein_ORF8.fasta\n",
      "protein: ORF8\n",
      "size of records 12789\n",
      "removing the stop codon at the end ORF8\n",
      "window size 8\n",
      "window size 16\n",
      "window size 9\n",
      "window size 17\n",
      "window size 17\n",
      "window size 10\n",
      "window size 19\n",
      "window size 18\n",
      "window size 11\n",
      "window size 15\n",
      "window size 9\n",
      "window size 13\n",
      "window size 19\n",
      "window size 18\n",
      "window size 14\n",
      "window size 20\n",
      "window size 20\n",
      "window size 15\n",
      "window size 21\n",
      "window size 16\n",
      "window size 16\n",
      "window size 19\n",
      "window size 21\n",
      "window size 22\n",
      "window size 17\n",
      "window size 18\n",
      "window size 23\n",
      "window size 22\n",
      "window size 19\n",
      "window size 20\n",
      "window size 24\n",
      "window size 17\n",
      "window size 20\n",
      "window size 25\n",
      "window size 23\n",
      "window size 21\n",
      "computeWindows!!!\n",
      "aa_file =  data/larger_version_modified/aligned_protein_ORF9b.fasta\n",
      "protein: ORF9b\n",
      "size of records 12789\n",
      "window size 21\n",
      "removing the stop codon at the end ORF9b\n",
      "window size 8\n",
      "window size 22\n",
      "window size 9\n",
      "window size 10\n",
      "window size 11\n",
      "window size 23\n",
      "window size 24\n",
      "window size 18\n",
      "window size 13\n",
      "window size 9\n",
      "window size 22\n",
      "window size 24\n",
      "window size 14\n",
      "window size 15\n",
      "window size 25\n",
      "window size 25\n",
      "window size 16\n",
      "window size 17\n",
      "computeWindows!!!\n",
      "aa_file =  data/larger_version_modified/aligned_protein_S.fasta\n",
      "protein: S\n",
      "size of records 12789\n",
      "window size 23\n",
      "window size 18\n",
      "window size 19\n",
      "removing the stop codon at the end S\n",
      "window size window size8 \n",
      "19\n",
      "window size 20\n",
      "window size 10\n",
      "window size 21\n",
      "window size 24\n",
      "window size 22\n",
      "window size 23\n",
      "window size 20\n",
      "window size 24\n",
      "window size 25\n",
      "window size 25\n",
      "window size 9\n",
      "window size 21\n",
      "window size 22\n",
      "window size 10\n",
      "window size 23\n",
      "window size 11\n",
      "window size 24\n",
      "window size 10\n",
      "window size 11\n",
      "window size 25\n",
      "window size 13\n",
      "window size 13\n",
      "window size 14\n",
      "window size 11\n",
      "window size 15\n",
      "window size 14\n",
      "window size 16\n",
      "window size 17\n",
      "window size 15\n",
      "window size 13\n",
      "window size 18\n",
      "window size 19\n",
      "window size 16\n",
      "window size 20\n",
      "window size 14\n",
      "window size 21\n",
      "window size 17\n",
      "window size 22\n",
      "window size 15\n",
      "window size 18\n",
      "window size 23\n",
      "window size 24\n",
      "window size 19\n",
      "window size 25\n",
      "window size 16\n",
      "window size 20\n",
      "window size 17\n",
      "window size 21\n",
      "window size 22\n",
      "window size 18\n",
      "window size 23\n",
      "window size 19\n",
      "window size 24\n",
      "window size 20\n",
      "window size 25\n",
      "window size 21\n",
      "window size 22\n",
      "window size 23\n",
      "window size 24\n",
      "window size 25\n",
      "all processes are done!, trying to join together all of the files\n",
      "Total run time in minutes: 103.48027988274892\n"
     ]
    }
   ],
   "source": [
    "# from multiprocessing import Process, Queue, cpu_count, Pool\n",
    "from multiprocess import Process, Queue, cpu_count, Pool\n",
    "import time \n",
    "ncores = 7\n",
    "\n",
    "start_time = time.time()\n",
    "\n",
    "### uncomment this to run it, commented for safety reasons -- Alex\n",
    "# multicore generate new samples\n",
    "print('Starting pooling!!!')\n",
    "p = Pool(ncores)\n",
    "p.map(computeWindows, amino_acid_files)\n",
    "p.close()\n",
    "\n",
    "print('all processes are done!, trying to join together all of the files')\n",
    "\n",
    "for ind, aa_file in enumerate(amino_acid_files):\n",
    "    protein = aa_file.split('_')[-1].split('.')[0]\n",
    "    \n",
    "#     temp = pd.read_csv('../data/processed/epitope_calcs/Epitope_calc_'+protein+'.csv')\n",
    "    temp = pd.read_csv('data/processed/epitope_calcs_larger/Epitope_calc_'+protein+'.csv')\n",
    "    \n",
    "    if ind == 0:\n",
    "        df = temp\n",
    "    else: \n",
    "        df = df.append(temp)\n",
    "    \n",
    "print('Total run time in minutes: '+str((time.time()-start_time)/60))\n",
    "\n",
    "# df.to_csv('../data/processed/parallelized_epitope_entropies.csv', index=False)\n",
    "df.to_csv('data/processed/parallelized_epitope_entropies_larger.csv', index=False)"
   ]
  },
  {
   "cell_type": "code",
   "execution_count": null,
   "metadata": {},
   "outputs": [],
   "source": []
  },
  {
   "cell_type": "code",
   "execution_count": null,
   "metadata": {},
   "outputs": [],
   "source": []
  },
  {
   "cell_type": "markdown",
   "metadata": {},
   "source": [
    "## Can ignore all of the following now. \n",
    "\n",
    "### Looking at the mutation differences between Hu-1 and original sequence\n",
    "\n",
    "* This analysis motivated my suggestion that we should in fact be using the Hu-1 sequence as we were missing a couple potential epitopes we could have chosen. \n"
   ]
  },
  {
   "cell_type": "code",
   "execution_count": 55,
   "metadata": {},
   "outputs": [
    {
     "data": {
      "text/html": [
       "<div>\n",
       "<style scoped>\n",
       "    .dataframe tbody tr th:only-of-type {\n",
       "        vertical-align: middle;\n",
       "    }\n",
       "\n",
       "    .dataframe tbody tr th {\n",
       "        vertical-align: top;\n",
       "    }\n",
       "\n",
       "    .dataframe thead th {\n",
       "        text-align: right;\n",
       "    }\n",
       "</style>\n",
       "<table border=\"1\" class=\"dataframe\">\n",
       "  <thead>\n",
       "    <tr style=\"text-align: right;\">\n",
       "      <th></th>\n",
       "      <th>protein</th>\n",
       "      <th>epitope</th>\n",
       "      <th>start_pos</th>\n",
       "      <th>epi_len</th>\n",
       "      <th>entropy</th>\n",
       "      <th>perc_mutated</th>\n",
       "    </tr>\n",
       "  </thead>\n",
       "  <tbody>\n",
       "    <tr>\n",
       "      <th>0</th>\n",
       "      <td>E</td>\n",
       "      <td>MYSFVSEE</td>\n",
       "      <td>0</td>\n",
       "      <td>8</td>\n",
       "      <td>0.002908</td>\n",
       "      <td>0.000213</td>\n",
       "    </tr>\n",
       "    <tr>\n",
       "      <th>1</th>\n",
       "      <td>E</td>\n",
       "      <td>YSFVSEET</td>\n",
       "      <td>1</td>\n",
       "      <td>8</td>\n",
       "      <td>0.008297</td>\n",
       "      <td>0.000640</td>\n",
       "    </tr>\n",
       "    <tr>\n",
       "      <th>2</th>\n",
       "      <td>E</td>\n",
       "      <td>SFVSEETG</td>\n",
       "      <td>2</td>\n",
       "      <td>8</td>\n",
       "      <td>0.008297</td>\n",
       "      <td>0.000640</td>\n",
       "    </tr>\n",
       "    <tr>\n",
       "      <th>3</th>\n",
       "      <td>E</td>\n",
       "      <td>FVSEETGT</td>\n",
       "      <td>3</td>\n",
       "      <td>8</td>\n",
       "      <td>0.008297</td>\n",
       "      <td>0.000640</td>\n",
       "    </tr>\n",
       "    <tr>\n",
       "      <th>4</th>\n",
       "      <td>E</td>\n",
       "      <td>VSEETGTL</td>\n",
       "      <td>4</td>\n",
       "      <td>8</td>\n",
       "      <td>0.008297</td>\n",
       "      <td>0.000640</td>\n",
       "    </tr>\n",
       "  </tbody>\n",
       "</table>\n",
       "</div>"
      ],
      "text/plain": [
       "  protein   epitope  start_pos  epi_len   entropy  perc_mutated\n",
       "0       E  MYSFVSEE          0        8  0.002908      0.000213\n",
       "1       E  YSFVSEET          1        8  0.008297      0.000640\n",
       "2       E  SFVSEETG          2        8  0.008297      0.000640\n",
       "3       E  FVSEETGT          3        8  0.008297      0.000640\n",
       "4       E  VSEETGTL          4        8  0.008297      0.000640"
      ]
     },
     "execution_count": 55,
     "metadata": {},
     "output_type": "execute_result"
    }
   ],
   "source": [
    "#df = pd.read_csv('../data/processed/epitope_entropies.csv')\n",
    "#df.head()"
   ]
  },
  {
   "cell_type": "code",
   "execution_count": 56,
   "metadata": {},
   "outputs": [
    {
     "data": {
      "text/plain": [
       "(164786, 6)"
      ]
     },
     "execution_count": 56,
     "metadata": {},
     "output_type": "execute_result"
    }
   ],
   "source": [
    "df.shape"
   ]
  },
  {
   "cell_type": "code",
   "execution_count": 57,
   "metadata": {},
   "outputs": [
    {
     "data": {
      "text/html": [
       "<div>\n",
       "<style scoped>\n",
       "    .dataframe tbody tr th:only-of-type {\n",
       "        vertical-align: middle;\n",
       "    }\n",
       "\n",
       "    .dataframe tbody tr th {\n",
       "        vertical-align: top;\n",
       "    }\n",
       "\n",
       "    .dataframe thead th {\n",
       "        text-align: right;\n",
       "    }\n",
       "</style>\n",
       "<table border=\"1\" class=\"dataframe\">\n",
       "  <thead>\n",
       "    <tr style=\"text-align: right;\">\n",
       "      <th></th>\n",
       "      <th>protein</th>\n",
       "      <th>epitope</th>\n",
       "      <th>start_pos</th>\n",
       "      <th>epi_len</th>\n",
       "      <th>entropy</th>\n",
       "      <th>perc_mutated</th>\n",
       "    </tr>\n",
       "  </thead>\n",
       "  <tbody>\n",
       "    <tr>\n",
       "      <th>0</th>\n",
       "      <td>E</td>\n",
       "      <td>MYSFVSEE</td>\n",
       "      <td>0</td>\n",
       "      <td>8</td>\n",
       "      <td>0.002908</td>\n",
       "      <td>0.000213</td>\n",
       "    </tr>\n",
       "    <tr>\n",
       "      <th>1</th>\n",
       "      <td>E</td>\n",
       "      <td>YSFVSEET</td>\n",
       "      <td>1</td>\n",
       "      <td>8</td>\n",
       "      <td>0.008297</td>\n",
       "      <td>0.000640</td>\n",
       "    </tr>\n",
       "    <tr>\n",
       "      <th>2</th>\n",
       "      <td>E</td>\n",
       "      <td>SFVSEETG</td>\n",
       "      <td>2</td>\n",
       "      <td>8</td>\n",
       "      <td>0.008297</td>\n",
       "      <td>0.000640</td>\n",
       "    </tr>\n",
       "    <tr>\n",
       "      <th>3</th>\n",
       "      <td>E</td>\n",
       "      <td>FVSEETGT</td>\n",
       "      <td>3</td>\n",
       "      <td>8</td>\n",
       "      <td>0.008297</td>\n",
       "      <td>0.000640</td>\n",
       "    </tr>\n",
       "    <tr>\n",
       "      <th>4</th>\n",
       "      <td>E</td>\n",
       "      <td>VSEETGTL</td>\n",
       "      <td>4</td>\n",
       "      <td>8</td>\n",
       "      <td>0.008297</td>\n",
       "      <td>0.000640</td>\n",
       "    </tr>\n",
       "  </tbody>\n",
       "</table>\n",
       "</div>"
      ],
      "text/plain": [
       "  protein   epitope  start_pos  epi_len   entropy  perc_mutated\n",
       "0       E  MYSFVSEE          0        8  0.002908      0.000213\n",
       "1       E  YSFVSEET          1        8  0.008297      0.000640\n",
       "2       E  SFVSEETG          2        8  0.008297      0.000640\n",
       "3       E  FVSEETGT          3        8  0.008297      0.000640\n",
       "4       E  VSEETGTL          4        8  0.008297      0.000640"
      ]
     },
     "execution_count": 57,
     "metadata": {},
     "output_type": "execute_result"
    }
   ],
   "source": [
    "df.head()"
   ]
  },
  {
   "cell_type": "code",
   "execution_count": 58,
   "metadata": {},
   "outputs": [
    {
     "data": {
      "image/png": "[encoded data removed]",
      "text/plain": [
       "<Figure size 432x288 with 1 Axes>"
      ]
     },
     "metadata": {
      "needs_background": "light"
     },
     "output_type": "display_data"
    }
   ],
   "source": [
    "plt.scatter(df[df.protein=='ORF1a'].start_pos, df[df.protein=='ORF1a'].perc_mutated)\n",
    "plt.axhline(0.001, c='red')\n",
    "#plt.xlim(2690, 2727)\n",
    "plt.show()"
   ]
  },
  {
   "cell_type": "code",
   "execution_count": 59,
   "metadata": {},
   "outputs": [],
   "source": [
    "# mutation positions = mut_pos = [2707, 2907]"
   ]
  },
  {
   "cell_type": "code",
   "execution_count": 60,
   "metadata": {},
   "outputs": [],
   "source": [
    "mut_pos = [2707, 2907]"
   ]
  },
  {
   "cell_type": "code",
   "execution_count": 61,
   "metadata": {},
   "outputs": [
    {
     "data": {
      "text/plain": [
       "(74549, 6)"
      ]
     },
     "execution_count": 61,
     "metadata": {},
     "output_type": "execute_result"
    }
   ],
   "source": [
    "orf1a = df[df.protein=='ORF1a']\n",
    "orf1a.shape"
   ]
  },
  {
   "cell_type": "code",
   "execution_count": 62,
   "metadata": {},
   "outputs": [
    {
     "name": "stderr",
     "output_type": "stream",
     "text": [
      "/Users/trentonbricken/anaconda3/lib/python3.7/site-packages/ipykernel_launcher.py:1: SettingWithCopyWarning: \n",
      "A value is trying to be set on a copy of a slice from a DataFrame.\n",
      "Try using .loc[row_indexer,col_indexer] = value instead\n",
      "\n",
      "See the caveats in the documentation: http://pandas.pydata.org/pandas-docs/stable/user_guide/indexing.html#returning-a-view-versus-a-copy\n",
      "  \"\"\"Entry point for launching an IPython kernel.\n"
     ]
    }
   ],
   "source": [
    "orf1a['crosses_mutation'] = 0\n",
    "for pos in mut_pos:\n",
    "\n",
    "    seq_start = orf1a['start_pos']\n",
    "    seq_end = orf1a['start_pos']+(orf1a['epi_len']-1)\n",
    "    \n",
    "    in_region = np.logical_and(pos >= seq_start,pos <= seq_end)\n",
    "    \n",
    "    orf1a.loc[in_region,'crosses_mutation'] = 1\n",
    "    #apply protein mask and then epitope mask"
   ]
  },
  {
   "cell_type": "code",
   "execution_count": 63,
   "metadata": {},
   "outputs": [
    {
     "data": {
      "text/plain": [
       "(570, 7)"
      ]
     },
     "execution_count": 63,
     "metadata": {},
     "output_type": "execute_result"
    }
   ],
   "source": [
    "orf1a[orf1a.crosses_mutation.astype(bool)].shape"
   ]
  },
  {
   "cell_type": "code",
   "execution_count": 64,
   "metadata": {},
   "outputs": [
    {
     "data": {
      "text/plain": [
       "570"
      ]
     },
     "execution_count": 64,
     "metadata": {},
     "output_type": "execute_result"
    }
   ],
   "source": [
    "(orf1a[orf1a.crosses_mutation.astype(bool)].perc_mutated > 0.001).sum()"
   ]
  },
  {
   "cell_type": "code",
   "execution_count": 65,
   "metadata": {},
   "outputs": [],
   "source": [
    "below_thresh_mask = orf1a[orf1a.crosses_mutation.astype(bool)].perc_mutated <= 0.001"
   ]
  },
  {
   "cell_type": "code",
   "execution_count": 68,
   "metadata": {},
   "outputs": [
    {
     "data": {
      "text/plain": [
       "0"
      ]
     },
     "execution_count": 68,
     "metadata": {},
     "output_type": "execute_result"
    }
   ],
   "source": [
    "below_thresh_mask.sum()"
   ]
  },
  {
   "cell_type": "code",
   "execution_count": 67,
   "metadata": {},
   "outputs": [
    {
     "data": {
      "text/html": [
       "<div>\n",
       "<style scoped>\n",
       "    .dataframe tbody tr th:only-of-type {\n",
       "        vertical-align: middle;\n",
       "    }\n",
       "\n",
       "    .dataframe tbody tr th {\n",
       "        vertical-align: top;\n",
       "    }\n",
       "\n",
       "    .dataframe thead th {\n",
       "        text-align: right;\n",
       "    }\n",
       "</style>\n",
       "<table border=\"1\" class=\"dataframe\">\n",
       "  <thead>\n",
       "    <tr style=\"text-align: right;\">\n",
       "      <th></th>\n",
       "      <th>protein</th>\n",
       "      <th>epitope</th>\n",
       "      <th>start_pos</th>\n",
       "      <th>epi_len</th>\n",
       "      <th>entropy</th>\n",
       "      <th>perc_mutated</th>\n",
       "      <th>crosses_mutation</th>\n",
       "    </tr>\n",
       "  </thead>\n",
       "  <tbody>\n",
       "  </tbody>\n",
       "</table>\n",
       "</div>"
      ],
      "text/plain": [
       "Empty DataFrame\n",
       "Columns: [protein, epitope, start_pos, epi_len, entropy, perc_mutated, crosses_mutation]\n",
       "Index: []"
      ]
     },
     "execution_count": 67,
     "metadata": {},
     "output_type": "execute_result"
    }
   ],
   "source": [
    "orf1a[orf1a.crosses_mutation.astype(bool)][below_thresh_mask]"
   ]
  },
  {
   "cell_type": "code",
   "execution_count": 69,
   "metadata": {},
   "outputs": [
    {
     "data": {
      "text/plain": [
       "array([], dtype=int64)"
      ]
     },
     "execution_count": 69,
     "metadata": {},
     "output_type": "execute_result"
    }
   ],
   "source": [
    "orf1a[orf1a.crosses_mutation.astype(bool)][below_thresh_mask].start_pos.unique()"
   ]
  },
  {
   "cell_type": "code",
   "execution_count": 34,
   "metadata": {},
   "outputs": [],
   "source": [
    "# epitopes that are mutated according to our data but not the other papers. \n",
    "danger_epitopes = orf1a[orf1a.crosses_mutation.astype(bool)][below_thresh_mask].epitope.to_list()"
   ]
  },
  {
   "cell_type": "code",
   "execution_count": 37,
   "metadata": {},
   "outputs": [
    {
     "data": {
      "text/plain": [
       "49"
      ]
     },
     "execution_count": 37,
     "metadata": {},
     "output_type": "execute_result"
    }
   ],
   "source": [
    "import pickle \n",
    "other_epitopes = pickle.load(open('../data/processed/Other_Methods_Proposed_Peptides.pkl', 'rb'))\n",
    "len(other_epitopes.keys())"
   ]
  },
  {
   "cell_type": "code",
   "execution_count": 70,
   "metadata": {},
   "outputs": [
    {
     "name": "stdout",
     "output_type": "stream",
     "text": [
      "Missing MHC_1_Grifoni-LaJolla ['KLIEYTDFA']\n",
      "Missing MHC_1_Nerli-UCSC ['SKLIEYTDFA', 'KLIEYTDFAT']\n"
     ]
    }
   ],
   "source": [
    "for k, v in other_epitopes.items():\n",
    "    if len(list(set(danger_epitopes).intersection(set(v))))>0:\n",
    "        print('Missing', k, list(set(danger_epitopes).intersection(set(v))))"
   ]
  },
  {
   "cell_type": "markdown",
   "metadata": {},
   "source": [
    "It is only the second mutation position that is below the mutation threshold"
   ]
  },
  {
   "cell_type": "code",
   "execution_count": 107,
   "metadata": {},
   "outputs": [
    {
     "data": {
      "text/plain": [
       "\"for ind, aa_file in enumerate(amino_acid_files):\\n    protein = aa_file.split('_')[-1].split('.')[0]\\n    \\n    temp = pd.read_csv('../data/processed/epitope_calcs/Epitope_calc_'+protein+'.csv')\\n    \\n    if ind == 0:\\n        df = temp\\n    else: \\n        df = df.append(temp)\""
      ]
     },
     "execution_count": 107,
     "metadata": {},
     "output_type": "execute_result"
    }
   ],
   "source": [
    "'''for ind, aa_file in enumerate(amino_acid_files):\n",
    "    protein = aa_file.split('_')[-1].split('.')[0]\n",
    "    \n",
    "    temp = pd.read_csv('../data/processed/epitope_calcs/Epitope_calc_'+protein+'.csv')\n",
    "    \n",
    "    if ind == 0:\n",
    "        df = temp\n",
    "    else: \n",
    "        df = df.append(temp)'''"
   ]
  },
  {
   "cell_type": "code",
   "execution_count": 108,
   "metadata": {},
   "outputs": [
    {
     "data": {
      "text/html": [
       "<div>\n",
       "<style scoped>\n",
       "    .dataframe tbody tr th:only-of-type {\n",
       "        vertical-align: middle;\n",
       "    }\n",
       "\n",
       "    .dataframe tbody tr th {\n",
       "        vertical-align: top;\n",
       "    }\n",
       "\n",
       "    .dataframe thead th {\n",
       "        text-align: right;\n",
       "    }\n",
       "</style>\n",
       "<table border=\"1\" class=\"dataframe\">\n",
       "  <thead>\n",
       "    <tr style=\"text-align: right;\">\n",
       "      <th></th>\n",
       "      <th>protein</th>\n",
       "      <th>epitope</th>\n",
       "      <th>start_pos</th>\n",
       "      <th>epi_len</th>\n",
       "      <th>entropy</th>\n",
       "      <th>perc_mutated</th>\n",
       "    </tr>\n",
       "  </thead>\n",
       "  <tbody>\n",
       "    <tr>\n",
       "      <th>0</th>\n",
       "      <td>E</td>\n",
       "      <td>MYSFVSEE</td>\n",
       "      <td>0</td>\n",
       "      <td>8</td>\n",
       "      <td>0.002908</td>\n",
       "      <td>0.000213</td>\n",
       "    </tr>\n",
       "    <tr>\n",
       "      <th>1</th>\n",
       "      <td>E</td>\n",
       "      <td>YSFVSEET</td>\n",
       "      <td>1</td>\n",
       "      <td>8</td>\n",
       "      <td>0.008297</td>\n",
       "      <td>0.000640</td>\n",
       "    </tr>\n",
       "    <tr>\n",
       "      <th>2</th>\n",
       "      <td>E</td>\n",
       "      <td>SFVSEETG</td>\n",
       "      <td>2</td>\n",
       "      <td>8</td>\n",
       "      <td>0.008297</td>\n",
       "      <td>0.000640</td>\n",
       "    </tr>\n",
       "    <tr>\n",
       "      <th>3</th>\n",
       "      <td>E</td>\n",
       "      <td>FVSEETGT</td>\n",
       "      <td>3</td>\n",
       "      <td>8</td>\n",
       "      <td>0.008297</td>\n",
       "      <td>0.000640</td>\n",
       "    </tr>\n",
       "    <tr>\n",
       "      <th>4</th>\n",
       "      <td>E</td>\n",
       "      <td>VSEETGTL</td>\n",
       "      <td>4</td>\n",
       "      <td>8</td>\n",
       "      <td>0.008297</td>\n",
       "      <td>0.000640</td>\n",
       "    </tr>\n",
       "  </tbody>\n",
       "</table>\n",
       "</div>"
      ],
      "text/plain": [
       "  protein   epitope  start_pos  epi_len   entropy  perc_mutated\n",
       "0       E  MYSFVSEE          0        8  0.002908      0.000213\n",
       "1       E  YSFVSEET          1        8  0.008297      0.000640\n",
       "2       E  SFVSEETG          2        8  0.008297      0.000640\n",
       "3       E  FVSEETGT          3        8  0.008297      0.000640\n",
       "4       E  VSEETGTL          4        8  0.008297      0.000640"
      ]
     },
     "execution_count": 108,
     "metadata": {},
     "output_type": "execute_result"
    }
   ],
   "source": [
    "df.head()"
   ]
  },
  {
   "cell_type": "code",
   "execution_count": 109,
   "metadata": {},
   "outputs": [
    {
     "data": {
      "text/html": [
       "<div>\n",
       "<style scoped>\n",
       "    .dataframe tbody tr th:only-of-type {\n",
       "        vertical-align: middle;\n",
       "    }\n",
       "\n",
       "    .dataframe tbody tr th {\n",
       "        vertical-align: top;\n",
       "    }\n",
       "\n",
       "    .dataframe thead th {\n",
       "        text-align: right;\n",
       "    }\n",
       "</style>\n",
       "<table border=\"1\" class=\"dataframe\">\n",
       "  <thead>\n",
       "    <tr style=\"text-align: right;\">\n",
       "      <th></th>\n",
       "      <th>protein</th>\n",
       "      <th>epitope</th>\n",
       "      <th>start_pos</th>\n",
       "      <th>epi_len</th>\n",
       "      <th>entropy</th>\n",
       "      <th>perc_mutated</th>\n",
       "    </tr>\n",
       "  </thead>\n",
       "  <tbody>\n",
       "    <tr>\n",
       "      <th>0</th>\n",
       "      <td>E</td>\n",
       "      <td>MYSFVSEE</td>\n",
       "      <td>0</td>\n",
       "      <td>8</td>\n",
       "      <td>0.002908</td>\n",
       "      <td>0.000213</td>\n",
       "    </tr>\n",
       "    <tr>\n",
       "      <th>1</th>\n",
       "      <td>E</td>\n",
       "      <td>YSFVSEET</td>\n",
       "      <td>1</td>\n",
       "      <td>8</td>\n",
       "      <td>0.008297</td>\n",
       "      <td>0.000640</td>\n",
       "    </tr>\n",
       "    <tr>\n",
       "      <th>2</th>\n",
       "      <td>E</td>\n",
       "      <td>SFVSEETG</td>\n",
       "      <td>2</td>\n",
       "      <td>8</td>\n",
       "      <td>0.008297</td>\n",
       "      <td>0.000640</td>\n",
       "    </tr>\n",
       "    <tr>\n",
       "      <th>3</th>\n",
       "      <td>E</td>\n",
       "      <td>FVSEETGT</td>\n",
       "      <td>3</td>\n",
       "      <td>8</td>\n",
       "      <td>0.008297</td>\n",
       "      <td>0.000640</td>\n",
       "    </tr>\n",
       "    <tr>\n",
       "      <th>4</th>\n",
       "      <td>E</td>\n",
       "      <td>VSEETGTL</td>\n",
       "      <td>4</td>\n",
       "      <td>8</td>\n",
       "      <td>0.008297</td>\n",
       "      <td>0.000640</td>\n",
       "    </tr>\n",
       "  </tbody>\n",
       "</table>\n",
       "</div>"
      ],
      "text/plain": [
       "  protein   epitope  start_pos  epi_len   entropy  perc_mutated\n",
       "0       E  MYSFVSEE          0        8  0.002908      0.000213\n",
       "1       E  YSFVSEET          1        8  0.008297      0.000640\n",
       "2       E  SFVSEETG          2        8  0.008297      0.000640\n",
       "3       E  FVSEETGT          3        8  0.008297      0.000640\n",
       "4       E  VSEETGTL          4        8  0.008297      0.000640"
      ]
     },
     "execution_count": 109,
     "metadata": {},
     "output_type": "execute_result"
    }
   ],
   "source": [
    "df.head()"
   ]
  },
  {
   "cell_type": "code",
   "execution_count": 42,
   "metadata": {},
   "outputs": [
    {
     "data": {
      "text/plain": [
       "(164786, 6)"
      ]
     },
     "execution_count": 42,
     "metadata": {},
     "output_type": "execute_result"
    }
   ],
   "source": [
    "df.shape"
   ]
  },
  {
   "cell_type": "code",
   "execution_count": 43,
   "metadata": {},
   "outputs": [
    {
     "data": {
      "text/html": [
       "<div>\n",
       "<style scoped>\n",
       "    .dataframe tbody tr th:only-of-type {\n",
       "        vertical-align: middle;\n",
       "    }\n",
       "\n",
       "    .dataframe tbody tr th {\n",
       "        vertical-align: top;\n",
       "    }\n",
       "\n",
       "    .dataframe thead th {\n",
       "        text-align: right;\n",
       "    }\n",
       "</style>\n",
       "<table border=\"1\" class=\"dataframe\">\n",
       "  <thead>\n",
       "    <tr style=\"text-align: right;\">\n",
       "      <th></th>\n",
       "      <th>protein</th>\n",
       "      <th>epitope</th>\n",
       "      <th>start_pos</th>\n",
       "      <th>epi_len</th>\n",
       "      <th>entropy</th>\n",
       "      <th>perc_mutated</th>\n",
       "    </tr>\n",
       "  </thead>\n",
       "  <tbody>\n",
       "    <tr>\n",
       "      <th>21368</th>\n",
       "      <td>S</td>\n",
       "      <td>KGCCSCGSCCKFDEDDSEPVLKGVK</td>\n",
       "      <td>1244</td>\n",
       "      <td>25</td>\n",
       "      <td>0.078112</td>\n",
       "      <td>0.007464</td>\n",
       "    </tr>\n",
       "    <tr>\n",
       "      <th>21369</th>\n",
       "      <td>S</td>\n",
       "      <td>GCCSCGSCCKFDEDDSEPVLKGVKL</td>\n",
       "      <td>1245</td>\n",
       "      <td>25</td>\n",
       "      <td>0.078112</td>\n",
       "      <td>0.007464</td>\n",
       "    </tr>\n",
       "    <tr>\n",
       "      <th>21370</th>\n",
       "      <td>S</td>\n",
       "      <td>CCSCGSCCKFDEDDSEPVLKGVKLH</td>\n",
       "      <td>1246</td>\n",
       "      <td>25</td>\n",
       "      <td>0.078112</td>\n",
       "      <td>0.007464</td>\n",
       "    </tr>\n",
       "    <tr>\n",
       "      <th>21371</th>\n",
       "      <td>S</td>\n",
       "      <td>CSCGSCCKFDEDDSEPVLKGVKLHY</td>\n",
       "      <td>1247</td>\n",
       "      <td>25</td>\n",
       "      <td>0.075207</td>\n",
       "      <td>0.007251</td>\n",
       "    </tr>\n",
       "    <tr>\n",
       "      <th>21372</th>\n",
       "      <td>S</td>\n",
       "      <td>SCGSCCKFDEDDSEPVLKGVKLHYT</td>\n",
       "      <td>1248</td>\n",
       "      <td>25</td>\n",
       "      <td>0.078112</td>\n",
       "      <td>0.007464</td>\n",
       "    </tr>\n",
       "  </tbody>\n",
       "</table>\n",
       "</div>"
      ],
      "text/plain": [
       "      protein                    epitope  start_pos  epi_len   entropy  \\\n",
       "21368       S  KGCCSCGSCCKFDEDDSEPVLKGVK       1244       25  0.078112   \n",
       "21369       S  GCCSCGSCCKFDEDDSEPVLKGVKL       1245       25  0.078112   \n",
       "21370       S  CCSCGSCCKFDEDDSEPVLKGVKLH       1246       25  0.078112   \n",
       "21371       S  CSCGSCCKFDEDDSEPVLKGVKLHY       1247       25  0.075207   \n",
       "21372       S  SCGSCCKFDEDDSEPVLKGVKLHYT       1248       25  0.078112   \n",
       "\n",
       "       perc_mutated  \n",
       "21368      0.007464  \n",
       "21369      0.007464  \n",
       "21370      0.007464  \n",
       "21371      0.007251  \n",
       "21372      0.007464  "
      ]
     },
     "execution_count": 43,
     "metadata": {},
     "output_type": "execute_result"
    }
   ],
   "source": [
    "df.tail()"
   ]
  },
  {
   "cell_type": "code",
   "execution_count": 44,
   "metadata": {},
   "outputs": [],
   "source": [
    "df.reset_index(inplace=True)"
   ]
  },
  {
   "cell_type": "code",
   "execution_count": 45,
   "metadata": {},
   "outputs": [],
   "source": [
    "df.drop('index', axis=1, inplace=True)"
   ]
  },
  {
   "cell_type": "code",
   "execution_count": 46,
   "metadata": {},
   "outputs": [
    {
     "data": {
      "text/plain": [
       "(array([156376.,   3915.,   1877.,    322.,    299.,    271.,      0.,\n",
       "           371.,   1081.,    274.]),\n",
       " array([0.        , 0.1064769 , 0.2129538 , 0.31943069, 0.42590759,\n",
       "        0.53238449, 0.63886139, 0.74533828, 0.85181518, 0.95829208,\n",
       "        1.06476898]),\n",
       " <a list of 10 Patch objects>)"
      ]
     },
     "execution_count": 46,
     "metadata": {},
     "output_type": "execute_result"
    },
    {
     "data": {
      "image/png": "[encoded data removed]",
      "text/plain": [
       "<Figure size 432x288 with 1 Axes>"
      ]
     },
     "metadata": {
      "needs_background": "light"
     },
     "output_type": "display_data"
    }
   ],
   "source": [
    "plt.hist(df.entropy)"
   ]
  },
  {
   "cell_type": "code",
   "execution_count": 47,
   "metadata": {},
   "outputs": [
    {
     "data": {
      "text/plain": [
       "10169"
      ]
     },
     "execution_count": 47,
     "metadata": {},
     "output_type": "execute_result"
    }
   ],
   "source": [
    "(df.perc_mutated==0.0).sum()"
   ]
  },
  {
   "cell_type": "code",
   "execution_count": 48,
   "metadata": {},
   "outputs": [
    {
     "data": {
      "text/plain": [
       "(164786, 6)"
      ]
     },
     "execution_count": 48,
     "metadata": {},
     "output_type": "execute_result"
    }
   ],
   "source": [
    "df.shape"
   ]
  },
  {
   "cell_type": "code",
   "execution_count": null,
   "metadata": {},
   "outputs": [],
   "source": []
  },
  {
   "cell_type": "code",
   "execution_count": 49,
   "metadata": {},
   "outputs": [
    {
     "data": {
      "text/plain": [
       "(array([162490.,    570.,    328.,    543.,    285.,      0.,      0.,\n",
       "             0.,      0.,    570.]),\n",
       " array([0.        , 0.0689486 , 0.13789721, 0.20684581, 0.27579441,\n",
       "        0.34474302, 0.41369162, 0.48264022, 0.55158882, 0.62053743,\n",
       "        0.68948603]),\n",
       " <a list of 10 Patch objects>)"
      ]
     },
     "execution_count": 49,
     "metadata": {},
     "output_type": "execute_result"
    },
    {
     "data": {
      "image/png": "[encoded data removed]",
      "text/plain": [
       "<Figure size 432x288 with 1 Axes>"
      ]
     },
     "metadata": {
      "needs_background": "light"
     },
     "output_type": "display_data"
    }
   ],
   "source": [
    "plt.hist(df.perc_mutated)"
   ]
  },
  {
   "cell_type": "code",
   "execution_count": 50,
   "metadata": {},
   "outputs": [
    {
     "data": {
      "text/plain": [
       "70623"
      ]
     },
     "execution_count": 50,
     "metadata": {},
     "output_type": "execute_result"
    }
   ],
   "source": [
    "(df.perc_mutated <0.001).sum()"
   ]
  },
  {
   "cell_type": "code",
   "execution_count": 51,
   "metadata": {},
   "outputs": [
    {
     "data": {
      "text/plain": [
       "10169"
      ]
     },
     "execution_count": 51,
     "metadata": {},
     "output_type": "execute_result"
    }
   ],
   "source": [
    "(df.entropy == 0.0).sum()"
   ]
  },
  {
   "cell_type": "code",
   "execution_count": 52,
   "metadata": {},
   "outputs": [
    {
     "data": {
      "text/plain": [
       "10169"
      ]
     },
     "execution_count": 52,
     "metadata": {},
     "output_type": "execute_result"
    }
   ],
   "source": [
    "(df.perc_mutated==0).sum()"
   ]
  },
  {
   "cell_type": "code",
   "execution_count": 53,
   "metadata": {},
   "outputs": [
    {
     "data": {
      "text/html": [
       "<div>\n",
       "<style scoped>\n",
       "    .dataframe tbody tr th:only-of-type {\n",
       "        vertical-align: middle;\n",
       "    }\n",
       "\n",
       "    .dataframe tbody tr th {\n",
       "        vertical-align: top;\n",
       "    }\n",
       "\n",
       "    .dataframe thead th {\n",
       "        text-align: right;\n",
       "    }\n",
       "</style>\n",
       "<table border=\"1\" class=\"dataframe\">\n",
       "  <thead>\n",
       "    <tr style=\"text-align: right;\">\n",
       "      <th></th>\n",
       "      <th>protein</th>\n",
       "      <th>epitope</th>\n",
       "      <th>start_pos</th>\n",
       "      <th>epi_len</th>\n",
       "      <th>entropy</th>\n",
       "      <th>perc_mutated</th>\n",
       "    </tr>\n",
       "  </thead>\n",
       "  <tbody>\n",
       "    <tr>\n",
       "      <th>0</th>\n",
       "      <td>E</td>\n",
       "      <td>MYSFVSEE</td>\n",
       "      <td>0</td>\n",
       "      <td>8</td>\n",
       "      <td>0.002908</td>\n",
       "      <td>0.000213</td>\n",
       "    </tr>\n",
       "    <tr>\n",
       "      <th>1</th>\n",
       "      <td>E</td>\n",
       "      <td>YSFVSEET</td>\n",
       "      <td>1</td>\n",
       "      <td>8</td>\n",
       "      <td>0.008297</td>\n",
       "      <td>0.000640</td>\n",
       "    </tr>\n",
       "    <tr>\n",
       "      <th>2</th>\n",
       "      <td>E</td>\n",
       "      <td>SFVSEETG</td>\n",
       "      <td>2</td>\n",
       "      <td>8</td>\n",
       "      <td>0.008297</td>\n",
       "      <td>0.000640</td>\n",
       "    </tr>\n",
       "    <tr>\n",
       "      <th>3</th>\n",
       "      <td>E</td>\n",
       "      <td>FVSEETGT</td>\n",
       "      <td>3</td>\n",
       "      <td>8</td>\n",
       "      <td>0.008297</td>\n",
       "      <td>0.000640</td>\n",
       "    </tr>\n",
       "    <tr>\n",
       "      <th>4</th>\n",
       "      <td>E</td>\n",
       "      <td>VSEETGTL</td>\n",
       "      <td>4</td>\n",
       "      <td>8</td>\n",
       "      <td>0.008297</td>\n",
       "      <td>0.000640</td>\n",
       "    </tr>\n",
       "  </tbody>\n",
       "</table>\n",
       "</div>"
      ],
      "text/plain": [
       "  protein   epitope  start_pos  epi_len   entropy  perc_mutated\n",
       "0       E  MYSFVSEE          0        8  0.002908      0.000213\n",
       "1       E  YSFVSEET          1        8  0.008297      0.000640\n",
       "2       E  SFVSEETG          2        8  0.008297      0.000640\n",
       "3       E  FVSEETGT          3        8  0.008297      0.000640\n",
       "4       E  VSEETGTL          4        8  0.008297      0.000640"
      ]
     },
     "execution_count": 53,
     "metadata": {},
     "output_type": "execute_result"
    }
   ],
   "source": [
    "df.head()"
   ]
  },
  {
   "cell_type": "code",
   "execution_count": 54,
   "metadata": {},
   "outputs": [],
   "source": [
    "df.to_csv('../data/processed/Hu1_epitope_entropies.csv', index=False)"
   ]
  },
  {
   "cell_type": "code",
   "execution_count": null,
   "metadata": {},
   "outputs": [],
   "source": []
  },
  {
   "cell_type": "code",
   "execution_count": null,
   "metadata": {},
   "outputs": [],
   "source": []
  },
  {
   "cell_type": "markdown",
   "metadata": {},
   "source": [
    "## Looking at and flagging the masked positions"
   ]
  },
  {
   "cell_type": "code",
   "execution_count": 53,
   "metadata": {},
   "outputs": [
    {
     "data": {
      "text/html": [
       "<div>\n",
       "<style scoped>\n",
       "    .dataframe tbody tr th:only-of-type {\n",
       "        vertical-align: middle;\n",
       "    }\n",
       "\n",
       "    .dataframe tbody tr th {\n",
       "        vertical-align: top;\n",
       "    }\n",
       "\n",
       "    .dataframe thead th {\n",
       "        text-align: right;\n",
       "    }\n",
       "</style>\n",
       "<table border=\"1\" class=\"dataframe\">\n",
       "  <thead>\n",
       "    <tr style=\"text-align: right;\">\n",
       "      <th></th>\n",
       "      <th>protein</th>\n",
       "      <th>epitope</th>\n",
       "      <th>start_pos</th>\n",
       "      <th>epi_len</th>\n",
       "      <th>entropy</th>\n",
       "      <th>perc_mutated</th>\n",
       "      <th>masked_position</th>\n",
       "    </tr>\n",
       "  </thead>\n",
       "  <tbody>\n",
       "    <tr>\n",
       "      <th>0</th>\n",
       "      <td>E</td>\n",
       "      <td>MYSFVSEE</td>\n",
       "      <td>0</td>\n",
       "      <td>8</td>\n",
       "      <td>0.00288</td>\n",
       "      <td>0.000211</td>\n",
       "      <td>0</td>\n",
       "    </tr>\n",
       "    <tr>\n",
       "      <th>1</th>\n",
       "      <td>E</td>\n",
       "      <td>YSFVSEET</td>\n",
       "      <td>1</td>\n",
       "      <td>8</td>\n",
       "      <td>0.00576</td>\n",
       "      <td>0.000422</td>\n",
       "      <td>0</td>\n",
       "    </tr>\n",
       "    <tr>\n",
       "      <th>2</th>\n",
       "      <td>E</td>\n",
       "      <td>SFVSEETG</td>\n",
       "      <td>2</td>\n",
       "      <td>8</td>\n",
       "      <td>0.00576</td>\n",
       "      <td>0.000422</td>\n",
       "      <td>0</td>\n",
       "    </tr>\n",
       "    <tr>\n",
       "      <th>3</th>\n",
       "      <td>E</td>\n",
       "      <td>FVSEETGT</td>\n",
       "      <td>3</td>\n",
       "      <td>8</td>\n",
       "      <td>0.00576</td>\n",
       "      <td>0.000422</td>\n",
       "      <td>0</td>\n",
       "    </tr>\n",
       "    <tr>\n",
       "      <th>4</th>\n",
       "      <td>E</td>\n",
       "      <td>VSEETGTL</td>\n",
       "      <td>4</td>\n",
       "      <td>8</td>\n",
       "      <td>0.00576</td>\n",
       "      <td>0.000422</td>\n",
       "      <td>0</td>\n",
       "    </tr>\n",
       "  </tbody>\n",
       "</table>\n",
       "</div>"
      ],
      "text/plain": [
       "  protein   epitope  start_pos  epi_len  entropy  perc_mutated  \\\n",
       "0       E  MYSFVSEE          0        8  0.00288      0.000211   \n",
       "1       E  YSFVSEET          1        8  0.00576      0.000422   \n",
       "2       E  SFVSEETG          2        8  0.00576      0.000422   \n",
       "3       E  FVSEETGT          3        8  0.00576      0.000422   \n",
       "4       E  VSEETGTL          4        8  0.00576      0.000422   \n",
       "\n",
       "   masked_position  \n",
       "0                0  \n",
       "1                0  \n",
       "2                0  \n",
       "3                0  \n",
       "4                0  "
      ]
     },
     "execution_count": 53,
     "metadata": {},
     "output_type": "execute_result"
    }
   ],
   "source": [
    "df = pd.read_csv('../data/processed/epitope_entropies.csv')\n",
    "df.head()"
   ]
  },
  {
   "cell_type": "code",
   "execution_count": 54,
   "metadata": {},
   "outputs": [
    {
     "data": {
      "text/plain": [
       "852"
      ]
     },
     "execution_count": 54,
     "metadata": {},
     "output_type": "execute_result"
    }
   ],
   "source": [
    "df.masked_position.sum()"
   ]
  },
  {
   "cell_type": "code",
   "execution_count": 56,
   "metadata": {},
   "outputs": [
    {
     "data": {
      "text/plain": [
       "protein\n",
       "E          0\n",
       "M          0\n",
       "N          0\n",
       "ORF10      0\n",
       "ORF14      0\n",
       "ORF1a    282\n",
       "ORF1b    285\n",
       "ORF3a      0\n",
       "ORF6       0\n",
       "ORF7a      0\n",
       "ORF7b      0\n",
       "ORF8       0\n",
       "ORF9b      0\n",
       "S        285\n",
       "Name: masked_position, dtype: int64"
      ]
     },
     "execution_count": 56,
     "metadata": {},
     "output_type": "execute_result"
    }
   ],
   "source": [
    "df.groupby('protein').masked_position.sum()"
   ]
  },
  {
   "cell_type": "code",
   "execution_count": 64,
   "metadata": {},
   "outputs": [
    {
     "data": {
      "text/plain": [
       "protein  epi_len\n",
       "ORF1a    8           8\n",
       "         9           9\n",
       "         10         10\n",
       "         11         11\n",
       "         13         13\n",
       "         14         14\n",
       "         15         15\n",
       "         16         16\n",
       "         17         17\n",
       "         18         18\n",
       "         19         19\n",
       "         20         20\n",
       "         21         21\n",
       "         22         22\n",
       "         23         23\n",
       "         24         23\n",
       "         25         23\n",
       "Name: masked_position, dtype: int64"
      ]
     },
     "execution_count": 64,
     "metadata": {},
     "output_type": "execute_result"
    }
   ],
   "source": [
    "df[df.protein=='ORF1a'].groupby(['protein', 'epi_len']).masked_position.sum()"
   ]
  },
  {
   "cell_type": "code",
   "execution_count": 58,
   "metadata": {},
   "outputs": [
    {
     "data": {
      "text/plain": [
       "array([ 8,  9, 10, 11, 13, 14, 15, 16, 17, 18, 19, 20, 21, 22, 23, 24, 25])"
      ]
     },
     "execution_count": 58,
     "metadata": {},
     "output_type": "execute_result"
    }
   ],
   "source": [
    "df.epi_len.unique()"
   ]
  },
  {
   "cell_type": "code",
   "execution_count": 59,
   "metadata": {},
   "outputs": [
    {
     "data": {
      "text/plain": [
       "285"
      ]
     },
     "execution_count": 59,
     "metadata": {},
     "output_type": "execute_result"
    }
   ],
   "source": [
    "np.arange(8,26).sum()-12"
   ]
  },
  {
   "cell_type": "code",
   "execution_count": null,
   "metadata": {},
   "outputs": [],
   "source": []
  },
  {
   "cell_type": "code",
   "execution_count": 31,
   "metadata": {},
   "outputs": [],
   "source": [
    "# need to mask out all of these positions by setting them to 100% prob of mutating. and have \n",
    "#anything within them be set to prob of 999. \n",
    "# this will help flag them as being unique. \n",
    "# actually just create a new masked column feature. \n",
    "\n",
    "masked_nt_positions = [18529, 29849, 29851, 29853, 13402, 24389, 24390]"
   ]
  },
  {
   "cell_type": "code",
   "execution_count": 1,
   "metadata": {},
   "outputs": [
    {
     "data": {
      "text/plain": [
       "{'ORF1a': '266..13468',\n",
       " 'ORF1b': '13468..21555',\n",
       " 'S': '21563..25384',\n",
       " 'ORF3a': '25393..26220',\n",
       " 'E': '26245..26472',\n",
       " 'M': '26523..27191',\n",
       " 'ORF6': '27202..27387',\n",
       " 'ORF7a': '27394..27759',\n",
       " 'ORF7b': '27756..27887',\n",
       " 'ORF8': '27894..28259',\n",
       " 'N': '28274..29533',\n",
       " 'ORF9b': '28284..28577',\n",
       " 'ORF10': '29558..29674',\n",
       " 'ORF14': '28734..28955'}"
      ]
     },
     "execution_count": 1,
     "metadata": {},
     "output_type": "execute_result"
    }
   ],
   "source": [
    "# getting the nt regions\n",
    "\n",
    "with open('nextstrain_covid19_ref_protein_pos.txt', 'r') as f: \n",
    "    lines = f.readlines()\n",
    "take_next_line = False\n",
    "regions = []\n",
    "proteins = []\n",
    "for l in lines:\n",
    "    if 'CDS ' in l:\n",
    "        regions.append(l.split('CDS')[1].strip())\n",
    "        take_next_line=True\n",
    "        \n",
    "    elif take_next_line:\n",
    "        proteins.append(l.split('gene=')[1].strip().strip('\"'))\n",
    "        take_next_line=False\n",
    "        \n",
    "protein_regions = {p:r for p,r in zip(proteins, regions)}\n",
    "protein_regions"
   ]
  },
  {
   "cell_type": "code",
   "execution_count": 30,
   "metadata": {},
   "outputs": [],
   "source": [
    "in_proteins = [18529-13468, \n",
    "               13402-266,\n",
    "               24389-21563, \n",
    "               24390-21563]"
   ]
  },
  {
   "cell_type": "code",
   "execution_count": 61,
   "metadata": {},
   "outputs": [
    {
     "data": {
      "text/plain": [
       "22"
      ]
     },
     "execution_count": 61,
     "metadata": {},
     "output_type": "execute_result"
    }
   ],
   "source": [
    "4400-4378"
   ]
  },
  {
   "cell_type": "code",
   "execution_count": 31,
   "metadata": {},
   "outputs": [],
   "source": [
    "in_proteins = np.floor(np.asarray(in_proteins)/3)"
   ]
  },
  {
   "cell_type": "code",
   "execution_count": 32,
   "metadata": {},
   "outputs": [
    {
     "data": {
      "text/plain": [
       "array([1687., 4378.,  942.,  942.])"
      ]
     },
     "execution_count": 32,
     "metadata": {},
     "output_type": "execute_result"
    }
   ],
   "source": [
    "in_proteins"
   ]
  },
  {
   "cell_type": "code",
   "execution_count": 33,
   "metadata": {},
   "outputs": [],
   "source": [
    "the_proteins = ['ORF1b', 'ORF1a', 'S', 'S']"
   ]
  },
  {
   "cell_type": "code",
   "execution_count": 34,
   "metadata": {},
   "outputs": [
    {
     "data": {
      "text/html": [
       "<div>\n",
       "<style scoped>\n",
       "    .dataframe tbody tr th:only-of-type {\n",
       "        vertical-align: middle;\n",
       "    }\n",
       "\n",
       "    .dataframe tbody tr th {\n",
       "        vertical-align: top;\n",
       "    }\n",
       "\n",
       "    .dataframe thead th {\n",
       "        text-align: right;\n",
       "    }\n",
       "</style>\n",
       "<table border=\"1\" class=\"dataframe\">\n",
       "  <thead>\n",
       "    <tr style=\"text-align: right;\">\n",
       "      <th></th>\n",
       "      <th>protein</th>\n",
       "      <th>epitope</th>\n",
       "      <th>start_pos</th>\n",
       "      <th>epi_len</th>\n",
       "      <th>entropy</th>\n",
       "      <th>perc_mutated</th>\n",
       "      <th>masked_position</th>\n",
       "    </tr>\n",
       "  </thead>\n",
       "  <tbody>\n",
       "    <tr>\n",
       "      <th>0</th>\n",
       "      <td>E</td>\n",
       "      <td>MYSFVSEE</td>\n",
       "      <td>0</td>\n",
       "      <td>8</td>\n",
       "      <td>0.00288</td>\n",
       "      <td>0.000211</td>\n",
       "      <td>0</td>\n",
       "    </tr>\n",
       "    <tr>\n",
       "      <th>1</th>\n",
       "      <td>E</td>\n",
       "      <td>YSFVSEET</td>\n",
       "      <td>1</td>\n",
       "      <td>8</td>\n",
       "      <td>0.00576</td>\n",
       "      <td>0.000422</td>\n",
       "      <td>0</td>\n",
       "    </tr>\n",
       "    <tr>\n",
       "      <th>2</th>\n",
       "      <td>E</td>\n",
       "      <td>SFVSEETG</td>\n",
       "      <td>2</td>\n",
       "      <td>8</td>\n",
       "      <td>0.00576</td>\n",
       "      <td>0.000422</td>\n",
       "      <td>0</td>\n",
       "    </tr>\n",
       "    <tr>\n",
       "      <th>3</th>\n",
       "      <td>E</td>\n",
       "      <td>FVSEETGT</td>\n",
       "      <td>3</td>\n",
       "      <td>8</td>\n",
       "      <td>0.00576</td>\n",
       "      <td>0.000422</td>\n",
       "      <td>0</td>\n",
       "    </tr>\n",
       "    <tr>\n",
       "      <th>4</th>\n",
       "      <td>E</td>\n",
       "      <td>VSEETGTL</td>\n",
       "      <td>4</td>\n",
       "      <td>8</td>\n",
       "      <td>0.00576</td>\n",
       "      <td>0.000422</td>\n",
       "      <td>0</td>\n",
       "    </tr>\n",
       "  </tbody>\n",
       "</table>\n",
       "</div>"
      ],
      "text/plain": [
       "  protein   epitope  start_pos  epi_len  entropy  perc_mutated  \\\n",
       "0       E  MYSFVSEE          0        8  0.00288      0.000211   \n",
       "1       E  YSFVSEET          1        8  0.00576      0.000422   \n",
       "2       E  SFVSEETG          2        8  0.00576      0.000422   \n",
       "3       E  FVSEETGT          3        8  0.00576      0.000422   \n",
       "4       E  VSEETGTL          4        8  0.00576      0.000422   \n",
       "\n",
       "   masked_position  \n",
       "0                0  \n",
       "1                0  \n",
       "2                0  \n",
       "3                0  \n",
       "4                0  "
      ]
     },
     "execution_count": 34,
     "metadata": {},
     "output_type": "execute_result"
    }
   ],
   "source": [
    "df.head()"
   ]
  },
  {
   "cell_type": "code",
   "execution_count": 35,
   "metadata": {},
   "outputs": [],
   "source": [
    "df['masked_position'] = 0\n",
    "for pos, protein in zip(in_proteins, the_proteins):\n",
    "\n",
    "    protein_mask = protein==df.protein # select relevant protein\n",
    "    seq_start = df['start_pos']\n",
    "    seq_end = df['start_pos']+(df['epi_len']-1)\n",
    "    \n",
    "    in_region = np.logical_and(pos >= seq_start,pos <= seq_end)\n",
    "    #if all 4 matter::: \n",
    "    #.    front_in_region = np.logical_and(glyco_start >= seq_start,glyco_start <= seq_end)\n",
    "    #     end_in_region = np.logical_and(glyco_end >= seq_start,glyco_end <= seq_end)\n",
    "    #.    in_region = np.logical_or(front_in_region, end_in_region)\n",
    "    in_region_and_protein = np.logical_and(protein_mask,in_region)\n",
    "    \n",
    "    df.loc[in_region_and_protein,'masked_position'] = 1\n",
    "    #apply protein mask and then epitope mask"
   ]
  },
  {
   "cell_type": "code",
   "execution_count": 36,
   "metadata": {},
   "outputs": [
    {
     "data": {
      "text/html": [
       "<div>\n",
       "<style scoped>\n",
       "    .dataframe tbody tr th:only-of-type {\n",
       "        vertical-align: middle;\n",
       "    }\n",
       "\n",
       "    .dataframe tbody tr th {\n",
       "        vertical-align: top;\n",
       "    }\n",
       "\n",
       "    .dataframe thead th {\n",
       "        text-align: right;\n",
       "    }\n",
       "</style>\n",
       "<table border=\"1\" class=\"dataframe\">\n",
       "  <thead>\n",
       "    <tr style=\"text-align: right;\">\n",
       "      <th></th>\n",
       "      <th>protein</th>\n",
       "      <th>epitope</th>\n",
       "      <th>start_pos</th>\n",
       "      <th>epi_len</th>\n",
       "      <th>entropy</th>\n",
       "      <th>perc_mutated</th>\n",
       "      <th>masked_position</th>\n",
       "    </tr>\n",
       "  </thead>\n",
       "  <tbody>\n",
       "    <tr>\n",
       "      <th>88954</th>\n",
       "      <td>ORF1b</td>\n",
       "      <td>RIKIVQML</td>\n",
       "      <td>1686</td>\n",
       "      <td>8</td>\n",
       "      <td>0.005338</td>\n",
       "      <td>0.000422</td>\n",
       "      <td>1</td>\n",
       "    </tr>\n",
       "  </tbody>\n",
       "</table>\n",
       "</div>"
      ],
      "text/plain": [
       "      protein   epitope  start_pos  epi_len   entropy  perc_mutated  \\\n",
       "88954   ORF1b  RIKIVQML       1686        8  0.005338      0.000422   \n",
       "\n",
       "       masked_position  \n",
       "88954                1  "
      ]
     },
     "execution_count": 36,
     "metadata": {},
     "output_type": "execute_result"
    }
   ],
   "source": [
    "df[np.logical_and(df.protein=='ORF1b', np.logical_and(df.start_pos==1686,df.epi_len==8 ))]"
   ]
  },
  {
   "cell_type": "code",
   "execution_count": 16,
   "metadata": {},
   "outputs": [
    {
     "data": {
      "text/html": [
       "<div>\n",
       "<style scoped>\n",
       "    .dataframe tbody tr th:only-of-type {\n",
       "        vertical-align: middle;\n",
       "    }\n",
       "\n",
       "    .dataframe tbody tr th {\n",
       "        vertical-align: top;\n",
       "    }\n",
       "\n",
       "    .dataframe thead th {\n",
       "        text-align: right;\n",
       "    }\n",
       "</style>\n",
       "<table border=\"1\" class=\"dataframe\">\n",
       "  <thead>\n",
       "    <tr style=\"text-align: right;\">\n",
       "      <th></th>\n",
       "      <th>protein</th>\n",
       "      <th>epitope</th>\n",
       "      <th>start_pos</th>\n",
       "      <th>epi_len</th>\n",
       "      <th>entropy</th>\n",
       "      <th>perc_mutated</th>\n",
       "      <th>masked_position</th>\n",
       "    </tr>\n",
       "  </thead>\n",
       "  <tbody>\n",
       "    <tr>\n",
       "      <th>0</th>\n",
       "      <td>E</td>\n",
       "      <td>MYSFVSEE</td>\n",
       "      <td>0</td>\n",
       "      <td>8</td>\n",
       "      <td>0.00288</td>\n",
       "      <td>0.000211</td>\n",
       "      <td>0</td>\n",
       "    </tr>\n",
       "    <tr>\n",
       "      <th>1</th>\n",
       "      <td>E</td>\n",
       "      <td>YSFVSEET</td>\n",
       "      <td>1</td>\n",
       "      <td>8</td>\n",
       "      <td>0.00576</td>\n",
       "      <td>0.000422</td>\n",
       "      <td>0</td>\n",
       "    </tr>\n",
       "    <tr>\n",
       "      <th>2</th>\n",
       "      <td>E</td>\n",
       "      <td>SFVSEETG</td>\n",
       "      <td>2</td>\n",
       "      <td>8</td>\n",
       "      <td>0.00576</td>\n",
       "      <td>0.000422</td>\n",
       "      <td>0</td>\n",
       "    </tr>\n",
       "    <tr>\n",
       "      <th>3</th>\n",
       "      <td>E</td>\n",
       "      <td>FVSEETGT</td>\n",
       "      <td>3</td>\n",
       "      <td>8</td>\n",
       "      <td>0.00576</td>\n",
       "      <td>0.000422</td>\n",
       "      <td>0</td>\n",
       "    </tr>\n",
       "    <tr>\n",
       "      <th>4</th>\n",
       "      <td>E</td>\n",
       "      <td>VSEETGTL</td>\n",
       "      <td>4</td>\n",
       "      <td>8</td>\n",
       "      <td>0.00576</td>\n",
       "      <td>0.000422</td>\n",
       "      <td>0</td>\n",
       "    </tr>\n",
       "  </tbody>\n",
       "</table>\n",
       "</div>"
      ],
      "text/plain": [
       "  protein   epitope  start_pos  epi_len  entropy  perc_mutated  \\\n",
       "0       E  MYSFVSEE          0        8  0.00288      0.000211   \n",
       "1       E  YSFVSEET          1        8  0.00576      0.000422   \n",
       "2       E  SFVSEETG          2        8  0.00576      0.000422   \n",
       "3       E  FVSEETGT          3        8  0.00576      0.000422   \n",
       "4       E  VSEETGTL          4        8  0.00576      0.000422   \n",
       "\n",
       "   masked_position  \n",
       "0                0  \n",
       "1                0  \n",
       "2                0  \n",
       "3                0  \n",
       "4                0  "
      ]
     },
     "execution_count": 16,
     "metadata": {},
     "output_type": "execute_result"
    }
   ],
   "source": [
    "df.head()"
   ]
  },
  {
   "cell_type": "code",
   "execution_count": 20,
   "metadata": {},
   "outputs": [
    {
     "data": {
      "text/html": [
       "<div>\n",
       "<style scoped>\n",
       "    .dataframe tbody tr th:only-of-type {\n",
       "        vertical-align: middle;\n",
       "    }\n",
       "\n",
       "    .dataframe tbody tr th {\n",
       "        vertical-align: top;\n",
       "    }\n",
       "\n",
       "    .dataframe thead th {\n",
       "        text-align: right;\n",
       "    }\n",
       "</style>\n",
       "<table border=\"1\" class=\"dataframe\">\n",
       "  <thead>\n",
       "    <tr style=\"text-align: right;\">\n",
       "      <th></th>\n",
       "      <th>protein</th>\n",
       "      <th>epitope</th>\n",
       "      <th>start_pos</th>\n",
       "      <th>epi_len</th>\n",
       "      <th>entropy</th>\n",
       "      <th>perc_mutated</th>\n",
       "    </tr>\n",
       "  </thead>\n",
       "  <tbody>\n",
       "    <tr>\n",
       "      <th>164781</th>\n",
       "      <td>S</td>\n",
       "      <td>KGCCSCGSCCKFDEDDSEPVLKGVK</td>\n",
       "      <td>1244</td>\n",
       "      <td>25</td>\n",
       "      <td>0.075762</td>\n",
       "      <td>0.007173</td>\n",
       "    </tr>\n",
       "    <tr>\n",
       "      <th>164782</th>\n",
       "      <td>S</td>\n",
       "      <td>GCCSCGSCCKFDEDDSEPVLKGVKL</td>\n",
       "      <td>1245</td>\n",
       "      <td>25</td>\n",
       "      <td>0.075762</td>\n",
       "      <td>0.007173</td>\n",
       "    </tr>\n",
       "    <tr>\n",
       "      <th>164783</th>\n",
       "      <td>S</td>\n",
       "      <td>CCSCGSCCKFDEDDSEPVLKGVKLH</td>\n",
       "      <td>1246</td>\n",
       "      <td>25</td>\n",
       "      <td>0.075762</td>\n",
       "      <td>0.007173</td>\n",
       "    </tr>\n",
       "    <tr>\n",
       "      <th>164784</th>\n",
       "      <td>S</td>\n",
       "      <td>CSCGSCCKFDEDDSEPVLKGVKLHY</td>\n",
       "      <td>1247</td>\n",
       "      <td>25</td>\n",
       "      <td>0.072884</td>\n",
       "      <td>0.006962</td>\n",
       "    </tr>\n",
       "    <tr>\n",
       "      <th>164785</th>\n",
       "      <td>S</td>\n",
       "      <td>SCGSCCKFDEDDSEPVLKGVKLHYT</td>\n",
       "      <td>1248</td>\n",
       "      <td>25</td>\n",
       "      <td>0.075762</td>\n",
       "      <td>0.007173</td>\n",
       "    </tr>\n",
       "  </tbody>\n",
       "</table>\n",
       "</div>"
      ],
      "text/plain": [
       "       protein                    epitope  start_pos  epi_len   entropy  \\\n",
       "164781       S  KGCCSCGSCCKFDEDDSEPVLKGVK       1244       25  0.075762   \n",
       "164782       S  GCCSCGSCCKFDEDDSEPVLKGVKL       1245       25  0.075762   \n",
       "164783       S  CCSCGSCCKFDEDDSEPVLKGVKLH       1246       25  0.075762   \n",
       "164784       S  CSCGSCCKFDEDDSEPVLKGVKLHY       1247       25  0.072884   \n",
       "164785       S  SCGSCCKFDEDDSEPVLKGVKLHYT       1248       25  0.075762   \n",
       "\n",
       "        perc_mutated  \n",
       "164781      0.007173  \n",
       "164782      0.007173  \n",
       "164783      0.007173  \n",
       "164784      0.006962  \n",
       "164785      0.007173  "
      ]
     },
     "execution_count": 20,
     "metadata": {},
     "output_type": "execute_result"
    }
   ],
   "source": [
    "df.tail()"
   ]
  },
  {
   "cell_type": "code",
   "execution_count": 25,
   "metadata": {},
   "outputs": [
    {
     "data": {
      "text/plain": [
       "14"
      ]
     },
     "execution_count": 25,
     "metadata": {},
     "output_type": "execute_result"
    }
   ],
   "source": [
    "len(df.protein.unique())"
   ]
  },
  {
   "cell_type": "code",
   "execution_count": 23,
   "metadata": {},
   "outputs": [
    {
     "data": {
      "text/plain": [
       "(164786, 6)"
      ]
     },
     "execution_count": 23,
     "metadata": {},
     "output_type": "execute_result"
    }
   ],
   "source": [
    "df.shape"
   ]
  },
  {
   "cell_type": "code",
   "execution_count": 28,
   "metadata": {},
   "outputs": [
    {
     "data": {
      "text/plain": [
       "17"
      ]
     },
     "execution_count": 28,
     "metadata": {},
     "output_type": "execute_result"
    }
   ],
   "source": [
    "len(df.epi_len.unique())"
   ]
  },
  {
   "cell_type": "code",
   "execution_count": 19,
   "metadata": {},
   "outputs": [
    {
     "data": {
      "text/html": [
       "<div>\n",
       "<style scoped>\n",
       "    .dataframe tbody tr th:only-of-type {\n",
       "        vertical-align: middle;\n",
       "    }\n",
       "\n",
       "    .dataframe tbody tr th {\n",
       "        vertical-align: top;\n",
       "    }\n",
       "\n",
       "    .dataframe thead th {\n",
       "        text-align: right;\n",
       "    }\n",
       "</style>\n",
       "<table border=\"1\" class=\"dataframe\">\n",
       "  <thead>\n",
       "    <tr style=\"text-align: right;\">\n",
       "      <th></th>\n",
       "      <th>protein</th>\n",
       "      <th>epitope</th>\n",
       "      <th>start_pos</th>\n",
       "      <th>epi_len</th>\n",
       "      <th>entropy</th>\n",
       "      <th>perc_mutated</th>\n",
       "      <th>glyco_probs</th>\n",
       "      <th>crosses_cleavage</th>\n",
       "    </tr>\n",
       "  </thead>\n",
       "  <tbody>\n",
       "    <tr>\n",
       "      <th>0</th>\n",
       "      <td>E</td>\n",
       "      <td>MYSFVSEE</td>\n",
       "      <td>0</td>\n",
       "      <td>8</td>\n",
       "      <td>0.005363</td>\n",
       "      <td>0.000390</td>\n",
       "      <td>0.0</td>\n",
       "      <td>0</td>\n",
       "    </tr>\n",
       "    <tr>\n",
       "      <th>1</th>\n",
       "      <td>E</td>\n",
       "      <td>YSFVSEET</td>\n",
       "      <td>1</td>\n",
       "      <td>8</td>\n",
       "      <td>0.008044</td>\n",
       "      <td>0.000584</td>\n",
       "      <td>0.0</td>\n",
       "      <td>0</td>\n",
       "    </tr>\n",
       "    <tr>\n",
       "      <th>2</th>\n",
       "      <td>E</td>\n",
       "      <td>SFVSEETG</td>\n",
       "      <td>2</td>\n",
       "      <td>8</td>\n",
       "      <td>0.008044</td>\n",
       "      <td>0.000584</td>\n",
       "      <td>0.0</td>\n",
       "      <td>0</td>\n",
       "    </tr>\n",
       "    <tr>\n",
       "      <th>3</th>\n",
       "      <td>E</td>\n",
       "      <td>FVSEETGT</td>\n",
       "      <td>3</td>\n",
       "      <td>8</td>\n",
       "      <td>0.008044</td>\n",
       "      <td>0.000584</td>\n",
       "      <td>0.0</td>\n",
       "      <td>0</td>\n",
       "    </tr>\n",
       "    <tr>\n",
       "      <th>4</th>\n",
       "      <td>E</td>\n",
       "      <td>VSEETGTL</td>\n",
       "      <td>4</td>\n",
       "      <td>8</td>\n",
       "      <td>0.008044</td>\n",
       "      <td>0.000584</td>\n",
       "      <td>0.0</td>\n",
       "      <td>0</td>\n",
       "    </tr>\n",
       "  </tbody>\n",
       "</table>\n",
       "</div>"
      ],
      "text/plain": [
       "  protein   epitope  start_pos  epi_len   entropy  perc_mutated  glyco_probs  \\\n",
       "0       E  MYSFVSEE          0        8  0.005363      0.000390          0.0   \n",
       "1       E  YSFVSEET          1        8  0.008044      0.000584          0.0   \n",
       "2       E  SFVSEETG          2        8  0.008044      0.000584          0.0   \n",
       "3       E  FVSEETGT          3        8  0.008044      0.000584          0.0   \n",
       "4       E  VSEETGTL          4        8  0.008044      0.000584          0.0   \n",
       "\n",
       "   crosses_cleavage  \n",
       "0                 0  \n",
       "1                 0  \n",
       "2                 0  \n",
       "3                 0  \n",
       "4                 0  "
      ]
     },
     "execution_count": 19,
     "metadata": {},
     "output_type": "execute_result"
    }
   ],
   "source": [
    "test = pd.read_csv('../data/processed/pre_cleaning_AllEpitopeFeatures.csv')\n",
    "test.head()"
   ]
  },
  {
   "cell_type": "code",
   "execution_count": null,
   "metadata": {},
   "outputs": [],
   "source": []
  },
  {
   "cell_type": "code",
   "execution_count": null,
   "metadata": {},
   "outputs": [],
   "source": []
  },
  {
   "cell_type": "code",
   "execution_count": 21,
   "metadata": {},
   "outputs": [
    {
     "data": {
      "text/html": [
       "<div>\n",
       "<style scoped>\n",
       "    .dataframe tbody tr th:only-of-type {\n",
       "        vertical-align: middle;\n",
       "    }\n",
       "\n",
       "    .dataframe tbody tr th {\n",
       "        vertical-align: top;\n",
       "    }\n",
       "\n",
       "    .dataframe thead th {\n",
       "        text-align: right;\n",
       "    }\n",
       "</style>\n",
       "<table border=\"1\" class=\"dataframe\">\n",
       "  <thead>\n",
       "    <tr style=\"text-align: right;\">\n",
       "      <th></th>\n",
       "      <th>protein</th>\n",
       "      <th>epitope</th>\n",
       "      <th>start_pos</th>\n",
       "      <th>epi_len</th>\n",
       "      <th>entropy</th>\n",
       "      <th>perc_mutated</th>\n",
       "      <th>glyco_probs</th>\n",
       "      <th>crosses_cleavage</th>\n",
       "    </tr>\n",
       "  </thead>\n",
       "  <tbody>\n",
       "    <tr>\n",
       "      <th>164764</th>\n",
       "      <td>S2</td>\n",
       "      <td>KGCCSCGSCCKFDEDDSEPVLKGVK</td>\n",
       "      <td>1244</td>\n",
       "      <td>25</td>\n",
       "      <td>0.073004</td>\n",
       "      <td>0.006817</td>\n",
       "      <td>0.0</td>\n",
       "      <td>0</td>\n",
       "    </tr>\n",
       "    <tr>\n",
       "      <th>164765</th>\n",
       "      <td>S2</td>\n",
       "      <td>GCCSCGSCCKFDEDDSEPVLKGVKL</td>\n",
       "      <td>1245</td>\n",
       "      <td>25</td>\n",
       "      <td>0.073004</td>\n",
       "      <td>0.006817</td>\n",
       "      <td>0.0</td>\n",
       "      <td>0</td>\n",
       "    </tr>\n",
       "    <tr>\n",
       "      <th>164766</th>\n",
       "      <td>S2</td>\n",
       "      <td>CCSCGSCCKFDEDDSEPVLKGVKLH</td>\n",
       "      <td>1246</td>\n",
       "      <td>25</td>\n",
       "      <td>0.073004</td>\n",
       "      <td>0.006817</td>\n",
       "      <td>0.0</td>\n",
       "      <td>0</td>\n",
       "    </tr>\n",
       "    <tr>\n",
       "      <th>164767</th>\n",
       "      <td>S2</td>\n",
       "      <td>CSCGSCCKFDEDDSEPVLKGVKLHY</td>\n",
       "      <td>1247</td>\n",
       "      <td>25</td>\n",
       "      <td>0.068034</td>\n",
       "      <td>0.006428</td>\n",
       "      <td>0.0</td>\n",
       "      <td>0</td>\n",
       "    </tr>\n",
       "    <tr>\n",
       "      <th>164768</th>\n",
       "      <td>S2</td>\n",
       "      <td>SCGSCCKFDEDDSEPVLKGVKLHYT</td>\n",
       "      <td>1248</td>\n",
       "      <td>25</td>\n",
       "      <td>0.070714</td>\n",
       "      <td>0.006623</td>\n",
       "      <td>0.0</td>\n",
       "      <td>0</td>\n",
       "    </tr>\n",
       "  </tbody>\n",
       "</table>\n",
       "</div>"
      ],
      "text/plain": [
       "       protein                    epitope  start_pos  epi_len   entropy  \\\n",
       "164764      S2  KGCCSCGSCCKFDEDDSEPVLKGVK       1244       25  0.073004   \n",
       "164765      S2  GCCSCGSCCKFDEDDSEPVLKGVKL       1245       25  0.073004   \n",
       "164766      S2  CCSCGSCCKFDEDDSEPVLKGVKLH       1246       25  0.073004   \n",
       "164767      S2  CSCGSCCKFDEDDSEPVLKGVKLHY       1247       25  0.068034   \n",
       "164768      S2  SCGSCCKFDEDDSEPVLKGVKLHYT       1248       25  0.070714   \n",
       "\n",
       "        perc_mutated  glyco_probs  crosses_cleavage  \n",
       "164764      0.006817          0.0                 0  \n",
       "164765      0.006817          0.0                 0  \n",
       "164766      0.006817          0.0                 0  \n",
       "164767      0.006428          0.0                 0  \n",
       "164768      0.006623          0.0                 0  "
      ]
     },
     "execution_count": 21,
     "metadata": {},
     "output_type": "execute_result"
    }
   ],
   "source": [
    "test.tail()"
   ]
  },
  {
   "cell_type": "code",
   "execution_count": 22,
   "metadata": {},
   "outputs": [
    {
     "data": {
      "text/plain": [
       "(164769, 8)"
      ]
     },
     "execution_count": 22,
     "metadata": {},
     "output_type": "execute_result"
    }
   ],
   "source": [
    "test.shape"
   ]
  },
  {
   "cell_type": "code",
   "execution_count": null,
   "metadata": {},
   "outputs": [],
   "source": []
  },
  {
   "cell_type": "code",
   "execution_count": 25,
   "metadata": {},
   "outputs": [
    {
     "data": {
      "text/html": [
       "<div>\n",
       "<style scoped>\n",
       "    .dataframe tbody tr th:only-of-type {\n",
       "        vertical-align: middle;\n",
       "    }\n",
       "\n",
       "    .dataframe tbody tr th {\n",
       "        vertical-align: top;\n",
       "    }\n",
       "\n",
       "    .dataframe thead th {\n",
       "        text-align: right;\n",
       "    }\n",
       "</style>\n",
       "<table border=\"1\" class=\"dataframe\">\n",
       "  <thead>\n",
       "    <tr style=\"text-align: right;\">\n",
       "      <th></th>\n",
       "      <th>index</th>\n",
       "      <th>protein</th>\n",
       "      <th>epitope</th>\n",
       "      <th>start_pos</th>\n",
       "      <th>epi_len</th>\n",
       "      <th>entropy</th>\n",
       "      <th>perc_mutated</th>\n",
       "    </tr>\n",
       "  </thead>\n",
       "  <tbody>\n",
       "    <tr>\n",
       "      <th>0</th>\n",
       "      <td>0</td>\n",
       "      <td>E</td>\n",
       "      <td>MYSFVSEE</td>\n",
       "      <td>0</td>\n",
       "      <td>8</td>\n",
       "      <td>0.005363</td>\n",
       "      <td>0.000390</td>\n",
       "    </tr>\n",
       "    <tr>\n",
       "      <th>1</th>\n",
       "      <td>1</td>\n",
       "      <td>E</td>\n",
       "      <td>YSFVSEET</td>\n",
       "      <td>1</td>\n",
       "      <td>8</td>\n",
       "      <td>0.008044</td>\n",
       "      <td>0.000584</td>\n",
       "    </tr>\n",
       "    <tr>\n",
       "      <th>2</th>\n",
       "      <td>2</td>\n",
       "      <td>E</td>\n",
       "      <td>SFVSEETG</td>\n",
       "      <td>2</td>\n",
       "      <td>8</td>\n",
       "      <td>0.008044</td>\n",
       "      <td>0.000584</td>\n",
       "    </tr>\n",
       "    <tr>\n",
       "      <th>3</th>\n",
       "      <td>3</td>\n",
       "      <td>E</td>\n",
       "      <td>FVSEETGT</td>\n",
       "      <td>3</td>\n",
       "      <td>8</td>\n",
       "      <td>0.008044</td>\n",
       "      <td>0.000584</td>\n",
       "    </tr>\n",
       "    <tr>\n",
       "      <th>4</th>\n",
       "      <td>4</td>\n",
       "      <td>E</td>\n",
       "      <td>VSEETGTL</td>\n",
       "      <td>4</td>\n",
       "      <td>8</td>\n",
       "      <td>0.008044</td>\n",
       "      <td>0.000584</td>\n",
       "    </tr>\n",
       "  </tbody>\n",
       "</table>\n",
       "</div>"
      ],
      "text/plain": [
       "   index protein   epitope  start_pos  epi_len   entropy  perc_mutated\n",
       "0      0       E  MYSFVSEE          0        8  0.005363      0.000390\n",
       "1      1       E  YSFVSEET          1        8  0.008044      0.000584\n",
       "2      2       E  SFVSEETG          2        8  0.008044      0.000584\n",
       "3      3       E  FVSEETGT          3        8  0.008044      0.000584\n",
       "4      4       E  VSEETGTL          4        8  0.008044      0.000584"
      ]
     },
     "execution_count": 25,
     "metadata": {},
     "output_type": "execute_result"
    }
   ],
   "source": [
    "# run for a single example. \n",
    "df.head()\n"
   ]
  },
  {
   "cell_type": "code",
   "execution_count": 27,
   "metadata": {},
   "outputs": [
    {
     "data": {
      "text/plain": [
       "14"
      ]
     },
     "execution_count": 27,
     "metadata": {},
     "output_type": "execute_result"
    }
   ],
   "source": [
    "len(df.protein.unique())"
   ]
  },
  {
   "cell_type": "code",
   "execution_count": 28,
   "metadata": {},
   "outputs": [
    {
     "data": {
      "text/html": [
       "<div>\n",
       "<style scoped>\n",
       "    .dataframe tbody tr th:only-of-type {\n",
       "        vertical-align: middle;\n",
       "    }\n",
       "\n",
       "    .dataframe tbody tr th {\n",
       "        vertical-align: top;\n",
       "    }\n",
       "\n",
       "    .dataframe thead th {\n",
       "        text-align: right;\n",
       "    }\n",
       "</style>\n",
       "<table border=\"1\" class=\"dataframe\">\n",
       "  <thead>\n",
       "    <tr style=\"text-align: right;\">\n",
       "      <th></th>\n",
       "      <th>index</th>\n",
       "      <th>protein</th>\n",
       "      <th>epitope</th>\n",
       "      <th>start_pos</th>\n",
       "      <th>epi_len</th>\n",
       "      <th>entropy</th>\n",
       "      <th>perc_mutated</th>\n",
       "    </tr>\n",
       "  </thead>\n",
       "  <tbody>\n",
       "    <tr>\n",
       "      <th>1002</th>\n",
       "      <td>1002</td>\n",
       "      <td>E</td>\n",
       "      <td>VNVSLVKPSFYVYSRVKNLNSSRVP</td>\n",
       "      <td>46</td>\n",
       "      <td>25</td>\n",
       "      <td>0.055131</td>\n",
       "      <td>0.004480</td>\n",
       "    </tr>\n",
       "    <tr>\n",
       "      <th>1003</th>\n",
       "      <td>1003</td>\n",
       "      <td>E</td>\n",
       "      <td>NVSLVKPSFYVYSRVKNLNSSRVPD</td>\n",
       "      <td>47</td>\n",
       "      <td>25</td>\n",
       "      <td>0.064925</td>\n",
       "      <td>0.005259</td>\n",
       "    </tr>\n",
       "    <tr>\n",
       "      <th>1004</th>\n",
       "      <td>1004</td>\n",
       "      <td>E</td>\n",
       "      <td>VSLVKPSFYVYSRVKNLNSSRVPDL</td>\n",
       "      <td>48</td>\n",
       "      <td>25</td>\n",
       "      <td>0.081422</td>\n",
       "      <td>0.006623</td>\n",
       "    </tr>\n",
       "    <tr>\n",
       "      <th>1005</th>\n",
       "      <td>1005</td>\n",
       "      <td>E</td>\n",
       "      <td>SLVKPSFYVYSRVKNLNSSRVPDLL</td>\n",
       "      <td>49</td>\n",
       "      <td>25</td>\n",
       "      <td>0.081422</td>\n",
       "      <td>0.006623</td>\n",
       "    </tr>\n",
       "    <tr>\n",
       "      <th>1006</th>\n",
       "      <td>1006</td>\n",
       "      <td>E</td>\n",
       "      <td>LVKPSFYVYSRVKNLNSSRVPDLLV</td>\n",
       "      <td>50</td>\n",
       "      <td>25</td>\n",
       "      <td>0.106883</td>\n",
       "      <td>0.009155</td>\n",
       "    </tr>\n",
       "  </tbody>\n",
       "</table>\n",
       "</div>"
      ],
      "text/plain": [
       "      index protein                    epitope  start_pos  epi_len   entropy  \\\n",
       "1002   1002       E  VNVSLVKPSFYVYSRVKNLNSSRVP         46       25  0.055131   \n",
       "1003   1003       E  NVSLVKPSFYVYSRVKNLNSSRVPD         47       25  0.064925   \n",
       "1004   1004       E  VSLVKPSFYVYSRVKNLNSSRVPDL         48       25  0.081422   \n",
       "1005   1005       E  SLVKPSFYVYSRVKNLNSSRVPDLL         49       25  0.081422   \n",
       "1006   1006       E  LVKPSFYVYSRVKNLNSSRVPDLLV         50       25  0.106883   \n",
       "\n",
       "      perc_mutated  \n",
       "1002      0.004480  \n",
       "1003      0.005259  \n",
       "1004      0.006623  \n",
       "1005      0.006623  \n",
       "1006      0.009155  "
      ]
     },
     "execution_count": 28,
     "metadata": {},
     "output_type": "execute_result"
    }
   ],
   "source": [
    "df[df.protein=='E'].tail()"
   ]
  },
  {
   "cell_type": "code",
   "execution_count": 33,
   "metadata": {},
   "outputs": [
    {
     "name": "stdout",
     "output_type": "stream",
     "text": [
      "protein: E\n",
      "window size 8\n"
     ]
    }
   ],
   "source": [
    "\n",
    "def entropy_calc(x):\n",
    "        # where x is a list of numbers. \n",
    "        summ = 0\n",
    "        nc = np.sum(x)\n",
    "        for e in x: \n",
    "            p = e/nc\n",
    "            summ += p*np.log2(p)\n",
    "        return -summ\n",
    "    \n",
    "window_sizes = list(range(8,12)) + list(range(13,26))\n",
    "\n",
    "aa_file = amino_acid_files[0]\n",
    "protein = aa_file.split('_')[-1].split('.')[0]\n",
    "print('protein:', protein)\n",
    "with open(aa_file, \"rt\") as handle:\n",
    "    records = list(SeqIO.parse(handle, \"fasta\"))\n",
    "\n",
    "# getting rid of the node sequences!\n",
    "no_nodes = []\n",
    "for r in records: \n",
    "    if 'NODE_' not in r.id:\n",
    "        no_nodes.append(r)\n",
    "records = no_nodes\n",
    "\n",
    "# getting the reference sequence\n",
    "for ind, r in enumerate(records): \n",
    "    if r.id == 'Wuhan/IPBCAMS-WH-01/2019':#'Wuhan-Hu-1/2019':#'Wuhan/WH01/2019':#'Wuhan/IPBCAMS-WH-01/2019':\n",
    "        ref_seq_ind = ind\n",
    "\n",
    "ref_seq = str(records[ref_seq_ind].seq)[:-1]\n",
    "\n",
    "seqs = np.array(records)[:, :-1] # ignore the stop code at the end. \n",
    "\n",
    "for window in window_sizes:\n",
    "    print('window size', window)\n",
    "\n",
    "    window_res = []\n",
    "\n",
    "    # get epitope based column slices. gives a list of epi columns. \n",
    "    epi_columns = [seqs[:,i:i+window] for i in range(seqs.shape[1]-window+1)]\n",
    "\n",
    "    for col_ind, col in enumerate(epi_columns):\n",
    "        # count all of the unique epitopes here. \n",
    "\n",
    "        #first need to convert each of the columns into strings:\n",
    "        col = np.asarray(  [  ''.join(col[i,:]) for i in range(col.shape[0]) ])\n",
    "        unique, counts = np.unique(col, return_counts=True) \n",
    "        ent = entropy_calc(counts)\n",
    "\n",
    "        # useful for percentages\n",
    "        ref_epitope = col[ref_seq_ind]\n",
    "        count_dict = dict(zip(unique, counts))\n",
    "        # -1 for no self count. percentage mutated. \n",
    "        perc = 1 - ((count_dict[ref_epitope]-1)/(np.sum(counts)-1))\n",
    "        \n",
    "        break\n",
    "    break"
   ]
  },
  {
   "cell_type": "code",
   "execution_count": 34,
   "metadata": {},
   "outputs": [
    {
     "data": {
      "text/plain": [
       "array(['MYSFVSEE', 'MYSFVSEE', 'MYSFVSEE', ..., 'MYSFVSEE', 'MYSFVSEE',\n",
       "       'MYSFVSEE'], dtype='<U8')"
      ]
     },
     "execution_count": 34,
     "metadata": {},
     "output_type": "execute_result"
    }
   ],
   "source": [
    "col"
   ]
  },
  {
   "cell_type": "code",
   "execution_count": 35,
   "metadata": {},
   "outputs": [
    {
     "data": {
      "text/plain": [
       "array([['M', 'Y', 'S', ..., 'S', 'E', 'E'],\n",
       "       ['M', 'Y', 'S', ..., 'S', 'E', 'E'],\n",
       "       ['M', 'Y', 'S', ..., 'S', 'E', 'E'],\n",
       "       ...,\n",
       "       ['M', 'Y', 'S', ..., 'S', 'E', 'E'],\n",
       "       ['M', 'Y', 'S', ..., 'S', 'E', 'E'],\n",
       "       ['M', 'Y', 'S', ..., 'S', 'E', 'E']], dtype='<U1')"
      ]
     },
     "execution_count": 35,
     "metadata": {},
     "output_type": "execute_result"
    }
   ],
   "source": [
    "epi_columns[0]"
   ]
  },
  {
   "cell_type": "code",
   "execution_count": 36,
   "metadata": {},
   "outputs": [
    {
     "data": {
      "text/plain": [
       "array(['MYSFVLEE', 'MYSFVSDE', 'MYSFVSEE'], dtype='<U8')"
      ]
     },
     "execution_count": 36,
     "metadata": {},
     "output_type": "execute_result"
    }
   ],
   "source": [
    "unique"
   ]
  },
  {
   "cell_type": "code",
   "execution_count": 37,
   "metadata": {},
   "outputs": [
    {
     "data": {
      "text/plain": [
       "array([   1,    1, 5133])"
      ]
     },
     "execution_count": 37,
     "metadata": {},
     "output_type": "execute_result"
    }
   ],
   "source": [
    "counts"
   ]
  },
  {
   "cell_type": "code",
   "execution_count": 38,
   "metadata": {},
   "outputs": [
    {
     "data": {
      "text/plain": [
       "0.005362633928857546"
      ]
     },
     "execution_count": 38,
     "metadata": {},
     "output_type": "execute_result"
    }
   ],
   "source": [
    "ent"
   ]
  },
  {
   "cell_type": "code",
   "execution_count": 39,
   "metadata": {},
   "outputs": [
    {
     "data": {
      "text/plain": [
       "'MYSFVSEE'"
      ]
     },
     "execution_count": 39,
     "metadata": {},
     "output_type": "execute_result"
    }
   ],
   "source": [
    "ref_epitope"
   ]
  },
  {
   "cell_type": "code",
   "execution_count": 40,
   "metadata": {},
   "outputs": [
    {
     "data": {
      "text/plain": [
       "{'MYSFVLEE': 1, 'MYSFVSDE': 1, 'MYSFVSEE': 5133}"
      ]
     },
     "execution_count": 40,
     "metadata": {},
     "output_type": "execute_result"
    }
   ],
   "source": [
    "count_dict"
   ]
  },
  {
   "cell_type": "code",
   "execution_count": 41,
   "metadata": {},
   "outputs": [
    {
     "data": {
      "text/plain": [
       "0.00038955979742894"
      ]
     },
     "execution_count": 41,
     "metadata": {},
     "output_type": "execute_result"
    }
   ],
   "source": [
    "perc"
   ]
  },
  {
   "cell_type": "code",
   "execution_count": null,
   "metadata": {},
   "outputs": [],
   "source": []
  },
  {
   "cell_type": "code",
   "execution_count": 45,
   "metadata": {},
   "outputs": [
    {
     "data": {
      "text/html": [
       "<div>\n",
       "<style scoped>\n",
       "    .dataframe tbody tr th:only-of-type {\n",
       "        vertical-align: middle;\n",
       "    }\n",
       "\n",
       "    .dataframe tbody tr th {\n",
       "        vertical-align: top;\n",
       "    }\n",
       "\n",
       "    .dataframe thead th {\n",
       "        text-align: right;\n",
       "    }\n",
       "</style>\n",
       "<table border=\"1\" class=\"dataframe\">\n",
       "  <thead>\n",
       "    <tr style=\"text-align: right;\">\n",
       "      <th></th>\n",
       "      <th>index</th>\n",
       "      <th>protein</th>\n",
       "      <th>epitope</th>\n",
       "      <th>start_pos</th>\n",
       "      <th>epi_len</th>\n",
       "      <th>entropy</th>\n",
       "      <th>perc_mutated</th>\n",
       "    </tr>\n",
       "  </thead>\n",
       "  <tbody>\n",
       "    <tr>\n",
       "      <th>0</th>\n",
       "      <td>0</td>\n",
       "      <td>E</td>\n",
       "      <td>MYSFVSEE</td>\n",
       "      <td>0</td>\n",
       "      <td>8</td>\n",
       "      <td>0.005363</td>\n",
       "      <td>0.000390</td>\n",
       "    </tr>\n",
       "    <tr>\n",
       "      <th>1</th>\n",
       "      <td>1</td>\n",
       "      <td>E</td>\n",
       "      <td>YSFVSEET</td>\n",
       "      <td>1</td>\n",
       "      <td>8</td>\n",
       "      <td>0.008044</td>\n",
       "      <td>0.000584</td>\n",
       "    </tr>\n",
       "    <tr>\n",
       "      <th>2</th>\n",
       "      <td>2</td>\n",
       "      <td>E</td>\n",
       "      <td>SFVSEETG</td>\n",
       "      <td>2</td>\n",
       "      <td>8</td>\n",
       "      <td>0.008044</td>\n",
       "      <td>0.000584</td>\n",
       "    </tr>\n",
       "    <tr>\n",
       "      <th>3</th>\n",
       "      <td>3</td>\n",
       "      <td>E</td>\n",
       "      <td>FVSEETGT</td>\n",
       "      <td>3</td>\n",
       "      <td>8</td>\n",
       "      <td>0.008044</td>\n",
       "      <td>0.000584</td>\n",
       "    </tr>\n",
       "    <tr>\n",
       "      <th>4</th>\n",
       "      <td>4</td>\n",
       "      <td>E</td>\n",
       "      <td>VSEETGTL</td>\n",
       "      <td>4</td>\n",
       "      <td>8</td>\n",
       "      <td>0.008044</td>\n",
       "      <td>0.000584</td>\n",
       "    </tr>\n",
       "  </tbody>\n",
       "</table>\n",
       "</div>"
      ],
      "text/plain": [
       "   index protein   epitope  start_pos  epi_len   entropy  perc_mutated\n",
       "0      0       E  MYSFVSEE          0        8  0.005363      0.000390\n",
       "1      1       E  YSFVSEET          1        8  0.008044      0.000584\n",
       "2      2       E  SFVSEETG          2        8  0.008044      0.000584\n",
       "3      3       E  FVSEETGT          3        8  0.008044      0.000584\n",
       "4      4       E  VSEETGTL          4        8  0.008044      0.000584"
      ]
     },
     "execution_count": 45,
     "metadata": {},
     "output_type": "execute_result"
    }
   ],
   "source": [
    "df = pd.read_csv('../data/processed/epitope_entropies.csv')\n",
    "df.head()"
   ]
  },
  {
   "cell_type": "code",
   "execution_count": 5,
   "metadata": {},
   "outputs": [
    {
     "data": {
      "text/plain": [
       "11069"
      ]
     },
     "execution_count": 5,
     "metadata": {},
     "output_type": "execute_result"
    }
   ],
   "source": [
    "(df.entropy == 0.0).sum()"
   ]
  },
  {
   "cell_type": "code",
   "execution_count": null,
   "metadata": {},
   "outputs": [],
   "source": []
  },
  {
   "cell_type": "code",
   "execution_count": null,
   "metadata": {},
   "outputs": [],
   "source": []
  },
  {
   "cell_type": "code",
   "execution_count": null,
   "metadata": {},
   "outputs": [],
   "source": []
  },
  {
   "cell_type": "code",
   "execution_count": 34,
   "metadata": {},
   "outputs": [
    {
     "data": {
      "text/plain": [
       "(5826, 75)"
      ]
     },
     "execution_count": 34,
     "metadata": {},
     "output_type": "execute_result"
    }
   ],
   "source": [
    "seqs.shape"
   ]
  },
  {
   "cell_type": "code",
   "execution_count": 35,
   "metadata": {},
   "outputs": [
    {
     "data": {
      "text/plain": [
       "75"
      ]
     },
     "execution_count": 35,
     "metadata": {},
     "output_type": "execute_result"
    }
   ],
   "source": [
    "len(ref_seq)"
   ]
  },
  {
   "cell_type": "code",
   "execution_count": 36,
   "metadata": {},
   "outputs": [
    {
     "data": {
      "text/plain": [
       "51"
      ]
     },
     "execution_count": 36,
     "metadata": {},
     "output_type": "execute_result"
    }
   ],
   "source": [
    "len(epi_columns)"
   ]
  },
  {
   "cell_type": "code",
   "execution_count": 47,
   "metadata": {},
   "outputs": [
    {
     "data": {
      "text/plain": [
       "[['E', 46, 25, 0.029753152247977425, 0.002403020940611067],\n",
       " ['E', 47, 25, 0.04479404697550162, 0.003604531410916545],\n",
       " ['E', 48, 25, 0.056493651187096074, 0.004634397528321288],\n",
       " ['E', 49, 25, 0.056493651187096074, 0.004634397528321288],\n",
       " ['E', 50, 25, 0.056493651187096074, 0.004634397528321288]]"
      ]
     },
     "execution_count": 47,
     "metadata": {},
     "output_type": "execute_result"
    }
   ],
   "source": [
    "protein_res[-5:]"
   ]
  },
  {
   "cell_type": "code",
   "execution_count": 38,
   "metadata": {},
   "outputs": [
    {
     "data": {
      "text/plain": [
       "12.508289986140348"
      ]
     },
     "execution_count": 38,
     "metadata": {},
     "output_type": "execute_result"
    }
   ],
   "source": [
    "np.log2(len(seqs))"
   ]
  },
  {
   "cell_type": "code",
   "execution_count": 39,
   "metadata": {},
   "outputs": [],
   "source": [
    "np.array(df['E'])[:,2];"
   ]
  },
  {
   "cell_type": "code",
   "execution_count": 40,
   "metadata": {},
   "outputs": [
    {
     "data": {
      "text/plain": [
       "(array([215., 436., 170.,  14.,  37.,   9.,   5.,  18.,  20.,  18.]),\n",
       " array([0.        , 0.00564937, 0.01129873, 0.0169481 , 0.02259746,\n",
       "        0.02824683, 0.03389619, 0.03954556, 0.04519492, 0.05084429,\n",
       "        0.05649365]),\n",
       " <a list of 10 Patch objects>)"
      ]
     },
     "execution_count": 40,
     "metadata": {},
     "output_type": "execute_result"
    },
    {
     "data": {
      "image/png": "[encoded data removed]",
      "text/plain": [
       "<Figure size 432x288 with 1 Axes>"
      ]
     },
     "metadata": {
      "needs_background": "light"
     },
     "output_type": "display_data"
    }
   ],
   "source": [
    "plt.hist(np.array(df['E'])[:,2])"
   ]
  },
  {
   "cell_type": "code",
   "execution_count": null,
   "metadata": {},
   "outputs": [],
   "source": []
  }
 ],
 "metadata": {
  "kernelspec": {
   "display_name": "Python 3",
   "language": "python",
   "name": "python3"
  },
  "language_info": {
   "codemirror_mode": {
    "name": "ipython",
    "version": 3
   },
   "file_extension": ".py",
   "mimetype": "text/x-python",
   "name": "python",
   "nbconvert_exporter": "python",
   "pygments_lexer": "ipython3",
   "version": "3.8.3"
  }
 },
 "nbformat": 4,
 "nbformat_minor": 4
}
