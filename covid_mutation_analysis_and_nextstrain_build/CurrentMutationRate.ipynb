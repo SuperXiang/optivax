{
 "cells": [
  {
   "cell_type": "code",
   "execution_count": 4,
   "metadata": {},
   "outputs": [],
   "source": [
    "'''\n",
    "Looking at the entropy of different positions for each protein in covid. Connecting these to all possible epitopes across all window lengths.\n",
    "'''\n",
    "\n",
    "import gzip\n",
    "from Bio import SeqIO\n",
    "from Bio.Seq import Seq\n",
    "import numpy as np\n",
    "import matplotlib.pyplot as plt\n",
    "import pandas as pd\n",
    "\n"
   ]
  },
  {
   "cell_type": "code",
   "execution_count": null,
   "metadata": {},
   "outputs": [],
   "source": []
  },
  {
   "cell_type": "code",
   "execution_count": 5,
   "metadata": {},
   "outputs": [
    {
     "data": {
      "text/plain": [
       "['data/larger_version_modified/aligned_protein_E.fasta',\n",
       " 'data/larger_version_modified/aligned_protein_M.fasta',\n",
       " 'data/larger_version_modified/aligned_protein_N.fasta',\n",
       " 'data/larger_version_modified/aligned_protein_ORF10.fasta',\n",
       " 'data/larger_version_modified/aligned_protein_ORF1a.fasta',\n",
       " 'data/larger_version_modified/aligned_protein_ORF1b.fasta',\n",
       " 'data/larger_version_modified/aligned_protein_ORF3a.fasta',\n",
       " 'data/larger_version_modified/aligned_protein_ORF6.fasta',\n",
       " 'data/larger_version_modified/aligned_protein_ORF7a.fasta',\n",
       " 'data/larger_version_modified/aligned_protein_ORF7b.fasta',\n",
       " 'data/larger_version_modified/aligned_protein_ORF8.fasta',\n",
       " 'data/larger_version_modified/aligned_protein_ORF9b.fasta',\n",
       " 'data/larger_version_modified/aligned_protein_S.fasta']"
      ]
     },
     "execution_count": 5,
     "metadata": {},
     "output_type": "execute_result"
    }
   ],
   "source": [
    "### There is no longer an ORF14, which produced a very small protein\n",
    "amino_acid_files = !ls data/larger_version_modified/*_protein_*\n",
    "\n",
    "\n",
    "amino_acid_files"
   ]
  },
  {
   "cell_type": "code",
   "execution_count": 6,
   "metadata": {},
   "outputs": [
    {
     "data": {
      "text/plain": [
       "13"
      ]
     },
     "execution_count": 6,
     "metadata": {},
     "output_type": "execute_result"
    }
   ],
   "source": [
    "len(amino_acid_files)"
   ]
  },
  {
   "cell_type": "code",
   "execution_count": null,
   "metadata": {},
   "outputs": [],
   "source": []
  },
  {
   "cell_type": "code",
   "execution_count": null,
   "metadata": {},
   "outputs": [],
   "source": []
  },
  {
   "cell_type": "code",
   "execution_count": 9,
   "metadata": {},
   "outputs": [
    {
     "name": "stdout",
     "output_type": "stream",
     "text": [
      "protein =  E\n",
      "total size of records, including the NODES 23732\n",
      "ID: Wuhan-Hu-1/2019\n",
      "Name: Wuhan-Hu-1/2019\n",
      "Description: Wuhan-Hu-1/2019\n",
      "Number of features: 0\n",
      "Seq('MYSFVSEETGTLIVNSVLLFLAFVVFLLVTLAILTALRLCAYCCNIVNVSLVKP...LV*', SingleLetterAlphabet())\n",
      "23732\n",
      "ID: Wuhan-Hu-1/2019\n",
      "Name: Wuhan-Hu-1/2019\n",
      "Description: Wuhan-Hu-1/2019\n",
      "Number of features: 0\n",
      "Seq('MYSFVSEETGTLIVNSVLLFLAFVVFLLVTLAILTALRLCAYCCNIVNVSLVKP...LV*', SingleLetterAlphabet())\n",
      "12789\n"
     ]
    }
   ],
   "source": [
    "aa_file = amino_acid_files[0]\n",
    "protein = aa_file.split('_')[-1].split('.')[0]\n",
    "print('protein = ', protein)\n",
    "with open(aa_file, \"rt\") as handle:\n",
    "    records = list(SeqIO.parse(handle, \"fasta\"))\n",
    "print('total size of records, including the NODES', len(records))\n",
    "# getting rid of the node sequences!\n",
    "no_nodes = []\n",
    "for r in records: \n",
    "    if 'NODE_' not in r.id:\n",
    "        no_nodes.append(r)\n",
    "# records = no_nodes\n",
    "print(records[0])\n",
    "print(len(records))\n",
    "print(no_nodes[0])\n",
    "print(len(no_nodes))"
   ]
  },
  {
   "cell_type": "code",
   "execution_count": 10,
   "metadata": {},
   "outputs": [
    {
     "name": "stdout",
     "output_type": "stream",
     "text": [
      "protein =  E\n",
      "total size of records, including the NODES 23732\n",
      "total size after excluding the NODES =  12789\n",
      "12789\n",
      "protein =  M\n",
      "total size of records, including the NODES 23732\n",
      "total size after excluding the NODES =  12789\n",
      "12789\n",
      "protein =  N\n",
      "total size of records, including the NODES 23732\n",
      "total size after excluding the NODES =  12789\n",
      "12789\n",
      "protein =  ORF10\n",
      "total size of records, including the NODES 23732\n",
      "total size after excluding the NODES =  12789\n",
      "12789\n",
      "protein =  ORF1a\n",
      "total size of records, including the NODES 23732\n",
      "total size after excluding the NODES =  12789\n",
      "12789\n",
      "protein =  ORF1b\n",
      "total size of records, including the NODES 23732\n",
      "total size after excluding the NODES =  12789\n",
      "12789\n",
      "protein =  ORF3a\n",
      "total size of records, including the NODES 23732\n",
      "total size after excluding the NODES =  12789\n",
      "12789\n",
      "protein =  ORF6\n",
      "total size of records, including the NODES 23732\n",
      "total size after excluding the NODES =  12789\n",
      "12789\n",
      "protein =  ORF7a\n",
      "total size of records, including the NODES 23732\n",
      "total size after excluding the NODES =  12789\n",
      "12789\n",
      "protein =  ORF7b\n",
      "total size of records, including the NODES 23732\n",
      "total size after excluding the NODES =  12789\n",
      "12789\n",
      "protein =  ORF8\n",
      "total size of records, including the NODES 23732\n",
      "total size after excluding the NODES =  12789\n",
      "12789\n",
      "protein =  ORF9b\n",
      "total size of records, including the NODES 23732\n",
      "total size after excluding the NODES =  12789\n",
      "12789\n",
      "protein =  S\n",
      "total size of records, including the NODES 23732\n",
      "total size after excluding the NODES =  12789\n",
      "12789\n"
     ]
    },
    {
     "data": {
      "text/html": [
       "<div>\n",
       "<style scoped>\n",
       "    .dataframe tbody tr th:only-of-type {\n",
       "        vertical-align: middle;\n",
       "    }\n",
       "\n",
       "    .dataframe tbody tr th {\n",
       "        vertical-align: top;\n",
       "    }\n",
       "\n",
       "    .dataframe thead th {\n",
       "        text-align: right;\n",
       "    }\n",
       "</style>\n",
       "<table border=\"1\" class=\"dataframe\">\n",
       "  <thead>\n",
       "    <tr style=\"text-align: right;\">\n",
       "      <th></th>\n",
       "      <th>protein</th>\n",
       "      <th>sequence</th>\n",
       "      <th>prob_mutation</th>\n",
       "    </tr>\n",
       "  </thead>\n",
       "  <tbody>\n",
       "    <tr>\n",
       "      <th>0</th>\n",
       "      <td>E</td>\n",
       "      <td>MYSFVSEETGTLIVNSVLLFLAFVVFLLVTLAILTALRLCAYCCNI...</td>\n",
       "      <td>[0.0, 0.0, 7.819831091648854e-05, 0.0001563966...</td>\n",
       "    </tr>\n",
       "    <tr>\n",
       "      <th>1</th>\n",
       "      <td>M</td>\n",
       "      <td>MADSNGTITVEELKKLLEQWNLVIGFLFLTWICLLQFAYANRNRFL...</td>\n",
       "      <td>[0.0, 0.0045355020331561136, 0.008210822646230...</td>\n",
       "    </tr>\n",
       "    <tr>\n",
       "      <th>2</th>\n",
       "      <td>N</td>\n",
       "      <td>MSDNGPQNQRNAPRITFGGPSDSTGSNQNGERSGARSKQRRPQGLP...</td>\n",
       "      <td>[0.0, 0.005082890209571422, 0.0282295902408508...</td>\n",
       "    </tr>\n",
       "    <tr>\n",
       "      <th>3</th>\n",
       "      <td>ORF10</td>\n",
       "      <td>MGYINVFAFPFTIYSLLLCRMNSRNYIAQVDVVNFNLT</td>\n",
       "      <td>[0.00023459493274946563, 7.819831091648854e-05...</td>\n",
       "    </tr>\n",
       "    <tr>\n",
       "      <th>4</th>\n",
       "      <td>ORF1a</td>\n",
       "      <td>MESLVPGFNEKTHVQLSLPVLQVRDVLVRGFGDSVEEVLSEARQHL...</td>\n",
       "      <td>[0.0, 0.0, 0.0, 7.819831091648854e-05, 0.00015...</td>\n",
       "    </tr>\n",
       "  </tbody>\n",
       "</table>\n",
       "</div>"
      ],
      "text/plain": [
       "  protein                                           sequence  \\\n",
       "0       E  MYSFVSEETGTLIVNSVLLFLAFVVFLLVTLAILTALRLCAYCCNI...   \n",
       "1       M  MADSNGTITVEELKKLLEQWNLVIGFLFLTWICLLQFAYANRNRFL...   \n",
       "2       N  MSDNGPQNQRNAPRITFGGPSDSTGSNQNGERSGARSKQRRPQGLP...   \n",
       "3   ORF10             MGYINVFAFPFTIYSLLLCRMNSRNYIAQVDVVNFNLT   \n",
       "4   ORF1a  MESLVPGFNEKTHVQLSLPVLQVRDVLVRGFGDSVEEVLSEARQHL...   \n",
       "\n",
       "                                       prob_mutation  \n",
       "0  [0.0, 0.0, 7.819831091648854e-05, 0.0001563966...  \n",
       "1  [0.0, 0.0045355020331561136, 0.008210822646230...  \n",
       "2  [0.0, 0.005082890209571422, 0.0282295902408508...  \n",
       "3  [0.00023459493274946563, 7.819831091648854e-05...  \n",
       "4  [0.0, 0.0, 0.0, 7.819831091648854e-05, 0.00015...  "
      ]
     },
     "metadata": {},
     "output_type": "display_data"
    },
    {
     "name": "stdout",
     "output_type": "stream",
     "text": [
      "0 0\n",
      "0 1\n",
      "0 2\n",
      "0 3\n",
      "0 4\n",
      "1 0\n",
      "1 1\n",
      "1 2\n",
      "1 3\n",
      "1 4\n",
      "2 0\n",
      "2 1\n",
      "2 2\n"
     ]
    },
    {
     "data": {
      "image/png": "[encoded data removed]",
      "text/plain": [
       "<Figure size 2160x1800 with 15 Axes>"
      ]
     },
     "metadata": {
      "needs_background": "light"
     },
     "output_type": "display_data"
    }
   ],
   "source": [
    "'''  DOING BINARY PROBABILITY OF MUTATING '''\n",
    "\n",
    "### I had to change some code, because the sequence 'Wuhan/IPBCAMS-WH-01/2019' is no longer readily available,\n",
    "### probably due to the weird tree build, so I added it to all the files. --Alex\n",
    "\n",
    "\n",
    "df = [] # will store the entropy results\n",
    "for aa_file in amino_acid_files:\n",
    "    protein = aa_file.split('_')[-1].split('.')[0]\n",
    "    print('protein = ', protein)\n",
    "    with open(aa_file, \"rt\") as handle:\n",
    "        records = list(SeqIO.parse(handle, \"fasta\"))\n",
    "    print('total size of records, including the NODES', len(records))\n",
    "    # getting rid of the node sequences!\n",
    "    no_nodes = []\n",
    "    for r in records: \n",
    "        if 'NODE_' not in r.id:\n",
    "            no_nodes.append(r)\n",
    "    print('total size after excluding the NODES = ', len(no_nodes))\n",
    "    records = no_nodes\n",
    "\n",
    "    ### Old code\n",
    "#     # getting the reference sequence ### Commented out by Alex\n",
    "#     for ind, r in enumerate(records):  ### Commented out by Alex\n",
    "#         if r.id == 'Wuhan/IPBCAMS-WH-01/2019':#'Wuhan-Hu-1/2019':#'Wuhan/WH01/2019':#'Wuhan/IPBCAMS-WH-01/2019': ### Commented out by Alex\n",
    "#             ref_seq_ind = ind ### Commented out by Alex\n",
    "            \n",
    "#     ref_seq = str(records[ref_seq_ind].seq)[:-1] ### Commented out by Alex\n",
    "    \n",
    "    \n",
    "    # getting the Wuhan Hu sequence\n",
    "    \n",
    "    for ind, r in enumerate(records): \n",
    "        if r.id == 'Wuhan-Hu-1/2019':#'Wuhan-Hu-1/2019':#'Wuhan/WH01/2019':#'Wuhan/IPBCAMS-WH-01/2019':\n",
    "            ref_seq_ind_wu = ind\n",
    "\n",
    "\n",
    "    ref_seq_wu = str(records[ref_seq_ind_wu].seq)[:-1]\n",
    "    ref_seq = ref_seq_wu ### --Alex\n",
    "    \n",
    "    ### Old code\n",
    "#     print('protein', protein,'ref equals wuhan', (np.array(list(ref_seq))!=np.array(list(ref_seq_wu))).sum()) ### Commented out by Alex\n",
    "#     diff_inds = np.arange(len(ref_seq))[(np.array(list(ref_seq))!=np.array(list(ref_seq_wu)))] ### Commented out by Alex\n",
    "#     print('points where they differ', diff_inds ) ### Commented out by Alex\n",
    "#     print('differences: Org sequence', np.array(list(ref_seq))[diff_inds], 'Wuhan-Hu_1,', np.array(list(ref_seq_wu))[diff_inds] ) ### Commented out by Alex  \n",
    "    # calculating entropy\n",
    "    \n",
    "    seqs = np.array(records)[:, :-1]\n",
    "    pos_mut_counts = []\n",
    "    for ind in range(seqs.shape[1]):\n",
    "        counter = dict()\n",
    "        # count the AA frequencies\n",
    "        ground_aa = ref_seq[ind]\n",
    "        \n",
    "        for char in seqs[:, ind]:\n",
    "            try: \n",
    "                counter[char]+=1\n",
    "            except: \n",
    "                counter[char] = 1\n",
    "        # actual entropy calculation\n",
    "        \n",
    "        num_same = 0\n",
    "        for aa, val in counter.items():\n",
    "            if aa == ground_aa:\n",
    "                num_same +=val\n",
    "        pos_mut_counts.append(1-((num_same-1)/(seqs.shape[0]-1)))\n",
    "    \n",
    "    print(len(records))\n",
    "\n",
    "    df.append( [protein, ref_seq, pos_mut_counts]  )\n",
    "    \n",
    "df = pd.DataFrame(df, columns=['protein','sequence', 'prob_mutation'])\n",
    "display(df.head())\n",
    "\n",
    "rows, cols = 3, 5\n",
    "fig, ax = plt.subplots(rows,cols, figsize=(30,25))\n",
    "for i in range(df.shape[0]):\n",
    "    x_ind = i//cols\n",
    "    y_ind = i%cols\n",
    "    print(x_ind, y_ind)\n",
    "    wid = len(df.iloc[i].prob_mutation) / 120\n",
    "    ax[x_ind, y_ind].set_ylim(0, 0.7)\n",
    "    ax[x_ind, y_ind].bar(np.arange(len(df.iloc[i].prob_mutation)), \n",
    "                         df.iloc[i].prob_mutation, width=wid)\n",
    "    \n",
    "    ax[x_ind, y_ind].set_title('Protein: '+df.iloc[i].protein+' | Fraction Mutated')"
   ]
  },
  {
   "cell_type": "code",
   "execution_count": 11,
   "metadata": {},
   "outputs": [
    {
     "data": {
      "text/html": [
       "<div>\n",
       "<style scoped>\n",
       "    .dataframe tbody tr th:only-of-type {\n",
       "        vertical-align: middle;\n",
       "    }\n",
       "\n",
       "    .dataframe tbody tr th {\n",
       "        vertical-align: top;\n",
       "    }\n",
       "\n",
       "    .dataframe thead th {\n",
       "        text-align: right;\n",
       "    }\n",
       "</style>\n",
       "<table border=\"1\" class=\"dataframe\">\n",
       "  <thead>\n",
       "    <tr style=\"text-align: right;\">\n",
       "      <th></th>\n",
       "      <th>protein</th>\n",
       "      <th>sequence</th>\n",
       "      <th>prob_mutation</th>\n",
       "    </tr>\n",
       "  </thead>\n",
       "  <tbody>\n",
       "    <tr>\n",
       "      <th>0</th>\n",
       "      <td>E</td>\n",
       "      <td>MYSFVSEETGTLIVNSVLLFLAFVVFLLVTLAILTALRLCAYCCNI...</td>\n",
       "      <td>[0.0, 0.0, 7.819831091648854e-05, 0.0001563966...</td>\n",
       "    </tr>\n",
       "    <tr>\n",
       "      <th>1</th>\n",
       "      <td>M</td>\n",
       "      <td>MADSNGTITVEELKKLLEQWNLVIGFLFLTWICLLQFAYANRNRFL...</td>\n",
       "      <td>[0.0, 0.0045355020331561136, 0.008210822646230...</td>\n",
       "    </tr>\n",
       "    <tr>\n",
       "      <th>2</th>\n",
       "      <td>N</td>\n",
       "      <td>MSDNGPQNQRNAPRITFGGPSDSTGSNQNGERSGARSKQRRPQGLP...</td>\n",
       "      <td>[0.0, 0.005082890209571422, 0.0282295902408508...</td>\n",
       "    </tr>\n",
       "    <tr>\n",
       "      <th>3</th>\n",
       "      <td>ORF10</td>\n",
       "      <td>MGYINVFAFPFTIYSLLLCRMNSRNYIAQVDVVNFNLT</td>\n",
       "      <td>[0.00023459493274946563, 7.819831091648854e-05...</td>\n",
       "    </tr>\n",
       "    <tr>\n",
       "      <th>4</th>\n",
       "      <td>ORF1a</td>\n",
       "      <td>MESLVPGFNEKTHVQLSLPVLQVRDVLVRGFGDSVEEVLSEARQHL...</td>\n",
       "      <td>[0.0, 0.0, 0.0, 7.819831091648854e-05, 0.00015...</td>\n",
       "    </tr>\n",
       "    <tr>\n",
       "      <th>5</th>\n",
       "      <td>ORF1b</td>\n",
       "      <td>RVCGVSAARLTPCGTGTSTDVVYRAFDIYNDKVAGFAKFLKTNCCR...</td>\n",
       "      <td>[0.0, 0.0, 0.0, 0.0, 0.0, 7.819831091648854e-0...</td>\n",
       "    </tr>\n",
       "    <tr>\n",
       "      <th>6</th>\n",
       "      <td>ORF3a</td>\n",
       "      <td>MDLFMRIFTIGTVTLKQGEIKDATPSDFVRATATIPIQASLPFGWL...</td>\n",
       "      <td>[0.00023459493274946563, 0.0003127932436659542...</td>\n",
       "    </tr>\n",
       "    <tr>\n",
       "      <th>7</th>\n",
       "      <td>ORF6</td>\n",
       "      <td>MFHLVDFQVTIAEILLIIMRTFKVSIWNLDYIINLIIKNLSKSLTE...</td>\n",
       "      <td>[0.00023459493274946563, 0.00101657804191424, ...</td>\n",
       "    </tr>\n",
       "    <tr>\n",
       "      <th>8</th>\n",
       "      <td>ORF7a</td>\n",
       "      <td>MKIILFLALITLATCELYHYQECVRGTTVLLKEPCSSGTYEGNSPF...</td>\n",
       "      <td>[0.0005473881764154198, 0.0003909915545824427,...</td>\n",
       "    </tr>\n",
       "    <tr>\n",
       "      <th>9</th>\n",
       "      <td>ORF7b</td>\n",
       "      <td>MIELSLIDFYLCFLAFLLFLVLIMLIIFWFSLELQDHNETCHA</td>\n",
       "      <td>[0.0005473881764154198, 0.00101657804191424, 0...</td>\n",
       "    </tr>\n",
       "    <tr>\n",
       "      <th>10</th>\n",
       "      <td>ORF8</td>\n",
       "      <td>MKFLVFLGIITTVAAFHQECSLQSCTQHQPYVVDDPCPIHFYSKWY...</td>\n",
       "      <td>[0.0007819831091648854, 0.00046918986549893127...</td>\n",
       "    </tr>\n",
       "    <tr>\n",
       "      <th>11</th>\n",
       "      <td>ORF9b</td>\n",
       "      <td>MDPKISEMHPALRLVDPQIQLAVTRMENAVGRDQNNVGPKVYPIIL...</td>\n",
       "      <td>[0.0, 0.0001563966218329771, 0.002736940882076...</td>\n",
       "    </tr>\n",
       "    <tr>\n",
       "      <th>12</th>\n",
       "      <td>S</td>\n",
       "      <td>MFVFLVLLPLVSSQCVNLTTRTQLPPAYTNSFTRGVYYPDKVFRSS...</td>\n",
       "      <td>[0.0, 0.0001563966218329771, 0.001876759461995...</td>\n",
       "    </tr>\n",
       "  </tbody>\n",
       "</table>\n",
       "</div>"
      ],
      "text/plain": [
       "   protein                                           sequence  \\\n",
       "0        E  MYSFVSEETGTLIVNSVLLFLAFVVFLLVTLAILTALRLCAYCCNI...   \n",
       "1        M  MADSNGTITVEELKKLLEQWNLVIGFLFLTWICLLQFAYANRNRFL...   \n",
       "2        N  MSDNGPQNQRNAPRITFGGPSDSTGSNQNGERSGARSKQRRPQGLP...   \n",
       "3    ORF10             MGYINVFAFPFTIYSLLLCRMNSRNYIAQVDVVNFNLT   \n",
       "4    ORF1a  MESLVPGFNEKTHVQLSLPVLQVRDVLVRGFGDSVEEVLSEARQHL...   \n",
       "5    ORF1b  RVCGVSAARLTPCGTGTSTDVVYRAFDIYNDKVAGFAKFLKTNCCR...   \n",
       "6    ORF3a  MDLFMRIFTIGTVTLKQGEIKDATPSDFVRATATIPIQASLPFGWL...   \n",
       "7     ORF6  MFHLVDFQVTIAEILLIIMRTFKVSIWNLDYIINLIIKNLSKSLTE...   \n",
       "8    ORF7a  MKIILFLALITLATCELYHYQECVRGTTVLLKEPCSSGTYEGNSPF...   \n",
       "9    ORF7b        MIELSLIDFYLCFLAFLLFLVLIMLIIFWFSLELQDHNETCHA   \n",
       "10    ORF8  MKFLVFLGIITTVAAFHQECSLQSCTQHQPYVVDDPCPIHFYSKWY...   \n",
       "11   ORF9b  MDPKISEMHPALRLVDPQIQLAVTRMENAVGRDQNNVGPKVYPIIL...   \n",
       "12       S  MFVFLVLLPLVSSQCVNLTTRTQLPPAYTNSFTRGVYYPDKVFRSS...   \n",
       "\n",
       "                                        prob_mutation  \n",
       "0   [0.0, 0.0, 7.819831091648854e-05, 0.0001563966...  \n",
       "1   [0.0, 0.0045355020331561136, 0.008210822646230...  \n",
       "2   [0.0, 0.005082890209571422, 0.0282295902408508...  \n",
       "3   [0.00023459493274946563, 7.819831091648854e-05...  \n",
       "4   [0.0, 0.0, 0.0, 7.819831091648854e-05, 0.00015...  \n",
       "5   [0.0, 0.0, 0.0, 0.0, 0.0, 7.819831091648854e-0...  \n",
       "6   [0.00023459493274946563, 0.0003127932436659542...  \n",
       "7   [0.00023459493274946563, 0.00101657804191424, ...  \n",
       "8   [0.0005473881764154198, 0.0003909915545824427,...  \n",
       "9   [0.0005473881764154198, 0.00101657804191424, 0...  \n",
       "10  [0.0007819831091648854, 0.00046918986549893127...  \n",
       "11  [0.0, 0.0001563966218329771, 0.002736940882076...  \n",
       "12  [0.0, 0.0001563966218329771, 0.001876759461995...  "
      ]
     },
     "execution_count": 11,
     "metadata": {},
     "output_type": "execute_result"
    }
   ],
   "source": [
    "len(df.loc[3,'prob_mutation'])\n",
    "df"
   ]
  },
  {
   "cell_type": "code",
   "execution_count": 12,
   "metadata": {},
   "outputs": [
    {
     "data": {
      "text/html": [
       "<div>\n",
       "<style scoped>\n",
       "    .dataframe tbody tr th:only-of-type {\n",
       "        vertical-align: middle;\n",
       "    }\n",
       "\n",
       "    .dataframe tbody tr th {\n",
       "        vertical-align: top;\n",
       "    }\n",
       "\n",
       "    .dataframe thead th {\n",
       "        text-align: right;\n",
       "    }\n",
       "</style>\n",
       "<table border=\"1\" class=\"dataframe\">\n",
       "  <thead>\n",
       "    <tr style=\"text-align: right;\">\n",
       "      <th></th>\n",
       "      <th>protein</th>\n",
       "      <th>sequence</th>\n",
       "      <th>prob_mutation</th>\n",
       "    </tr>\n",
       "  </thead>\n",
       "  <tbody>\n",
       "    <tr>\n",
       "      <th>0</th>\n",
       "      <td>E</td>\n",
       "      <td>MYSFVSEETGTLIVNSVLLFLAFVVFLLVTLAILTALRLCAYCCNI...</td>\n",
       "      <td>[0.0, 0.0, 7.819831091648854e-05, 0.0001563966...</td>\n",
       "    </tr>\n",
       "    <tr>\n",
       "      <th>1</th>\n",
       "      <td>M</td>\n",
       "      <td>MADSNGTITVEELKKLLEQWNLVIGFLFLTWICLLQFAYANRNRFL...</td>\n",
       "      <td>[0.0, 0.0045355020331561136, 0.008210822646230...</td>\n",
       "    </tr>\n",
       "    <tr>\n",
       "      <th>2</th>\n",
       "      <td>N</td>\n",
       "      <td>MSDNGPQNQRNAPRITFGGPSDSTGSNQNGERSGARSKQRRPQGLP...</td>\n",
       "      <td>[0.0, 0.005082890209571422, 0.0282295902408508...</td>\n",
       "    </tr>\n",
       "    <tr>\n",
       "      <th>3</th>\n",
       "      <td>ORF10</td>\n",
       "      <td>MGYINVFAFPFTIYSLLLCRMNSRNYIAQVDVVNFNLT</td>\n",
       "      <td>[0.00023459493274946563, 7.819831091648854e-05...</td>\n",
       "    </tr>\n",
       "    <tr>\n",
       "      <th>4</th>\n",
       "      <td>ORF1a</td>\n",
       "      <td>MESLVPGFNEKTHVQLSLPVLQVRDVLVRGFGDSVEEVLSEARQHL...</td>\n",
       "      <td>[0.0, 0.0, 0.0, 7.819831091648854e-05, 0.00015...</td>\n",
       "    </tr>\n",
       "  </tbody>\n",
       "</table>\n",
       "</div>"
      ],
      "text/plain": [
       "  protein                                           sequence  \\\n",
       "0       E  MYSFVSEETGTLIVNSVLLFLAFVVFLLVTLAILTALRLCAYCCNI...   \n",
       "1       M  MADSNGTITVEELKKLLEQWNLVIGFLFLTWICLLQFAYANRNRFL...   \n",
       "2       N  MSDNGPQNQRNAPRITFGGPSDSTGSNQNGERSGARSKQRRPQGLP...   \n",
       "3   ORF10             MGYINVFAFPFTIYSLLLCRMNSRNYIAQVDVVNFNLT   \n",
       "4   ORF1a  MESLVPGFNEKTHVQLSLPVLQVRDVLVRGFGDSVEEVLSEARQHL...   \n",
       "\n",
       "                                       prob_mutation  \n",
       "0  [0.0, 0.0, 7.819831091648854e-05, 0.0001563966...  \n",
       "1  [0.0, 0.0045355020331561136, 0.008210822646230...  \n",
       "2  [0.0, 0.005082890209571422, 0.0282295902408508...  \n",
       "3  [0.00023459493274946563, 7.819831091648854e-05...  \n",
       "4  [0.0, 0.0, 0.0, 7.819831091648854e-05, 0.00015...  "
      ]
     },
     "execution_count": 12,
     "metadata": {},
     "output_type": "execute_result"
    }
   ],
   "source": [
    "df.head()"
   ]
  },
  {
   "cell_type": "code",
   "execution_count": 13,
   "metadata": {},
   "outputs": [
    {
     "data": {
      "text/plain": [
       "588"
      ]
     },
     "execution_count": 13,
     "metadata": {},
     "output_type": "execute_result"
    }
   ],
   "source": [
    "(np.array(df[df.protein=='S'].iloc[0].prob_mutation)==0.0).sum()"
   ]
  },
  {
   "cell_type": "code",
   "execution_count": 14,
   "metadata": {},
   "outputs": [
    {
     "data": {
      "text/plain": [
       "5.8260000000000005"
      ]
     },
     "execution_count": 14,
     "metadata": {},
     "output_type": "execute_result"
    }
   ],
   "source": [
    "5826*0.001"
   ]
  },
  {
   "cell_type": "code",
   "execution_count": 15,
   "metadata": {},
   "outputs": [
    {
     "data": {
      "text/html": [
       "<div>\n",
       "<style scoped>\n",
       "    .dataframe tbody tr th:only-of-type {\n",
       "        vertical-align: middle;\n",
       "    }\n",
       "\n",
       "    .dataframe tbody tr th {\n",
       "        vertical-align: top;\n",
       "    }\n",
       "\n",
       "    .dataframe thead th {\n",
       "        text-align: right;\n",
       "    }\n",
       "</style>\n",
       "<table border=\"1\" class=\"dataframe\">\n",
       "  <thead>\n",
       "    <tr style=\"text-align: right;\">\n",
       "      <th></th>\n",
       "      <th>protein</th>\n",
       "      <th>num_mut</th>\n",
       "      <th>num_above_thresh</th>\n",
       "      <th>%abovethresh</th>\n",
       "    </tr>\n",
       "  </thead>\n",
       "  <tbody>\n",
       "    <tr>\n",
       "      <th>0</th>\n",
       "      <td>E</td>\n",
       "      <td>5</td>\n",
       "      <td>7</td>\n",
       "      <td>0.093333</td>\n",
       "    </tr>\n",
       "    <tr>\n",
       "      <th>1</th>\n",
       "      <td>M</td>\n",
       "      <td>5</td>\n",
       "      <td>13</td>\n",
       "      <td>0.058559</td>\n",
       "    </tr>\n",
       "    <tr>\n",
       "      <th>2</th>\n",
       "      <td>N</td>\n",
       "      <td>5</td>\n",
       "      <td>86</td>\n",
       "      <td>0.205251</td>\n",
       "    </tr>\n",
       "    <tr>\n",
       "      <th>3</th>\n",
       "      <td>ORF10</td>\n",
       "      <td>5</td>\n",
       "      <td>10</td>\n",
       "      <td>0.263158</td>\n",
       "    </tr>\n",
       "    <tr>\n",
       "      <th>4</th>\n",
       "      <td>ORF1a</td>\n",
       "      <td>5</td>\n",
       "      <td>363</td>\n",
       "      <td>0.082500</td>\n",
       "    </tr>\n",
       "    <tr>\n",
       "      <th>5</th>\n",
       "      <td>ORF1b</td>\n",
       "      <td>5</td>\n",
       "      <td>181</td>\n",
       "      <td>0.067161</td>\n",
       "    </tr>\n",
       "    <tr>\n",
       "      <th>6</th>\n",
       "      <td>ORF3a</td>\n",
       "      <td>5</td>\n",
       "      <td>82</td>\n",
       "      <td>0.298182</td>\n",
       "    </tr>\n",
       "    <tr>\n",
       "      <th>7</th>\n",
       "      <td>ORF6</td>\n",
       "      <td>5</td>\n",
       "      <td>13</td>\n",
       "      <td>0.213115</td>\n",
       "    </tr>\n",
       "    <tr>\n",
       "      <th>8</th>\n",
       "      <td>ORF7a</td>\n",
       "      <td>5</td>\n",
       "      <td>22</td>\n",
       "      <td>0.181818</td>\n",
       "    </tr>\n",
       "    <tr>\n",
       "      <th>9</th>\n",
       "      <td>ORF7b</td>\n",
       "      <td>5</td>\n",
       "      <td>14</td>\n",
       "      <td>0.325581</td>\n",
       "    </tr>\n",
       "    <tr>\n",
       "      <th>10</th>\n",
       "      <td>ORF8</td>\n",
       "      <td>5</td>\n",
       "      <td>66</td>\n",
       "      <td>0.545455</td>\n",
       "    </tr>\n",
       "    <tr>\n",
       "      <th>11</th>\n",
       "      <td>ORF9b</td>\n",
       "      <td>5</td>\n",
       "      <td>13</td>\n",
       "      <td>0.134021</td>\n",
       "    </tr>\n",
       "    <tr>\n",
       "      <th>12</th>\n",
       "      <td>S</td>\n",
       "      <td>5</td>\n",
       "      <td>132</td>\n",
       "      <td>0.103692</td>\n",
       "    </tr>\n",
       "  </tbody>\n",
       "</table>\n",
       "</div>"
      ],
      "text/plain": [
       "   protein  num_mut  num_above_thresh  %abovethresh\n",
       "0        E        5                 7      0.093333\n",
       "1        M        5                13      0.058559\n",
       "2        N        5                86      0.205251\n",
       "3    ORF10        5                10      0.263158\n",
       "4    ORF1a        5               363      0.082500\n",
       "5    ORF1b        5               181      0.067161\n",
       "6    ORF3a        5                82      0.298182\n",
       "7     ORF6        5                13      0.213115\n",
       "8    ORF7a        5                22      0.181818\n",
       "9    ORF7b        5                14      0.325581\n",
       "10    ORF8        5                66      0.545455\n",
       "11   ORF9b        5                13      0.134021\n",
       "12       S        5               132      0.103692"
      ]
     },
     "execution_count": 15,
     "metadata": {},
     "output_type": "execute_result"
    }
   ],
   "source": [
    "num_mut = 5\n",
    "above_mut_thresh = []\n",
    "for i in range(df.shape[0]):\n",
    "    actual_mut_threshold = 0.001\n",
    "    num_above_thresh = (np.array(df.iloc[i].prob_mutation)>actual_mut_threshold).sum()\n",
    "    above_mut_thresh.append( [df.iloc[i].protein, num_mut, num_above_thresh, num_above_thresh/len(df.iloc[i].prob_mutation)] )\n",
    "above_mut_thresh = pd.DataFrame(above_mut_thresh)\n",
    "above_mut_thresh.columns = ['protein', 'num_mut', 'num_above_thresh', '%abovethresh']\n",
    "above_mut_thresh"
   ]
  },
  {
   "cell_type": "code",
   "execution_count": 122,
   "metadata": {},
   "outputs": [
    {
     "data": {
      "text/plain": [
       "12    501\n",
       "Name: sequence, dtype: int64"
      ]
     },
     "execution_count": 122,
     "metadata": {},
     "output_type": "execute_result"
    }
   ],
   "source": [
    "df[df['protein']=='S'].sequence.str.index('GVGYQPY')"
   ]
  },
  {
   "cell_type": "code",
   "execution_count": 123,
   "metadata": {},
   "outputs": [
    {
     "data": {
      "text/plain": [
       "1273"
      ]
     },
     "execution_count": 123,
     "metadata": {},
     "output_type": "execute_result"
    }
   ],
   "source": [
    "len(df[df['protein']=='S'].sequence.iloc[0])"
   ]
  },
  {
   "cell_type": "code",
   "execution_count": 124,
   "metadata": {},
   "outputs": [
    {
     "data": {
      "text/plain": [
       "'MFVFLVLLPLVSSQCVNLTTRTQLPPAYTNSFTRGVYYPDKVFRSSVLHSTQDLFLPFFSNVTWFHAIHVSGTNGTKRFDNPVLPFNDGVYFASTEKSNIIRGWIFGTTLDSKTQSLLIVNNATNVVIKVCEFQFCNDPFLGVYYHKNNKSWMESEFRVYSSANNCTFEYVSQPFLMDLEGKQGNFKNLREFVFKNIDGYFKIYSKHTPINLVRDLPQGFSALEPLVDLPIGINITRFQTLLALHRSYLTPGDSSSGWTAGAAAYYVGYLQPRTFLLKYNENGTITDAVDCALDPLSETKCTLKSFTVEKGIYQTSNFRVQPTESIVRFPNITNLCPFGEVFNATRFASVYAWNRKRISNCVADYSVLYNSASFSTFKCYGVSPTKLNDLCFTNVYADSFVIRGDEVRQIAPGQTGKIADYNYKLPDDFTGCVIAWNSNNLDSKVGGNYNYLYRLFRKSNLKPFERDISTEIYQAGSTPCNGVEGFNCYFPLQSYGFQPTNGVGYQPYRVVVLSFELLHAPATVCGPKKSTNLVKNKCVNFNFNGLTGTGVLTESNKKFLPFQQFGRDIADTTDAVRDPQTLEILDITPCSFGGVSVITPGTNTSNQVAVLYQDVNCTEVPVAIHADQLTPTWRVYSTGSNVFQTRAGCLIGAEHVNNSYECDIPIGAGICASYQTQTNSPRRARSVASQSIIAYTMSLGAENSVAYSNNSIAIPTNFTISVTTEILPVSMTKTSVDCTMYICGDSTECSNLLLQYGSFCTQLNRALTGIAVEQDKNTQEVFAQVKQIYKTPPIKDFGGFNFSQILPDPSKPSKRSFIEDLLFNKVTLADAGFIKQYGDCLGDIAARDLICAQKFNGLTVLPPLLTDEMIAQYTSALLAGTITSGWTFGAGAALQIPFAMQMAYRFNGIGVTQNVLYENQKLIANQFNSAIGKIQDSLSSTASALGKLQDVVNQNAQALNTLVKQLSSNFGAISSVLNDILSRLDKVEAEVQIDRLITGRLQSLQTYVTQQLIRAAEIRASANLAATKMSECVLGQSKRVDFCGKGYHLMSFPQSAPHGVVFLHVTYVPAQEKNFTTAPAICHDGKAHFPREGVFVSNGTHWFVTQRNFYEPQIITTDNTFVSGNCDVVIGIVNNTVYDPLQPELDSFKEELDKYFKNHTSPDVDLGDISGINASVVNIQKEIDRLNEVAKNLNESLIDLQELGKYEQYIKWPWYIWLGFIAGLIAIVMVTIMLCCMTSCCSCLKGCCSCGSCCKFDEDDSEPVLKGVKLHYT'"
      ]
     },
     "execution_count": 124,
     "metadata": {},
     "output_type": "execute_result"
    }
   ],
   "source": [
    "df[df['protein']=='S'].sequence.iloc[0]"
   ]
  },
  {
   "cell_type": "code",
   "execution_count": 125,
   "metadata": {},
   "outputs": [
    {
     "data": {
      "text/plain": [
       "'NSNNLDSKVGGNYNYLYRLFRKSNLKPFERDISTEIYQAGSTPCNGVEGFNCYFPLQSYGFQPTNGVGYQPY'"
      ]
     },
     "execution_count": 125,
     "metadata": {},
     "output_type": "execute_result"
    }
   ],
   "source": [
    "RBM = df[df['protein']=='S'].sequence.str[436:508].to_list()[0] # this is the binding motif that makes contact with ACE2\n",
    "RBM_start = 436\n",
    "RBM_end = 508\n",
    "RBM"
   ]
  },
  {
   "cell_type": "code",
   "execution_count": 126,
   "metadata": {},
   "outputs": [
    {
     "data": {
      "text/plain": [
       "'NITNLCPFGEVFNATRFASVYAWNRKRISNCVADYSVLYNSASFSTFKCYGVSPTKLNDLCFTNVYADSFVIRGDEVRQIAPGQTGKIADYNYKLPDDFTGCVIAWNSNNLDSKVGGNYNYLYRLFRKSNLKPFERDISTEIYQAGSTPCNGVEGFNCYFPLQSYGFQPTNGVGYQPYRVVVLSFELLHAPATV'"
      ]
     },
     "execution_count": 126,
     "metadata": {},
     "output_type": "execute_result"
    }
   ],
   "source": [
    "RBD = df[df['protein']=='S'].sequence.str[330:524].to_list()[0]\n",
    "RBD"
   ]
  },
  {
   "cell_type": "code",
   "execution_count": 127,
   "metadata": {},
   "outputs": [
    {
     "data": {
      "text/plain": [
       "194"
      ]
     },
     "execution_count": 127,
     "metadata": {},
     "output_type": "execute_result"
    }
   ],
   "source": [
    "len(RBD)"
   ]
  },
  {
   "cell_type": "code",
   "execution_count": 128,
   "metadata": {},
   "outputs": [
    {
     "data": {
      "text/html": [
       "<div>\n",
       "<style scoped>\n",
       "    .dataframe tbody tr th:only-of-type {\n",
       "        vertical-align: middle;\n",
       "    }\n",
       "\n",
       "    .dataframe tbody tr th {\n",
       "        vertical-align: top;\n",
       "    }\n",
       "\n",
       "    .dataframe thead th {\n",
       "        text-align: right;\n",
       "    }\n",
       "</style>\n",
       "<table border=\"1\" class=\"dataframe\">\n",
       "  <thead>\n",
       "    <tr style=\"text-align: right;\">\n",
       "      <th></th>\n",
       "      <th>protein</th>\n",
       "      <th>sequence</th>\n",
       "      <th>prob_mutation</th>\n",
       "    </tr>\n",
       "  </thead>\n",
       "  <tbody>\n",
       "    <tr>\n",
       "      <th>12</th>\n",
       "      <td>S</td>\n",
       "      <td>MFVFLVLLPLVSSQCVNLTTRTQLPPAYTNSFTRGVYYPDKVFRSS...</td>\n",
       "      <td>[0.0, 0.0001563966218329771, 0.001876759461995...</td>\n",
       "    </tr>\n",
       "  </tbody>\n",
       "</table>\n",
       "</div>"
      ],
      "text/plain": [
       "   protein                                           sequence  \\\n",
       "12       S  MFVFLVLLPLVSSQCVNLTTRTQLPPAYTNSFTRGVYYPDKVFRSS...   \n",
       "\n",
       "                                        prob_mutation  \n",
       "12  [0.0, 0.0001563966218329771, 0.001876759461995...  "
      ]
     },
     "execution_count": 128,
     "metadata": {},
     "output_type": "execute_result"
    }
   ],
   "source": [
    "df[df['protein']=='S']"
   ]
  },
  {
   "cell_type": "code",
   "execution_count": 129,
   "metadata": {},
   "outputs": [
    {
     "data": {
      "text/plain": [
       "Text(0.5, 1.0, 'RBD Fraction Mutated')"
      ]
     },
     "execution_count": 129,
     "metadata": {},
     "output_type": "execute_result"
    },
    {
     "data": {
      "image/png": "[encoded data removed]",
      "text/plain": [
       "<Figure size 432x288 with 1 Axes>"
      ]
     },
     "metadata": {
      "needs_background": "light"
     },
     "output_type": "display_data"
    }
   ],
   "source": [
    "RBD_start = 330\n",
    "RBD_end = 524\n",
    "\n",
    "prob_mutation = df[df['protein']=='S'].prob_mutation.to_list()[0]\n",
    "\n",
    "plt.figure()\n",
    "wid = len(prob_mutation[RBD_start:RBD_end]) / 120\n",
    "plt.ylim(0, 0.55)\n",
    "plt.bar(np.arange(RBD_start,RBD_end), prob_mutation[RBD_start:RBD_end], width=wid)\n",
    "plt.axvline(RBM_start, color='red')\n",
    "plt.axvline(RBM_end, color='red')\n",
    "plt.title('RBD Fraction Mutated')\n"
   ]
  },
  {
   "cell_type": "code",
   "execution_count": 130,
   "metadata": {},
   "outputs": [
    {
     "data": {
      "text/plain": [
       "Text(0.5, 1.0, 'S Protein Fraction Mutated')"
      ]
     },
     "execution_count": 130,
     "metadata": {},
     "output_type": "execute_result"
    },
    {
     "data": {
      "image/png": "[encoded data removed]",
      "text/plain": [
       "<Figure size 432x288 with 1 Axes>"
      ]
     },
     "metadata": {
      "needs_background": "light"
     },
     "output_type": "display_data"
    }
   ],
   "source": [
    "plt.figure()\n",
    "plt.ylim(0, 0.55)\n",
    "plt.bar(np.arange(0,len(prob_mutation)), prob_mutation, width=10.0)\n",
    "plt.axvline(RBD_start, color='red')\n",
    "plt.axvline(RBD_end, color='red')\n",
    "plt.title('S Protein Fraction Mutated')"
   ]
  },
  {
   "cell_type": "code",
   "execution_count": null,
   "metadata": {},
   "outputs": [],
   "source": []
  },
  {
   "cell_type": "code",
   "execution_count": 131,
   "metadata": {},
   "outputs": [
    {
     "name": "stdout",
     "output_type": "stream",
     "text": [
      "12789\n",
      "12789\n",
      "12789\n",
      "12789\n",
      "12789\n",
      "12789\n",
      "12789\n",
      "12789\n",
      "12789\n",
      "12789\n",
      "12789\n",
      "12789\n",
      "12789\n"
     ]
    }
   ],
   "source": [
    "## ENTROPY IN BITS AND PERPLEXITY\n",
    "\n",
    "df = [] # will store the entropy results\n",
    "for aa_file in amino_acid_files:\n",
    "    protein = aa_file.split('_')[-1].split('.')[0]\n",
    "    with open(aa_file, \"rt\") as handle:\n",
    "        records = list(SeqIO.parse(handle, \"fasta\"))\n",
    "        \n",
    "    # getting rid of the node sequences!\n",
    "    no_nodes = []\n",
    "    for r in records: \n",
    "        if 'NODE_' not in r.id:\n",
    "            no_nodes.append(r)\n",
    "    records = no_nodes\n",
    "        \n",
    "    # calculating entropy\n",
    "    seqs = np.array(records)[:, :-1]\n",
    "    pos_entropies = []\n",
    "    for ind in range(seqs.shape[1]):\n",
    "        counter = dict()\n",
    "        # count the AA frequencies\n",
    "        for char in seqs[:, ind]:\n",
    "            try: \n",
    "                counter[char]+=1\n",
    "            except: \n",
    "                counter[char] = 1\n",
    "        # actual entropy calculation\n",
    "        ent = 0\n",
    "        for val in counter.values():\n",
    "            prob = val/seqs.shape[0]\n",
    "            ent += prob* np.log2(prob)\n",
    "        pos_entropies.append(-ent)\n",
    "    \n",
    "    for ind, r in enumerate(records): \n",
    "#         if r.id == 'Wuhan/IPBCAMS-WH-01/2019': ### commented out by Alex\n",
    "        if r.id == 'Wuhan-Hu-1/2019': ### --Alex\n",
    "            ref_seq = ind\n",
    "            \n",
    "    print(len(records))\n",
    "    \n",
    "    perplexities = 2**np.asarray(pos_entropies)\n",
    "\n",
    "    df.append( [protein, str(records[ref_seq].seq)[:-1], pos_entropies, perplexities]  )\n",
    "    \n",
    "### used to be 4236\n",
    "### then 4690"
   ]
  },
  {
   "cell_type": "code",
   "execution_count": null,
   "metadata": {},
   "outputs": [],
   "source": []
  },
  {
   "cell_type": "code",
   "execution_count": 133,
   "metadata": {},
   "outputs": [
    {
     "data": {
      "text/html": [
       "<div>\n",
       "<style scoped>\n",
       "    .dataframe tbody tr th:only-of-type {\n",
       "        vertical-align: middle;\n",
       "    }\n",
       "\n",
       "    .dataframe tbody tr th {\n",
       "        vertical-align: top;\n",
       "    }\n",
       "\n",
       "    .dataframe thead th {\n",
       "        text-align: right;\n",
       "    }\n",
       "</style>\n",
       "<table border=\"1\" class=\"dataframe\">\n",
       "  <thead>\n",
       "    <tr style=\"text-align: right;\">\n",
       "      <th></th>\n",
       "      <th>protein</th>\n",
       "      <th>sequence</th>\n",
       "      <th>entropies</th>\n",
       "      <th>perplexities</th>\n",
       "    </tr>\n",
       "  </thead>\n",
       "  <tbody>\n",
       "    <tr>\n",
       "      <th>0</th>\n",
       "      <td>E</td>\n",
       "      <td>MYSFVSEETGTLIVNSVLLFLAFVVFLLVTLAILTALRLCAYCCNI...</td>\n",
       "      <td>[-0.0, -0.0, 0.0011795491810428478, 0.00220270...</td>\n",
       "      <td>[1.0, 1.0, 1.000817935516133, 1.00152796501366...</td>\n",
       "    </tr>\n",
       "    <tr>\n",
       "      <th>1</th>\n",
       "      <td>M</td>\n",
       "      <td>MADSNGTITVEELKKLLEQWNLVIGFLFLTWICLLQFAYANRNRFL...</td>\n",
       "      <td>[-0.0, 0.04597049747023445, 0.0717044160613552...</td>\n",
       "      <td>[1.0, 1.0323774235668415, 1.0509575635070916, ...</td>\n",
       "    </tr>\n",
       "    <tr>\n",
       "      <th>2</th>\n",
       "      <td>N</td>\n",
       "      <td>MSDNGPQNQRNAPRITFGGPSDSTGSNQNGERSGARSKQRRPQGLP...</td>\n",
       "      <td>[-0.0, 0.05493851816114793, 0.1976833935443112...</td>\n",
       "      <td>[1.0, 1.0388148322596233, 1.1468553136214392, ...</td>\n",
       "    </tr>\n",
       "    <tr>\n",
       "      <th>3</th>\n",
       "      <td>ORF10</td>\n",
       "      <td>MGYINVFAFPFTIYSLLLCRMNSRNYIAQVDVVNFNLT</td>\n",
       "      <td>[0.003382236685534581, 0.0011795491810428478, ...</td>\n",
       "      <td>[1.0023471380484748, 1.000817935516133, 1.0052...</td>\n",
       "    </tr>\n",
       "    <tr>\n",
       "      <th>4</th>\n",
       "      <td>ORF1a</td>\n",
       "      <td>MESLVPGFNEKTHVQLSLPVLQVRDVLVRGFGDSVEEVLSEARQHL...</td>\n",
       "      <td>[-0.0, -0.0, -0.0, 0.0011795491810428478, 0.00...</td>\n",
       "      <td>[1.0, 1.0, 1.0, 1.000817935516133, 1.001527965...</td>\n",
       "    </tr>\n",
       "  </tbody>\n",
       "</table>\n",
       "</div>"
      ],
      "text/plain": [
       "  protein                                           sequence  \\\n",
       "0       E  MYSFVSEETGTLIVNSVLLFLAFVVFLLVTLAILTALRLCAYCCNI...   \n",
       "1       M  MADSNGTITVEELKKLLEQWNLVIGFLFLTWICLLQFAYANRNRFL...   \n",
       "2       N  MSDNGPQNQRNAPRITFGGPSDSTGSNQNGERSGARSKQRRPQGLP...   \n",
       "3   ORF10             MGYINVFAFPFTIYSLLLCRMNSRNYIAQVDVVNFNLT   \n",
       "4   ORF1a  MESLVPGFNEKTHVQLSLPVLQVRDVLVRGFGDSVEEVLSEARQHL...   \n",
       "\n",
       "                                           entropies  \\\n",
       "0  [-0.0, -0.0, 0.0011795491810428478, 0.00220270...   \n",
       "1  [-0.0, 0.04597049747023445, 0.0717044160613552...   \n",
       "2  [-0.0, 0.05493851816114793, 0.1976833935443112...   \n",
       "3  [0.003382236685534581, 0.0011795491810428478, ...   \n",
       "4  [-0.0, -0.0, -0.0, 0.0011795491810428478, 0.00...   \n",
       "\n",
       "                                        perplexities  \n",
       "0  [1.0, 1.0, 1.000817935516133, 1.00152796501366...  \n",
       "1  [1.0, 1.0323774235668415, 1.0509575635070916, ...  \n",
       "2  [1.0, 1.0388148322596233, 1.1468553136214392, ...  \n",
       "3  [1.0023471380484748, 1.000817935516133, 1.0052...  \n",
       "4  [1.0, 1.0, 1.0, 1.000817935516133, 1.001527965...  "
      ]
     },
     "execution_count": 133,
     "metadata": {},
     "output_type": "execute_result"
    }
   ],
   "source": [
    "df = pd.DataFrame(df, columns=['protein','sequence', 'entropies', 'perplexities'])\n",
    "df.head()"
   ]
  },
  {
   "cell_type": "code",
   "execution_count": 136,
   "metadata": {},
   "outputs": [
    {
     "data": {
      "text/plain": [
       "True"
      ]
     },
     "execution_count": 136,
     "metadata": {},
     "output_type": "execute_result"
    }
   ],
   "source": [
    "# testing that the entropy and sequence are the same length. \n",
    "len(df.iloc[0].sequence) == len(df.iloc[0].entropies)"
   ]
  },
  {
   "cell_type": "code",
   "execution_count": 137,
   "metadata": {},
   "outputs": [
    {
     "name": "stdout",
     "output_type": "stream",
     "text": [
      "0 0\n",
      "0 1\n",
      "0 2\n",
      "0 3\n",
      "0 4\n",
      "1 0\n",
      "1 1\n",
      "1 2\n",
      "1 3\n",
      "1 4\n",
      "2 0\n",
      "2 1\n",
      "2 2\n"
     ]
    },
    {
     "data": {
      "image/png": "[encoded data removed]",
      "text/plain": [
       "<Figure size 2160x1800 with 15 Axes>"
      ]
     },
     "metadata": {
      "needs_background": "light"
     },
     "output_type": "display_data"
    }
   ],
   "source": [
    "\n",
    "#rows, cols = 3,5\n",
    "fig, ax = plt.subplots(rows,cols, figsize=(30,25))\n",
    "for i in range(df.shape[0]):\n",
    "    x_ind = i//cols\n",
    "    y_ind = i%cols\n",
    "    print(x_ind, y_ind)\n",
    "    wid = len(df.iloc[i].entropies) / 120\n",
    "    ax[x_ind, y_ind].set_ylim(0, 1.05)\n",
    "    ax[x_ind, y_ind].bar(np.arange(len(df.iloc[i].entropies)), \n",
    "                         df.iloc[i].entropies, width=wid)\n",
    "    \n",
    "    ax[x_ind, y_ind].set_title('Protein: '+df.iloc[i].protein+' | Entropy (in bits)')"
   ]
  },
  {
   "cell_type": "code",
   "execution_count": 138,
   "metadata": {},
   "outputs": [
    {
     "name": "stdout",
     "output_type": "stream",
     "text": [
      "0 0\n",
      "0 1\n",
      "0 2\n",
      "0 3\n",
      "0 4\n",
      "1 0\n",
      "1 1\n",
      "1 2\n",
      "1 3\n",
      "1 4\n",
      "2 0\n",
      "2 1\n",
      "2 2\n"
     ]
    },
    {
     "data": {
      "image/png": "[encoded data removed]",
      "text/plain": [
       "<Figure size 2160x1800 with 15 Axes>"
      ]
     },
     "metadata": {
      "needs_background": "light"
     },
     "output_type": "display_data"
    }
   ],
   "source": [
    "#PERPLEXITIES\n",
    "\n",
    "#rows, cols = 3,5\n",
    "fig, ax = plt.subplots(rows,cols, figsize=(30,25))\n",
    "for i in range(df.shape[0]):\n",
    "    x_ind = i//cols\n",
    "    y_ind = i%cols\n",
    "    print(x_ind, y_ind)\n",
    "    wid = len(df.iloc[i].perplexities) / 120\n",
    "    ax[x_ind, y_ind].set_ylim(1.0, 2.1)\n",
    "    ax[x_ind, y_ind].bar(np.arange(len(df.iloc[i].perplexities)), \n",
    "                         df.iloc[i].perplexities, width=wid)\n",
    "    \n",
    "    ax[x_ind, y_ind].set_title('Protein: '+df.iloc[i].protein+' | Perplexities')"
   ]
  },
  {
   "cell_type": "code",
   "execution_count": null,
   "metadata": {},
   "outputs": [],
   "source": []
  },
  {
   "cell_type": "code",
   "execution_count": null,
   "metadata": {},
   "outputs": [],
   "source": []
  },
  {
   "cell_type": "code",
   "execution_count": 139,
   "metadata": {},
   "outputs": [
    {
     "name": "stdout",
     "output_type": "stream",
     "text": [
      "E 76\n",
      "M 223\n",
      "N 420\n",
      "ORF10 39\n",
      "ORF1a 4401\n",
      "ORF1b 2696\n",
      "ORF3a 276\n",
      "ORF6 62\n",
      "ORF7a 122\n",
      "ORF7b 44\n",
      "ORF8 122\n",
      "ORF9b 98\n",
      "S 1274\n"
     ]
    }
   ],
   "source": [
    "# writing out all of the protein sequences:\n",
    "seqs_to_save = []\n",
    "import copy\n",
    "#with open('reference_protein_sequences.txt', 'w') as f:\n",
    "    #f.write('Protein'+'\\t'+'Sequence'+'\\n')\n",
    "for aa_file in amino_acid_files:\n",
    "    protein = aa_file.split('_')[-1].split('.')[0]\n",
    "    with open(aa_file, \"rt\") as handle:\n",
    "        records = list(SeqIO.parse(handle, \"fasta\"))\n",
    "\n",
    "    # getting the reference sequence\n",
    "    for ind, r in enumerate(records): \n",
    "#         if r.id == 'Wuhan/IPBCAMS-WH-01/2019': ### commented out by Alex\n",
    "        if r.id == 'Wuhan-Hu-1/2019': ### --Alex\n",
    "            ref_seq_ind = ind\n",
    "            break \n",
    "\n",
    "    #ref_seq = str(records[ref_seq_ind].seq)[:-1]\n",
    "    ref_seq = records[ref_seq_ind]\n",
    "    print(protein, len(ref_seq))\n",
    "\n",
    "    ref_seq.id = ref_seq.name+'_'+protein\n",
    "\n",
    "    if protein == 'ORF1a':\n",
    "        seq1 = copy.deepcopy(ref_seq)\n",
    "        seq1.id = 'PART1_' + seq1.id\n",
    "        seq1.seq = seq1.seq[:len(seq1.seq)//2]\n",
    "        seq2 = copy.deepcopy(ref_seq)\n",
    "        seq2.id = 'PART2_' + seq2.id\n",
    "        seq2.seq = seq2.seq[len(seq2.seq)//2:]\n",
    "\n",
    "        seq3 = copy.deepcopy(ref_seq)\n",
    "        seq3.id = 'PART3_' + seq3.id\n",
    "        seq3.seq = seq3.seq[2100: 2300]\n",
    "\n",
    "        seqs_to_save.append(seq1)\n",
    "        seqs_to_save.append(seq2)\n",
    "        seqs_to_save.append(seq3)\n",
    "    else: \n",
    "        seqs_to_save.append(ref_seq)\n",
    "        \n",
    "        #f.write(protein+'\\t'+ref_seq+'\\n')"
   ]
  },
  {
   "cell_type": "code",
   "execution_count": 140,
   "metadata": {},
   "outputs": [
    {
     "data": {
      "text/plain": [
       "[SeqRecord(seq=Seq('MYSFVSEETGTLIVNSVLLFLAFVVFLLVTLAILTALRLCAYCCNIVNVSLVKP...LV*', SingleLetterAlphabet()), id='Wuhan-Hu-1/2019_E', name='Wuhan-Hu-1/2019', description='Wuhan-Hu-1/2019', dbxrefs=[]),\n",
       " SeqRecord(seq=Seq('MADSNGTITVEELKKLLEQWNLVIGFLFLTWICLLQFAYANRNRFLYIIKLIFL...VQ*', SingleLetterAlphabet()), id='Wuhan-Hu-1/2019_M', name='Wuhan-Hu-1/2019', description='Wuhan-Hu-1/2019', dbxrefs=[]),\n",
       " SeqRecord(seq=Seq('MSDNGPQNQRNAPRITFGGPSDSTGSNQNGERSGARSKQRRPQGLPNNTASWFT...QA*', SingleLetterAlphabet()), id='Wuhan-Hu-1/2019_N', name='Wuhan-Hu-1/2019', description='Wuhan-Hu-1/2019', dbxrefs=[]),\n",
       " SeqRecord(seq=Seq('MGYINVFAFPFTIYSLLLCRMNSRNYIAQVDVVNFNLT*', SingleLetterAlphabet()), id='Wuhan-Hu-1/2019_ORF10', name='Wuhan-Hu-1/2019', description='Wuhan-Hu-1/2019', dbxrefs=[]),\n",
       " SeqRecord(seq=Seq('MESLVPGFNEKTHVQLSLPVLQVRDVLVRGFGDSVEEVLSEARQHLKDGTCGLV...IAK', SingleLetterAlphabet()), id='PART1_Wuhan-Hu-1/2019_ORF1a', name='Wuhan-Hu-1/2019', description='Wuhan-Hu-1/2019', dbxrefs=[]),\n",
       " SeqRecord(seq=Seq('NTVKSVGKFCLEASFNYLKSPNFSKLINIIIWFLLLSVCLGSLIYSTAALGVLM...FLN', SingleLetterAlphabet()), id='PART2_Wuhan-Hu-1/2019_ORF1a', name='Wuhan-Hu-1/2019', description='Wuhan-Hu-1/2019', dbxrefs=[]),\n",
       " SeqRecord(seq=Seq('DNSSLTIKKPNELSRVLGLKTLATHGLAAVNSVPWDTIANYAKPFLNKVVSTTT...LDT', SingleLetterAlphabet()), id='PART3_Wuhan-Hu-1/2019_ORF1a', name='Wuhan-Hu-1/2019', description='Wuhan-Hu-1/2019', dbxrefs=[]),\n",
       " SeqRecord(seq=Seq('RVCGVSAARLTPCGTGTSTDVVYRAFDIYNDKVAGFAKFLKTNCCRFQEKDEDD...NN*', SingleLetterAlphabet()), id='Wuhan-Hu-1/2019_ORF1b', name='Wuhan-Hu-1/2019', description='Wuhan-Hu-1/2019', dbxrefs=[]),\n",
       " SeqRecord(seq=Seq('MDLFMRIFTIGTVTLKQGEIKDATPSDFVRATATIPIQASLPFGWLIVGVALLA...PL*', SingleLetterAlphabet()), id='Wuhan-Hu-1/2019_ORF3a', name='Wuhan-Hu-1/2019', description='Wuhan-Hu-1/2019', dbxrefs=[]),\n",
       " SeqRecord(seq=Seq('MFHLVDFQVTIAEILLIIMRTFKVSIWNLDYIINLIIKNLSKSLTENKYSQLDE...ID*', SingleLetterAlphabet()), id='Wuhan-Hu-1/2019_ORF6', name='Wuhan-Hu-1/2019', description='Wuhan-Hu-1/2019', dbxrefs=[]),\n",
       " SeqRecord(seq=Seq('MKIILFLALITLATCELYHYQECVRGTTVLLKEPCSSGTYEGNSPFHPLADNKF...TE*', SingleLetterAlphabet()), id='Wuhan-Hu-1/2019_ORF7a', name='Wuhan-Hu-1/2019', description='Wuhan-Hu-1/2019', dbxrefs=[]),\n",
       " SeqRecord(seq=Seq('MIELSLIDFYLCFLAFLLFLVLIMLIIFWFSLELQDHNETCHA*', SingleLetterAlphabet()), id='Wuhan-Hu-1/2019_ORF7b', name='Wuhan-Hu-1/2019', description='Wuhan-Hu-1/2019', dbxrefs=[]),\n",
       " SeqRecord(seq=Seq('MKFLVFLGIITTVAAFHQECSLQSCTQHQPYVVDDPCPIHFYSKWYIRVGARKS...FI*', SingleLetterAlphabet()), id='Wuhan-Hu-1/2019_ORF8', name='Wuhan-Hu-1/2019', description='Wuhan-Hu-1/2019', dbxrefs=[]),\n",
       " SeqRecord(seq=Seq('MDPKISEMHPALRLVDPQIQLAVTRMENAVGRDQNNVGPKVYPIILRLGSPLSL...VK*', SingleLetterAlphabet()), id='Wuhan-Hu-1/2019_ORF9b', name='Wuhan-Hu-1/2019', description='Wuhan-Hu-1/2019', dbxrefs=[]),\n",
       " SeqRecord(seq=Seq('MFVFLVLLPLVSSQCVNLTTRTQLPPAYTNSFTRGVYYPDKVFRSSVLHSTQDL...YT*', SingleLetterAlphabet()), id='Wuhan-Hu-1/2019_S', name='Wuhan-Hu-1/2019', description='Wuhan-Hu-1/2019', dbxrefs=[])]"
      ]
     },
     "execution_count": 140,
     "metadata": {},
     "output_type": "execute_result"
    }
   ],
   "source": [
    "seqs_to_save"
   ]
  },
  {
   "cell_type": "code",
   "execution_count": 141,
   "metadata": {},
   "outputs": [
    {
     "name": "stdout",
     "output_type": "stream",
     "text": [
      "76\n",
      "223\n",
      "420\n",
      "39\n",
      "2200\n",
      "2201\n",
      "200\n",
      "2696\n",
      "276\n",
      "62\n",
      "122\n",
      "44\n",
      "122\n",
      "98\n",
      "1274\n"
     ]
    }
   ],
   "source": [
    "for s in seqs_to_save: \n",
    "    print(len(s.seq))"
   ]
  },
  {
   "cell_type": "code",
   "execution_count": 142,
   "metadata": {},
   "outputs": [],
   "source": [
    "from Bio import SeqIO\n",
    "with open('reference_protein_sequences_larger.fasta', 'w') as f: ### my new larger code --Alex\n",
    "    SeqIO.write(seqs_to_save, f, 'fasta')"
   ]
  },
  {
   "cell_type": "markdown",
   "metadata": {},
   "source": [
    "### Getting the mutations in the Receptor Binding Domain"
   ]
  },
  {
   "cell_type": "code",
   "execution_count": 143,
   "metadata": {},
   "outputs": [
    {
     "data": {
      "text/plain": [
       "12    501\n",
       "Name: sequence, dtype: int64"
      ]
     },
     "execution_count": 143,
     "metadata": {},
     "output_type": "execute_result"
    }
   ],
   "source": [
    "df[df['protein']=='S'].sequence.str.index('GVGYQPY')"
   ]
  },
  {
   "cell_type": "code",
   "execution_count": 144,
   "metadata": {},
   "outputs": [
    {
     "data": {
      "text/plain": [
       "'NSNNLDSKVGGNYNYLYRLFRKSNLKPFERDISTEIYQAGSTPCNGVEGFNCYFPLQSYGFQPTNGVGYQPY'"
      ]
     },
     "execution_count": 144,
     "metadata": {},
     "output_type": "execute_result"
    }
   ],
   "source": [
    "RBM = df[df['protein']=='S'].sequence.str[436:508].to_list()[0] # this is the binding motif that makes contact with ACE2\n",
    "RBM_start = 436\n",
    "RBM_end = 508\n",
    "RBM"
   ]
  },
  {
   "cell_type": "code",
   "execution_count": 145,
   "metadata": {},
   "outputs": [
    {
     "data": {
      "text/plain": [
       "'NITNLCPFGEVFNATRFASVYAWNRKRISNCVADYSVLYNSASFSTFKCYGVSPTKLNDLCFTNVYADSFVIRGDEVRQIAPGQTGKIADYNYKLPDDFTGCVIAWNSNNLDSKVGGNYNYLYRLFRKSNLKPFERDISTEIYQAGSTPCNGVEGFNCYFPLQSYGFQPTNGVGYQPYRVVVLSFELLHAPATV'"
      ]
     },
     "execution_count": 145,
     "metadata": {},
     "output_type": "execute_result"
    }
   ],
   "source": [
    "RBD = df[df['protein']=='S'].sequence.str[330:524].to_list()[0]\n",
    "RBD"
   ]
  },
  {
   "cell_type": "code",
   "execution_count": 146,
   "metadata": {},
   "outputs": [
    {
     "data": {
      "text/html": [
       "<div>\n",
       "<style scoped>\n",
       "    .dataframe tbody tr th:only-of-type {\n",
       "        vertical-align: middle;\n",
       "    }\n",
       "\n",
       "    .dataframe tbody tr th {\n",
       "        vertical-align: top;\n",
       "    }\n",
       "\n",
       "    .dataframe thead th {\n",
       "        text-align: right;\n",
       "    }\n",
       "</style>\n",
       "<table border=\"1\" class=\"dataframe\">\n",
       "  <thead>\n",
       "    <tr style=\"text-align: right;\">\n",
       "      <th></th>\n",
       "      <th>protein</th>\n",
       "      <th>sequence</th>\n",
       "      <th>entropies</th>\n",
       "      <th>perplexities</th>\n",
       "    </tr>\n",
       "  </thead>\n",
       "  <tbody>\n",
       "    <tr>\n",
       "      <th>12</th>\n",
       "      <td>S</td>\n",
       "      <td>MFVFLVLLPLVSSQCVNLTTRTQLPPAYTNSFTRGVYYPDKVFRSS...</td>\n",
       "      <td>[-0.0, 0.0023590895407301963, 0.01970254533116...</td>\n",
       "      <td>[1.0, 1.0016365339262705, 1.0137504433116207, ...</td>\n",
       "    </tr>\n",
       "  </tbody>\n",
       "</table>\n",
       "</div>"
      ],
      "text/plain": [
       "   protein                                           sequence  \\\n",
       "12       S  MFVFLVLLPLVSSQCVNLTTRTQLPPAYTNSFTRGVYYPDKVFRSS...   \n",
       "\n",
       "                                            entropies  \\\n",
       "12  [-0.0, 0.0023590895407301963, 0.01970254533116...   \n",
       "\n",
       "                                         perplexities  \n",
       "12  [1.0, 1.0016365339262705, 1.0137504433116207, ...  "
      ]
     },
     "execution_count": 146,
     "metadata": {},
     "output_type": "execute_result"
    }
   ],
   "source": [
    "df[df['protein']=='S']"
   ]
  },
  {
   "cell_type": "code",
   "execution_count": 147,
   "metadata": {},
   "outputs": [],
   "source": [
    "pos_mut_counts[RBD_start:RBD_end];"
   ]
  },
  {
   "cell_type": "code",
   "execution_count": 148,
   "metadata": {},
   "outputs": [
    {
     "data": {
      "text/plain": [
       "Text(0.5, 1.0, 'RBD Entropy')"
      ]
     },
     "execution_count": 148,
     "metadata": {},
     "output_type": "execute_result"
    },
    {
     "data": {
      "image/png": "[encoded data removed]",
      "text/plain": [
       "<Figure size 432x288 with 1 Axes>"
      ]
     },
     "metadata": {
      "needs_background": "light"
     },
     "output_type": "display_data"
    }
   ],
   "source": [
    "RBD_start = 330\n",
    "RBD_end = 524\n",
    "\n",
    "S_entropies = df[df['protein']=='S'].entropies.to_list()[0]\n",
    "\n",
    "plt.figure()\n",
    "wid = len(S_entropies[RBD_start:RBD_end]) / 120\n",
    "plt.ylim(0, 1.05)\n",
    "plt.bar(np.arange(RBD_start,RBD_end), S_entropies[RBD_start:RBD_end], width=wid)\n",
    "plt.axvline(RBM_start, color='red')\n",
    "plt.axvline(RBM_end, color='red')\n",
    "plt.title('RBD Entropy')\n"
   ]
  },
  {
   "cell_type": "code",
   "execution_count": 149,
   "metadata": {},
   "outputs": [
    {
     "data": {
      "text/plain": [
       "Text(0.5, 1.0, 'S Protein Entropy (in bits)')"
      ]
     },
     "execution_count": 149,
     "metadata": {},
     "output_type": "execute_result"
    },
    {
     "data": {
      "image/png": "[encoded data removed]",
      "text/plain": [
       "<Figure size 432x288 with 1 Axes>"
      ]
     },
     "metadata": {
      "needs_background": "light"
     },
     "output_type": "display_data"
    }
   ],
   "source": [
    "plt.figure()\n",
    "plt.ylim(0, 1.05)\n",
    "plt.bar(np.arange(0,len(S_entropies)), S_entropies, width=10.0)\n",
    "plt.axvline(RBD_start, color='red')\n",
    "plt.axvline(RBD_end, color='red')\n",
    "plt.title('S Protein Entropy (in bits)')"
   ]
  },
  {
   "cell_type": "code",
   "execution_count": 150,
   "metadata": {},
   "outputs": [
    {
     "data": {
      "text/plain": [
       "1273"
      ]
     },
     "execution_count": 150,
     "metadata": {},
     "output_type": "execute_result"
    }
   ],
   "source": [
    "len(S_entropies)"
   ]
  },
  {
   "cell_type": "code",
   "execution_count": 151,
   "metadata": {},
   "outputs": [
    {
     "data": {
      "image/png": "[encoded data removed]",
      "text/plain": [
       "<Figure size 432x288 with 1 Axes>"
      ]
     },
     "metadata": {
      "needs_background": "light"
     },
     "output_type": "display_data"
    }
   ],
   "source": [
    "plt.hist(S_entropies)\n",
    "plt.show()"
   ]
  },
  {
   "cell_type": "code",
   "execution_count": 152,
   "metadata": {},
   "outputs": [
    {
     "data": {
      "text/plain": [
       "0.5325506741022701"
      ]
     },
     "execution_count": 152,
     "metadata": {},
     "output_type": "execute_result"
    }
   ],
   "source": [
    "max(S_entropies) # used to be 0.618..."
   ]
  },
  {
   "cell_type": "code",
   "execution_count": 153,
   "metadata": {},
   "outputs": [
    {
     "data": {
      "text/plain": [
       "613"
      ]
     },
     "execution_count": 153,
     "metadata": {},
     "output_type": "execute_result"
    }
   ],
   "source": [
    "np.argmax(S_entropies)"
   ]
  },
  {
   "cell_type": "code",
   "execution_count": 154,
   "metadata": {},
   "outputs": [
    {
     "data": {
      "text/plain": [
       "12    FNCYFPLQSYGFQPTNGVGYQPY\n",
       "Name: sequence, dtype: object"
      ]
     },
     "execution_count": 154,
     "metadata": {},
     "output_type": "execute_result"
    }
   ],
   "source": [
    "df[df['protein']=='S'].sequence.str[485:508]"
   ]
  },
  {
   "cell_type": "markdown",
   "metadata": {},
   "source": [
    "## Collecting every possible epitope of window sizes from 8 - 25 and getting the sum of their entropies"
   ]
  },
  {
   "cell_type": "code",
   "execution_count": 155,
   "metadata": {},
   "outputs": [
    {
     "name": "stdout",
     "output_type": "stream",
     "text": [
      "index of df: 0\n",
      "index of df: 1\n",
      "index of df: 2\n",
      "index of df: 3\n",
      "index of df: 4\n",
      "index of df: 5\n",
      "index of df: 6\n",
      "index of df: 7\n",
      "index of df: 8\n",
      "index of df: 9\n",
      "index of df: 10\n",
      "index of df: 11\n",
      "index of df: 12\n"
     ]
    }
   ],
   "source": [
    "\n",
    "df_epi = []\n",
    "window_sizes = list(range(8,26))\n",
    "for i in range(df.shape[0]):\n",
    "    print('index of df:', i)\n",
    "    for window in window_sizes:\n",
    "        seq = df.iloc[i].sequence\n",
    "        ents = df.iloc[i].entropies\n",
    "        \n",
    "        epitopes = [seq[i:i+window] for i in range(len(seq)-window+1)]\n",
    "        epi_ents = [sum(ents[i:i+window]) for i in range(len(seq)-window+1)]\n",
    "        \n",
    "        counter = 0 # recording where this epitope segment started in the protein. \n",
    "        for epi, ent in zip(epitopes, epi_ents):\n",
    "            df_epi.append([df.iloc[i].protein, epi, ent, counter])\n",
    "            counter+=1\n",
    "    "
   ]
  },
  {
   "cell_type": "code",
   "execution_count": null,
   "metadata": {},
   "outputs": [],
   "source": []
  },
  {
   "cell_type": "code",
   "execution_count": 157,
   "metadata": {},
   "outputs": [
    {
     "data": {
      "text/html": [
       "<div>\n",
       "<style scoped>\n",
       "    .dataframe tbody tr th:only-of-type {\n",
       "        vertical-align: middle;\n",
       "    }\n",
       "\n",
       "    .dataframe tbody tr th {\n",
       "        vertical-align: top;\n",
       "    }\n",
       "\n",
       "    .dataframe thead th {\n",
       "        text-align: right;\n",
       "    }\n",
       "</style>\n",
       "<table border=\"1\" class=\"dataframe\">\n",
       "  <thead>\n",
       "    <tr style=\"text-align: right;\">\n",
       "      <th></th>\n",
       "      <th>protein</th>\n",
       "      <th>sequence</th>\n",
       "      <th>entropy_sum</th>\n",
       "      <th>epi_start_pos</th>\n",
       "    </tr>\n",
       "  </thead>\n",
       "  <tbody>\n",
       "    <tr>\n",
       "      <th>0</th>\n",
       "      <td>E</td>\n",
       "      <td>MYSFVSEE</td>\n",
       "      <td>0.035581</td>\n",
       "      <td>0</td>\n",
       "    </tr>\n",
       "    <tr>\n",
       "      <th>1</th>\n",
       "      <td>E</td>\n",
       "      <td>YSFVSEET</td>\n",
       "      <td>0.042301</td>\n",
       "      <td>1</td>\n",
       "    </tr>\n",
       "    <tr>\n",
       "      <th>2</th>\n",
       "      <td>E</td>\n",
       "      <td>SFVSEETG</td>\n",
       "      <td>0.042301</td>\n",
       "      <td>2</td>\n",
       "    </tr>\n",
       "    <tr>\n",
       "      <th>3</th>\n",
       "      <td>E</td>\n",
       "      <td>FVSEETGT</td>\n",
       "      <td>0.041122</td>\n",
       "      <td>3</td>\n",
       "    </tr>\n",
       "    <tr>\n",
       "      <th>4</th>\n",
       "      <td>E</td>\n",
       "      <td>VSEETGTL</td>\n",
       "      <td>0.038919</td>\n",
       "      <td>4</td>\n",
       "    </tr>\n",
       "  </tbody>\n",
       "</table>\n",
       "</div>"
      ],
      "text/plain": [
       "  protein  sequence  entropy_sum  epi_start_pos\n",
       "0       E  MYSFVSEE     0.035581              0\n",
       "1       E  YSFVSEET     0.042301              1\n",
       "2       E  SFVSEETG     0.042301              2\n",
       "3       E  FVSEETGT     0.041122              3\n",
       "4       E  VSEETGTL     0.038919              4"
      ]
     },
     "execution_count": 157,
     "metadata": {},
     "output_type": "execute_result"
    }
   ],
   "source": [
    "df_epi = pd.DataFrame(df_epi, columns =['protein', 'sequence', 'entropy_sum', 'epi_start_pos'] )\n",
    "df_epi.head()"
   ]
  },
  {
   "cell_type": "code",
   "execution_count": 159,
   "metadata": {},
   "outputs": [
    {
     "data": {
      "text/plain": [
       "(173493, 4)"
      ]
     },
     "execution_count": 159,
     "metadata": {},
     "output_type": "execute_result"
    }
   ],
   "source": [
    "df_epi.shape"
   ]
  },
  {
   "cell_type": "code",
   "execution_count": 160,
   "metadata": {},
   "outputs": [
    {
     "data": {
      "text/html": [
       "<div>\n",
       "<style scoped>\n",
       "    .dataframe tbody tr th:only-of-type {\n",
       "        vertical-align: middle;\n",
       "    }\n",
       "\n",
       "    .dataframe tbody tr th {\n",
       "        vertical-align: top;\n",
       "    }\n",
       "\n",
       "    .dataframe thead th {\n",
       "        text-align: right;\n",
       "    }\n",
       "</style>\n",
       "<table border=\"1\" class=\"dataframe\">\n",
       "  <thead>\n",
       "    <tr style=\"text-align: right;\">\n",
       "      <th></th>\n",
       "      <th>protein</th>\n",
       "      <th>sequence</th>\n",
       "      <th>entropy_sum</th>\n",
       "      <th>epi_start_pos</th>\n",
       "    </tr>\n",
       "  </thead>\n",
       "  <tbody>\n",
       "    <tr>\n",
       "      <th>173488</th>\n",
       "      <td>S</td>\n",
       "      <td>KGCCSCGSCCKFDEDDSEPVLKGVK</td>\n",
       "      <td>0.120267</td>\n",
       "      <td>1244</td>\n",
       "    </tr>\n",
       "    <tr>\n",
       "      <th>173489</th>\n",
       "      <td>S</td>\n",
       "      <td>GCCSCGSCCKFDEDDSEPVLKGVKL</td>\n",
       "      <td>0.117100</td>\n",
       "      <td>1245</td>\n",
       "    </tr>\n",
       "    <tr>\n",
       "      <th>173490</th>\n",
       "      <td>S</td>\n",
       "      <td>CCSCGSCCKFDEDDSEPVLKGVKLH</td>\n",
       "      <td>0.117100</td>\n",
       "      <td>1246</td>\n",
       "    </tr>\n",
       "    <tr>\n",
       "      <th>173491</th>\n",
       "      <td>S</td>\n",
       "      <td>CSCGSCCKFDEDDSEPVLKGVKLHY</td>\n",
       "      <td>0.101738</td>\n",
       "      <td>1247</td>\n",
       "    </tr>\n",
       "    <tr>\n",
       "      <th>173492</th>\n",
       "      <td>S</td>\n",
       "      <td>SCGSCCKFDEDDSEPVLKGVKLHYT</td>\n",
       "      <td>0.100559</td>\n",
       "      <td>1248</td>\n",
       "    </tr>\n",
       "  </tbody>\n",
       "</table>\n",
       "</div>"
      ],
      "text/plain": [
       "       protein                   sequence  entropy_sum  epi_start_pos\n",
       "173488       S  KGCCSCGSCCKFDEDDSEPVLKGVK     0.120267           1244\n",
       "173489       S  GCCSCGSCCKFDEDDSEPVLKGVKL     0.117100           1245\n",
       "173490       S  CCSCGSCCKFDEDDSEPVLKGVKLH     0.117100           1246\n",
       "173491       S  CSCGSCCKFDEDDSEPVLKGVKLHY     0.101738           1247\n",
       "173492       S  SCGSCCKFDEDDSEPVLKGVKLHYT     0.100559           1248"
      ]
     },
     "execution_count": 160,
     "metadata": {},
     "output_type": "execute_result"
    }
   ],
   "source": [
    "df_epi.tail()"
   ]
  },
  {
   "cell_type": "code",
   "execution_count": null,
   "metadata": {},
   "outputs": [],
   "source": []
  },
  {
   "cell_type": "code",
   "execution_count": 162,
   "metadata": {},
   "outputs": [
    {
     "data": {
      "image/png": "[encoded data removed]",
      "text/plain": [
       "<Figure size 432x288 with 1 Axes>"
      ]
     },
     "metadata": {
      "needs_background": "light"
     },
     "output_type": "display_data"
    }
   ],
   "source": [
    "plt.hist(df_epi.entropy_sum, bins=100)\n",
    "plt.title('Distribution of observed epitope entropies')\n",
    "plt.show()"
   ]
  },
  {
   "cell_type": "code",
   "execution_count": 163,
   "metadata": {},
   "outputs": [],
   "source": [
    "df_epi.to_csv('data/processed/epitope_entropies_larger.csv', index=False)"
   ]
  },
  {
   "cell_type": "code",
   "execution_count": 164,
   "metadata": {},
   "outputs": [
    {
     "data": {
      "text/html": [
       "<div>\n",
       "<style scoped>\n",
       "    .dataframe tbody tr th:only-of-type {\n",
       "        vertical-align: middle;\n",
       "    }\n",
       "\n",
       "    .dataframe tbody tr th {\n",
       "        vertical-align: top;\n",
       "    }\n",
       "\n",
       "    .dataframe thead th {\n",
       "        text-align: right;\n",
       "    }\n",
       "</style>\n",
       "<table border=\"1\" class=\"dataframe\">\n",
       "  <thead>\n",
       "    <tr style=\"text-align: right;\">\n",
       "      <th></th>\n",
       "      <th>protein</th>\n",
       "      <th>sequence</th>\n",
       "      <th>entropies</th>\n",
       "      <th>perplexities</th>\n",
       "    </tr>\n",
       "  </thead>\n",
       "  <tbody>\n",
       "    <tr>\n",
       "      <th>0</th>\n",
       "      <td>E</td>\n",
       "      <td>MYSFVSEETGTLIVNSVLLFLAFVVFLLVTLAILTALRLCAYCCNI...</td>\n",
       "      <td>[-0.0, -0.0, 0.0011795491810428478, 0.00220270...</td>\n",
       "      <td>[1.0, 1.0, 1.000817935516133, 1.00152796501366...</td>\n",
       "    </tr>\n",
       "    <tr>\n",
       "      <th>1</th>\n",
       "      <td>M</td>\n",
       "      <td>MADSNGTITVEELKKLLEQWNLVIGFLFLTWICLLQFAYANRNRFL...</td>\n",
       "      <td>[-0.0, 0.04597049747023445, 0.0717044160613552...</td>\n",
       "      <td>[1.0, 1.0323774235668415, 1.0509575635070916, ...</td>\n",
       "    </tr>\n",
       "    <tr>\n",
       "      <th>2</th>\n",
       "      <td>N</td>\n",
       "      <td>MSDNGPQNQRNAPRITFGGPSDSTGSNQNGERSGARSKQRRPQGLP...</td>\n",
       "      <td>[-0.0, 0.05493851816114793, 0.1976833935443112...</td>\n",
       "      <td>[1.0, 1.0388148322596233, 1.1468553136214392, ...</td>\n",
       "    </tr>\n",
       "    <tr>\n",
       "      <th>3</th>\n",
       "      <td>ORF10</td>\n",
       "      <td>MGYINVFAFPFTIYSLLLCRMNSRNYIAQVDVVNFNLT</td>\n",
       "      <td>[0.003382236685534581, 0.0011795491810428478, ...</td>\n",
       "      <td>[1.0023471380484748, 1.000817935516133, 1.0052...</td>\n",
       "    </tr>\n",
       "    <tr>\n",
       "      <th>4</th>\n",
       "      <td>ORF1a</td>\n",
       "      <td>MESLVPGFNEKTHVQLSLPVLQVRDVLVRGFGDSVEEVLSEARQHL...</td>\n",
       "      <td>[-0.0, -0.0, -0.0, 0.0011795491810428478, 0.00...</td>\n",
       "      <td>[1.0, 1.0, 1.0, 1.000817935516133, 1.001527965...</td>\n",
       "    </tr>\n",
       "  </tbody>\n",
       "</table>\n",
       "</div>"
      ],
      "text/plain": [
       "  protein                                           sequence  \\\n",
       "0       E  MYSFVSEETGTLIVNSVLLFLAFVVFLLVTLAILTALRLCAYCCNI...   \n",
       "1       M  MADSNGTITVEELKKLLEQWNLVIGFLFLTWICLLQFAYANRNRFL...   \n",
       "2       N  MSDNGPQNQRNAPRITFGGPSDSTGSNQNGERSGARSKQRRPQGLP...   \n",
       "3   ORF10             MGYINVFAFPFTIYSLLLCRMNSRNYIAQVDVVNFNLT   \n",
       "4   ORF1a  MESLVPGFNEKTHVQLSLPVLQVRDVLVRGFGDSVEEVLSEARQHL...   \n",
       "\n",
       "                                           entropies  \\\n",
       "0  [-0.0, -0.0, 0.0011795491810428478, 0.00220270...   \n",
       "1  [-0.0, 0.04597049747023445, 0.0717044160613552...   \n",
       "2  [-0.0, 0.05493851816114793, 0.1976833935443112...   \n",
       "3  [0.003382236685534581, 0.0011795491810428478, ...   \n",
       "4  [-0.0, -0.0, -0.0, 0.0011795491810428478, 0.00...   \n",
       "\n",
       "                                        perplexities  \n",
       "0  [1.0, 1.0, 1.000817935516133, 1.00152796501366...  \n",
       "1  [1.0, 1.0323774235668415, 1.0509575635070916, ...  \n",
       "2  [1.0, 1.0388148322596233, 1.1468553136214392, ...  \n",
       "3  [1.0023471380484748, 1.000817935516133, 1.0052...  \n",
       "4  [1.0, 1.0, 1.0, 1.000817935516133, 1.001527965...  "
      ]
     },
     "execution_count": 164,
     "metadata": {},
     "output_type": "execute_result"
    }
   ],
   "source": [
    "df.head()"
   ]
  },
  {
   "cell_type": "code",
   "execution_count": 165,
   "metadata": {},
   "outputs": [],
   "source": [
    "df.to_csv('data/processed/sequences_position_entropies_larger.csv', index=False)"
   ]
  },
  {
   "cell_type": "code",
   "execution_count": null,
   "metadata": {},
   "outputs": [],
   "source": []
  }
 ],
 "metadata": {
  "kernelspec": {
   "display_name": "Python 3",
   "language": "python",
   "name": "python3"
  },
  "language_info": {
   "codemirror_mode": {
    "name": "ipython",
    "version": 3
   },
   "file_extension": ".py",
   "mimetype": "text/x-python",
   "name": "python",
   "nbconvert_exporter": "python",
   "pygments_lexer": "ipython3",
   "version": "3.8.3"
  }
 },
 "nbformat": 4,
 "nbformat_minor": 4
}
