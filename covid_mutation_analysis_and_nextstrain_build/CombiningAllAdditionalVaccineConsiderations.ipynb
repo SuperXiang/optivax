{
 "cells": [
  {
   "cell_type": "code",
   "execution_count": 1,
   "metadata": {},
   "outputs": [
    {
     "data": {
      "text/plain": [
       "'\\nAdding Glycosolation. \\nAdding entropy. \\nClevage sites.\\n'"
      ]
     },
     "execution_count": 1,
     "metadata": {},
     "output_type": "execute_result"
    }
   ],
   "source": [
    "'''\n",
    "Adding Glycosolation. \n",
    "Adding entropy. \n",
    "Clevage sites.\n",
    "'''"
   ]
  },
  {
   "cell_type": "code",
   "execution_count": 2,
   "metadata": {},
   "outputs": [],
   "source": [
    "import pandas as pd\n",
    "import numpy as np\n",
    "import matplotlib.pyplot as plt"
   ]
  },
  {
   "cell_type": "code",
   "execution_count": 3,
   "metadata": {},
   "outputs": [
    {
     "data": {
      "text/html": [
       "<div>\n",
       "<style scoped>\n",
       "    .dataframe tbody tr th:only-of-type {\n",
       "        vertical-align: middle;\n",
       "    }\n",
       "\n",
       "    .dataframe tbody tr th {\n",
       "        vertical-align: top;\n",
       "    }\n",
       "\n",
       "    .dataframe thead th {\n",
       "        text-align: right;\n",
       "    }\n",
       "</style>\n",
       "<table border=\"1\" class=\"dataframe\">\n",
       "  <thead>\n",
       "    <tr style=\"text-align: right;\">\n",
       "      <th></th>\n",
       "      <th>protein</th>\n",
       "      <th>epitope</th>\n",
       "      <th>start_pos</th>\n",
       "      <th>epi_len</th>\n",
       "      <th>entropy</th>\n",
       "      <th>perc_mutated</th>\n",
       "    </tr>\n",
       "  </thead>\n",
       "  <tbody>\n",
       "    <tr>\n",
       "      <th>0</th>\n",
       "      <td>E</td>\n",
       "      <td>MYSFVSEE</td>\n",
       "      <td>0</td>\n",
       "      <td>8</td>\n",
       "      <td>0.035578</td>\n",
       "      <td>0.002893</td>\n",
       "    </tr>\n",
       "    <tr>\n",
       "      <th>1</th>\n",
       "      <td>E</td>\n",
       "      <td>YSFVSEET</td>\n",
       "      <td>1</td>\n",
       "      <td>8</td>\n",
       "      <td>0.042296</td>\n",
       "      <td>0.003441</td>\n",
       "    </tr>\n",
       "    <tr>\n",
       "      <th>2</th>\n",
       "      <td>E</td>\n",
       "      <td>SFVSEETG</td>\n",
       "      <td>2</td>\n",
       "      <td>8</td>\n",
       "      <td>0.042296</td>\n",
       "      <td>0.003441</td>\n",
       "    </tr>\n",
       "    <tr>\n",
       "      <th>3</th>\n",
       "      <td>E</td>\n",
       "      <td>FVSEETGT</td>\n",
       "      <td>3</td>\n",
       "      <td>8</td>\n",
       "      <td>0.041116</td>\n",
       "      <td>0.003363</td>\n",
       "    </tr>\n",
       "    <tr>\n",
       "      <th>4</th>\n",
       "      <td>E</td>\n",
       "      <td>VSEETGTL</td>\n",
       "      <td>4</td>\n",
       "      <td>8</td>\n",
       "      <td>0.038914</td>\n",
       "      <td>0.003206</td>\n",
       "    </tr>\n",
       "  </tbody>\n",
       "</table>\n",
       "</div>"
      ],
      "text/plain": [
       "  protein   epitope  start_pos  epi_len   entropy  perc_mutated\n",
       "0       E  MYSFVSEE          0        8  0.035578      0.002893\n",
       "1       E  YSFVSEET          1        8  0.042296      0.003441\n",
       "2       E  SFVSEETG          2        8  0.042296      0.003441\n",
       "3       E  FVSEETGT          3        8  0.041116      0.003363\n",
       "4       E  VSEETGTL          4        8  0.038914      0.003206"
      ]
     },
     "execution_count": 3,
     "metadata": {},
     "output_type": "execute_result"
    }
   ],
   "source": [
    "\n",
    "df_epi = pd.read_csv('data/processed/parallelized_epitope_entropies_larger.csv')\n",
    "df_epi.head()"
   ]
  },
  {
   "cell_type": "code",
   "execution_count": null,
   "metadata": {},
   "outputs": [],
   "source": []
  },
  {
   "cell_type": "code",
   "execution_count": null,
   "metadata": {},
   "outputs": [],
   "source": []
  },
  {
   "cell_type": "code",
   "execution_count": 5,
   "metadata": {},
   "outputs": [
    {
     "data": {
      "text/html": [
       "<div>\n",
       "<style scoped>\n",
       "    .dataframe tbody tr th:only-of-type {\n",
       "        vertical-align: middle;\n",
       "    }\n",
       "\n",
       "    .dataframe tbody tr th {\n",
       "        vertical-align: top;\n",
       "    }\n",
       "\n",
       "    .dataframe thead th {\n",
       "        text-align: right;\n",
       "    }\n",
       "</style>\n",
       "<table border=\"1\" class=\"dataframe\">\n",
       "  <thead>\n",
       "    <tr style=\"text-align: right;\">\n",
       "      <th></th>\n",
       "      <th>Start</th>\n",
       "      <th>End</th>\n",
       "      <th>Sub_Protein</th>\n",
       "      <th>Protein</th>\n",
       "    </tr>\n",
       "  </thead>\n",
       "  <tbody>\n",
       "    <tr>\n",
       "      <th>0</th>\n",
       "      <td>0</td>\n",
       "      <td>179</td>\n",
       "      <td>Non-structural protein 1</td>\n",
       "      <td>ORF1a</td>\n",
       "    </tr>\n",
       "    <tr>\n",
       "      <th>1</th>\n",
       "      <td>180</td>\n",
       "      <td>817</td>\n",
       "      <td>Non-structural protein 2</td>\n",
       "      <td>ORF1a</td>\n",
       "    </tr>\n",
       "    <tr>\n",
       "      <th>2</th>\n",
       "      <td>818</td>\n",
       "      <td>2762</td>\n",
       "      <td>Non-structural protein 3</td>\n",
       "      <td>ORF1a</td>\n",
       "    </tr>\n",
       "    <tr>\n",
       "      <th>3</th>\n",
       "      <td>2763</td>\n",
       "      <td>3262</td>\n",
       "      <td>Non-structural protein 4</td>\n",
       "      <td>ORF1a</td>\n",
       "    </tr>\n",
       "    <tr>\n",
       "      <th>4</th>\n",
       "      <td>3263</td>\n",
       "      <td>3568</td>\n",
       "      <td>3C-like proteinase</td>\n",
       "      <td>ORF1a</td>\n",
       "    </tr>\n",
       "  </tbody>\n",
       "</table>\n",
       "</div>"
      ],
      "text/plain": [
       "   Start   End               Sub_Protein Protein\n",
       "0      0   179  Non-structural protein 1   ORF1a\n",
       "1    180   817  Non-structural protein 2   ORF1a\n",
       "2    818  2762  Non-structural protein 3   ORF1a\n",
       "3   2763  3262  Non-structural protein 4   ORF1a\n",
       "4   3263  3568        3C-like proteinase   ORF1a"
      ]
     },
     "execution_count": 5,
     "metadata": {},
     "output_type": "execute_result"
    }
   ],
   "source": [
    "df_cleave = pd.read_csv('data/processed/ProteinCleavageSites.csv')\n",
    "df_cleave.head()"
   ]
  },
  {
   "cell_type": "code",
   "execution_count": 6,
   "metadata": {},
   "outputs": [
    {
     "data": {
      "text/html": [
       "<div>\n",
       "<style scoped>\n",
       "    .dataframe tbody tr th:only-of-type {\n",
       "        vertical-align: middle;\n",
       "    }\n",
       "\n",
       "    .dataframe tbody tr th {\n",
       "        vertical-align: top;\n",
       "    }\n",
       "\n",
       "    .dataframe thead th {\n",
       "        text-align: right;\n",
       "    }\n",
       "</style>\n",
       "<table border=\"1\" class=\"dataframe\">\n",
       "  <thead>\n",
       "    <tr style=\"text-align: right;\">\n",
       "      <th></th>\n",
       "      <th>protein</th>\n",
       "      <th>position</th>\n",
       "      <th>seq</th>\n",
       "      <th>prob_of_glyco</th>\n",
       "    </tr>\n",
       "  </thead>\n",
       "  <tbody>\n",
       "    <tr>\n",
       "      <th>0</th>\n",
       "      <td>E</td>\n",
       "      <td>47</td>\n",
       "      <td>NVSL</td>\n",
       "      <td>0.6507</td>\n",
       "    </tr>\n",
       "    <tr>\n",
       "      <th>1</th>\n",
       "      <td>E</td>\n",
       "      <td>65</td>\n",
       "      <td>NSSR</td>\n",
       "      <td>0.6339</td>\n",
       "    </tr>\n",
       "    <tr>\n",
       "      <th>2</th>\n",
       "      <td>M</td>\n",
       "      <td>4</td>\n",
       "      <td>NGTI</td>\n",
       "      <td>0.7577</td>\n",
       "    </tr>\n",
       "    <tr>\n",
       "      <th>3</th>\n",
       "      <td>N</td>\n",
       "      <td>46</td>\n",
       "      <td>NNTA</td>\n",
       "      <td>0.6798</td>\n",
       "    </tr>\n",
       "    <tr>\n",
       "      <th>4</th>\n",
       "      <td>N</td>\n",
       "      <td>76</td>\n",
       "      <td>NSSP</td>\n",
       "      <td>0.2149</td>\n",
       "    </tr>\n",
       "  </tbody>\n",
       "</table>\n",
       "</div>"
      ],
      "text/plain": [
       "  protein  position   seq  prob_of_glyco\n",
       "0       E        47  NVSL         0.6507\n",
       "1       E        65  NSSR         0.6339\n",
       "2       M         4  NGTI         0.7577\n",
       "3       N        46  NNTA         0.6798\n",
       "4       N        76  NSSP         0.2149"
      ]
     },
     "execution_count": 6,
     "metadata": {},
     "output_type": "execute_result"
    }
   ],
   "source": [
    "df_glyco = pd.read_csv('data/processed/glycosolation_sites_processed.csv')\n",
    "df_glyco.head()\n"
   ]
  },
  {
   "cell_type": "code",
   "execution_count": 7,
   "metadata": {},
   "outputs": [
    {
     "data": {
      "text/plain": [
       "0     4\n",
       "1     4\n",
       "2     4\n",
       "3     4\n",
       "4     4\n",
       "     ..\n",
       "72    4\n",
       "73    4\n",
       "74    4\n",
       "75    4\n",
       "76    4\n",
       "Name: seq, Length: 77, dtype: int64"
      ]
     },
     "execution_count": 7,
     "metadata": {},
     "output_type": "execute_result"
    }
   ],
   "source": [
    "df_glyco.seq.apply(lambda x: len(x))"
   ]
  },
  {
   "cell_type": "code",
   "execution_count": 8,
   "metadata": {},
   "outputs": [],
   "source": [
    "df = pd.DataFrame(df_epi)"
   ]
  },
  {
   "cell_type": "code",
   "execution_count": 9,
   "metadata": {},
   "outputs": [
    {
     "data": {
      "text/html": [
       "<div>\n",
       "<style scoped>\n",
       "    .dataframe tbody tr th:only-of-type {\n",
       "        vertical-align: middle;\n",
       "    }\n",
       "\n",
       "    .dataframe tbody tr th {\n",
       "        vertical-align: top;\n",
       "    }\n",
       "\n",
       "    .dataframe thead th {\n",
       "        text-align: right;\n",
       "    }\n",
       "</style>\n",
       "<table border=\"1\" class=\"dataframe\">\n",
       "  <thead>\n",
       "    <tr style=\"text-align: right;\">\n",
       "      <th></th>\n",
       "      <th>protein</th>\n",
       "      <th>epitope</th>\n",
       "      <th>start_pos</th>\n",
       "      <th>epi_len</th>\n",
       "      <th>entropy</th>\n",
       "      <th>perc_mutated</th>\n",
       "    </tr>\n",
       "  </thead>\n",
       "  <tbody>\n",
       "    <tr>\n",
       "      <th>0</th>\n",
       "      <td>E</td>\n",
       "      <td>MYSFVSEE</td>\n",
       "      <td>0</td>\n",
       "      <td>8</td>\n",
       "      <td>0.035578</td>\n",
       "      <td>0.002893</td>\n",
       "    </tr>\n",
       "    <tr>\n",
       "      <th>1</th>\n",
       "      <td>E</td>\n",
       "      <td>YSFVSEET</td>\n",
       "      <td>1</td>\n",
       "      <td>8</td>\n",
       "      <td>0.042296</td>\n",
       "      <td>0.003441</td>\n",
       "    </tr>\n",
       "    <tr>\n",
       "      <th>2</th>\n",
       "      <td>E</td>\n",
       "      <td>SFVSEETG</td>\n",
       "      <td>2</td>\n",
       "      <td>8</td>\n",
       "      <td>0.042296</td>\n",
       "      <td>0.003441</td>\n",
       "    </tr>\n",
       "    <tr>\n",
       "      <th>3</th>\n",
       "      <td>E</td>\n",
       "      <td>FVSEETGT</td>\n",
       "      <td>3</td>\n",
       "      <td>8</td>\n",
       "      <td>0.041116</td>\n",
       "      <td>0.003363</td>\n",
       "    </tr>\n",
       "    <tr>\n",
       "      <th>4</th>\n",
       "      <td>E</td>\n",
       "      <td>VSEETGTL</td>\n",
       "      <td>4</td>\n",
       "      <td>8</td>\n",
       "      <td>0.038914</td>\n",
       "      <td>0.003206</td>\n",
       "    </tr>\n",
       "  </tbody>\n",
       "</table>\n",
       "</div>"
      ],
      "text/plain": [
       "  protein   epitope  start_pos  epi_len   entropy  perc_mutated\n",
       "0       E  MYSFVSEE          0        8  0.035578      0.002893\n",
       "1       E  YSFVSEET          1        8  0.042296      0.003441\n",
       "2       E  SFVSEETG          2        8  0.042296      0.003441\n",
       "3       E  FVSEETGT          3        8  0.041116      0.003363\n",
       "4       E  VSEETGTL          4        8  0.038914      0.003206"
      ]
     },
     "execution_count": 9,
     "metadata": {},
     "output_type": "execute_result"
    }
   ],
   "source": [
    "df.head()"
   ]
  },
  {
   "cell_type": "code",
   "execution_count": 10,
   "metadata": {},
   "outputs": [
    {
     "data": {
      "text/plain": [
       "epi_len\n",
       "8     4393\n",
       "9     4392\n",
       "10    4391\n",
       "11    4390\n",
       "13    4388\n",
       "14    4387\n",
       "15    4386\n",
       "16    4385\n",
       "17    4384\n",
       "18    4383\n",
       "19    4382\n",
       "20    4381\n",
       "21    4380\n",
       "22    4379\n",
       "23    4378\n",
       "24    4377\n",
       "25    4376\n",
       "Name: start_pos, dtype: int64"
      ]
     },
     "execution_count": 10,
     "metadata": {},
     "output_type": "execute_result"
    }
   ],
   "source": [
    "# ignore the ending epitopes for ORF1a optional!!!\n",
    "starts_to_drop = df[df.protein=='ORF1a'].groupby('epi_len').start_pos.max()\n",
    "starts_to_drop"
   ]
  },
  {
   "cell_type": "code",
   "execution_count": 11,
   "metadata": {},
   "outputs": [
    {
     "data": {
      "text/plain": [
       "[16139,\n",
       " 20532,\n",
       " 24924,\n",
       " 29315,\n",
       " 33704,\n",
       " 38092,\n",
       " 42479,\n",
       " 46865,\n",
       " 51250,\n",
       " 55634,\n",
       " 60017,\n",
       " 64399,\n",
       " 68780,\n",
       " 73160,\n",
       " 77539,\n",
       " 81917,\n",
       " 86294]"
      ]
     },
     "execution_count": 11,
     "metadata": {},
     "output_type": "execute_result"
    }
   ],
   "source": [
    "indices = []\n",
    "window_sizes = list(range(8,12)) + list(range(13,26))\n",
    "for eplen, startpos in zip(window_sizes, starts_to_drop):\n",
    "    indices.append( df[np.logical_and(df.protein=='ORF1a', \n",
    "                                      np.logical_and(df.start_pos==startpos,\n",
    "                                                     df.epi_len==eplen ))].index[0])\n",
    "indices"
   ]
  },
  {
   "cell_type": "code",
   "execution_count": 12,
   "metadata": {},
   "outputs": [
    {
     "data": {
      "text/plain": [
       "17"
      ]
     },
     "execution_count": 12,
     "metadata": {},
     "output_type": "execute_result"
    }
   ],
   "source": [
    "len(df.epi_len.unique())"
   ]
  },
  {
   "cell_type": "code",
   "execution_count": 13,
   "metadata": {},
   "outputs": [
    {
     "data": {
      "text/plain": [
       "protein                             ORF1a\n",
       "epitope         EEEQEEDWLDDDSQQTVGQQDGSED\n",
       "start_pos                             971\n",
       "epi_len                                25\n",
       "entropy                          0.139463\n",
       "perc_mutated                     0.010948\n",
       "Name: 82889, dtype: object"
      ]
     },
     "execution_count": 13,
     "metadata": {},
     "output_type": "execute_result"
    }
   ],
   "source": [
    "df.iloc[82889]"
   ]
  },
  {
   "cell_type": "code",
   "execution_count": 14,
   "metadata": {},
   "outputs": [
    {
     "data": {
      "text/plain": [
       "86294"
      ]
     },
     "execution_count": 14,
     "metadata": {},
     "output_type": "execute_result"
    }
   ],
   "source": [
    "df[np.logical_and(df.protein=='ORF1a', \n",
    "                    np.logical_and(df.start_pos==4376,\n",
    "                    df.epi_len==25 ))].index[0]"
   ]
  },
  {
   "cell_type": "code",
   "execution_count": 15,
   "metadata": {},
   "outputs": [
    {
     "data": {
      "text/plain": [
       "['ADAQSFLN',\n",
       " 'SADAQSFLN',\n",
       " 'QSADAQSFLN',\n",
       " 'LQSADAQSFLN',\n",
       " 'PMLQSADAQSFLN',\n",
       " 'EPMLQSADAQSFLN',\n",
       " 'REPMLQSADAQSFLN',\n",
       " 'LREPMLQSADAQSFLN',\n",
       " 'QLREPMLQSADAQSFLN',\n",
       " 'DQLREPMLQSADAQSFLN',\n",
       " 'CDQLREPMLQSADAQSFLN',\n",
       " 'SCDQLREPMLQSADAQSFLN',\n",
       " 'CSCDQLREPMLQSADAQSFLN',\n",
       " 'GCSCDQLREPMLQSADAQSFLN',\n",
       " 'YGCSCDQLREPMLQSADAQSFLN',\n",
       " 'GYGCSCDQLREPMLQSADAQSFLN',\n",
       " 'KGYGCSCDQLREPMLQSADAQSFLN']"
      ]
     },
     "execution_count": 15,
     "metadata": {},
     "output_type": "execute_result"
    }
   ],
   "source": [
    "df.iloc[np.asarray(indices)].epitope.to_list()"
   ]
  },
  {
   "cell_type": "code",
   "execution_count": 16,
   "metadata": {},
   "outputs": [
    {
     "data": {
      "text/plain": [
       "(163813, 6)"
      ]
     },
     "execution_count": 16,
     "metadata": {},
     "output_type": "execute_result"
    }
   ],
   "source": [
    "df.shape"
   ]
  },
  {
   "cell_type": "code",
   "execution_count": 17,
   "metadata": {},
   "outputs": [
    {
     "data": {
      "text/plain": [
       "(163796, 6)"
      ]
     },
     "execution_count": 17,
     "metadata": {},
     "output_type": "execute_result"
    }
   ],
   "source": [
    "df.drop(indices, axis=0, inplace=True) \n",
    "df.shape"
   ]
  },
  {
   "cell_type": "code",
   "execution_count": 18,
   "metadata": {},
   "outputs": [],
   "source": [
    "#df['epi_len'] = df.sequence.apply(lambda x: len(x))"
   ]
  },
  {
   "cell_type": "code",
   "execution_count": 19,
   "metadata": {},
   "outputs": [],
   "source": [
    "# apply glyco to the epitopes. \n",
    "# and also the cleavage"
   ]
  },
  {
   "cell_type": "code",
   "execution_count": 18,
   "metadata": {},
   "outputs": [
    {
     "name": "stdout",
     "output_type": "stream",
     "text": [
      "index 0\n",
      "index 1\n",
      "index 2\n",
      "index 3\n",
      "index 4\n",
      "index 5\n",
      "index 6\n",
      "index 7\n",
      "index 8\n",
      "index 9\n",
      "index 10\n",
      "index 11\n",
      "index 12\n",
      "index 13\n",
      "index 14\n",
      "index 15\n",
      "index 16\n",
      "index 17\n",
      "index 18\n",
      "index 19\n",
      "index 20\n",
      "index 21\n",
      "index 22\n",
      "index 23\n",
      "index 24\n",
      "index 25\n",
      "index 26\n",
      "index 27\n",
      "index 28\n",
      "index 29\n",
      "index 30\n",
      "index 31\n",
      "index 32\n",
      "index 33\n",
      "index 34\n",
      "index 35\n",
      "index 36\n",
      "index 37\n",
      "index 38\n",
      "index 39\n",
      "index 40\n",
      "index 41\n",
      "index 42\n",
      "index 43\n",
      "index 44\n",
      "index 45\n",
      "index 46\n",
      "index 47\n",
      "index 48\n",
      "index 49\n",
      "index 50\n",
      "index 51\n",
      "index 52\n",
      "index 53\n",
      "index 54\n",
      "index 55\n",
      "index 56\n",
      "index 57\n",
      "index 58\n",
      "index 59\n",
      "index 60\n",
      "index 61\n",
      "index 62\n",
      "index 63\n",
      "index 64\n",
      "index 65\n",
      "index 66\n",
      "index 67\n",
      "index 68\n",
      "index 69\n",
      "index 70\n",
      "index 71\n",
      "index 72\n",
      "index 73\n",
      "index 74\n",
      "index 75\n",
      "index 76\n"
     ]
    }
   ],
   "source": [
    "df['glyco_probs'] = np.empty((len(df), 0)).tolist()\n",
    "for i in range(len(df_glyco)):\n",
    "    print('index',i)\n",
    "\n",
    "    protein_mask = df.protein==df_glyco.iloc[i].protein # select relevant protein\n",
    "    seq_start = df['start_pos']\n",
    "    seq_end = df['start_pos']+(df['epi_len']-1)\n",
    "    glyco_start = df_glyco.iloc[i].position\n",
    "    glyco_end = df_glyco.iloc[i].position+(len(df_glyco.iloc[i].seq)-1)\n",
    "    in_region = np.logical_and(glyco_start >= seq_start,glyco_start <= seq_end)\n",
    "    #if all 4 matter::: \n",
    "    #.    front_in_region = np.logical_and(glyco_start >= seq_start,glyco_start <= seq_end)\n",
    "    #     end_in_region = np.logical_and(glyco_end >= seq_start,glyco_end <= seq_end)\n",
    "    #.    in_region = np.logical_or(front_in_region, end_in_region)\n",
    "    in_region_and_protein = np.logical_and(protein_mask,in_region)\n",
    "    \n",
    "    df.loc[in_region_and_protein,'glyco_probs'] = df[in_region_and_protein]['glyco_probs'].apply(lambda x: x + [df_glyco.iloc[i].prob_of_glyco])\n",
    "    #apply protein mask and then epitope mask\n"
   ]
  },
  {
   "cell_type": "code",
   "execution_count": 19,
   "metadata": {},
   "outputs": [
    {
     "data": {
      "text/plain": [
       "(163796, 7)"
      ]
     },
     "execution_count": 19,
     "metadata": {},
     "output_type": "execute_result"
    }
   ],
   "source": [
    "df.shape"
   ]
  },
  {
   "cell_type": "code",
   "execution_count": 20,
   "metadata": {},
   "outputs": [
    {
     "data": {
      "text/html": [
       "<div>\n",
       "<style scoped>\n",
       "    .dataframe tbody tr th:only-of-type {\n",
       "        vertical-align: middle;\n",
       "    }\n",
       "\n",
       "    .dataframe tbody tr th {\n",
       "        vertical-align: top;\n",
       "    }\n",
       "\n",
       "    .dataframe thead th {\n",
       "        text-align: right;\n",
       "    }\n",
       "</style>\n",
       "<table border=\"1\" class=\"dataframe\">\n",
       "  <thead>\n",
       "    <tr style=\"text-align: right;\">\n",
       "      <th></th>\n",
       "      <th>protein</th>\n",
       "      <th>epitope</th>\n",
       "      <th>start_pos</th>\n",
       "      <th>epi_len</th>\n",
       "      <th>entropy</th>\n",
       "      <th>perc_mutated</th>\n",
       "      <th>glyco_probs</th>\n",
       "    </tr>\n",
       "  </thead>\n",
       "  <tbody>\n",
       "    <tr>\n",
       "      <th>0</th>\n",
       "      <td>E</td>\n",
       "      <td>MYSFVSEE</td>\n",
       "      <td>0</td>\n",
       "      <td>8</td>\n",
       "      <td>0.035578</td>\n",
       "      <td>0.002893</td>\n",
       "      <td>[]</td>\n",
       "    </tr>\n",
       "    <tr>\n",
       "      <th>1</th>\n",
       "      <td>E</td>\n",
       "      <td>YSFVSEET</td>\n",
       "      <td>1</td>\n",
       "      <td>8</td>\n",
       "      <td>0.042296</td>\n",
       "      <td>0.003441</td>\n",
       "      <td>[]</td>\n",
       "    </tr>\n",
       "    <tr>\n",
       "      <th>2</th>\n",
       "      <td>E</td>\n",
       "      <td>SFVSEETG</td>\n",
       "      <td>2</td>\n",
       "      <td>8</td>\n",
       "      <td>0.042296</td>\n",
       "      <td>0.003441</td>\n",
       "      <td>[]</td>\n",
       "    </tr>\n",
       "    <tr>\n",
       "      <th>3</th>\n",
       "      <td>E</td>\n",
       "      <td>FVSEETGT</td>\n",
       "      <td>3</td>\n",
       "      <td>8</td>\n",
       "      <td>0.041116</td>\n",
       "      <td>0.003363</td>\n",
       "      <td>[]</td>\n",
       "    </tr>\n",
       "    <tr>\n",
       "      <th>4</th>\n",
       "      <td>E</td>\n",
       "      <td>VSEETGTL</td>\n",
       "      <td>4</td>\n",
       "      <td>8</td>\n",
       "      <td>0.038914</td>\n",
       "      <td>0.003206</td>\n",
       "      <td>[]</td>\n",
       "    </tr>\n",
       "  </tbody>\n",
       "</table>\n",
       "</div>"
      ],
      "text/plain": [
       "  protein   epitope  start_pos  epi_len   entropy  perc_mutated glyco_probs\n",
       "0       E  MYSFVSEE          0        8  0.035578      0.002893          []\n",
       "1       E  YSFVSEET          1        8  0.042296      0.003441          []\n",
       "2       E  SFVSEETG          2        8  0.042296      0.003441          []\n",
       "3       E  FVSEETGT          3        8  0.041116      0.003363          []\n",
       "4       E  VSEETGTL          4        8  0.038914      0.003206          []"
      ]
     },
     "execution_count": 20,
     "metadata": {},
     "output_type": "execute_result"
    }
   ],
   "source": [
    "df.head()"
   ]
  },
  {
   "cell_type": "code",
   "execution_count": 21,
   "metadata": {},
   "outputs": [
    {
     "data": {
      "text/plain": [
       "(154086, 7)"
      ]
     },
     "execution_count": 21,
     "metadata": {},
     "output_type": "execute_result"
    }
   ],
   "source": [
    "df[np.logical_and(df.epi_len!=11, df.epi_len!=12)].shape"
   ]
  },
  {
   "cell_type": "code",
   "execution_count": 22,
   "metadata": {},
   "outputs": [
    {
     "data": {
      "text/plain": [
       "18"
      ]
     },
     "execution_count": 22,
     "metadata": {},
     "output_type": "execute_result"
    }
   ],
   "source": [
    "len(np.arange(8,26))"
   ]
  },
  {
   "cell_type": "code",
   "execution_count": 23,
   "metadata": {},
   "outputs": [
    {
     "data": {
      "text/plain": [
       "154996"
      ]
     },
     "execution_count": 23,
     "metadata": {},
     "output_type": "execute_result"
    }
   ],
   "source": [
    "155012-16"
   ]
  },
  {
   "cell_type": "code",
   "execution_count": 24,
   "metadata": {},
   "outputs": [
    {
     "data": {
      "text/html": [
       "<div>\n",
       "<style scoped>\n",
       "    .dataframe tbody tr th:only-of-type {\n",
       "        vertical-align: middle;\n",
       "    }\n",
       "\n",
       "    .dataframe tbody tr th {\n",
       "        vertical-align: top;\n",
       "    }\n",
       "\n",
       "    .dataframe thead th {\n",
       "        text-align: right;\n",
       "    }\n",
       "</style>\n",
       "<table border=\"1\" class=\"dataframe\">\n",
       "  <thead>\n",
       "    <tr style=\"text-align: right;\">\n",
       "      <th></th>\n",
       "      <th>protein</th>\n",
       "      <th>epitope</th>\n",
       "      <th>start_pos</th>\n",
       "      <th>epi_len</th>\n",
       "      <th>entropy</th>\n",
       "      <th>perc_mutated</th>\n",
       "      <th>glyco_probs</th>\n",
       "    </tr>\n",
       "  </thead>\n",
       "  <tbody>\n",
       "    <tr>\n",
       "      <th>0</th>\n",
       "      <td>E</td>\n",
       "      <td>MYSFVSEE</td>\n",
       "      <td>0</td>\n",
       "      <td>8</td>\n",
       "      <td>0.035578</td>\n",
       "      <td>0.002893</td>\n",
       "      <td>[]</td>\n",
       "    </tr>\n",
       "    <tr>\n",
       "      <th>1</th>\n",
       "      <td>E</td>\n",
       "      <td>YSFVSEET</td>\n",
       "      <td>1</td>\n",
       "      <td>8</td>\n",
       "      <td>0.042296</td>\n",
       "      <td>0.003441</td>\n",
       "      <td>[]</td>\n",
       "    </tr>\n",
       "    <tr>\n",
       "      <th>2</th>\n",
       "      <td>E</td>\n",
       "      <td>SFVSEETG</td>\n",
       "      <td>2</td>\n",
       "      <td>8</td>\n",
       "      <td>0.042296</td>\n",
       "      <td>0.003441</td>\n",
       "      <td>[]</td>\n",
       "    </tr>\n",
       "    <tr>\n",
       "      <th>3</th>\n",
       "      <td>E</td>\n",
       "      <td>FVSEETGT</td>\n",
       "      <td>3</td>\n",
       "      <td>8</td>\n",
       "      <td>0.041116</td>\n",
       "      <td>0.003363</td>\n",
       "      <td>[]</td>\n",
       "    </tr>\n",
       "    <tr>\n",
       "      <th>4</th>\n",
       "      <td>E</td>\n",
       "      <td>VSEETGTL</td>\n",
       "      <td>4</td>\n",
       "      <td>8</td>\n",
       "      <td>0.038914</td>\n",
       "      <td>0.003206</td>\n",
       "      <td>[]</td>\n",
       "    </tr>\n",
       "  </tbody>\n",
       "</table>\n",
       "</div>"
      ],
      "text/plain": [
       "  protein   epitope  start_pos  epi_len   entropy  perc_mutated glyco_probs\n",
       "0       E  MYSFVSEE          0        8  0.035578      0.002893          []\n",
       "1       E  YSFVSEET          1        8  0.042296      0.003441          []\n",
       "2       E  SFVSEETG          2        8  0.042296      0.003441          []\n",
       "3       E  FVSEETGT          3        8  0.041116      0.003363          []\n",
       "4       E  VSEETGTL          4        8  0.038914      0.003206          []"
      ]
     },
     "execution_count": 24,
     "metadata": {},
     "output_type": "execute_result"
    }
   ],
   "source": [
    "df.head()"
   ]
  },
  {
   "cell_type": "code",
   "execution_count": 25,
   "metadata": {},
   "outputs": [
    {
     "data": {
      "text/plain": [
       "18957.0"
      ]
     },
     "execution_count": 25,
     "metadata": {},
     "output_type": "execute_result"
    }
   ],
   "source": [
    "len_dropped = df[np.logical_and(df.epi_len!=11, df.epi_len!=12)]\n",
    "len_dropped.glyco_probs.apply(lambda x: 1.0 if len(x)>0 else 0.0).sum()"
   ]
  },
  {
   "cell_type": "code",
   "execution_count": 26,
   "metadata": {},
   "outputs": [
    {
     "data": {
      "text/plain": [
       "18957.0"
      ]
     },
     "execution_count": 26,
     "metadata": {},
     "output_type": "execute_result"
    }
   ],
   "source": [
    "len_dropped = df[np.logical_and(df.epi_len!=11, df.epi_len!=12)]\n",
    "len_dropped.glyco_probs.apply(lambda x: 1.0 if len(x)>0 else 0.0).sum()"
   ]
  },
  {
   "cell_type": "code",
   "execution_count": 27,
   "metadata": {},
   "outputs": [
    {
     "data": {
      "text/plain": [
       "array([ 8,  9, 10, 11, 13, 14, 15, 16, 17, 18, 19, 20, 21, 22, 23, 24, 25])"
      ]
     },
     "execution_count": 27,
     "metadata": {},
     "output_type": "execute_result"
    }
   ],
   "source": [
    "df.epi_len.unique()"
   ]
  },
  {
   "cell_type": "code",
   "execution_count": 28,
   "metadata": {},
   "outputs": [
    {
     "data": {
      "text/plain": [
       "20824"
      ]
     },
     "execution_count": 28,
     "metadata": {},
     "output_type": "execute_result"
    }
   ],
   "source": [
    "#76 glyco sites. \n",
    "#there should be \n",
    "(np.arange(8,26).sum()-12-11)*76 # yep seems pretty reasonable"
   ]
  },
  {
   "cell_type": "code",
   "execution_count": 29,
   "metadata": {},
   "outputs": [
    {
     "data": {
      "text/plain": [
       "0.12230638210018323"
      ]
     },
     "execution_count": 29,
     "metadata": {},
     "output_type": "execute_result"
    }
   ],
   "source": [
    "18957.0/154996"
   ]
  },
  {
   "cell_type": "code",
   "execution_count": 30,
   "metadata": {},
   "outputs": [],
   "source": [
    "# binarizing glyco probs\n",
    "\n",
    "df['glyco_probs'] = df.glyco_probs.apply(lambda x: 1.0 if len(x)>0 else 0.0)"
   ]
  },
  {
   "cell_type": "code",
   "execution_count": 31,
   "metadata": {},
   "outputs": [
    {
     "data": {
      "text/html": [
       "<div>\n",
       "<style scoped>\n",
       "    .dataframe tbody tr th:only-of-type {\n",
       "        vertical-align: middle;\n",
       "    }\n",
       "\n",
       "    .dataframe tbody tr th {\n",
       "        vertical-align: top;\n",
       "    }\n",
       "\n",
       "    .dataframe thead th {\n",
       "        text-align: right;\n",
       "    }\n",
       "</style>\n",
       "<table border=\"1\" class=\"dataframe\">\n",
       "  <thead>\n",
       "    <tr style=\"text-align: right;\">\n",
       "      <th></th>\n",
       "      <th>protein</th>\n",
       "      <th>position</th>\n",
       "      <th>seq</th>\n",
       "      <th>prob_of_glyco</th>\n",
       "    </tr>\n",
       "  </thead>\n",
       "  <tbody>\n",
       "    <tr>\n",
       "      <th>0</th>\n",
       "      <td>E</td>\n",
       "      <td>47</td>\n",
       "      <td>NVSL</td>\n",
       "      <td>0.6507</td>\n",
       "    </tr>\n",
       "    <tr>\n",
       "      <th>1</th>\n",
       "      <td>E</td>\n",
       "      <td>65</td>\n",
       "      <td>NSSR</td>\n",
       "      <td>0.6339</td>\n",
       "    </tr>\n",
       "    <tr>\n",
       "      <th>2</th>\n",
       "      <td>M</td>\n",
       "      <td>4</td>\n",
       "      <td>NGTI</td>\n",
       "      <td>0.7577</td>\n",
       "    </tr>\n",
       "    <tr>\n",
       "      <th>3</th>\n",
       "      <td>N</td>\n",
       "      <td>46</td>\n",
       "      <td>NNTA</td>\n",
       "      <td>0.6798</td>\n",
       "    </tr>\n",
       "    <tr>\n",
       "      <th>4</th>\n",
       "      <td>N</td>\n",
       "      <td>76</td>\n",
       "      <td>NSSP</td>\n",
       "      <td>0.2149</td>\n",
       "    </tr>\n",
       "  </tbody>\n",
       "</table>\n",
       "</div>"
      ],
      "text/plain": [
       "  protein  position   seq  prob_of_glyco\n",
       "0       E        47  NVSL         0.6507\n",
       "1       E        65  NSSR         0.6339\n",
       "2       M         4  NGTI         0.7577\n",
       "3       N        46  NNTA         0.6798\n",
       "4       N        76  NSSP         0.2149"
      ]
     },
     "execution_count": 31,
     "metadata": {},
     "output_type": "execute_result"
    }
   ],
   "source": [
    "df_glyco.head()"
   ]
  },
  {
   "cell_type": "code",
   "execution_count": 33,
   "metadata": {},
   "outputs": [
    {
     "data": {
      "text/html": [
       "<div>\n",
       "<style scoped>\n",
       "    .dataframe tbody tr th:only-of-type {\n",
       "        vertical-align: middle;\n",
       "    }\n",
       "\n",
       "    .dataframe tbody tr th {\n",
       "        vertical-align: top;\n",
       "    }\n",
       "\n",
       "    .dataframe thead th {\n",
       "        text-align: right;\n",
       "    }\n",
       "</style>\n",
       "<table border=\"1\" class=\"dataframe\">\n",
       "  <thead>\n",
       "    <tr style=\"text-align: right;\">\n",
       "      <th></th>\n",
       "      <th>protein</th>\n",
       "      <th>epitope</th>\n",
       "      <th>start_pos</th>\n",
       "      <th>epi_len</th>\n",
       "      <th>entropy</th>\n",
       "      <th>perc_mutated</th>\n",
       "      <th>glyco_probs</th>\n",
       "    </tr>\n",
       "  </thead>\n",
       "  <tbody>\n",
       "    <tr>\n",
       "      <th>0</th>\n",
       "      <td>E</td>\n",
       "      <td>MYSFVSEE</td>\n",
       "      <td>0</td>\n",
       "      <td>8</td>\n",
       "      <td>0.035578</td>\n",
       "      <td>0.002893</td>\n",
       "      <td>0.0</td>\n",
       "    </tr>\n",
       "    <tr>\n",
       "      <th>1</th>\n",
       "      <td>E</td>\n",
       "      <td>YSFVSEET</td>\n",
       "      <td>1</td>\n",
       "      <td>8</td>\n",
       "      <td>0.042296</td>\n",
       "      <td>0.003441</td>\n",
       "      <td>0.0</td>\n",
       "    </tr>\n",
       "    <tr>\n",
       "      <th>2</th>\n",
       "      <td>E</td>\n",
       "      <td>SFVSEETG</td>\n",
       "      <td>2</td>\n",
       "      <td>8</td>\n",
       "      <td>0.042296</td>\n",
       "      <td>0.003441</td>\n",
       "      <td>0.0</td>\n",
       "    </tr>\n",
       "    <tr>\n",
       "      <th>3</th>\n",
       "      <td>E</td>\n",
       "      <td>FVSEETGT</td>\n",
       "      <td>3</td>\n",
       "      <td>8</td>\n",
       "      <td>0.041116</td>\n",
       "      <td>0.003363</td>\n",
       "      <td>0.0</td>\n",
       "    </tr>\n",
       "    <tr>\n",
       "      <th>4</th>\n",
       "      <td>E</td>\n",
       "      <td>VSEETGTL</td>\n",
       "      <td>4</td>\n",
       "      <td>8</td>\n",
       "      <td>0.038914</td>\n",
       "      <td>0.003206</td>\n",
       "      <td>0.0</td>\n",
       "    </tr>\n",
       "  </tbody>\n",
       "</table>\n",
       "</div>"
      ],
      "text/plain": [
       "  protein   epitope  start_pos  epi_len   entropy  perc_mutated  glyco_probs\n",
       "0       E  MYSFVSEE          0        8  0.035578      0.002893          0.0\n",
       "1       E  YSFVSEET          1        8  0.042296      0.003441          0.0\n",
       "2       E  SFVSEETG          2        8  0.042296      0.003441          0.0\n",
       "3       E  FVSEETGT          3        8  0.041116      0.003363          0.0\n",
       "4       E  VSEETGTL          4        8  0.038914      0.003206          0.0"
      ]
     },
     "execution_count": 33,
     "metadata": {},
     "output_type": "execute_result"
    }
   ],
   "source": [
    "df.head()"
   ]
  },
  {
   "cell_type": "code",
   "execution_count": 34,
   "metadata": {},
   "outputs": [
    {
     "data": {
      "text/html": [
       "<div>\n",
       "<style scoped>\n",
       "    .dataframe tbody tr th:only-of-type {\n",
       "        vertical-align: middle;\n",
       "    }\n",
       "\n",
       "    .dataframe tbody tr th {\n",
       "        vertical-align: top;\n",
       "    }\n",
       "\n",
       "    .dataframe thead th {\n",
       "        text-align: right;\n",
       "    }\n",
       "</style>\n",
       "<table border=\"1\" class=\"dataframe\">\n",
       "  <thead>\n",
       "    <tr style=\"text-align: right;\">\n",
       "      <th></th>\n",
       "      <th>protein</th>\n",
       "      <th>epitope</th>\n",
       "      <th>start_pos</th>\n",
       "      <th>epi_len</th>\n",
       "      <th>entropy</th>\n",
       "      <th>perc_mutated</th>\n",
       "      <th>glyco_probs</th>\n",
       "    </tr>\n",
       "  </thead>\n",
       "  <tbody>\n",
       "    <tr>\n",
       "      <th>141</th>\n",
       "      <td>E</td>\n",
       "      <td>EETGTLIVNS</td>\n",
       "      <td>6</td>\n",
       "      <td>10</td>\n",
       "      <td>0.016271</td>\n",
       "      <td>0.001251</td>\n",
       "      <td>0.0</td>\n",
       "    </tr>\n",
       "  </tbody>\n",
       "</table>\n",
       "</div>"
      ],
      "text/plain": [
       "    protein     epitope  start_pos  epi_len   entropy  perc_mutated  \\\n",
       "141       E  EETGTLIVNS          6       10  0.016271      0.001251   \n",
       "\n",
       "     glyco_probs  \n",
       "141          0.0  "
      ]
     },
     "execution_count": 34,
     "metadata": {},
     "output_type": "execute_result"
    }
   ],
   "source": [
    "df[np.logical_and(df.protein=='E', np.logical_and(df.start_pos==6,df.epi_len==10 ))]"
   ]
  },
  {
   "cell_type": "code",
   "execution_count": null,
   "metadata": {},
   "outputs": [],
   "source": []
  },
  {
   "cell_type": "code",
   "execution_count": 35,
   "metadata": {},
   "outputs": [
    {
     "data": {
      "text/plain": [
       "array(['E', 'M', 'N', 'ORF10', 'ORF1a', 'ORF1b', 'ORF3a', 'ORF6', 'ORF7a',\n",
       "       'ORF7b', 'ORF8', 'ORF9b', 'S'], dtype=object)"
      ]
     },
     "execution_count": 35,
     "metadata": {},
     "output_type": "execute_result"
    }
   ],
   "source": [
    "df.protein.unique()"
   ]
  },
  {
   "cell_type": "code",
   "execution_count": 36,
   "metadata": {},
   "outputs": [
    {
     "data": {
      "text/html": [
       "<div>\n",
       "<style scoped>\n",
       "    .dataframe tbody tr th:only-of-type {\n",
       "        vertical-align: middle;\n",
       "    }\n",
       "\n",
       "    .dataframe tbody tr th {\n",
       "        vertical-align: top;\n",
       "    }\n",
       "\n",
       "    .dataframe thead th {\n",
       "        text-align: right;\n",
       "    }\n",
       "</style>\n",
       "<table border=\"1\" class=\"dataframe\">\n",
       "  <thead>\n",
       "    <tr style=\"text-align: right;\">\n",
       "      <th></th>\n",
       "      <th>Start</th>\n",
       "      <th>End</th>\n",
       "      <th>Sub_Protein</th>\n",
       "      <th>Protein</th>\n",
       "    </tr>\n",
       "  </thead>\n",
       "  <tbody>\n",
       "    <tr>\n",
       "      <th>0</th>\n",
       "      <td>0</td>\n",
       "      <td>179</td>\n",
       "      <td>Non-structural protein 1</td>\n",
       "      <td>ORF1a</td>\n",
       "    </tr>\n",
       "    <tr>\n",
       "      <th>1</th>\n",
       "      <td>180</td>\n",
       "      <td>817</td>\n",
       "      <td>Non-structural protein 2</td>\n",
       "      <td>ORF1a</td>\n",
       "    </tr>\n",
       "    <tr>\n",
       "      <th>2</th>\n",
       "      <td>818</td>\n",
       "      <td>2762</td>\n",
       "      <td>Non-structural protein 3</td>\n",
       "      <td>ORF1a</td>\n",
       "    </tr>\n",
       "    <tr>\n",
       "      <th>3</th>\n",
       "      <td>2763</td>\n",
       "      <td>3262</td>\n",
       "      <td>Non-structural protein 4</td>\n",
       "      <td>ORF1a</td>\n",
       "    </tr>\n",
       "    <tr>\n",
       "      <th>4</th>\n",
       "      <td>3263</td>\n",
       "      <td>3568</td>\n",
       "      <td>3C-like proteinase</td>\n",
       "      <td>ORF1a</td>\n",
       "    </tr>\n",
       "  </tbody>\n",
       "</table>\n",
       "</div>"
      ],
      "text/plain": [
       "   Start   End               Sub_Protein Protein\n",
       "0      0   179  Non-structural protein 1   ORF1a\n",
       "1    180   817  Non-structural protein 2   ORF1a\n",
       "2    818  2762  Non-structural protein 3   ORF1a\n",
       "3   2763  3262  Non-structural protein 4   ORF1a\n",
       "4   3263  3568        3C-like proteinase   ORF1a"
      ]
     },
     "execution_count": 36,
     "metadata": {},
     "output_type": "execute_result"
    }
   ],
   "source": [
    "df_cleave.head()"
   ]
  },
  {
   "cell_type": "code",
   "execution_count": 37,
   "metadata": {},
   "outputs": [
    {
     "data": {
      "text/html": [
       "<div>\n",
       "<style scoped>\n",
       "    .dataframe tbody tr th:only-of-type {\n",
       "        vertical-align: middle;\n",
       "    }\n",
       "\n",
       "    .dataframe tbody tr th {\n",
       "        vertical-align: top;\n",
       "    }\n",
       "\n",
       "    .dataframe thead th {\n",
       "        text-align: right;\n",
       "    }\n",
       "</style>\n",
       "<table border=\"1\" class=\"dataframe\">\n",
       "  <thead>\n",
       "    <tr style=\"text-align: right;\">\n",
       "      <th></th>\n",
       "      <th>Start</th>\n",
       "      <th>End</th>\n",
       "      <th>Sub_Protein</th>\n",
       "      <th>Protein</th>\n",
       "    </tr>\n",
       "  </thead>\n",
       "  <tbody>\n",
       "    <tr>\n",
       "      <th>0</th>\n",
       "      <td>0</td>\n",
       "      <td>179</td>\n",
       "      <td>Non-structural protein 1</td>\n",
       "      <td>ORF1a</td>\n",
       "    </tr>\n",
       "    <tr>\n",
       "      <th>1</th>\n",
       "      <td>180</td>\n",
       "      <td>817</td>\n",
       "      <td>Non-structural protein 2</td>\n",
       "      <td>ORF1a</td>\n",
       "    </tr>\n",
       "    <tr>\n",
       "      <th>2</th>\n",
       "      <td>818</td>\n",
       "      <td>2762</td>\n",
       "      <td>Non-structural protein 3</td>\n",
       "      <td>ORF1a</td>\n",
       "    </tr>\n",
       "    <tr>\n",
       "      <th>3</th>\n",
       "      <td>2763</td>\n",
       "      <td>3262</td>\n",
       "      <td>Non-structural protein 4</td>\n",
       "      <td>ORF1a</td>\n",
       "    </tr>\n",
       "    <tr>\n",
       "      <th>4</th>\n",
       "      <td>3263</td>\n",
       "      <td>3568</td>\n",
       "      <td>3C-like proteinase</td>\n",
       "      <td>ORF1a</td>\n",
       "    </tr>\n",
       "    <tr>\n",
       "      <th>5</th>\n",
       "      <td>3569</td>\n",
       "      <td>3858</td>\n",
       "      <td>Non-structural protein 6</td>\n",
       "      <td>ORF1a</td>\n",
       "    </tr>\n",
       "    <tr>\n",
       "      <th>6</th>\n",
       "      <td>3859</td>\n",
       "      <td>3941</td>\n",
       "      <td>Non-structural protein 7</td>\n",
       "      <td>ORF1a</td>\n",
       "    </tr>\n",
       "    <tr>\n",
       "      <th>7</th>\n",
       "      <td>3942</td>\n",
       "      <td>4139</td>\n",
       "      <td>Non-structural protein 8</td>\n",
       "      <td>ORF1a</td>\n",
       "    </tr>\n",
       "    <tr>\n",
       "      <th>8</th>\n",
       "      <td>4140</td>\n",
       "      <td>4252</td>\n",
       "      <td>Non-structural protein 9</td>\n",
       "      <td>ORF1a</td>\n",
       "    </tr>\n",
       "    <tr>\n",
       "      <th>9</th>\n",
       "      <td>4253</td>\n",
       "      <td>4391</td>\n",
       "      <td>Non-structural protein 10</td>\n",
       "      <td>ORF1a</td>\n",
       "    </tr>\n",
       "    <tr>\n",
       "      <th>10</th>\n",
       "      <td>4392</td>\n",
       "      <td>4404</td>\n",
       "      <td>Non-structural protein 11</td>\n",
       "      <td>ORF1a</td>\n",
       "    </tr>\n",
       "    <tr>\n",
       "      <th>11</th>\n",
       "      <td>-9</td>\n",
       "      <td>922</td>\n",
       "      <td>RNA-directed RNA polymerase</td>\n",
       "      <td>ORF1b</td>\n",
       "    </tr>\n",
       "    <tr>\n",
       "      <th>12</th>\n",
       "      <td>923</td>\n",
       "      <td>1523</td>\n",
       "      <td>Helicase</td>\n",
       "      <td>ORF1b</td>\n",
       "    </tr>\n",
       "    <tr>\n",
       "      <th>13</th>\n",
       "      <td>1524</td>\n",
       "      <td>2050</td>\n",
       "      <td>Guanine-N7 methyltransferase</td>\n",
       "      <td>ORF1b</td>\n",
       "    </tr>\n",
       "    <tr>\n",
       "      <th>14</th>\n",
       "      <td>2051</td>\n",
       "      <td>2396</td>\n",
       "      <td>Uridylate-specific endoribonuclease</td>\n",
       "      <td>ORF1b</td>\n",
       "    </tr>\n",
       "    <tr>\n",
       "      <th>15</th>\n",
       "      <td>2397</td>\n",
       "      <td>2694</td>\n",
       "      <td>2'-O-methyltransferase</td>\n",
       "      <td>ORF1b</td>\n",
       "    </tr>\n",
       "    <tr>\n",
       "      <th>16</th>\n",
       "      <td>0</td>\n",
       "      <td>684</td>\n",
       "      <td>S1</td>\n",
       "      <td>S</td>\n",
       "    </tr>\n",
       "    <tr>\n",
       "      <th>17</th>\n",
       "      <td>685</td>\n",
       "      <td>1273</td>\n",
       "      <td>S2</td>\n",
       "      <td>S</td>\n",
       "    </tr>\n",
       "  </tbody>\n",
       "</table>\n",
       "</div>"
      ],
      "text/plain": [
       "    Start   End                          Sub_Protein Protein\n",
       "0       0   179             Non-structural protein 1   ORF1a\n",
       "1     180   817             Non-structural protein 2   ORF1a\n",
       "2     818  2762             Non-structural protein 3   ORF1a\n",
       "3    2763  3262             Non-structural protein 4   ORF1a\n",
       "4    3263  3568                   3C-like proteinase   ORF1a\n",
       "5    3569  3858             Non-structural protein 6   ORF1a\n",
       "6    3859  3941             Non-structural protein 7   ORF1a\n",
       "7    3942  4139             Non-structural protein 8   ORF1a\n",
       "8    4140  4252             Non-structural protein 9   ORF1a\n",
       "9    4253  4391            Non-structural protein 10   ORF1a\n",
       "10   4392  4404            Non-structural protein 11   ORF1a\n",
       "11     -9   922          RNA-directed RNA polymerase   ORF1b\n",
       "12    923  1523                             Helicase   ORF1b\n",
       "13   1524  2050         Guanine-N7 methyltransferase   ORF1b\n",
       "14   2051  2396  Uridylate-specific endoribonuclease   ORF1b\n",
       "15   2397  2694               2'-O-methyltransferase   ORF1b\n",
       "16      0   684                                   S1       S\n",
       "17    685  1273                                   S2       S"
      ]
     },
     "execution_count": 37,
     "metadata": {},
     "output_type": "execute_result"
    }
   ],
   "source": [
    "# adding in the cleavage sites. End is the position right before the start of cleavage. \n",
    "df_cleave"
   ]
  },
  {
   "cell_type": "code",
   "execution_count": 38,
   "metadata": {},
   "outputs": [
    {
     "data": {
      "text/plain": [
       "array(['Non-structural protein 1', 'Non-structural protein 2',\n",
       "       'Non-structural protein 3', 'Non-structural protein 4',\n",
       "       '3C-like proteinase', 'Non-structural protein 6',\n",
       "       'Non-structural protein 7', 'Non-structural protein 8',\n",
       "       'Non-structural protein 9', 'Non-structural protein 10',\n",
       "       'Non-structural protein 11', 'RNA-directed RNA polymerase',\n",
       "       'Helicase', 'Guanine-N7 methyltransferase',\n",
       "       'Uridylate-specific endoribonuclease', \"2'-O-methyltransferase\",\n",
       "       'S1', 'S2'], dtype=object)"
      ]
     },
     "execution_count": 38,
     "metadata": {},
     "output_type": "execute_result"
    }
   ],
   "source": [
    "df_cleave.Sub_Protein.unique()"
   ]
  },
  {
   "cell_type": "code",
   "execution_count": 39,
   "metadata": {},
   "outputs": [
    {
     "data": {
      "text/plain": [
       "(18, 4)"
      ]
     },
     "execution_count": 39,
     "metadata": {},
     "output_type": "execute_result"
    }
   ],
   "source": [
    "df_cleave.shape"
   ]
  },
  {
   "cell_type": "code",
   "execution_count": 40,
   "metadata": {},
   "outputs": [
    {
     "data": {
      "text/plain": [
       "18"
      ]
     },
     "execution_count": 40,
     "metadata": {},
     "output_type": "execute_result"
    }
   ],
   "source": [
    "len(df_cleave.Sub_Protein.unique())"
   ]
  },
  {
   "cell_type": "code",
   "execution_count": 41,
   "metadata": {},
   "outputs": [
    {
     "data": {
      "text/plain": [
       "array(['ORF1a', 'ORF1b', 'S'], dtype=object)"
      ]
     },
     "execution_count": 41,
     "metadata": {},
     "output_type": "execute_result"
    }
   ],
   "source": [
    "df_cleave.Protein.unique()"
   ]
  },
  {
   "cell_type": "code",
   "execution_count": 42,
   "metadata": {},
   "outputs": [
    {
     "data": {
      "text/plain": [
       "28"
      ]
     },
     "execution_count": 42,
     "metadata": {},
     "output_type": "execute_result"
    }
   ],
   "source": [
    "len(df.protein.unique()) - len(df_cleave.Protein.unique()) + len(df_cleave.Sub_Protein.unique())"
   ]
  },
  {
   "cell_type": "code",
   "execution_count": 43,
   "metadata": {},
   "outputs": [
    {
     "data": {
      "text/html": [
       "<div>\n",
       "<style scoped>\n",
       "    .dataframe tbody tr th:only-of-type {\n",
       "        vertical-align: middle;\n",
       "    }\n",
       "\n",
       "    .dataframe tbody tr th {\n",
       "        vertical-align: top;\n",
       "    }\n",
       "\n",
       "    .dataframe thead th {\n",
       "        text-align: right;\n",
       "    }\n",
       "</style>\n",
       "<table border=\"1\" class=\"dataframe\">\n",
       "  <thead>\n",
       "    <tr style=\"text-align: right;\">\n",
       "      <th></th>\n",
       "      <th>Start</th>\n",
       "      <th>End</th>\n",
       "      <th>Sub_Protein</th>\n",
       "      <th>Protein</th>\n",
       "    </tr>\n",
       "  </thead>\n",
       "  <tbody>\n",
       "    <tr>\n",
       "      <th>13</th>\n",
       "      <td>1524</td>\n",
       "      <td>2050</td>\n",
       "      <td>Guanine-N7 methyltransferase</td>\n",
       "      <td>ORF1b</td>\n",
       "    </tr>\n",
       "    <tr>\n",
       "      <th>14</th>\n",
       "      <td>2051</td>\n",
       "      <td>2396</td>\n",
       "      <td>Uridylate-specific endoribonuclease</td>\n",
       "      <td>ORF1b</td>\n",
       "    </tr>\n",
       "    <tr>\n",
       "      <th>15</th>\n",
       "      <td>2397</td>\n",
       "      <td>2694</td>\n",
       "      <td>2'-O-methyltransferase</td>\n",
       "      <td>ORF1b</td>\n",
       "    </tr>\n",
       "    <tr>\n",
       "      <th>16</th>\n",
       "      <td>0</td>\n",
       "      <td>684</td>\n",
       "      <td>S1</td>\n",
       "      <td>S</td>\n",
       "    </tr>\n",
       "    <tr>\n",
       "      <th>17</th>\n",
       "      <td>685</td>\n",
       "      <td>1273</td>\n",
       "      <td>S2</td>\n",
       "      <td>S</td>\n",
       "    </tr>\n",
       "  </tbody>\n",
       "</table>\n",
       "</div>"
      ],
      "text/plain": [
       "    Start   End                          Sub_Protein Protein\n",
       "13   1524  2050         Guanine-N7 methyltransferase   ORF1b\n",
       "14   2051  2396  Uridylate-specific endoribonuclease   ORF1b\n",
       "15   2397  2694               2'-O-methyltransferase   ORF1b\n",
       "16      0   684                                   S1       S\n",
       "17    685  1273                                   S2       S"
      ]
     },
     "execution_count": 43,
     "metadata": {},
     "output_type": "execute_result"
    }
   ],
   "source": [
    "df_cleave.tail()"
   ]
  },
  {
   "cell_type": "code",
   "execution_count": 44,
   "metadata": {},
   "outputs": [
    {
     "name": "stdout",
     "output_type": "stream",
     "text": [
      "index 0\n",
      "index 1\n",
      "index 2\n",
      "index 3\n",
      "index 4\n",
      "index 5\n",
      "index 6\n",
      "index 7\n",
      "index 8\n",
      "index 9\n",
      "index 10\n",
      "index 11\n",
      "index 12\n",
      "index 13\n",
      "index 14\n",
      "index 15\n",
      "index 16\n",
      "index 17\n"
     ]
    }
   ],
   "source": [
    "df['crosses_cleavage'] = 0\n",
    "for i in range(len(df_cleave)):\n",
    "    print('index',i)\n",
    "\n",
    "    protein_mask = df.protein==df_cleave.iloc[i].Protein\n",
    "    seq_start = df['start_pos']\n",
    "    seq_end = df['start_pos']+(df['epi_len']-1)\n",
    "    \n",
    "    cleave_position = df_cleave.iloc[i].End+1 # as it is the position to be avoided. \n",
    "    # while I have marked the end of the proteins\n",
    "    \n",
    "    # rather than an AA to avoid like with glyco. here it is a spot in between AAs. \n",
    "    in_region = np.logical_and(cleave_position > seq_start,\n",
    "                               cleave_position <= seq_end) \n",
    "    # conservative here where\n",
    "    # I dont let it exist on the position before cleavage either. \n",
    "    in_region_and_protein = np.logical_and(protein_mask,in_region)\n",
    "    \n",
    "    df.loc[in_region_and_protein,'crosses_cleavage'] = 1\n",
    "    #apply protein mask and then epitope mask\n"
   ]
  },
  {
   "cell_type": "code",
   "execution_count": 45,
   "metadata": {},
   "outputs": [
    {
     "data": {
      "text/html": [
       "<div>\n",
       "<style scoped>\n",
       "    .dataframe tbody tr th:only-of-type {\n",
       "        vertical-align: middle;\n",
       "    }\n",
       "\n",
       "    .dataframe tbody tr th {\n",
       "        vertical-align: top;\n",
       "    }\n",
       "\n",
       "    .dataframe thead th {\n",
       "        text-align: right;\n",
       "    }\n",
       "</style>\n",
       "<table border=\"1\" class=\"dataframe\">\n",
       "  <thead>\n",
       "    <tr style=\"text-align: right;\">\n",
       "      <th></th>\n",
       "      <th>protein</th>\n",
       "      <th>epitope</th>\n",
       "      <th>start_pos</th>\n",
       "      <th>epi_len</th>\n",
       "      <th>entropy</th>\n",
       "      <th>perc_mutated</th>\n",
       "      <th>glyco_probs</th>\n",
       "      <th>crosses_cleavage</th>\n",
       "    </tr>\n",
       "  </thead>\n",
       "  <tbody>\n",
       "    <tr>\n",
       "      <th>0</th>\n",
       "      <td>E</td>\n",
       "      <td>MYSFVSEE</td>\n",
       "      <td>0</td>\n",
       "      <td>8</td>\n",
       "      <td>0.035578</td>\n",
       "      <td>0.002893</td>\n",
       "      <td>0.0</td>\n",
       "      <td>0</td>\n",
       "    </tr>\n",
       "    <tr>\n",
       "      <th>1</th>\n",
       "      <td>E</td>\n",
       "      <td>YSFVSEET</td>\n",
       "      <td>1</td>\n",
       "      <td>8</td>\n",
       "      <td>0.042296</td>\n",
       "      <td>0.003441</td>\n",
       "      <td>0.0</td>\n",
       "      <td>0</td>\n",
       "    </tr>\n",
       "    <tr>\n",
       "      <th>2</th>\n",
       "      <td>E</td>\n",
       "      <td>SFVSEETG</td>\n",
       "      <td>2</td>\n",
       "      <td>8</td>\n",
       "      <td>0.042296</td>\n",
       "      <td>0.003441</td>\n",
       "      <td>0.0</td>\n",
       "      <td>0</td>\n",
       "    </tr>\n",
       "    <tr>\n",
       "      <th>3</th>\n",
       "      <td>E</td>\n",
       "      <td>FVSEETGT</td>\n",
       "      <td>3</td>\n",
       "      <td>8</td>\n",
       "      <td>0.041116</td>\n",
       "      <td>0.003363</td>\n",
       "      <td>0.0</td>\n",
       "      <td>0</td>\n",
       "    </tr>\n",
       "    <tr>\n",
       "      <th>4</th>\n",
       "      <td>E</td>\n",
       "      <td>VSEETGTL</td>\n",
       "      <td>4</td>\n",
       "      <td>8</td>\n",
       "      <td>0.038914</td>\n",
       "      <td>0.003206</td>\n",
       "      <td>0.0</td>\n",
       "      <td>0</td>\n",
       "    </tr>\n",
       "  </tbody>\n",
       "</table>\n",
       "</div>"
      ],
      "text/plain": [
       "  protein   epitope  start_pos  epi_len   entropy  perc_mutated  glyco_probs  \\\n",
       "0       E  MYSFVSEE          0        8  0.035578      0.002893          0.0   \n",
       "1       E  YSFVSEET          1        8  0.042296      0.003441          0.0   \n",
       "2       E  SFVSEETG          2        8  0.042296      0.003441          0.0   \n",
       "3       E  FVSEETGT          3        8  0.041116      0.003363          0.0   \n",
       "4       E  VSEETGTL          4        8  0.038914      0.003206          0.0   \n",
       "\n",
       "   crosses_cleavage  \n",
       "0                 0  \n",
       "1                 0  \n",
       "2                 0  \n",
       "3                 0  \n",
       "4                 0  "
      ]
     },
     "execution_count": 45,
     "metadata": {},
     "output_type": "execute_result"
    }
   ],
   "source": [
    "df.head()"
   ]
  },
  {
   "cell_type": "code",
   "execution_count": 46,
   "metadata": {},
   "outputs": [
    {
     "data": {
      "text/html": [
       "<div>\n",
       "<style scoped>\n",
       "    .dataframe tbody tr th:only-of-type {\n",
       "        vertical-align: middle;\n",
       "    }\n",
       "\n",
       "    .dataframe tbody tr th {\n",
       "        vertical-align: top;\n",
       "    }\n",
       "\n",
       "    .dataframe thead th {\n",
       "        text-align: right;\n",
       "    }\n",
       "</style>\n",
       "<table border=\"1\" class=\"dataframe\">\n",
       "  <thead>\n",
       "    <tr style=\"text-align: right;\">\n",
       "      <th></th>\n",
       "      <th>protein</th>\n",
       "      <th>epitope</th>\n",
       "      <th>start_pos</th>\n",
       "      <th>epi_len</th>\n",
       "      <th>entropy</th>\n",
       "      <th>perc_mutated</th>\n",
       "      <th>glyco_probs</th>\n",
       "      <th>crosses_cleavage</th>\n",
       "    </tr>\n",
       "  </thead>\n",
       "  <tbody>\n",
       "    <tr>\n",
       "      <th>143118</th>\n",
       "      <td>S</td>\n",
       "      <td>NSPRRARS</td>\n",
       "      <td>678</td>\n",
       "      <td>8</td>\n",
       "      <td>0.276892</td>\n",
       "      <td>0.038474</td>\n",
       "      <td>0.0</td>\n",
       "      <td>1</td>\n",
       "    </tr>\n",
       "    <tr>\n",
       "      <th>143119</th>\n",
       "      <td>S</td>\n",
       "      <td>SPRRARSV</td>\n",
       "      <td>679</td>\n",
       "      <td>8</td>\n",
       "      <td>0.263279</td>\n",
       "      <td>0.037301</td>\n",
       "      <td>0.0</td>\n",
       "      <td>1</td>\n",
       "    </tr>\n",
       "    <tr>\n",
       "      <th>143120</th>\n",
       "      <td>S</td>\n",
       "      <td>PRRARSVA</td>\n",
       "      <td>680</td>\n",
       "      <td>8</td>\n",
       "      <td>0.286651</td>\n",
       "      <td>0.039334</td>\n",
       "      <td>0.0</td>\n",
       "      <td>1</td>\n",
       "    </tr>\n",
       "    <tr>\n",
       "      <th>143121</th>\n",
       "      <td>S</td>\n",
       "      <td>RRARSVAS</td>\n",
       "      <td>681</td>\n",
       "      <td>8</td>\n",
       "      <td>0.074736</td>\n",
       "      <td>0.006412</td>\n",
       "      <td>0.0</td>\n",
       "      <td>1</td>\n",
       "    </tr>\n",
       "    <tr>\n",
       "      <th>143122</th>\n",
       "      <td>S</td>\n",
       "      <td>RARSVASQ</td>\n",
       "      <td>682</td>\n",
       "      <td>8</td>\n",
       "      <td>0.080655</td>\n",
       "      <td>0.006881</td>\n",
       "      <td>0.0</td>\n",
       "      <td>1</td>\n",
       "    </tr>\n",
       "    <tr>\n",
       "      <th>...</th>\n",
       "      <td>...</td>\n",
       "      <td>...</td>\n",
       "      <td>...</td>\n",
       "      <td>...</td>\n",
       "      <td>...</td>\n",
       "      <td>...</td>\n",
       "      <td>...</td>\n",
       "      <td>...</td>\n",
       "    </tr>\n",
       "    <tr>\n",
       "      <th>163244</th>\n",
       "      <td>S</td>\n",
       "      <td>PRRARSVASQSIIAYTMSLGAENSV</td>\n",
       "      <td>680</td>\n",
       "      <td>25</td>\n",
       "      <td>0.454565</td>\n",
       "      <td>0.057945</td>\n",
       "      <td>0.0</td>\n",
       "      <td>1</td>\n",
       "    </tr>\n",
       "    <tr>\n",
       "      <th>163245</th>\n",
       "      <td>S</td>\n",
       "      <td>RRARSVASQSIIAYTMSLGAENSVA</td>\n",
       "      <td>681</td>\n",
       "      <td>25</td>\n",
       "      <td>0.220743</td>\n",
       "      <td>0.022834</td>\n",
       "      <td>0.0</td>\n",
       "      <td>1</td>\n",
       "    </tr>\n",
       "    <tr>\n",
       "      <th>163246</th>\n",
       "      <td>S</td>\n",
       "      <td>RARSVASQSIIAYTMSLGAENSVAY</td>\n",
       "      <td>682</td>\n",
       "      <td>25</td>\n",
       "      <td>0.218389</td>\n",
       "      <td>0.022678</td>\n",
       "      <td>0.0</td>\n",
       "      <td>1</td>\n",
       "    </tr>\n",
       "    <tr>\n",
       "      <th>163247</th>\n",
       "      <td>S</td>\n",
       "      <td>ARSVASQSIIAYTMSLGAENSVAYS</td>\n",
       "      <td>683</td>\n",
       "      <td>25</td>\n",
       "      <td>0.219566</td>\n",
       "      <td>0.022756</td>\n",
       "      <td>0.0</td>\n",
       "      <td>1</td>\n",
       "    </tr>\n",
       "    <tr>\n",
       "      <th>163248</th>\n",
       "      <td>S</td>\n",
       "      <td>RSVASQSIIAYTMSLGAENSVAYSN</td>\n",
       "      <td>684</td>\n",
       "      <td>25</td>\n",
       "      <td>0.212026</td>\n",
       "      <td>0.022130</td>\n",
       "      <td>1.0</td>\n",
       "      <td>1</td>\n",
       "    </tr>\n",
       "  </tbody>\n",
       "</table>\n",
       "<p>268 rows × 8 columns</p>\n",
       "</div>"
      ],
      "text/plain": [
       "       protein                    epitope  start_pos  epi_len   entropy  \\\n",
       "143118       S                   NSPRRARS        678        8  0.276892   \n",
       "143119       S                   SPRRARSV        679        8  0.263279   \n",
       "143120       S                   PRRARSVA        680        8  0.286651   \n",
       "143121       S                   RRARSVAS        681        8  0.074736   \n",
       "143122       S                   RARSVASQ        682        8  0.080655   \n",
       "...        ...                        ...        ...      ...       ...   \n",
       "163244       S  PRRARSVASQSIIAYTMSLGAENSV        680       25  0.454565   \n",
       "163245       S  RRARSVASQSIIAYTMSLGAENSVA        681       25  0.220743   \n",
       "163246       S  RARSVASQSIIAYTMSLGAENSVAY        682       25  0.218389   \n",
       "163247       S  ARSVASQSIIAYTMSLGAENSVAYS        683       25  0.219566   \n",
       "163248       S  RSVASQSIIAYTMSLGAENSVAYSN        684       25  0.212026   \n",
       "\n",
       "        perc_mutated  glyco_probs  crosses_cleavage  \n",
       "143118      0.038474          0.0                 1  \n",
       "143119      0.037301          0.0                 1  \n",
       "143120      0.039334          0.0                 1  \n",
       "143121      0.006412          0.0                 1  \n",
       "143122      0.006881          0.0                 1  \n",
       "...              ...          ...               ...  \n",
       "163244      0.057945          0.0                 1  \n",
       "163245      0.022834          0.0                 1  \n",
       "163246      0.022678          0.0                 1  \n",
       "163247      0.022756          0.0                 1  \n",
       "163248      0.022130          1.0                 1  \n",
       "\n",
       "[268 rows x 8 columns]"
      ]
     },
     "execution_count": 46,
     "metadata": {},
     "output_type": "execute_result"
    }
   ],
   "source": [
    "df[np.logical_and(df.protein==\"S\", df.crosses_cleavage==1)]\n",
    "# df['crosses_cleavage']\n",
    "# df"
   ]
  },
  {
   "cell_type": "code",
   "execution_count": 47,
   "metadata": {},
   "outputs": [
    {
     "data": {
      "text/html": [
       "<div>\n",
       "<style scoped>\n",
       "    .dataframe tbody tr th:only-of-type {\n",
       "        vertical-align: middle;\n",
       "    }\n",
       "\n",
       "    .dataframe tbody tr th {\n",
       "        vertical-align: top;\n",
       "    }\n",
       "\n",
       "    .dataframe thead th {\n",
       "        text-align: right;\n",
       "    }\n",
       "</style>\n",
       "<table border=\"1\" class=\"dataframe\">\n",
       "  <thead>\n",
       "    <tr style=\"text-align: right;\">\n",
       "      <th></th>\n",
       "      <th>protein</th>\n",
       "      <th>epitope</th>\n",
       "      <th>start_pos</th>\n",
       "      <th>epi_len</th>\n",
       "      <th>entropy</th>\n",
       "      <th>perc_mutated</th>\n",
       "      <th>glyco_probs</th>\n",
       "      <th>crosses_cleavage</th>\n",
       "    </tr>\n",
       "  </thead>\n",
       "  <tbody>\n",
       "    <tr>\n",
       "      <th>163808</th>\n",
       "      <td>S</td>\n",
       "      <td>KGCCSCGSCCKFDEDDSEPVLKGVK</td>\n",
       "      <td>1244</td>\n",
       "      <td>25</td>\n",
       "      <td>0.116781</td>\n",
       "      <td>0.009853</td>\n",
       "      <td>0.0</td>\n",
       "      <td>0</td>\n",
       "    </tr>\n",
       "    <tr>\n",
       "      <th>163809</th>\n",
       "      <td>S</td>\n",
       "      <td>GCCSCGSCCKFDEDDSEPVLKGVKL</td>\n",
       "      <td>1245</td>\n",
       "      <td>25</td>\n",
       "      <td>0.113617</td>\n",
       "      <td>0.009618</td>\n",
       "      <td>0.0</td>\n",
       "      <td>0</td>\n",
       "    </tr>\n",
       "    <tr>\n",
       "      <th>163810</th>\n",
       "      <td>S</td>\n",
       "      <td>CCSCGSCCKFDEDDSEPVLKGVKLH</td>\n",
       "      <td>1246</td>\n",
       "      <td>25</td>\n",
       "      <td>0.113617</td>\n",
       "      <td>0.009618</td>\n",
       "      <td>0.0</td>\n",
       "      <td>0</td>\n",
       "    </tr>\n",
       "    <tr>\n",
       "      <th>163811</th>\n",
       "      <td>S</td>\n",
       "      <td>CSCGSCCKFDEDDSEPVLKGVKLHY</td>\n",
       "      <td>1247</td>\n",
       "      <td>25</td>\n",
       "      <td>0.099336</td>\n",
       "      <td>0.008367</td>\n",
       "      <td>0.0</td>\n",
       "      <td>0</td>\n",
       "    </tr>\n",
       "    <tr>\n",
       "      <th>163812</th>\n",
       "      <td>S</td>\n",
       "      <td>SCGSCCKFDEDDSEPVLKGVKLHYT</td>\n",
       "      <td>1248</td>\n",
       "      <td>25</td>\n",
       "      <td>0.098158</td>\n",
       "      <td>0.008289</td>\n",
       "      <td>0.0</td>\n",
       "      <td>0</td>\n",
       "    </tr>\n",
       "  </tbody>\n",
       "</table>\n",
       "</div>"
      ],
      "text/plain": [
       "       protein                    epitope  start_pos  epi_len   entropy  \\\n",
       "163808       S  KGCCSCGSCCKFDEDDSEPVLKGVK       1244       25  0.116781   \n",
       "163809       S  GCCSCGSCCKFDEDDSEPVLKGVKL       1245       25  0.113617   \n",
       "163810       S  CCSCGSCCKFDEDDSEPVLKGVKLH       1246       25  0.113617   \n",
       "163811       S  CSCGSCCKFDEDDSEPVLKGVKLHY       1247       25  0.099336   \n",
       "163812       S  SCGSCCKFDEDDSEPVLKGVKLHYT       1248       25  0.098158   \n",
       "\n",
       "        perc_mutated  glyco_probs  crosses_cleavage  \n",
       "163808      0.009853          0.0                 0  \n",
       "163809      0.009618          0.0                 0  \n",
       "163810      0.009618          0.0                 0  \n",
       "163811      0.008367          0.0                 0  \n",
       "163812      0.008289          0.0                 0  "
      ]
     },
     "execution_count": 47,
     "metadata": {},
     "output_type": "execute_result"
    }
   ],
   "source": [
    "df.tail()"
   ]
  },
  {
   "cell_type": "code",
   "execution_count": 48,
   "metadata": {},
   "outputs": [
    {
     "data": {
      "text/html": [
       "<div>\n",
       "<style scoped>\n",
       "    .dataframe tbody tr th:only-of-type {\n",
       "        vertical-align: middle;\n",
       "    }\n",
       "\n",
       "    .dataframe tbody tr th {\n",
       "        vertical-align: top;\n",
       "    }\n",
       "\n",
       "    .dataframe thead th {\n",
       "        text-align: right;\n",
       "    }\n",
       "</style>\n",
       "<table border=\"1\" class=\"dataframe\">\n",
       "  <thead>\n",
       "    <tr style=\"text-align: right;\">\n",
       "      <th></th>\n",
       "      <th>Start</th>\n",
       "      <th>End</th>\n",
       "      <th>Sub_Protein</th>\n",
       "      <th>Protein</th>\n",
       "    </tr>\n",
       "  </thead>\n",
       "  <tbody>\n",
       "    <tr>\n",
       "      <th>0</th>\n",
       "      <td>0</td>\n",
       "      <td>179</td>\n",
       "      <td>Non-structural protein 1</td>\n",
       "      <td>ORF1a</td>\n",
       "    </tr>\n",
       "    <tr>\n",
       "      <th>1</th>\n",
       "      <td>180</td>\n",
       "      <td>817</td>\n",
       "      <td>Non-structural protein 2</td>\n",
       "      <td>ORF1a</td>\n",
       "    </tr>\n",
       "    <tr>\n",
       "      <th>2</th>\n",
       "      <td>818</td>\n",
       "      <td>2762</td>\n",
       "      <td>Non-structural protein 3</td>\n",
       "      <td>ORF1a</td>\n",
       "    </tr>\n",
       "    <tr>\n",
       "      <th>3</th>\n",
       "      <td>2763</td>\n",
       "      <td>3262</td>\n",
       "      <td>Non-structural protein 4</td>\n",
       "      <td>ORF1a</td>\n",
       "    </tr>\n",
       "    <tr>\n",
       "      <th>4</th>\n",
       "      <td>3263</td>\n",
       "      <td>3568</td>\n",
       "      <td>3C-like proteinase</td>\n",
       "      <td>ORF1a</td>\n",
       "    </tr>\n",
       "  </tbody>\n",
       "</table>\n",
       "</div>"
      ],
      "text/plain": [
       "   Start   End               Sub_Protein Protein\n",
       "0      0   179  Non-structural protein 1   ORF1a\n",
       "1    180   817  Non-structural protein 2   ORF1a\n",
       "2    818  2762  Non-structural protein 3   ORF1a\n",
       "3   2763  3262  Non-structural protein 4   ORF1a\n",
       "4   3263  3568        3C-like proteinase   ORF1a"
      ]
     },
     "execution_count": 48,
     "metadata": {},
     "output_type": "execute_result"
    }
   ],
   "source": [
    "df_cleave.head()"
   ]
  },
  {
   "cell_type": "code",
   "execution_count": 49,
   "metadata": {},
   "outputs": [
    {
     "data": {
      "text/html": [
       "<div>\n",
       "<style scoped>\n",
       "    .dataframe tbody tr th:only-of-type {\n",
       "        vertical-align: middle;\n",
       "    }\n",
       "\n",
       "    .dataframe tbody tr th {\n",
       "        vertical-align: top;\n",
       "    }\n",
       "\n",
       "    .dataframe thead th {\n",
       "        text-align: right;\n",
       "    }\n",
       "</style>\n",
       "<table border=\"1\" class=\"dataframe\">\n",
       "  <thead>\n",
       "    <tr style=\"text-align: right;\">\n",
       "      <th></th>\n",
       "      <th>Start</th>\n",
       "      <th>End</th>\n",
       "      <th>Sub_Protein</th>\n",
       "      <th>Protein</th>\n",
       "    </tr>\n",
       "  </thead>\n",
       "  <tbody>\n",
       "    <tr>\n",
       "      <th>8</th>\n",
       "      <td>4140</td>\n",
       "      <td>4252</td>\n",
       "      <td>Non-structural protein 9</td>\n",
       "      <td>ORF1a</td>\n",
       "    </tr>\n",
       "    <tr>\n",
       "      <th>9</th>\n",
       "      <td>4253</td>\n",
       "      <td>4391</td>\n",
       "      <td>Non-structural protein 10</td>\n",
       "      <td>ORF1a</td>\n",
       "    </tr>\n",
       "    <tr>\n",
       "      <th>10</th>\n",
       "      <td>4392</td>\n",
       "      <td>4404</td>\n",
       "      <td>Non-structural protein 11</td>\n",
       "      <td>ORF1a</td>\n",
       "    </tr>\n",
       "    <tr>\n",
       "      <th>11</th>\n",
       "      <td>-9</td>\n",
       "      <td>922</td>\n",
       "      <td>RNA-directed RNA polymerase</td>\n",
       "      <td>ORF1b</td>\n",
       "    </tr>\n",
       "    <tr>\n",
       "      <th>12</th>\n",
       "      <td>923</td>\n",
       "      <td>1523</td>\n",
       "      <td>Helicase</td>\n",
       "      <td>ORF1b</td>\n",
       "    </tr>\n",
       "    <tr>\n",
       "      <th>13</th>\n",
       "      <td>1524</td>\n",
       "      <td>2050</td>\n",
       "      <td>Guanine-N7 methyltransferase</td>\n",
       "      <td>ORF1b</td>\n",
       "    </tr>\n",
       "    <tr>\n",
       "      <th>14</th>\n",
       "      <td>2051</td>\n",
       "      <td>2396</td>\n",
       "      <td>Uridylate-specific endoribonuclease</td>\n",
       "      <td>ORF1b</td>\n",
       "    </tr>\n",
       "    <tr>\n",
       "      <th>15</th>\n",
       "      <td>2397</td>\n",
       "      <td>2694</td>\n",
       "      <td>2'-O-methyltransferase</td>\n",
       "      <td>ORF1b</td>\n",
       "    </tr>\n",
       "    <tr>\n",
       "      <th>16</th>\n",
       "      <td>0</td>\n",
       "      <td>684</td>\n",
       "      <td>S1</td>\n",
       "      <td>S</td>\n",
       "    </tr>\n",
       "    <tr>\n",
       "      <th>17</th>\n",
       "      <td>685</td>\n",
       "      <td>1273</td>\n",
       "      <td>S2</td>\n",
       "      <td>S</td>\n",
       "    </tr>\n",
       "  </tbody>\n",
       "</table>\n",
       "</div>"
      ],
      "text/plain": [
       "    Start   End                          Sub_Protein Protein\n",
       "8    4140  4252             Non-structural protein 9   ORF1a\n",
       "9    4253  4391            Non-structural protein 10   ORF1a\n",
       "10   4392  4404            Non-structural protein 11   ORF1a\n",
       "11     -9   922          RNA-directed RNA polymerase   ORF1b\n",
       "12    923  1523                             Helicase   ORF1b\n",
       "13   1524  2050         Guanine-N7 methyltransferase   ORF1b\n",
       "14   2051  2396  Uridylate-specific endoribonuclease   ORF1b\n",
       "15   2397  2694               2'-O-methyltransferase   ORF1b\n",
       "16      0   684                                   S1       S\n",
       "17    685  1273                                   S2       S"
      ]
     },
     "execution_count": 49,
     "metadata": {},
     "output_type": "execute_result"
    }
   ],
   "source": [
    "df_cleave.tail(10)"
   ]
  },
  {
   "cell_type": "code",
   "execution_count": 50,
   "metadata": {},
   "outputs": [
    {
     "data": {
      "text/html": [
       "<div>\n",
       "<style scoped>\n",
       "    .dataframe tbody tr th:only-of-type {\n",
       "        vertical-align: middle;\n",
       "    }\n",
       "\n",
       "    .dataframe tbody tr th {\n",
       "        vertical-align: top;\n",
       "    }\n",
       "\n",
       "    .dataframe thead th {\n",
       "        text-align: right;\n",
       "    }\n",
       "</style>\n",
       "<table border=\"1\" class=\"dataframe\">\n",
       "  <thead>\n",
       "    <tr style=\"text-align: right;\">\n",
       "      <th></th>\n",
       "      <th>protein</th>\n",
       "      <th>epitope</th>\n",
       "      <th>start_pos</th>\n",
       "      <th>epi_len</th>\n",
       "      <th>entropy</th>\n",
       "      <th>perc_mutated</th>\n",
       "      <th>glyco_probs</th>\n",
       "      <th>crosses_cleavage</th>\n",
       "    </tr>\n",
       "  </thead>\n",
       "  <tbody>\n",
       "    <tr>\n",
       "      <th>92584</th>\n",
       "      <td>ORF1b</td>\n",
       "      <td>MYTPHTVLQA</td>\n",
       "      <td>914</td>\n",
       "      <td>10</td>\n",
       "      <td>0.011111</td>\n",
       "      <td>0.000782</td>\n",
       "      <td>0.0</td>\n",
       "      <td>1</td>\n",
       "    </tr>\n",
       "  </tbody>\n",
       "</table>\n",
       "</div>"
      ],
      "text/plain": [
       "      protein     epitope  start_pos  epi_len   entropy  perc_mutated  \\\n",
       "92584   ORF1b  MYTPHTVLQA        914       10  0.011111      0.000782   \n",
       "\n",
       "       glyco_probs  crosses_cleavage  \n",
       "92584          0.0                 1  "
      ]
     },
     "execution_count": 50,
     "metadata": {},
     "output_type": "execute_result"
    }
   ],
   "source": [
    "df[np.logical_and(df.protein=='ORF1b', np.logical_and(df.start_pos==914,df.epi_len==10 ))]"
   ]
  },
  {
   "cell_type": "code",
   "execution_count": 51,
   "metadata": {},
   "outputs": [
    {
     "data": {
      "text/plain": [
       "(154086, 8)"
      ]
     },
     "execution_count": 51,
     "metadata": {},
     "output_type": "execute_result"
    }
   ],
   "source": [
    "df[np.logical_and(df.epi_len!=11, df.epi_len!=12)].shape"
   ]
  },
  {
   "cell_type": "code",
   "execution_count": 52,
   "metadata": {},
   "outputs": [
    {
     "data": {
      "text/plain": [
       "array([ 8,  9, 10, 11, 13, 14, 15, 16, 17, 18, 19, 20, 21, 22, 23, 24, 25])"
      ]
     },
     "execution_count": 52,
     "metadata": {},
     "output_type": "execute_result"
    }
   ],
   "source": [
    "df.epi_len.unique()"
   ]
  },
  {
   "cell_type": "code",
   "execution_count": 53,
   "metadata": {},
   "outputs": [
    {
     "data": {
      "text/html": [
       "<div>\n",
       "<style scoped>\n",
       "    .dataframe tbody tr th:only-of-type {\n",
       "        vertical-align: middle;\n",
       "    }\n",
       "\n",
       "    .dataframe tbody tr th {\n",
       "        vertical-align: top;\n",
       "    }\n",
       "\n",
       "    .dataframe thead th {\n",
       "        text-align: right;\n",
       "    }\n",
       "</style>\n",
       "<table border=\"1\" class=\"dataframe\">\n",
       "  <thead>\n",
       "    <tr style=\"text-align: right;\">\n",
       "      <th></th>\n",
       "      <th>protein</th>\n",
       "      <th>epitope</th>\n",
       "      <th>start_pos</th>\n",
       "      <th>epi_len</th>\n",
       "      <th>entropy</th>\n",
       "      <th>perc_mutated</th>\n",
       "      <th>glyco_probs</th>\n",
       "      <th>crosses_cleavage</th>\n",
       "    </tr>\n",
       "  </thead>\n",
       "  <tbody>\n",
       "    <tr>\n",
       "      <th>0</th>\n",
       "      <td>E</td>\n",
       "      <td>MYSFVSEE</td>\n",
       "      <td>0</td>\n",
       "      <td>8</td>\n",
       "      <td>0.035578</td>\n",
       "      <td>0.002893</td>\n",
       "      <td>0.0</td>\n",
       "      <td>0</td>\n",
       "    </tr>\n",
       "    <tr>\n",
       "      <th>1</th>\n",
       "      <td>E</td>\n",
       "      <td>YSFVSEET</td>\n",
       "      <td>1</td>\n",
       "      <td>8</td>\n",
       "      <td>0.042296</td>\n",
       "      <td>0.003441</td>\n",
       "      <td>0.0</td>\n",
       "      <td>0</td>\n",
       "    </tr>\n",
       "    <tr>\n",
       "      <th>2</th>\n",
       "      <td>E</td>\n",
       "      <td>SFVSEETG</td>\n",
       "      <td>2</td>\n",
       "      <td>8</td>\n",
       "      <td>0.042296</td>\n",
       "      <td>0.003441</td>\n",
       "      <td>0.0</td>\n",
       "      <td>0</td>\n",
       "    </tr>\n",
       "    <tr>\n",
       "      <th>3</th>\n",
       "      <td>E</td>\n",
       "      <td>FVSEETGT</td>\n",
       "      <td>3</td>\n",
       "      <td>8</td>\n",
       "      <td>0.041116</td>\n",
       "      <td>0.003363</td>\n",
       "      <td>0.0</td>\n",
       "      <td>0</td>\n",
       "    </tr>\n",
       "    <tr>\n",
       "      <th>4</th>\n",
       "      <td>E</td>\n",
       "      <td>VSEETGTL</td>\n",
       "      <td>4</td>\n",
       "      <td>8</td>\n",
       "      <td>0.038914</td>\n",
       "      <td>0.003206</td>\n",
       "      <td>0.0</td>\n",
       "      <td>0</td>\n",
       "    </tr>\n",
       "  </tbody>\n",
       "</table>\n",
       "</div>"
      ],
      "text/plain": [
       "  protein   epitope  start_pos  epi_len   entropy  perc_mutated  glyco_probs  \\\n",
       "0       E  MYSFVSEE          0        8  0.035578      0.002893          0.0   \n",
       "1       E  YSFVSEET          1        8  0.042296      0.003441          0.0   \n",
       "2       E  SFVSEETG          2        8  0.042296      0.003441          0.0   \n",
       "3       E  FVSEETGT          3        8  0.041116      0.003363          0.0   \n",
       "4       E  VSEETGTL          4        8  0.038914      0.003206          0.0   \n",
       "\n",
       "   crosses_cleavage  \n",
       "0                 0  \n",
       "1                 0  \n",
       "2                 0  \n",
       "3                 0  \n",
       "4                 0  "
      ]
     },
     "execution_count": 53,
     "metadata": {},
     "output_type": "execute_result"
    }
   ],
   "source": [
    "df.head()"
   ]
  },
  {
   "cell_type": "code",
   "execution_count": 54,
   "metadata": {},
   "outputs": [
    {
     "data": {
      "text/plain": [
       "3739"
      ]
     },
     "execution_count": 54,
     "metadata": {},
     "output_type": "execute_result"
    }
   ],
   "source": [
    "len_dropped = df[np.logical_and(df.epi_len!=11, df.epi_len!=12)]\n",
    "len_dropped.crosses_cleavage.sum()"
   ]
  },
  {
   "cell_type": "code",
   "execution_count": 55,
   "metadata": {},
   "outputs": [
    {
     "data": {
      "text/plain": [
       "(163796, 8)"
      ]
     },
     "execution_count": 55,
     "metadata": {},
     "output_type": "execute_result"
    }
   ],
   "source": [
    "df.shape"
   ]
  },
  {
   "cell_type": "code",
   "execution_count": 56,
   "metadata": {},
   "outputs": [
    {
     "data": {
      "text/plain": [
       "0.02412320317943689"
      ]
     },
     "execution_count": 56,
     "metadata": {},
     "output_type": "execute_result"
    }
   ],
   "source": [
    "len_dropped.crosses_cleavage.sum()/154996"
   ]
  },
  {
   "cell_type": "code",
   "execution_count": 57,
   "metadata": {},
   "outputs": [
    {
     "data": {
      "text/plain": [
       "4932"
      ]
     },
     "execution_count": 57,
     "metadata": {},
     "output_type": "execute_result"
    }
   ],
   "source": [
    "#18 cleavage sites. \n",
    "#there should be \n",
    "(np.arange(8,26).sum()-12-11)*18 # yep seems pretty reasonable"
   ]
  },
  {
   "cell_type": "code",
   "execution_count": 58,
   "metadata": {},
   "outputs": [
    {
     "data": {
      "text/plain": [
       "3887"
      ]
     },
     "execution_count": 58,
     "metadata": {},
     "output_type": "execute_result"
    }
   ],
   "source": [
    "df.crosses_cleavage.sum() # used to be 3888"
   ]
  },
  {
   "cell_type": "code",
   "execution_count": 59,
   "metadata": {},
   "outputs": [
    {
     "data": {
      "text/plain": [
       "(163796, 8)"
      ]
     },
     "execution_count": 59,
     "metadata": {},
     "output_type": "execute_result"
    }
   ],
   "source": [
    "df.shape # used to be 164786,8 I believe "
   ]
  },
  {
   "cell_type": "code",
   "execution_count": 60,
   "metadata": {},
   "outputs": [
    {
     "data": {
      "text/plain": [
       "'Renaming Spike epitopes into S1 and S2'"
      ]
     },
     "execution_count": 60,
     "metadata": {},
     "output_type": "execute_result"
    }
   ],
   "source": [
    "'''Renaming Spike epitopes into S1 and S2'''\n",
    "#df = pd.read_csv('../data/processed/AllEpitopeFeatures.csv')\n",
    "#df.head()"
   ]
  },
  {
   "cell_type": "code",
   "execution_count": 61,
   "metadata": {},
   "outputs": [
    {
     "data": {
      "text/html": [
       "<div>\n",
       "<style scoped>\n",
       "    .dataframe tbody tr th:only-of-type {\n",
       "        vertical-align: middle;\n",
       "    }\n",
       "\n",
       "    .dataframe tbody tr th {\n",
       "        vertical-align: top;\n",
       "    }\n",
       "\n",
       "    .dataframe thead th {\n",
       "        text-align: right;\n",
       "    }\n",
       "</style>\n",
       "<table border=\"1\" class=\"dataframe\">\n",
       "  <thead>\n",
       "    <tr style=\"text-align: right;\">\n",
       "      <th></th>\n",
       "      <th>Start</th>\n",
       "      <th>End</th>\n",
       "      <th>Sub_Protein</th>\n",
       "      <th>Protein</th>\n",
       "    </tr>\n",
       "  </thead>\n",
       "  <tbody>\n",
       "    <tr>\n",
       "      <th>0</th>\n",
       "      <td>0</td>\n",
       "      <td>179</td>\n",
       "      <td>Non-structural protein 1</td>\n",
       "      <td>ORF1a</td>\n",
       "    </tr>\n",
       "    <tr>\n",
       "      <th>1</th>\n",
       "      <td>180</td>\n",
       "      <td>817</td>\n",
       "      <td>Non-structural protein 2</td>\n",
       "      <td>ORF1a</td>\n",
       "    </tr>\n",
       "    <tr>\n",
       "      <th>2</th>\n",
       "      <td>818</td>\n",
       "      <td>2762</td>\n",
       "      <td>Non-structural protein 3</td>\n",
       "      <td>ORF1a</td>\n",
       "    </tr>\n",
       "    <tr>\n",
       "      <th>3</th>\n",
       "      <td>2763</td>\n",
       "      <td>3262</td>\n",
       "      <td>Non-structural protein 4</td>\n",
       "      <td>ORF1a</td>\n",
       "    </tr>\n",
       "    <tr>\n",
       "      <th>4</th>\n",
       "      <td>3263</td>\n",
       "      <td>3568</td>\n",
       "      <td>3C-like proteinase</td>\n",
       "      <td>ORF1a</td>\n",
       "    </tr>\n",
       "  </tbody>\n",
       "</table>\n",
       "</div>"
      ],
      "text/plain": [
       "   Start   End               Sub_Protein Protein\n",
       "0      0   179  Non-structural protein 1   ORF1a\n",
       "1    180   817  Non-structural protein 2   ORF1a\n",
       "2    818  2762  Non-structural protein 3   ORF1a\n",
       "3   2763  3262  Non-structural protein 4   ORF1a\n",
       "4   3263  3568        3C-like proteinase   ORF1a"
      ]
     },
     "execution_count": 61,
     "metadata": {},
     "output_type": "execute_result"
    }
   ],
   "source": [
    "df_cleave.head()"
   ]
  },
  {
   "cell_type": "code",
   "execution_count": 62,
   "metadata": {},
   "outputs": [
    {
     "data": {
      "text/html": [
       "<div>\n",
       "<style scoped>\n",
       "    .dataframe tbody tr th:only-of-type {\n",
       "        vertical-align: middle;\n",
       "    }\n",
       "\n",
       "    .dataframe tbody tr th {\n",
       "        vertical-align: top;\n",
       "    }\n",
       "\n",
       "    .dataframe thead th {\n",
       "        text-align: right;\n",
       "    }\n",
       "</style>\n",
       "<table border=\"1\" class=\"dataframe\">\n",
       "  <thead>\n",
       "    <tr style=\"text-align: right;\">\n",
       "      <th></th>\n",
       "      <th>protein</th>\n",
       "      <th>epitope</th>\n",
       "      <th>start_pos</th>\n",
       "      <th>epi_len</th>\n",
       "      <th>entropy</th>\n",
       "      <th>perc_mutated</th>\n",
       "      <th>glyco_probs</th>\n",
       "      <th>crosses_cleavage</th>\n",
       "    </tr>\n",
       "  </thead>\n",
       "  <tbody>\n",
       "    <tr>\n",
       "      <th>0</th>\n",
       "      <td>E</td>\n",
       "      <td>MYSFVSEE</td>\n",
       "      <td>0</td>\n",
       "      <td>8</td>\n",
       "      <td>0.035578</td>\n",
       "      <td>0.002893</td>\n",
       "      <td>0.0</td>\n",
       "      <td>0</td>\n",
       "    </tr>\n",
       "    <tr>\n",
       "      <th>1</th>\n",
       "      <td>E</td>\n",
       "      <td>YSFVSEET</td>\n",
       "      <td>1</td>\n",
       "      <td>8</td>\n",
       "      <td>0.042296</td>\n",
       "      <td>0.003441</td>\n",
       "      <td>0.0</td>\n",
       "      <td>0</td>\n",
       "    </tr>\n",
       "    <tr>\n",
       "      <th>2</th>\n",
       "      <td>E</td>\n",
       "      <td>SFVSEETG</td>\n",
       "      <td>2</td>\n",
       "      <td>8</td>\n",
       "      <td>0.042296</td>\n",
       "      <td>0.003441</td>\n",
       "      <td>0.0</td>\n",
       "      <td>0</td>\n",
       "    </tr>\n",
       "    <tr>\n",
       "      <th>3</th>\n",
       "      <td>E</td>\n",
       "      <td>FVSEETGT</td>\n",
       "      <td>3</td>\n",
       "      <td>8</td>\n",
       "      <td>0.041116</td>\n",
       "      <td>0.003363</td>\n",
       "      <td>0.0</td>\n",
       "      <td>0</td>\n",
       "    </tr>\n",
       "    <tr>\n",
       "      <th>4</th>\n",
       "      <td>E</td>\n",
       "      <td>VSEETGTL</td>\n",
       "      <td>4</td>\n",
       "      <td>8</td>\n",
       "      <td>0.038914</td>\n",
       "      <td>0.003206</td>\n",
       "      <td>0.0</td>\n",
       "      <td>0</td>\n",
       "    </tr>\n",
       "  </tbody>\n",
       "</table>\n",
       "</div>"
      ],
      "text/plain": [
       "  protein   epitope  start_pos  epi_len   entropy  perc_mutated  glyco_probs  \\\n",
       "0       E  MYSFVSEE          0        8  0.035578      0.002893          0.0   \n",
       "1       E  YSFVSEET          1        8  0.042296      0.003441          0.0   \n",
       "2       E  SFVSEETG          2        8  0.042296      0.003441          0.0   \n",
       "3       E  FVSEETGT          3        8  0.041116      0.003363          0.0   \n",
       "4       E  VSEETGTL          4        8  0.038914      0.003206          0.0   \n",
       "\n",
       "   crosses_cleavage  \n",
       "0                 0  \n",
       "1                 0  \n",
       "2                 0  \n",
       "3                 0  \n",
       "4                 0  "
      ]
     },
     "execution_count": 62,
     "metadata": {},
     "output_type": "execute_result"
    }
   ],
   "source": [
    "\n",
    "furin_site = 684\n",
    "s1_mask = np.logical_and( df.protein=='S', df['start_pos'] <= furin_site ) \n",
    "# some of these at the end this is not accurate but they will be filtered by cleavage anyways. \n",
    "df.loc[s1_mask, 'protein'] = 'S1'\n",
    "s2_mask = np.logical_and( df.protein=='S', df['start_pos'] > furin_site )\n",
    "df.loc[s2_mask, 'protein'] = 'S2'\n",
    "df.head()"
   ]
  },
  {
   "cell_type": "code",
   "execution_count": 63,
   "metadata": {},
   "outputs": [
    {
     "data": {
      "text/html": [
       "<div>\n",
       "<style scoped>\n",
       "    .dataframe tbody tr th:only-of-type {\n",
       "        vertical-align: middle;\n",
       "    }\n",
       "\n",
       "    .dataframe tbody tr th {\n",
       "        vertical-align: top;\n",
       "    }\n",
       "\n",
       "    .dataframe thead th {\n",
       "        text-align: right;\n",
       "    }\n",
       "</style>\n",
       "<table border=\"1\" class=\"dataframe\">\n",
       "  <thead>\n",
       "    <tr style=\"text-align: right;\">\n",
       "      <th></th>\n",
       "      <th>protein</th>\n",
       "      <th>epitope</th>\n",
       "      <th>start_pos</th>\n",
       "      <th>epi_len</th>\n",
       "      <th>entropy</th>\n",
       "      <th>perc_mutated</th>\n",
       "      <th>glyco_probs</th>\n",
       "      <th>crosses_cleavage</th>\n",
       "    </tr>\n",
       "  </thead>\n",
       "  <tbody>\n",
       "    <tr>\n",
       "      <th>163808</th>\n",
       "      <td>S2</td>\n",
       "      <td>KGCCSCGSCCKFDEDDSEPVLKGVK</td>\n",
       "      <td>1244</td>\n",
       "      <td>25</td>\n",
       "      <td>0.116781</td>\n",
       "      <td>0.009853</td>\n",
       "      <td>0.0</td>\n",
       "      <td>0</td>\n",
       "    </tr>\n",
       "    <tr>\n",
       "      <th>163809</th>\n",
       "      <td>S2</td>\n",
       "      <td>GCCSCGSCCKFDEDDSEPVLKGVKL</td>\n",
       "      <td>1245</td>\n",
       "      <td>25</td>\n",
       "      <td>0.113617</td>\n",
       "      <td>0.009618</td>\n",
       "      <td>0.0</td>\n",
       "      <td>0</td>\n",
       "    </tr>\n",
       "    <tr>\n",
       "      <th>163810</th>\n",
       "      <td>S2</td>\n",
       "      <td>CCSCGSCCKFDEDDSEPVLKGVKLH</td>\n",
       "      <td>1246</td>\n",
       "      <td>25</td>\n",
       "      <td>0.113617</td>\n",
       "      <td>0.009618</td>\n",
       "      <td>0.0</td>\n",
       "      <td>0</td>\n",
       "    </tr>\n",
       "    <tr>\n",
       "      <th>163811</th>\n",
       "      <td>S2</td>\n",
       "      <td>CSCGSCCKFDEDDSEPVLKGVKLHY</td>\n",
       "      <td>1247</td>\n",
       "      <td>25</td>\n",
       "      <td>0.099336</td>\n",
       "      <td>0.008367</td>\n",
       "      <td>0.0</td>\n",
       "      <td>0</td>\n",
       "    </tr>\n",
       "    <tr>\n",
       "      <th>163812</th>\n",
       "      <td>S2</td>\n",
       "      <td>SCGSCCKFDEDDSEPVLKGVKLHYT</td>\n",
       "      <td>1248</td>\n",
       "      <td>25</td>\n",
       "      <td>0.098158</td>\n",
       "      <td>0.008289</td>\n",
       "      <td>0.0</td>\n",
       "      <td>0</td>\n",
       "    </tr>\n",
       "  </tbody>\n",
       "</table>\n",
       "</div>"
      ],
      "text/plain": [
       "       protein                    epitope  start_pos  epi_len   entropy  \\\n",
       "163808      S2  KGCCSCGSCCKFDEDDSEPVLKGVK       1244       25  0.116781   \n",
       "163809      S2  GCCSCGSCCKFDEDDSEPVLKGVKL       1245       25  0.113617   \n",
       "163810      S2  CCSCGSCCKFDEDDSEPVLKGVKLH       1246       25  0.113617   \n",
       "163811      S2  CSCGSCCKFDEDDSEPVLKGVKLHY       1247       25  0.099336   \n",
       "163812      S2  SCGSCCKFDEDDSEPVLKGVKLHYT       1248       25  0.098158   \n",
       "\n",
       "        perc_mutated  glyco_probs  crosses_cleavage  \n",
       "163808      0.009853          0.0                 0  \n",
       "163809      0.009618          0.0                 0  \n",
       "163810      0.009618          0.0                 0  \n",
       "163811      0.008367          0.0                 0  \n",
       "163812      0.008289          0.0                 0  "
      ]
     },
     "execution_count": 63,
     "metadata": {},
     "output_type": "execute_result"
    }
   ],
   "source": [
    "df.tail()"
   ]
  },
  {
   "cell_type": "code",
   "execution_count": 64,
   "metadata": {},
   "outputs": [
    {
     "data": {
      "text/html": [
       "<div>\n",
       "<style scoped>\n",
       "    .dataframe tbody tr th:only-of-type {\n",
       "        vertical-align: middle;\n",
       "    }\n",
       "\n",
       "    .dataframe tbody tr th {\n",
       "        vertical-align: top;\n",
       "    }\n",
       "\n",
       "    .dataframe thead th {\n",
       "        text-align: right;\n",
       "    }\n",
       "</style>\n",
       "<table border=\"1\" class=\"dataframe\">\n",
       "  <thead>\n",
       "    <tr style=\"text-align: right;\">\n",
       "      <th></th>\n",
       "      <th>Start</th>\n",
       "      <th>End</th>\n",
       "      <th>Sub_Protein</th>\n",
       "      <th>Protein</th>\n",
       "    </tr>\n",
       "  </thead>\n",
       "  <tbody>\n",
       "    <tr>\n",
       "      <th>0</th>\n",
       "      <td>0</td>\n",
       "      <td>179</td>\n",
       "      <td>Non-structural protein 1</td>\n",
       "      <td>ORF1a</td>\n",
       "    </tr>\n",
       "    <tr>\n",
       "      <th>1</th>\n",
       "      <td>180</td>\n",
       "      <td>817</td>\n",
       "      <td>Non-structural protein 2</td>\n",
       "      <td>ORF1a</td>\n",
       "    </tr>\n",
       "    <tr>\n",
       "      <th>2</th>\n",
       "      <td>818</td>\n",
       "      <td>2762</td>\n",
       "      <td>Non-structural protein 3</td>\n",
       "      <td>ORF1a</td>\n",
       "    </tr>\n",
       "    <tr>\n",
       "      <th>3</th>\n",
       "      <td>2763</td>\n",
       "      <td>3262</td>\n",
       "      <td>Non-structural protein 4</td>\n",
       "      <td>ORF1a</td>\n",
       "    </tr>\n",
       "    <tr>\n",
       "      <th>4</th>\n",
       "      <td>3263</td>\n",
       "      <td>3568</td>\n",
       "      <td>3C-like proteinase</td>\n",
       "      <td>ORF1a</td>\n",
       "    </tr>\n",
       "  </tbody>\n",
       "</table>\n",
       "</div>"
      ],
      "text/plain": [
       "   Start   End               Sub_Protein Protein\n",
       "0      0   179  Non-structural protein 1   ORF1a\n",
       "1    180   817  Non-structural protein 2   ORF1a\n",
       "2    818  2762  Non-structural protein 3   ORF1a\n",
       "3   2763  3262  Non-structural protein 4   ORF1a\n",
       "4   3263  3568        3C-like proteinase   ORF1a"
      ]
     },
     "execution_count": 64,
     "metadata": {},
     "output_type": "execute_result"
    }
   ],
   "source": [
    "df_cleave.head()"
   ]
  },
  {
   "cell_type": "code",
   "execution_count": 65,
   "metadata": {},
   "outputs": [
    {
     "data": {
      "text/html": [
       "<div>\n",
       "<style scoped>\n",
       "    .dataframe tbody tr th:only-of-type {\n",
       "        vertical-align: middle;\n",
       "    }\n",
       "\n",
       "    .dataframe tbody tr th {\n",
       "        vertical-align: top;\n",
       "    }\n",
       "\n",
       "    .dataframe thead th {\n",
       "        text-align: right;\n",
       "    }\n",
       "</style>\n",
       "<table border=\"1\" class=\"dataframe\">\n",
       "  <thead>\n",
       "    <tr style=\"text-align: right;\">\n",
       "      <th></th>\n",
       "      <th>protein</th>\n",
       "      <th>epitope</th>\n",
       "      <th>start_pos</th>\n",
       "      <th>epi_len</th>\n",
       "      <th>entropy</th>\n",
       "      <th>perc_mutated</th>\n",
       "      <th>glyco_probs</th>\n",
       "      <th>crosses_cleavage</th>\n",
       "    </tr>\n",
       "  </thead>\n",
       "  <tbody>\n",
       "    <tr>\n",
       "      <th>20703</th>\n",
       "      <td>ORF1a</td>\n",
       "      <td>RELMRELNGG</td>\n",
       "      <td>170</td>\n",
       "      <td>10</td>\n",
       "      <td>0.005898</td>\n",
       "      <td>0.000391</td>\n",
       "      <td>0.0</td>\n",
       "      <td>0</td>\n",
       "    </tr>\n",
       "  </tbody>\n",
       "</table>\n",
       "</div>"
      ],
      "text/plain": [
       "      protein     epitope  start_pos  epi_len   entropy  perc_mutated  \\\n",
       "20703   ORF1a  RELMRELNGG        170       10  0.005898      0.000391   \n",
       "\n",
       "       glyco_probs  crosses_cleavage  \n",
       "20703          0.0                 0  "
      ]
     },
     "execution_count": 65,
     "metadata": {},
     "output_type": "execute_result"
    }
   ],
   "source": [
    "df[np.logical_and(df.protein=='ORF1a', np.logical_and(df.start_pos==170,df.epi_len==10 ))]"
   ]
  },
  {
   "cell_type": "code",
   "execution_count": 66,
   "metadata": {},
   "outputs": [
    {
     "data": {
      "text/plain": [
       "array(['E', 'M', 'N', 'ORF10', 'ORF1a', 'ORF1b', 'ORF3a', 'ORF6', 'ORF7a',\n",
       "       'ORF7b', 'ORF8', 'ORF9b', 'S1', 'S2'], dtype=object)"
      ]
     },
     "execution_count": 66,
     "metadata": {},
     "output_type": "execute_result"
    }
   ],
   "source": [
    "df.protein.unique()"
   ]
  },
  {
   "cell_type": "code",
   "execution_count": 67,
   "metadata": {},
   "outputs": [
    {
     "data": {
      "text/plain": [
       "241"
      ]
     },
     "execution_count": 67,
     "metadata": {},
     "output_type": "execute_result"
    }
   ],
   "source": [
    "(df.perc_mutated==0).sum()"
   ]
  },
  {
   "cell_type": "code",
   "execution_count": 70,
   "metadata": {},
   "outputs": [],
   "source": [
    "df.to_csv('data/processed/AllEpitopeFeatures_larger.csv', index=False)"
   ]
  },
  {
   "cell_type": "code",
   "execution_count": 73,
   "metadata": {},
   "outputs": [],
   "source": [
    "# df"
   ]
  },
  {
   "cell_type": "code",
   "execution_count": 74,
   "metadata": {},
   "outputs": [
    {
     "data": {
      "text/html": [
       "<div>\n",
       "<style scoped>\n",
       "    .dataframe tbody tr th:only-of-type {\n",
       "        vertical-align: middle;\n",
       "    }\n",
       "\n",
       "    .dataframe tbody tr th {\n",
       "        vertical-align: top;\n",
       "    }\n",
       "\n",
       "    .dataframe thead th {\n",
       "        text-align: right;\n",
       "    }\n",
       "</style>\n",
       "<table border=\"1\" class=\"dataframe\">\n",
       "  <thead>\n",
       "    <tr style=\"text-align: right;\">\n",
       "      <th></th>\n",
       "      <th>protein</th>\n",
       "      <th>epitope</th>\n",
       "      <th>start_pos</th>\n",
       "      <th>epi_len</th>\n",
       "      <th>entropy</th>\n",
       "      <th>perc_mutated</th>\n",
       "      <th>glyco_probs</th>\n",
       "      <th>crosses_cleavage</th>\n",
       "    </tr>\n",
       "  </thead>\n",
       "  <tbody>\n",
       "    <tr>\n",
       "      <th>0</th>\n",
       "      <td>E</td>\n",
       "      <td>MYSFVSEE</td>\n",
       "      <td>0</td>\n",
       "      <td>8</td>\n",
       "      <td>0.035578</td>\n",
       "      <td>0.002893</td>\n",
       "      <td>0.0</td>\n",
       "      <td>0</td>\n",
       "    </tr>\n",
       "    <tr>\n",
       "      <th>1</th>\n",
       "      <td>E</td>\n",
       "      <td>YSFVSEET</td>\n",
       "      <td>1</td>\n",
       "      <td>8</td>\n",
       "      <td>0.042296</td>\n",
       "      <td>0.003441</td>\n",
       "      <td>0.0</td>\n",
       "      <td>0</td>\n",
       "    </tr>\n",
       "    <tr>\n",
       "      <th>2</th>\n",
       "      <td>E</td>\n",
       "      <td>SFVSEETG</td>\n",
       "      <td>2</td>\n",
       "      <td>8</td>\n",
       "      <td>0.042296</td>\n",
       "      <td>0.003441</td>\n",
       "      <td>0.0</td>\n",
       "      <td>0</td>\n",
       "    </tr>\n",
       "    <tr>\n",
       "      <th>3</th>\n",
       "      <td>E</td>\n",
       "      <td>FVSEETGT</td>\n",
       "      <td>3</td>\n",
       "      <td>8</td>\n",
       "      <td>0.041116</td>\n",
       "      <td>0.003363</td>\n",
       "      <td>0.0</td>\n",
       "      <td>0</td>\n",
       "    </tr>\n",
       "    <tr>\n",
       "      <th>4</th>\n",
       "      <td>E</td>\n",
       "      <td>VSEETGTL</td>\n",
       "      <td>4</td>\n",
       "      <td>8</td>\n",
       "      <td>0.038914</td>\n",
       "      <td>0.003206</td>\n",
       "      <td>0.0</td>\n",
       "      <td>0</td>\n",
       "    </tr>\n",
       "  </tbody>\n",
       "</table>\n",
       "</div>"
      ],
      "text/plain": [
       "  protein   epitope  start_pos  epi_len   entropy  perc_mutated  glyco_probs  \\\n",
       "0       E  MYSFVSEE          0        8  0.035578      0.002893          0.0   \n",
       "1       E  YSFVSEET          1        8  0.042296      0.003441          0.0   \n",
       "2       E  SFVSEETG          2        8  0.042296      0.003441          0.0   \n",
       "3       E  FVSEETGT          3        8  0.041116      0.003363          0.0   \n",
       "4       E  VSEETGTL          4        8  0.038914      0.003206          0.0   \n",
       "\n",
       "   crosses_cleavage  \n",
       "0                 0  \n",
       "1                 0  \n",
       "2                 0  \n",
       "3                 0  \n",
       "4                 0  "
      ]
     },
     "execution_count": 74,
     "metadata": {},
     "output_type": "execute_result"
    }
   ],
   "source": [
    "# trimming the very end of orf1b\n",
    "df.head()\n"
   ]
  },
  {
   "cell_type": "code",
   "execution_count": 75,
   "metadata": {},
   "outputs": [
    {
     "data": {
      "text/plain": [
       "0         False\n",
       "1         False\n",
       "2         False\n",
       "3         False\n",
       "4         False\n",
       "          ...  \n",
       "163808    False\n",
       "163809    False\n",
       "163810    False\n",
       "163811    False\n",
       "163812    False\n",
       "Name: protein, Length: 163796, dtype: bool"
      ]
     },
     "execution_count": 75,
     "metadata": {},
     "output_type": "execute_result"
    }
   ],
   "source": [
    "df.protein=='ORF1a'"
   ]
  },
  {
   "cell_type": "code",
   "execution_count": null,
   "metadata": {},
   "outputs": [],
   "source": []
  },
  {
   "cell_type": "code",
   "execution_count": 76,
   "metadata": {},
   "outputs": [
    {
     "data": {
      "text/plain": [
       "(163796, 8)"
      ]
     },
     "execution_count": 76,
     "metadata": {},
     "output_type": "execute_result"
    }
   ],
   "source": [
    "df.shape # used to be 164786,8"
   ]
  },
  {
   "cell_type": "code",
   "execution_count": 77,
   "metadata": {},
   "outputs": [
    {
     "data": {
      "text/plain": [
       "array([ 8,  9, 10, 11, 13, 14, 15, 16, 17, 18, 19, 20, 21, 22, 23, 24, 25])"
      ]
     },
     "execution_count": 77,
     "metadata": {},
     "output_type": "execute_result"
    }
   ],
   "source": [
    "df.epi_len.unique()"
   ]
  },
  {
   "cell_type": "code",
   "execution_count": null,
   "metadata": {},
   "outputs": [],
   "source": []
  }
 ],
 "metadata": {
  "kernelspec": {
   "display_name": "Python 3",
   "language": "python",
   "name": "python3"
  },
  "language_info": {
   "codemirror_mode": {
    "name": "ipython",
    "version": 3
   },
   "file_extension": ".py",
   "mimetype": "text/x-python",
   "name": "python",
   "nbconvert_exporter": "python",
   "pygments_lexer": "ipython3",
   "version": "3.8.3"
  }
 },
 "nbformat": 4,
 "nbformat_minor": 4
}
