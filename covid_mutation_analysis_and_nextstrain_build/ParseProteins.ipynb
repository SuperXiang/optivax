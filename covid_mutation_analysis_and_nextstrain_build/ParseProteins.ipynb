{
 "cells": [
  {
   "cell_type": "code",
   "execution_count": 8,
   "metadata": {},
   "outputs": [
    {
     "data": {
      "text/plain": [
       "'Parses the proteins into epitopes by cutting them up over sliding windows'"
      ]
     },
     "execution_count": 8,
     "metadata": {},
     "output_type": "execute_result"
    }
   ],
   "source": [
    "'''Parses the proteins into epitopes by cutting them up over sliding windows'''"
   ]
  },
  {
   "cell_type": "code",
   "execution_count": 9,
   "metadata": {},
   "outputs": [],
   "source": [
    "import gzip\n",
    "from Bio import SeqIO\n",
    "from Bio.Seq import Seq\n",
    "import numpy as np\n",
    "import matplotlib.pyplot as plt\n",
    "import pandas as pd"
   ]
  },
  {
   "cell_type": "code",
   "execution_count": 11,
   "metadata": {},
   "outputs": [],
   "source": [
    "\n",
    "# with open('../data/raw/SARS_proteins.fasta', \"rt\") as handle:\n",
    "with open('data/SARS_proteins.fasta', \"rt\") as handle:\n",
    "    records = list(SeqIO.parse(handle, \"fasta\"))"
   ]
  },
  {
   "cell_type": "code",
   "execution_count": 12,
   "metadata": {},
   "outputs": [
    {
     "data": {
      "text/plain": [
       "SeqRecord(seq=Seq('MESLVLGVNEKTHVQLSLPVLQVRDVLVRGFGDSVEEALSEAREHLKNGTCGLV...FAV', SingleLetterAlphabet()), id='sp|P0C6U8|R1A_CVHSA', name='sp|P0C6U8|R1A_CVHSA', description='sp|P0C6U8|R1A_CVHSA Replicase polyprotein 1a OS=Human SARS coronavirus (SARS-CoV) (Severe acute respiratory syndrome coronavirus) OX=694009 GN=1a PE=1 SV=1', dbxrefs=[])"
      ]
     },
     "execution_count": 12,
     "metadata": {},
     "output_type": "execute_result"
    }
   ],
   "source": [
    "# type(records) # list\n",
    "# len(records) # 15\n",
    "# type(records[0]) # Bio.SeqRecord.SeqRecord      class instance\n",
    "# records[0].description\n",
    "records[0]\n",
    "# records[0].description.split('GN=')[-1].split(' ')[0] # 1a"
   ]
  },
  {
   "cell_type": "code",
   "execution_count": 13,
   "metadata": {},
   "outputs": [
    {
     "data": {
      "text/plain": [
       "'N'"
      ]
     },
     "execution_count": 13,
     "metadata": {},
     "output_type": "execute_result"
    }
   ],
   "source": [
    "records[3].description.split('GN=')[-1].split(' ')[0] # = 'N', it is the GN = ... in the description of the Bio.SeqRecord.SeqRecord class\n"
   ]
  },
  {
   "cell_type": "code",
   "execution_count": 14,
   "metadata": {},
   "outputs": [
    {
     "name": "stdout",
     "output_type": "stream",
     "text": [
      "4382 1a\n",
      "7073 rep\n",
      "1255 S\n",
      "422 N\n",
      "221 M\n",
      "274 3a\n",
      "154 3b\n",
      "63 6\n",
      "122 7a\n",
      "98 9b\n",
      "76 E\n",
      "39 8a\n",
      "44 7b\n",
      "70 ORF14\n",
      "84 8b\n"
     ]
    }
   ],
   "source": [
    "for i in range(len(records)):\n",
    "    print(len(records[i].seq), records[i].description.split('GN=')[-1].split(' ')[0])"
   ]
  },
  {
   "cell_type": "code",
   "execution_count": 15,
   "metadata": {},
   "outputs": [
    {
     "data": {
      "text/plain": [
       "SeqRecord(seq=Seq('MCLKILVRYNTRGNTYSTAWLCALGKVLPFHRWHTMVQTCTPNVTINCQDPAGG...RTN', SingleLetterAlphabet()), id='sp|Q80H93|NS8B_CVHSA', name='sp|Q80H93|NS8B_CVHSA', description='sp|Q80H93|NS8B_CVHSA Non-structural protein 8b OS=Human SARS coronavirus (SARS-CoV) (Severe acute respiratory syndrome coronavirus) OX=694009 GN=8b PE=4 SV=1', dbxrefs=[])"
      ]
     },
     "execution_count": 15,
     "metadata": {},
     "output_type": "execute_result"
    }
   ],
   "source": [
    "records[i] # same as records[14], since records has length 15\n"
   ]
  },
  {
   "cell_type": "code",
   "execution_count": 16,
   "metadata": {},
   "outputs": [],
   "source": [
    "### Breaking down the larger '1a' and 'rep' proteins\n",
    "\n",
    "import copy \n",
    "for_glyc_pred = []\n",
    "for i in range(len(records)):\n",
    "    protein= records[i].description.split('GN=')[-1].split(' ')[0]\n",
    "    if protein == '1a' or protein == 'rep':\n",
    "        sars1 = copy.deepcopy(records[i])\n",
    "        sars1.seq = sars1.seq[:3500]\n",
    "        sars1.description = 'FIRST_3500_'+sars1.description\n",
    "        sars1.name = 'FIRST_3500_'+sars1.name\n",
    "        sars1.id = 'FIRST_3500_'+sars1.id\n",
    "        \n",
    "        ### It's not exactly the last 3470, but rather the 3470th peptide until the end\n",
    "        ### and has length 912 for '1a' and 3603 for 'rep'\n",
    "        sars2 = copy.deepcopy(records[i])\n",
    "        sars2.seq = sars2.seq[3470:]\n",
    "        sars2.description = 'LAST_3470_ONWARDS_'+sars2.description\n",
    "        sars2.name = 'LAST_3470_ONWARDS_'+sars2.name\n",
    "        sars2.id = 'LAST_3470_ONWARDS_'+sars2.id\n",
    "        \n",
    "        for_glyc_pred.append(sars1)\n",
    "        for_glyc_pred.append(sars2)\n",
    "    else: \n",
    "        for_glyc_pred.append(records[i])\n",
    "        "
   ]
  },
  {
   "cell_type": "code",
   "execution_count": 17,
   "metadata": {},
   "outputs": [
    {
     "data": {
      "text/plain": [
       "SeqRecord(seq=Seq('MESLVLGVNEKTHVQLSLPVLQVRDVLVRGFGDSVEEALSEAREHLKNGTCGLV...GIA', SingleLetterAlphabet()), id='FIRST_3500_sp|P0C6U8|R1A_CVHSA', name='FIRST_3500_sp|P0C6U8|R1A_CVHSA', description='FIRST_3500_sp|P0C6U8|R1A_CVHSA Replicase polyprotein 1a OS=Human SARS coronavirus (SARS-CoV) (Severe acute respiratory syndrome coronavirus) OX=694009 GN=1a PE=1 SV=1', dbxrefs=[])"
      ]
     },
     "execution_count": 17,
     "metadata": {},
     "output_type": "execute_result"
    }
   ],
   "source": [
    "\n",
    "for_glyc_pred[0]"
   ]
  },
  {
   "cell_type": "code",
   "execution_count": 18,
   "metadata": {},
   "outputs": [],
   "source": [
    "from Bio import SeqIO\n",
    "\n",
    "### the file SARS_for_glyc.fasta does not exist\n",
    "with open(\"../data/processed/SARS_for_glyc.fasta\", \"w\") as output_handle:\n",
    "    SeqIO.write(for_glyc_pred, output_handle, \"fasta\")"
   ]
  },
  {
   "cell_type": "code",
   "execution_count": 21,
   "metadata": {},
   "outputs": [],
   "source": [
    "# len(all_windows_startpos)"
   ]
  },
  {
   "cell_type": "code",
   "execution_count": 22,
   "metadata": {},
   "outputs": [],
   "source": [
    "# all_windows_startpos[20]"
   ]
  },
  {
   "cell_type": "code",
   "execution_count": 20,
   "metadata": {},
   "outputs": [],
   "source": [
    "# len(all_windows)"
   ]
  },
  {
   "cell_type": "code",
   "execution_count": 23,
   "metadata": {},
   "outputs": [
    {
     "name": "stdout",
     "output_type": "stream",
     "text": [
      "hey\n"
     ]
    },
    {
     "data": {
      "text/html": [
       "<div>\n",
       "<style scoped>\n",
       "    .dataframe tbody tr th:only-of-type {\n",
       "        vertical-align: middle;\n",
       "    }\n",
       "\n",
       "    .dataframe tbody tr th {\n",
       "        vertical-align: top;\n",
       "    }\n",
       "\n",
       "    .dataframe thead th {\n",
       "        text-align: right;\n",
       "    }\n",
       "</style>\n",
       "<table border=\"1\" class=\"dataframe\">\n",
       "  <thead>\n",
       "    <tr style=\"text-align: right;\">\n",
       "      <th></th>\n",
       "      <th>Epitope</th>\n",
       "      <th>Protein</th>\n",
       "      <th>start_pos</th>\n",
       "    </tr>\n",
       "  </thead>\n",
       "  <tbody>\n",
       "    <tr>\n",
       "      <th>0</th>\n",
       "      <td>MESLVLGV</td>\n",
       "      <td>1a</td>\n",
       "      <td>0</td>\n",
       "    </tr>\n",
       "    <tr>\n",
       "      <th>1</th>\n",
       "      <td>ESLVLGVN</td>\n",
       "      <td>1a</td>\n",
       "      <td>1</td>\n",
       "    </tr>\n",
       "    <tr>\n",
       "      <th>2</th>\n",
       "      <td>SLVLGVNE</td>\n",
       "      <td>1a</td>\n",
       "      <td>2</td>\n",
       "    </tr>\n",
       "    <tr>\n",
       "      <th>3</th>\n",
       "      <td>LVLGVNEK</td>\n",
       "      <td>1a</td>\n",
       "      <td>3</td>\n",
       "    </tr>\n",
       "    <tr>\n",
       "      <th>4</th>\n",
       "      <td>VLGVNEKT</td>\n",
       "      <td>1a</td>\n",
       "      <td>4</td>\n",
       "    </tr>\n",
       "  </tbody>\n",
       "</table>\n",
       "</div>"
      ],
      "text/plain": [
       "    Epitope Protein  start_pos\n",
       "0  MESLVLGV      1a          0\n",
       "1  ESLVLGVN      1a          1\n",
       "2  SLVLGVNE      1a          2\n",
       "3  LVLGVNEK      1a          3\n",
       "4  VLGVNEKT      1a          4"
      ]
     },
     "execution_count": 23,
     "metadata": {},
     "output_type": "execute_result"
    }
   ],
   "source": [
    "window_sizes = list(range(8,26))\n",
    "for i_rec in range(len(records)):\n",
    "    seq = str(records[i_rec].seq)\n",
    "    idd = records[i_rec].description.split('GN=')[-1].split(' ')[0]\n",
    "    all_windows = []\n",
    "    all_windows_startpos = []\n",
    "    for window in window_sizes:\n",
    "        epitopes = []\n",
    "        start_pos = []\n",
    "        for i in range(len(seq)-window+1):\n",
    "            epitopes.append(seq[i:i+window] )\n",
    "            start_pos.append(i)\n",
    "            \n",
    "        # protein, epitopes, length\n",
    "        all_windows += epitopes\n",
    "        all_windows_startpos+=start_pos\n",
    "        \n",
    "        \n",
    "    df_temp = pd.DataFrame( all_windows )\n",
    "    df_temp.columns = ['Epitope']\n",
    "    df_temp['Protein'] = idd\n",
    "    df_temp['start_pos'] = np.asarray(all_windows_startpos)\n",
    "    #display(df_temp)\n",
    "    #print(i)\n",
    "    if i_rec==0:\n",
    "        print('hey')\n",
    "        df_epi = df_temp\n",
    "    else: \n",
    "        df_epi = df_epi.append(df_temp) #pd.concat([df_epi, df_temp], axis=0, ignore_index=True)\n",
    "        # df_epi = df_epi.append(df_temp, ignore_index = True), would clear up the indexing of the dataframe\n",
    "        \n",
    "df_epi.head()"
   ]
  },
  {
   "cell_type": "code",
   "execution_count": 24,
   "metadata": {},
   "outputs": [
    {
     "data": {
      "text/html": [
       "<div>\n",
       "<style scoped>\n",
       "    .dataframe tbody tr th:only-of-type {\n",
       "        vertical-align: middle;\n",
       "    }\n",
       "\n",
       "    .dataframe tbody tr th {\n",
       "        vertical-align: top;\n",
       "    }\n",
       "\n",
       "    .dataframe thead th {\n",
       "        text-align: right;\n",
       "    }\n",
       "</style>\n",
       "<table border=\"1\" class=\"dataframe\">\n",
       "  <thead>\n",
       "    <tr style=\"text-align: right;\">\n",
       "      <th></th>\n",
       "      <th>Epitope</th>\n",
       "      <th>Protein</th>\n",
       "      <th>start_pos</th>\n",
       "    </tr>\n",
       "  </thead>\n",
       "  <tbody>\n",
       "    <tr>\n",
       "      <th>0</th>\n",
       "      <td>MESLVLGV</td>\n",
       "      <td>1a</td>\n",
       "      <td>0</td>\n",
       "    </tr>\n",
       "    <tr>\n",
       "      <th>1</th>\n",
       "      <td>ESLVLGVN</td>\n",
       "      <td>1a</td>\n",
       "      <td>1</td>\n",
       "    </tr>\n",
       "    <tr>\n",
       "      <th>2</th>\n",
       "      <td>SLVLGVNE</td>\n",
       "      <td>1a</td>\n",
       "      <td>2</td>\n",
       "    </tr>\n",
       "    <tr>\n",
       "      <th>3</th>\n",
       "      <td>LVLGVNEK</td>\n",
       "      <td>1a</td>\n",
       "      <td>3</td>\n",
       "    </tr>\n",
       "    <tr>\n",
       "      <th>4</th>\n",
       "      <td>VLGVNEKT</td>\n",
       "      <td>1a</td>\n",
       "      <td>4</td>\n",
       "    </tr>\n",
       "    <tr>\n",
       "      <th>...</th>\n",
       "      <td>...</td>\n",
       "      <td>...</td>\n",
       "      <td>...</td>\n",
       "    </tr>\n",
       "    <tr>\n",
       "      <th>1228</th>\n",
       "      <td>LIARCWYLHEGHQTAAFRDVLVVLN</td>\n",
       "      <td>8b</td>\n",
       "      <td>55</td>\n",
       "    </tr>\n",
       "    <tr>\n",
       "      <th>1229</th>\n",
       "      <td>IARCWYLHEGHQTAAFRDVLVVLNK</td>\n",
       "      <td>8b</td>\n",
       "      <td>56</td>\n",
       "    </tr>\n",
       "    <tr>\n",
       "      <th>1230</th>\n",
       "      <td>ARCWYLHEGHQTAAFRDVLVVLNKR</td>\n",
       "      <td>8b</td>\n",
       "      <td>57</td>\n",
       "    </tr>\n",
       "    <tr>\n",
       "      <th>1231</th>\n",
       "      <td>RCWYLHEGHQTAAFRDVLVVLNKRT</td>\n",
       "      <td>8b</td>\n",
       "      <td>58</td>\n",
       "    </tr>\n",
       "    <tr>\n",
       "      <th>1232</th>\n",
       "      <td>CWYLHEGHQTAAFRDVLVVLNKRTN</td>\n",
       "      <td>8b</td>\n",
       "      <td>59</td>\n",
       "    </tr>\n",
       "  </tbody>\n",
       "</table>\n",
       "<p>254601 rows × 3 columns</p>\n",
       "</div>"
      ],
      "text/plain": [
       "                        Epitope Protein  start_pos\n",
       "0                      MESLVLGV      1a          0\n",
       "1                      ESLVLGVN      1a          1\n",
       "2                      SLVLGVNE      1a          2\n",
       "3                      LVLGVNEK      1a          3\n",
       "4                      VLGVNEKT      1a          4\n",
       "...                         ...     ...        ...\n",
       "1228  LIARCWYLHEGHQTAAFRDVLVVLN      8b         55\n",
       "1229  IARCWYLHEGHQTAAFRDVLVVLNK      8b         56\n",
       "1230  ARCWYLHEGHQTAAFRDVLVVLNKR      8b         57\n",
       "1231  RCWYLHEGHQTAAFRDVLVVLNKRT      8b         58\n",
       "1232  CWYLHEGHQTAAFRDVLVVLNKRTN      8b         59\n",
       "\n",
       "[254601 rows x 3 columns]"
      ]
     },
     "execution_count": 24,
     "metadata": {},
     "output_type": "execute_result"
    }
   ],
   "source": [
    "df_epi"
   ]
  },
  {
   "cell_type": "code",
   "execution_count": 25,
   "metadata": {},
   "outputs": [
    {
     "data": {
      "text/plain": [
       "(254601, 3)"
      ]
     },
     "execution_count": 25,
     "metadata": {},
     "output_type": "execute_result"
    }
   ],
   "source": [
    "df_epi.shape"
   ]
  },
  {
   "cell_type": "code",
   "execution_count": 26,
   "metadata": {},
   "outputs": [
    {
     "data": {
      "text/html": [
       "<div>\n",
       "<style scoped>\n",
       "    .dataframe tbody tr th:only-of-type {\n",
       "        vertical-align: middle;\n",
       "    }\n",
       "\n",
       "    .dataframe tbody tr th {\n",
       "        vertical-align: top;\n",
       "    }\n",
       "\n",
       "    .dataframe thead th {\n",
       "        text-align: right;\n",
       "    }\n",
       "</style>\n",
       "<table border=\"1\" class=\"dataframe\">\n",
       "  <thead>\n",
       "    <tr style=\"text-align: right;\">\n",
       "      <th></th>\n",
       "      <th>Epitope</th>\n",
       "      <th>Protein</th>\n",
       "      <th>start_pos</th>\n",
       "    </tr>\n",
       "  </thead>\n",
       "  <tbody>\n",
       "    <tr>\n",
       "      <th>0</th>\n",
       "      <td>MCLKILVR</td>\n",
       "      <td>8b</td>\n",
       "      <td>0</td>\n",
       "    </tr>\n",
       "    <tr>\n",
       "      <th>1</th>\n",
       "      <td>CLKILVRY</td>\n",
       "      <td>8b</td>\n",
       "      <td>1</td>\n",
       "    </tr>\n",
       "    <tr>\n",
       "      <th>2</th>\n",
       "      <td>LKILVRYN</td>\n",
       "      <td>8b</td>\n",
       "      <td>2</td>\n",
       "    </tr>\n",
       "    <tr>\n",
       "      <th>3</th>\n",
       "      <td>KILVRYNT</td>\n",
       "      <td>8b</td>\n",
       "      <td>3</td>\n",
       "    </tr>\n",
       "    <tr>\n",
       "      <th>4</th>\n",
       "      <td>ILVRYNTR</td>\n",
       "      <td>8b</td>\n",
       "      <td>4</td>\n",
       "    </tr>\n",
       "  </tbody>\n",
       "</table>\n",
       "</div>"
      ],
      "text/plain": [
       "    Epitope Protein  start_pos\n",
       "0  MCLKILVR      8b          0\n",
       "1  CLKILVRY      8b          1\n",
       "2  LKILVRYN      8b          2\n",
       "3  KILVRYNT      8b          3\n",
       "4  ILVRYNTR      8b          4"
      ]
     },
     "execution_count": 26,
     "metadata": {},
     "output_type": "execute_result"
    }
   ],
   "source": [
    "# df_temp.shape\n",
    "df_temp.head()"
   ]
  },
  {
   "cell_type": "code",
   "execution_count": 27,
   "metadata": {},
   "outputs": [
    {
     "data": {
      "text/plain": [
       "array(['1a', 'rep', 'S', 'N', 'M', '3a', '3b', '6', '7a', '9b', 'E', '8a',\n",
       "       '7b', 'ORF14', '8b'], dtype=object)"
      ]
     },
     "execution_count": 27,
     "metadata": {},
     "output_type": "execute_result"
    }
   ],
   "source": [
    "df_epi.Protein.unique()"
   ]
  },
  {
   "cell_type": "code",
   "execution_count": 21,
   "metadata": {},
   "outputs": [],
   "source": [
    "df_epi.to_csv('../data/processed/SARS_all_protein_epitopes.csv', index=False)"
   ]
  },
  {
   "cell_type": "code",
   "execution_count": null,
   "metadata": {},
   "outputs": [],
   "source": []
  }
 ],
 "metadata": {
  "kernelspec": {
   "display_name": "Python 3",
   "language": "python",
   "name": "python3"
  },
  "language_info": {
   "codemirror_mode": {
    "name": "ipython",
    "version": 3
   },
   "file_extension": ".py",
   "mimetype": "text/x-python",
   "name": "python",
   "nbconvert_exporter": "python",
   "pygments_lexer": "ipython3",
   "version": "3.8.3"
  }
 },
 "nbformat": 4,
 "nbformat_minor": 4
}
