{
 "cells": [
  {
   "cell_type": "code",
   "execution_count": 1,
   "metadata": {},
   "outputs": [],
   "source": [
    "''' Getting all the clevage sites across the covid proteome and \n",
    "finding all the epitopes affected\n",
    "\n",
    "Combine the glycosolation with the epistatic mutations and the cleavage. \n",
    "Will also have the protein and position inside of it\n",
    "'''\n",
    "import gzip\n",
    "from Bio import SeqIO\n",
    "from Bio.Seq import Seq\n",
    "import numpy as np\n",
    "import matplotlib.pyplot as plt\n",
    "import pandas as pd"
   ]
  },
  {
   "cell_type": "code",
   "execution_count": 2,
   "metadata": {},
   "outputs": [
    {
     "data": {
      "text/plain": [
       "['data/v6/aligned_protein_E.fasta',\n",
       " 'data/v6/aligned_protein_M.fasta',\n",
       " 'data/v6/aligned_protein_N.fasta',\n",
       " 'data/v6/aligned_protein_ORF10.fasta',\n",
       " 'data/v6/aligned_protein_ORF14.fasta',\n",
       " 'data/v6/aligned_protein_ORF1a.fasta',\n",
       " 'data/v6/aligned_protein_ORF1b.fasta',\n",
       " 'data/v6/aligned_protein_ORF3a.fasta',\n",
       " 'data/v6/aligned_protein_ORF6.fasta',\n",
       " 'data/v6/aligned_protein_ORF7a.fasta',\n",
       " 'data/v6/aligned_protein_ORF7b.fasta',\n",
       " 'data/v6/aligned_protein_ORF8.fasta',\n",
       " 'data/v6/aligned_protein_ORF9b.fasta',\n",
       " 'data/v6/aligned_protein_S.fasta']"
      ]
     },
     "execution_count": 2,
     "metadata": {},
     "output_type": "execute_result"
    }
   ],
   "source": [
    "amino_acid_files = !ls data/v6/*_protein_*\n",
    "amino_acid_files"
   ]
  },
  {
   "cell_type": "code",
   "execution_count": 3,
   "metadata": {},
   "outputs": [],
   "source": [
    "### Finding the reference sequence !!!!\n",
    "for aa_file in ['data/v6/aligned_protein_ORF1a.fasta']: # amino_acid_files:\n",
    "    protein = aa_file.split('_')[-1].split('.')[0]\n",
    "    with open(aa_file, \"rt\") as handle:\n",
    "        records = list(SeqIO.parse(handle, \"fasta\"))\n",
    "\n",
    "    # getting the reference sequence !!!!!!!!!!!!!\n",
    "    for ind, r in enumerate(records): \n",
    "        if r.id == 'Wuhan/IPBCAMS-WH-01/2019':\n",
    "            ref_seq_ind = ind\n",
    "            \n",
    "    ref_seq = str(records[ref_seq_ind].seq)[:-1]\n",
    "        "
   ]
  },
  {
   "cell_type": "code",
   "execution_count": 4,
   "metadata": {},
   "outputs": [
    {
     "data": {
      "text/plain": [
       "4400"
      ]
     },
     "execution_count": 4,
     "metadata": {},
     "output_type": "execute_result"
    }
   ],
   "source": [
    "len(ref_seq)"
   ]
  },
  {
   "cell_type": "code",
   "execution_count": 5,
   "metadata": {},
   "outputs": [],
   "source": [
    "ref_seq;"
   ]
  },
  {
   "cell_type": "code",
   "execution_count": 6,
   "metadata": {},
   "outputs": [],
   "source": [
    "ref_seq = ref_seq + 'NGFAV' # why is the very end of this not on my sequence? "
   ]
  },
  {
   "cell_type": "code",
   "execution_count": 7,
   "metadata": {},
   "outputs": [
    {
     "data": {
      "text/plain": [
       "4405"
      ]
     },
     "execution_count": 7,
     "metadata": {},
     "output_type": "execute_result"
    }
   ],
   "source": [
    "len(ref_seq)"
   ]
  },
  {
   "cell_type": "code",
   "execution_count": 16,
   "metadata": {},
   "outputs": [],
   "source": [
    "ref_seq;"
   ]
  },
  {
   "cell_type": "code",
   "execution_count": 17,
   "metadata": {},
   "outputs": [],
   "source": [
    "# the very ending of this goes FLN. 1ab superset does not have the 'GFAV' portion. \n",
    "# this is also where the frame shift happens. if my protein is shorter though then that is fine. "
   ]
  },
  {
   "cell_type": "code",
   "execution_count": 18,
   "metadata": {},
   "outputs": [],
   "source": [
    "# parsing the ORF1a\n",
    "\n",
    "# NB see if these txt files have been updated at all with new ORFS!!! \n",
    "# Copied and pasted text from the ORF online (see txt file for formatting)\n",
    "\n",
    "with open('data/ORF1a.txt', 'r') as f: \n",
    "    lines = f.readlines()"
   ]
  },
  {
   "cell_type": "code",
   "execution_count": 19,
   "metadata": {},
   "outputs": [
    {
     "data": {
      "text/plain": [
       "[[1, 180, 'Non-structural protein 1'],\n",
       " [181, 818, 'Non-structural protein 2'],\n",
       " [819, 2763, 'Non-structural protein 3'],\n",
       " [2764, 3263, 'Non-structural protein 4'],\n",
       " [3264, 3569, '3C-like proteinase'],\n",
       " [3570, 3859, 'Non-structural protein 6'],\n",
       " [3860, 3942, 'Non-structural protein 7'],\n",
       " [3943, 4140, 'Non-structural protein 8'],\n",
       " [4141, 4253, 'Non-structural protein 9'],\n",
       " [4254, 4392, 'Non-structural protein 10'],\n",
       " [4393, 4405, 'Non-structural protein 11']]"
      ]
     },
     "execution_count": 19,
     "metadata": {},
     "output_type": "execute_result"
    }
   ],
   "source": [
    "to_df = []\n",
    "for ind, l in enumerate(lines):\n",
    "    if 'CHAIN' in l: \n",
    "        \n",
    "        start, end = l.split('     ')[-1].strip().split('..')\n",
    "        start, end = int(start), int(end)\n",
    "        protein_name = lines[ind+1].split('\"')[1]\n",
    "        \n",
    "        if 'Replicase polyprotein 1' in protein_name:\n",
    "            continue\n",
    "        \n",
    "        to_df.append( [ start, end, protein_name ])\n",
    "to_df        "
   ]
  },
  {
   "cell_type": "code",
   "execution_count": 20,
   "metadata": {},
   "outputs": [
    {
     "data": {
      "text/html": [
       "<div>\n",
       "<style scoped>\n",
       "    .dataframe tbody tr th:only-of-type {\n",
       "        vertical-align: middle;\n",
       "    }\n",
       "\n",
       "    .dataframe tbody tr th {\n",
       "        vertical-align: top;\n",
       "    }\n",
       "\n",
       "    .dataframe thead th {\n",
       "        text-align: right;\n",
       "    }\n",
       "</style>\n",
       "<table border=\"1\" class=\"dataframe\">\n",
       "  <thead>\n",
       "    <tr style=\"text-align: right;\">\n",
       "      <th></th>\n",
       "      <th>Start</th>\n",
       "      <th>End</th>\n",
       "      <th>Sub_Protein</th>\n",
       "      <th>Protein</th>\n",
       "    </tr>\n",
       "  </thead>\n",
       "  <tbody>\n",
       "    <tr>\n",
       "      <th>0</th>\n",
       "      <td>1</td>\n",
       "      <td>180</td>\n",
       "      <td>Non-structural protein 1</td>\n",
       "      <td>ORF1a</td>\n",
       "    </tr>\n",
       "    <tr>\n",
       "      <th>1</th>\n",
       "      <td>181</td>\n",
       "      <td>818</td>\n",
       "      <td>Non-structural protein 2</td>\n",
       "      <td>ORF1a</td>\n",
       "    </tr>\n",
       "    <tr>\n",
       "      <th>2</th>\n",
       "      <td>819</td>\n",
       "      <td>2763</td>\n",
       "      <td>Non-structural protein 3</td>\n",
       "      <td>ORF1a</td>\n",
       "    </tr>\n",
       "    <tr>\n",
       "      <th>3</th>\n",
       "      <td>2764</td>\n",
       "      <td>3263</td>\n",
       "      <td>Non-structural protein 4</td>\n",
       "      <td>ORF1a</td>\n",
       "    </tr>\n",
       "    <tr>\n",
       "      <th>4</th>\n",
       "      <td>3264</td>\n",
       "      <td>3569</td>\n",
       "      <td>3C-like proteinase</td>\n",
       "      <td>ORF1a</td>\n",
       "    </tr>\n",
       "    <tr>\n",
       "      <th>5</th>\n",
       "      <td>3570</td>\n",
       "      <td>3859</td>\n",
       "      <td>Non-structural protein 6</td>\n",
       "      <td>ORF1a</td>\n",
       "    </tr>\n",
       "    <tr>\n",
       "      <th>6</th>\n",
       "      <td>3860</td>\n",
       "      <td>3942</td>\n",
       "      <td>Non-structural protein 7</td>\n",
       "      <td>ORF1a</td>\n",
       "    </tr>\n",
       "    <tr>\n",
       "      <th>7</th>\n",
       "      <td>3943</td>\n",
       "      <td>4140</td>\n",
       "      <td>Non-structural protein 8</td>\n",
       "      <td>ORF1a</td>\n",
       "    </tr>\n",
       "    <tr>\n",
       "      <th>8</th>\n",
       "      <td>4141</td>\n",
       "      <td>4253</td>\n",
       "      <td>Non-structural protein 9</td>\n",
       "      <td>ORF1a</td>\n",
       "    </tr>\n",
       "    <tr>\n",
       "      <th>9</th>\n",
       "      <td>4254</td>\n",
       "      <td>4392</td>\n",
       "      <td>Non-structural protein 10</td>\n",
       "      <td>ORF1a</td>\n",
       "    </tr>\n",
       "    <tr>\n",
       "      <th>10</th>\n",
       "      <td>4393</td>\n",
       "      <td>4405</td>\n",
       "      <td>Non-structural protein 11</td>\n",
       "      <td>ORF1a</td>\n",
       "    </tr>\n",
       "  </tbody>\n",
       "</table>\n",
       "</div>"
      ],
      "text/plain": [
       "    Start   End                Sub_Protein Protein\n",
       "0       1   180   Non-structural protein 1   ORF1a\n",
       "1     181   818   Non-structural protein 2   ORF1a\n",
       "2     819  2763   Non-structural protein 3   ORF1a\n",
       "3    2764  3263   Non-structural protein 4   ORF1a\n",
       "4    3264  3569         3C-like proteinase   ORF1a\n",
       "5    3570  3859   Non-structural protein 6   ORF1a\n",
       "6    3860  3942   Non-structural protein 7   ORF1a\n",
       "7    3943  4140   Non-structural protein 8   ORF1a\n",
       "8    4141  4253   Non-structural protein 9   ORF1a\n",
       "9    4254  4392  Non-structural protein 10   ORF1a\n",
       "10   4393  4405  Non-structural protein 11   ORF1a"
      ]
     },
     "execution_count": 20,
     "metadata": {},
     "output_type": "execute_result"
    }
   ],
   "source": [
    "orf1a = pd.DataFrame(to_df, columns=['Start', 'End', 'Sub_Protein'])\n",
    "orf1a['Protein'] = 'ORF1a'\n",
    "orf1a"
   ]
  },
  {
   "cell_type": "markdown",
   "metadata": {},
   "source": [
    "# ORF1ab is a superset of ORF1a. "
   ]
  },
  {
   "cell_type": "code",
   "execution_count": 21,
   "metadata": {},
   "outputs": [],
   "source": [
    "for aa_file in ['data/v6/aligned_protein_ORF1b.fasta']: # amino_acid_files:\n",
    "    protein = aa_file.split('_')[-1].split('.')[0]\n",
    "    with open(aa_file, \"rt\") as handle:\n",
    "        records = list(SeqIO.parse(handle, \"fasta\"))\n",
    "\n",
    "    # getting the reference sequence\n",
    "    for ind, r in enumerate(records): \n",
    "        if r.id == 'Wuhan/IPBCAMS-WH-01/2019':\n",
    "            ref_seq_ind = ind\n",
    "            \n",
    "    ref_seq = str(records[ref_seq_ind].seq)[:-1]\n",
    "        "
   ]
  },
  {
   "cell_type": "code",
   "execution_count": 22,
   "metadata": {},
   "outputs": [
    {
     "data": {
      "text/plain": [
       "2695"
      ]
     },
     "execution_count": 22,
     "metadata": {},
     "output_type": "execute_result"
    }
   ],
   "source": [
    "len(ref_seq)"
   ]
  },
  {
   "cell_type": "code",
   "execution_count": 23,
   "metadata": {},
   "outputs": [
    {
     "data": {
      "text/plain": [
       "7095"
      ]
     },
     "execution_count": 23,
     "metadata": {},
     "output_type": "execute_result"
    }
   ],
   "source": [
    "# my sequences total length\n",
    "4400+2695"
   ]
  },
  {
   "cell_type": "code",
   "execution_count": 24,
   "metadata": {},
   "outputs": [],
   "source": [
    "ref_seq;"
   ]
  },
  {
   "cell_type": "code",
   "execution_count": 25,
   "metadata": {},
   "outputs": [],
   "source": [
    "with open('data/ORF1ab_FullSequence.txt', 'r') as f: \n",
    "    lines = f.readlines()\n",
    "fullseq =''\n",
    "for l in lines: \n",
    "    fullseq += l.strip().replace(' ', '')\n",
    "fullseq;"
   ]
  },
  {
   "cell_type": "code",
   "execution_count": 27,
   "metadata": {},
   "outputs": [
    {
     "data": {
      "text/plain": [
       "'RVCGVSAARL'"
      ]
     },
     "execution_count": 27,
     "metadata": {},
     "output_type": "execute_result"
    }
   ],
   "source": [
    "ref_seq[:10]"
   ]
  },
  {
   "cell_type": "code",
   "execution_count": 26,
   "metadata": {},
   "outputs": [
    {
     "data": {
      "text/plain": [
       "4401"
      ]
     },
     "execution_count": 26,
     "metadata": {},
     "output_type": "execute_result"
    }
   ],
   "source": [
    "# finding the start of 1b out of the 1ab superset.\n",
    "start_of_1b = fullseq.index(ref_seq[:10]) # this is where 1b starts in 1ab. # as a zero indexed coordinate!!!\n",
    "start_of_1b"
   ]
  },
  {
   "cell_type": "code",
   "execution_count": 28,
   "metadata": {},
   "outputs": [
    {
     "data": {
      "text/plain": [
       "7096"
      ]
     },
     "execution_count": 28,
     "metadata": {},
     "output_type": "execute_result"
    }
   ],
   "source": [
    "len(fullseq)"
   ]
  },
  {
   "cell_type": "code",
   "execution_count": 29,
   "metadata": {},
   "outputs": [
    {
     "data": {
      "text/plain": [
       "2695"
      ]
     },
     "execution_count": 29,
     "metadata": {},
     "output_type": "execute_result"
    }
   ],
   "source": [
    "len(fullseq[start_of_1b:])"
   ]
  },
  {
   "cell_type": "code",
   "execution_count": 30,
   "metadata": {},
   "outputs": [
    {
     "data": {
      "text/plain": [
       "2695"
      ]
     },
     "execution_count": 30,
     "metadata": {},
     "output_type": "execute_result"
    }
   ],
   "source": [
    "len(ref_seq)"
   ]
  },
  {
   "cell_type": "code",
   "execution_count": 34,
   "metadata": {},
   "outputs": [
    {
     "data": {
      "text/plain": [
       "False"
      ]
     },
     "execution_count": 34,
     "metadata": {},
     "output_type": "execute_result"
    }
   ],
   "source": [
    "list(fullseq[start_of_1b:]) == ref_seq"
   ]
  },
  {
   "cell_type": "code",
   "execution_count": 37,
   "metadata": {},
   "outputs": [
    {
     "name": "stdout",
     "output_type": "stream",
     "text": [
      "RVCGVSAARL\n",
      "RVCGVSAARL\n"
     ]
    }
   ],
   "source": [
    "print(ref_seq[:10])\n",
    "print(fullseq[start_of_1b:start_of_1b+10])"
   ]
  },
  {
   "cell_type": "code",
   "execution_count": 48,
   "metadata": {},
   "outputs": [
    {
     "data": {
      "text/plain": [
       "1"
      ]
     },
     "execution_count": 48,
     "metadata": {},
     "output_type": "execute_result"
    }
   ],
   "source": [
    "mask = np.asarray(list(ref_seq)) != np.asarray(list(fullseq[start_of_1b:]))\n",
    "len(mask)\n",
    "mask;\n",
    "mask.sum() #  = 1, so there is only one amino acid in which ref_seq and fullseq[start_of_1b:] differ"
   ]
  },
  {
   "cell_type": "code",
   "execution_count": 49,
   "metadata": {},
   "outputs": [
    {
     "data": {
      "text/plain": [
       "array(['L'], dtype='<U1')"
      ]
     },
     "execution_count": 49,
     "metadata": {},
     "output_type": "execute_result"
    }
   ],
   "source": [
    "np.asarray(list(ref_seq))[mask]"
   ]
  },
  {
   "cell_type": "code",
   "execution_count": 50,
   "metadata": {},
   "outputs": [
    {
     "data": {
      "text/plain": [
       "array(['I'], dtype='<U1')"
      ]
     },
     "execution_count": 50,
     "metadata": {},
     "output_type": "execute_result"
    }
   ],
   "source": [
    "np.asarray(list(fullseq[start_of_1b:]))[mask]"
   ]
  },
  {
   "cell_type": "code",
   "execution_count": 51,
   "metadata": {},
   "outputs": [],
   "source": [
    "### one mutation here which is fine. this is the sequencing read error one that nextstrain accounts for. "
   ]
  },
  {
   "cell_type": "code",
   "execution_count": 52,
   "metadata": {},
   "outputs": [],
   "source": [
    "# parsing the ORF1a\n",
    "\n",
    "with open('data/ORF1ab.txt', 'r') as f: \n",
    "    lines = f.readlines()"
   ]
  },
  {
   "cell_type": "code",
   "execution_count": 53,
   "metadata": {},
   "outputs": [
    {
     "data": {
      "text/plain": [
       "[[-8, 923, 'RNA-directed RNA polymerase'],\n",
       " [924, 1524, 'Helicase'],\n",
       " [1525, 2051, 'Guanine-N7 methyltransferase'],\n",
       " [2052, 2397, 'Uridylate-specific endoribonuclease'],\n",
       " [2398, 2695, \"2'-O-methyltransferase\"]]"
      ]
     },
     "execution_count": 53,
     "metadata": {},
     "output_type": "execute_result"
    }
   ],
   "source": [
    "to_df = []\n",
    "for ind, l in enumerate(lines):\n",
    "    if 'CHAIN' in l: \n",
    "        \n",
    "        start, end = l.split('     ')[-1].strip().split('..')\n",
    "        start, end = int(start), int(end)\n",
    "        protein_name = lines[ind+1].split('\"')[1]\n",
    "        \n",
    "        if end < start_of_1b:\n",
    "            continue\n",
    "            \n",
    "        if 'Replicase polyprotein 1' in protein_name:\n",
    "            continue\n",
    "        \n",
    "        to_df.append( [ start-start_of_1b, end -start_of_1b, protein_name ])\n",
    "to_df     "
   ]
  },
  {
   "cell_type": "code",
   "execution_count": 54,
   "metadata": {},
   "outputs": [
    {
     "data": {
      "text/html": [
       "<div>\n",
       "<style scoped>\n",
       "    .dataframe tbody tr th:only-of-type {\n",
       "        vertical-align: middle;\n",
       "    }\n",
       "\n",
       "    .dataframe tbody tr th {\n",
       "        vertical-align: top;\n",
       "    }\n",
       "\n",
       "    .dataframe thead th {\n",
       "        text-align: right;\n",
       "    }\n",
       "</style>\n",
       "<table border=\"1\" class=\"dataframe\">\n",
       "  <thead>\n",
       "    <tr style=\"text-align: right;\">\n",
       "      <th></th>\n",
       "      <th>Start</th>\n",
       "      <th>End</th>\n",
       "      <th>Sub_Protein</th>\n",
       "      <th>Protein</th>\n",
       "    </tr>\n",
       "  </thead>\n",
       "  <tbody>\n",
       "    <tr>\n",
       "      <th>0</th>\n",
       "      <td>-8</td>\n",
       "      <td>923</td>\n",
       "      <td>RNA-directed RNA polymerase</td>\n",
       "      <td>ORF1b</td>\n",
       "    </tr>\n",
       "    <tr>\n",
       "      <th>1</th>\n",
       "      <td>924</td>\n",
       "      <td>1524</td>\n",
       "      <td>Helicase</td>\n",
       "      <td>ORF1b</td>\n",
       "    </tr>\n",
       "    <tr>\n",
       "      <th>2</th>\n",
       "      <td>1525</td>\n",
       "      <td>2051</td>\n",
       "      <td>Guanine-N7 methyltransferase</td>\n",
       "      <td>ORF1b</td>\n",
       "    </tr>\n",
       "    <tr>\n",
       "      <th>3</th>\n",
       "      <td>2052</td>\n",
       "      <td>2397</td>\n",
       "      <td>Uridylate-specific endoribonuclease</td>\n",
       "      <td>ORF1b</td>\n",
       "    </tr>\n",
       "    <tr>\n",
       "      <th>4</th>\n",
       "      <td>2398</td>\n",
       "      <td>2695</td>\n",
       "      <td>2'-O-methyltransferase</td>\n",
       "      <td>ORF1b</td>\n",
       "    </tr>\n",
       "  </tbody>\n",
       "</table>\n",
       "</div>"
      ],
      "text/plain": [
       "   Start   End                          Sub_Protein Protein\n",
       "0     -8   923          RNA-directed RNA polymerase   ORF1b\n",
       "1    924  1524                             Helicase   ORF1b\n",
       "2   1525  2051         Guanine-N7 methyltransferase   ORF1b\n",
       "3   2052  2397  Uridylate-specific endoribonuclease   ORF1b\n",
       "4   2398  2695               2'-O-methyltransferase   ORF1b"
      ]
     },
     "execution_count": 54,
     "metadata": {},
     "output_type": "execute_result"
    }
   ],
   "source": [
    "orf1b = pd.DataFrame(to_df, columns=['Start', 'End', 'Sub_Protein'])\n",
    "orf1b['Protein'] = 'ORF1b'\n",
    "orf1b"
   ]
  },
  {
   "cell_type": "code",
   "execution_count": 55,
   "metadata": {},
   "outputs": [],
   "source": [
    "# ensuring these are now aligned. "
   ]
  },
  {
   "cell_type": "code",
   "execution_count": 56,
   "metadata": {},
   "outputs": [
    {
     "data": {
      "text/plain": [
       "'HTVLQAVGAC'"
      ]
     },
     "execution_count": 56,
     "metadata": {},
     "output_type": "execute_result"
    }
   ],
   "source": [
    "fullseq[923+start_of_1b-5:923+start_of_1b+5]"
   ]
  },
  {
   "cell_type": "code",
   "execution_count": 57,
   "metadata": {},
   "outputs": [
    {
     "data": {
      "text/plain": [
       "'HTVLQAVGAC'"
      ]
     },
     "execution_count": 57,
     "metadata": {},
     "output_type": "execute_result"
    }
   ],
   "source": [
    "ref_seq[923-5:923+5]"
   ]
  },
  {
   "cell_type": "code",
   "execution_count": 58,
   "metadata": {},
   "outputs": [
    {
     "data": {
      "text/html": [
       "<div>\n",
       "<style scoped>\n",
       "    .dataframe tbody tr th:only-of-type {\n",
       "        vertical-align: middle;\n",
       "    }\n",
       "\n",
       "    .dataframe tbody tr th {\n",
       "        vertical-align: top;\n",
       "    }\n",
       "\n",
       "    .dataframe thead th {\n",
       "        text-align: right;\n",
       "    }\n",
       "</style>\n",
       "<table border=\"1\" class=\"dataframe\">\n",
       "  <thead>\n",
       "    <tr style=\"text-align: right;\">\n",
       "      <th></th>\n",
       "      <th>Start</th>\n",
       "      <th>End</th>\n",
       "      <th>Sub_Protein</th>\n",
       "      <th>Protein</th>\n",
       "    </tr>\n",
       "  </thead>\n",
       "  <tbody>\n",
       "    <tr>\n",
       "      <th>0</th>\n",
       "      <td>1</td>\n",
       "      <td>180</td>\n",
       "      <td>Non-structural protein 1</td>\n",
       "      <td>ORF1a</td>\n",
       "    </tr>\n",
       "    <tr>\n",
       "      <th>1</th>\n",
       "      <td>181</td>\n",
       "      <td>818</td>\n",
       "      <td>Non-structural protein 2</td>\n",
       "      <td>ORF1a</td>\n",
       "    </tr>\n",
       "    <tr>\n",
       "      <th>2</th>\n",
       "      <td>819</td>\n",
       "      <td>2763</td>\n",
       "      <td>Non-structural protein 3</td>\n",
       "      <td>ORF1a</td>\n",
       "    </tr>\n",
       "    <tr>\n",
       "      <th>3</th>\n",
       "      <td>2764</td>\n",
       "      <td>3263</td>\n",
       "      <td>Non-structural protein 4</td>\n",
       "      <td>ORF1a</td>\n",
       "    </tr>\n",
       "    <tr>\n",
       "      <th>4</th>\n",
       "      <td>3264</td>\n",
       "      <td>3569</td>\n",
       "      <td>3C-like proteinase</td>\n",
       "      <td>ORF1a</td>\n",
       "    </tr>\n",
       "    <tr>\n",
       "      <th>5</th>\n",
       "      <td>3570</td>\n",
       "      <td>3859</td>\n",
       "      <td>Non-structural protein 6</td>\n",
       "      <td>ORF1a</td>\n",
       "    </tr>\n",
       "    <tr>\n",
       "      <th>6</th>\n",
       "      <td>3860</td>\n",
       "      <td>3942</td>\n",
       "      <td>Non-structural protein 7</td>\n",
       "      <td>ORF1a</td>\n",
       "    </tr>\n",
       "    <tr>\n",
       "      <th>7</th>\n",
       "      <td>3943</td>\n",
       "      <td>4140</td>\n",
       "      <td>Non-structural protein 8</td>\n",
       "      <td>ORF1a</td>\n",
       "    </tr>\n",
       "    <tr>\n",
       "      <th>8</th>\n",
       "      <td>4141</td>\n",
       "      <td>4253</td>\n",
       "      <td>Non-structural protein 9</td>\n",
       "      <td>ORF1a</td>\n",
       "    </tr>\n",
       "    <tr>\n",
       "      <th>9</th>\n",
       "      <td>4254</td>\n",
       "      <td>4392</td>\n",
       "      <td>Non-structural protein 10</td>\n",
       "      <td>ORF1a</td>\n",
       "    </tr>\n",
       "    <tr>\n",
       "      <th>10</th>\n",
       "      <td>4393</td>\n",
       "      <td>4405</td>\n",
       "      <td>Non-structural protein 11</td>\n",
       "      <td>ORF1a</td>\n",
       "    </tr>\n",
       "    <tr>\n",
       "      <th>0</th>\n",
       "      <td>-8</td>\n",
       "      <td>923</td>\n",
       "      <td>RNA-directed RNA polymerase</td>\n",
       "      <td>ORF1b</td>\n",
       "    </tr>\n",
       "    <tr>\n",
       "      <th>1</th>\n",
       "      <td>924</td>\n",
       "      <td>1524</td>\n",
       "      <td>Helicase</td>\n",
       "      <td>ORF1b</td>\n",
       "    </tr>\n",
       "    <tr>\n",
       "      <th>2</th>\n",
       "      <td>1525</td>\n",
       "      <td>2051</td>\n",
       "      <td>Guanine-N7 methyltransferase</td>\n",
       "      <td>ORF1b</td>\n",
       "    </tr>\n",
       "    <tr>\n",
       "      <th>3</th>\n",
       "      <td>2052</td>\n",
       "      <td>2397</td>\n",
       "      <td>Uridylate-specific endoribonuclease</td>\n",
       "      <td>ORF1b</td>\n",
       "    </tr>\n",
       "    <tr>\n",
       "      <th>4</th>\n",
       "      <td>2398</td>\n",
       "      <td>2695</td>\n",
       "      <td>2'-O-methyltransferase</td>\n",
       "      <td>ORF1b</td>\n",
       "    </tr>\n",
       "  </tbody>\n",
       "</table>\n",
       "</div>"
      ],
      "text/plain": [
       "    Start   End                          Sub_Protein Protein\n",
       "0       1   180             Non-structural protein 1   ORF1a\n",
       "1     181   818             Non-structural protein 2   ORF1a\n",
       "2     819  2763             Non-structural protein 3   ORF1a\n",
       "3    2764  3263             Non-structural protein 4   ORF1a\n",
       "4    3264  3569                   3C-like proteinase   ORF1a\n",
       "5    3570  3859             Non-structural protein 6   ORF1a\n",
       "6    3860  3942             Non-structural protein 7   ORF1a\n",
       "7    3943  4140             Non-structural protein 8   ORF1a\n",
       "8    4141  4253             Non-structural protein 9   ORF1a\n",
       "9    4254  4392            Non-structural protein 10   ORF1a\n",
       "10   4393  4405            Non-structural protein 11   ORF1a\n",
       "0      -8   923          RNA-directed RNA polymerase   ORF1b\n",
       "1     924  1524                             Helicase   ORF1b\n",
       "2    1525  2051         Guanine-N7 methyltransferase   ORF1b\n",
       "3    2052  2397  Uridylate-specific endoribonuclease   ORF1b\n",
       "4    2398  2695               2'-O-methyltransferase   ORF1b"
      ]
     },
     "execution_count": 58,
     "metadata": {},
     "output_type": "execute_result"
    }
   ],
   "source": [
    "# the ends are the AA right before the next cleavage site. \n",
    "\n",
    "df= orf1a.append(orf1b)\n",
    "df"
   ]
  },
  {
   "cell_type": "code",
   "execution_count": 59,
   "metadata": {},
   "outputs": [],
   "source": [
    "# uniprot is 1 indexed. \n",
    "df['Start'] = df['Start']-1\n",
    "df['End'] = df['End']-1"
   ]
  },
  {
   "cell_type": "code",
   "execution_count": 60,
   "metadata": {},
   "outputs": [
    {
     "data": {
      "text/html": [
       "<div>\n",
       "<style scoped>\n",
       "    .dataframe tbody tr th:only-of-type {\n",
       "        vertical-align: middle;\n",
       "    }\n",
       "\n",
       "    .dataframe tbody tr th {\n",
       "        vertical-align: top;\n",
       "    }\n",
       "\n",
       "    .dataframe thead th {\n",
       "        text-align: right;\n",
       "    }\n",
       "</style>\n",
       "<table border=\"1\" class=\"dataframe\">\n",
       "  <thead>\n",
       "    <tr style=\"text-align: right;\">\n",
       "      <th></th>\n",
       "      <th>Start</th>\n",
       "      <th>End</th>\n",
       "      <th>Sub_Protein</th>\n",
       "      <th>Protein</th>\n",
       "    </tr>\n",
       "  </thead>\n",
       "  <tbody>\n",
       "    <tr>\n",
       "      <th>0</th>\n",
       "      <td>0</td>\n",
       "      <td>179</td>\n",
       "      <td>Non-structural protein 1</td>\n",
       "      <td>ORF1a</td>\n",
       "    </tr>\n",
       "    <tr>\n",
       "      <th>1</th>\n",
       "      <td>180</td>\n",
       "      <td>817</td>\n",
       "      <td>Non-structural protein 2</td>\n",
       "      <td>ORF1a</td>\n",
       "    </tr>\n",
       "    <tr>\n",
       "      <th>2</th>\n",
       "      <td>818</td>\n",
       "      <td>2762</td>\n",
       "      <td>Non-structural protein 3</td>\n",
       "      <td>ORF1a</td>\n",
       "    </tr>\n",
       "    <tr>\n",
       "      <th>3</th>\n",
       "      <td>2763</td>\n",
       "      <td>3262</td>\n",
       "      <td>Non-structural protein 4</td>\n",
       "      <td>ORF1a</td>\n",
       "    </tr>\n",
       "    <tr>\n",
       "      <th>4</th>\n",
       "      <td>3263</td>\n",
       "      <td>3568</td>\n",
       "      <td>3C-like proteinase</td>\n",
       "      <td>ORF1a</td>\n",
       "    </tr>\n",
       "  </tbody>\n",
       "</table>\n",
       "</div>"
      ],
      "text/plain": [
       "   Start   End               Sub_Protein Protein\n",
       "0      0   179  Non-structural protein 1   ORF1a\n",
       "1    180   817  Non-structural protein 2   ORF1a\n",
       "2    818  2762  Non-structural protein 3   ORF1a\n",
       "3   2763  3262  Non-structural protein 4   ORF1a\n",
       "4   3263  3568        3C-like proteinase   ORF1a"
      ]
     },
     "execution_count": 60,
     "metadata": {},
     "output_type": "execute_result"
    }
   ],
   "source": [
    "df.head()"
   ]
  },
  {
   "cell_type": "markdown",
   "metadata": {},
   "source": [
    "furin cleavage in S1 and S2 https://link.springer.com/article/10.1007/s12250-020-00212-7\n",
    "This furin cleavage site was located between the residues 682 and 685. RRAR is the sequence"
   ]
  },
  {
   "cell_type": "code",
   "execution_count": 61,
   "metadata": {},
   "outputs": [],
   "source": [
    "for aa_file in ['data/v6/aligned_protein_S.fasta']: # amino_acid_files:\n",
    "    protein = aa_file.split('_')[-1].split('.')[0]\n",
    "    with open(aa_file, \"rt\") as handle:\n",
    "        records = list(SeqIO.parse(handle, \"fasta\"))\n",
    "\n",
    "    # getting the reference sequence\n",
    "    for ind, r in enumerate(records): \n",
    "        if r.id == 'Wuhan/IPBCAMS-WH-01/2019':\n",
    "            ref_seq_ind = ind\n",
    "            \n",
    "    ref_seq = str(records[ref_seq_ind].seq)[:-1]"
   ]
  },
  {
   "cell_type": "code",
   "execution_count": 62,
   "metadata": {},
   "outputs": [
    {
     "data": {
      "text/plain": [
       "1273"
      ]
     },
     "execution_count": 62,
     "metadata": {},
     "output_type": "execute_result"
    }
   ],
   "source": [
    "len(ref_seq)"
   ]
  },
  {
   "cell_type": "code",
   "execution_count": 63,
   "metadata": {},
   "outputs": [
    {
     "data": {
      "text/plain": [
       "681"
      ]
     },
     "execution_count": 63,
     "metadata": {},
     "output_type": "execute_result"
    }
   ],
   "source": [
    "ref_seq.index('RRAR')"
   ]
  },
  {
   "cell_type": "code",
   "execution_count": 64,
   "metadata": {},
   "outputs": [
    {
     "data": {
      "text/plain": [
       "'RRARS'"
      ]
     },
     "execution_count": 64,
     "metadata": {},
     "output_type": "execute_result"
    }
   ],
   "source": [
    "ref_seq[681:686] #RRAR|S is the cleavage site. "
   ]
  },
  {
   "cell_type": "code",
   "execution_count": 65,
   "metadata": {},
   "outputs": [
    {
     "data": {
      "text/plain": [
       "'S'"
      ]
     },
     "execution_count": 65,
     "metadata": {},
     "output_type": "execute_result"
    }
   ],
   "source": [
    "ref_seq[685]"
   ]
  },
  {
   "cell_type": "code",
   "execution_count": 66,
   "metadata": {},
   "outputs": [],
   "source": [
    "to_df = [[0, 684, 'S1', 'S'  ], [685, len(ref_seq), 'S2', 'S' ]]\n",
    "S = pd.DataFrame(to_df, columns=['Start', 'End', 'Sub_Protein', 'Protein'])\n",
    "\n",
    "df = df.append( S  )"
   ]
  },
  {
   "cell_type": "code",
   "execution_count": 67,
   "metadata": {},
   "outputs": [
    {
     "data": {
      "text/html": [
       "<div>\n",
       "<style scoped>\n",
       "    .dataframe tbody tr th:only-of-type {\n",
       "        vertical-align: middle;\n",
       "    }\n",
       "\n",
       "    .dataframe tbody tr th {\n",
       "        vertical-align: top;\n",
       "    }\n",
       "\n",
       "    .dataframe thead th {\n",
       "        text-align: right;\n",
       "    }\n",
       "</style>\n",
       "<table border=\"1\" class=\"dataframe\">\n",
       "  <thead>\n",
       "    <tr style=\"text-align: right;\">\n",
       "      <th></th>\n",
       "      <th>Start</th>\n",
       "      <th>End</th>\n",
       "      <th>Sub_Protein</th>\n",
       "      <th>Protein</th>\n",
       "    </tr>\n",
       "  </thead>\n",
       "  <tbody>\n",
       "    <tr>\n",
       "      <th>2</th>\n",
       "      <td>1524</td>\n",
       "      <td>2050</td>\n",
       "      <td>Guanine-N7 methyltransferase</td>\n",
       "      <td>ORF1b</td>\n",
       "    </tr>\n",
       "    <tr>\n",
       "      <th>3</th>\n",
       "      <td>2051</td>\n",
       "      <td>2396</td>\n",
       "      <td>Uridylate-specific endoribonuclease</td>\n",
       "      <td>ORF1b</td>\n",
       "    </tr>\n",
       "    <tr>\n",
       "      <th>4</th>\n",
       "      <td>2397</td>\n",
       "      <td>2694</td>\n",
       "      <td>2'-O-methyltransferase</td>\n",
       "      <td>ORF1b</td>\n",
       "    </tr>\n",
       "    <tr>\n",
       "      <th>0</th>\n",
       "      <td>0</td>\n",
       "      <td>684</td>\n",
       "      <td>S1</td>\n",
       "      <td>S</td>\n",
       "    </tr>\n",
       "    <tr>\n",
       "      <th>1</th>\n",
       "      <td>685</td>\n",
       "      <td>1273</td>\n",
       "      <td>S2</td>\n",
       "      <td>S</td>\n",
       "    </tr>\n",
       "  </tbody>\n",
       "</table>\n",
       "</div>"
      ],
      "text/plain": [
       "   Start   End                          Sub_Protein Protein\n",
       "2   1524  2050         Guanine-N7 methyltransferase   ORF1b\n",
       "3   2051  2396  Uridylate-specific endoribonuclease   ORF1b\n",
       "4   2397  2694               2'-O-methyltransferase   ORF1b\n",
       "0      0   684                                   S1       S\n",
       "1    685  1273                                   S2       S"
      ]
     },
     "execution_count": 67,
     "metadata": {},
     "output_type": "execute_result"
    }
   ],
   "source": [
    "df.tail()"
   ]
  },
  {
   "cell_type": "code",
   "execution_count": 68,
   "metadata": {},
   "outputs": [],
   "source": [
    "df.to_csv('data/processed/ProteinCleavageSites.csv', index=False)"
   ]
  },
  {
   "cell_type": "code",
   "execution_count": null,
   "metadata": {},
   "outputs": [],
   "source": []
  }
 ],
 "metadata": {
  "kernelspec": {
   "display_name": "Python 3",
   "language": "python",
   "name": "python3"
  },
  "language_info": {
   "codemirror_mode": {
    "name": "ipython",
    "version": 3
   },
   "file_extension": ".py",
   "mimetype": "text/x-python",
   "name": "python",
   "nbconvert_exporter": "python",
   "pygments_lexer": "ipython3",
   "version": "3.8.3"
  }
 },
 "nbformat": 4,
 "nbformat_minor": 4
}
