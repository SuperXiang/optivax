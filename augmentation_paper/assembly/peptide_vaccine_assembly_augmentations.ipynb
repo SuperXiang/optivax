{
 "cells": [
  {
   "cell_type": "code",
   "execution_count": 1,
   "metadata": {},
   "outputs": [],
   "source": [
    "import pandas as pd"
   ]
  },
  {
   "cell_type": "markdown",
   "metadata": {},
   "source": [
    "# OptiVax-Robust Augmentation Constructs"
   ]
  },
  {
   "cell_type": "code",
   "execution_count": 2,
   "metadata": {},
   "outputs": [
    {
     "name": "stdout",
     "output_type": "stream",
     "text": [
      "26 55 10\n"
     ]
    }
   ],
   "source": [
    "# (Kreiter et al., 2008; Sahin et al., 2017)\n",
    "# https://www.jimmunol.org/content/180/1/309.full\n",
    "# https://www.nature.com/articles/nature23003\n",
    "\n",
    "SIGNAL_SEQ = 'MRVTAPRTLILLLSGALALTETWAGS'\n",
    "MITD_SEQ = 'IVGIVAGLAVLAVVVIGAVVATVMCRRKSSGGKGGSYSQAASSDSAQGSDVSLTA'\n",
    "START_LINKER_SEQ = 'GGSGGGGSGG'\n",
    "MIDDLE_LINKER_SEQ = 'GGSGGGGSGG'\n",
    "END_LINKER_SEQ = 'GGSLGGGGSG'\n",
    "print(len(SIGNAL_SEQ), len(MITD_SEQ), len(MIDDLE_LINKER_SEQ))"
   ]
  },
  {
   "cell_type": "markdown",
   "metadata": {},
   "source": [
    "## Separate Designs"
   ]
  },
  {
   "cell_type": "code",
   "execution_count": 3,
   "metadata": {
    "scrolled": true
   },
   "outputs": [
    {
     "data": {
      "text/html": [
       "<div>\n",
       "<style scoped>\n",
       "    .dataframe tbody tr th:only-of-type {\n",
       "        vertical-align: middle;\n",
       "    }\n",
       "\n",
       "    .dataframe tbody tr th {\n",
       "        vertical-align: top;\n",
       "    }\n",
       "\n",
       "    .dataframe thead th {\n",
       "        text-align: right;\n",
       "    }\n",
       "</style>\n",
       "<table border=\"1\" class=\"dataframe\">\n",
       "  <thead>\n",
       "    <tr style=\"text-align: right;\">\n",
       "      <th></th>\n",
       "      <th>peptide</th>\n",
       "      <th>mhc_1</th>\n",
       "    </tr>\n",
       "  </thead>\n",
       "  <tbody>\n",
       "    <tr>\n",
       "      <th>0</th>\n",
       "      <td>ATSRTLSYY</td>\n",
       "      <td>True</td>\n",
       "    </tr>\n",
       "    <tr>\n",
       "      <th>1</th>\n",
       "      <td>FAYANRNRF</td>\n",
       "      <td>True</td>\n",
       "    </tr>\n",
       "    <tr>\n",
       "      <th>2</th>\n",
       "      <td>FLNRFTTTL</td>\n",
       "      <td>True</td>\n",
       "    </tr>\n",
       "    <tr>\n",
       "      <th>3</th>\n",
       "      <td>FTYASALWEI</td>\n",
       "      <td>True</td>\n",
       "    </tr>\n",
       "    <tr>\n",
       "      <th>4</th>\n",
       "      <td>SINFVRIIMR</td>\n",
       "      <td>True</td>\n",
       "    </tr>\n",
       "    <tr>\n",
       "      <th>5</th>\n",
       "      <td>SPRWYFYYL</td>\n",
       "      <td>True</td>\n",
       "    </tr>\n",
       "    <tr>\n",
       "      <th>6</th>\n",
       "      <td>TVYSHLLLV</td>\n",
       "      <td>True</td>\n",
       "    </tr>\n",
       "    <tr>\n",
       "      <th>7</th>\n",
       "      <td>YIFFASFYY</td>\n",
       "      <td>True</td>\n",
       "    </tr>\n",
       "    <tr>\n",
       "      <th>8</th>\n",
       "      <td>YLDAYNMMI</td>\n",
       "      <td>True</td>\n",
       "    </tr>\n",
       "    <tr>\n",
       "      <th>9</th>\n",
       "      <td>AVFQSASKIITLKKRWQLA</td>\n",
       "      <td>False</td>\n",
       "    </tr>\n",
       "    <tr>\n",
       "      <th>10</th>\n",
       "      <td>DGVKHVYQLRARSVSPKLFI</td>\n",
       "      <td>False</td>\n",
       "    </tr>\n",
       "    <tr>\n",
       "      <th>11</th>\n",
       "      <td>DNKFALTCFSTQFAFACPDG</td>\n",
       "      <td>False</td>\n",
       "    </tr>\n",
       "    <tr>\n",
       "      <th>12</th>\n",
       "      <td>DQVILLNKHIDAYKTFPPT</td>\n",
       "      <td>False</td>\n",
       "    </tr>\n",
       "    <tr>\n",
       "      <th>13</th>\n",
       "      <td>EHVTFFIYNKIVDEPEEHV</td>\n",
       "      <td>False</td>\n",
       "    </tr>\n",
       "    <tr>\n",
       "      <th>14</th>\n",
       "      <td>HQPYVVDDPCPIHFYSKWYI</td>\n",
       "      <td>False</td>\n",
       "    </tr>\n",
       "    <tr>\n",
       "      <th>15</th>\n",
       "      <td>IITLKKRWQLALSKGVHFV</td>\n",
       "      <td>False</td>\n",
       "    </tr>\n",
       "    <tr>\n",
       "      <th>16</th>\n",
       "      <td>MDLFMRIFTIGTVTLKQGE</td>\n",
       "      <td>False</td>\n",
       "    </tr>\n",
       "    <tr>\n",
       "      <th>17</th>\n",
       "      <td>MWLSYFIASFRLFARTRSM</td>\n",
       "      <td>False</td>\n",
       "    </tr>\n",
       "    <tr>\n",
       "      <th>18</th>\n",
       "      <td>NGGDAALALLLLDRLNQLE</td>\n",
       "      <td>False</td>\n",
       "    </tr>\n",
       "    <tr>\n",
       "      <th>19</th>\n",
       "      <td>PKEITVATSRTLSYYKLGA</td>\n",
       "      <td>False</td>\n",
       "    </tr>\n",
       "    <tr>\n",
       "      <th>20</th>\n",
       "      <td>PRQKRTATKAYNVTQAFGR</td>\n",
       "      <td>False</td>\n",
       "    </tr>\n",
       "    <tr>\n",
       "      <th>21</th>\n",
       "      <td>PSDFVRATATIPIQASLPF</td>\n",
       "      <td>False</td>\n",
       "    </tr>\n",
       "    <tr>\n",
       "      <th>22</th>\n",
       "      <td>RWYFYYLGTGPEAGLPYGA</td>\n",
       "      <td>False</td>\n",
       "    </tr>\n",
       "    <tr>\n",
       "      <th>23</th>\n",
       "      <td>SFRLFARTRSMWSFNPETN</td>\n",
       "      <td>False</td>\n",
       "    </tr>\n",
       "    <tr>\n",
       "      <th>24</th>\n",
       "      <td>SYFTSDYYQLYSTQLSTDT</td>\n",
       "      <td>False</td>\n",
       "    </tr>\n",
       "    <tr>\n",
       "      <th>25</th>\n",
       "      <td>TGPEAGLPYGANKDGIIWV</td>\n",
       "      <td>False</td>\n",
       "    </tr>\n",
       "    <tr>\n",
       "      <th>26</th>\n",
       "      <td>TSPARMAGNGGDAALALLL</td>\n",
       "      <td>False</td>\n",
       "    </tr>\n",
       "    <tr>\n",
       "      <th>27</th>\n",
       "      <td>TYTGAIKLDDKDPNFKDQV</td>\n",
       "      <td>False</td>\n",
       "    </tr>\n",
       "    <tr>\n",
       "      <th>28</th>\n",
       "      <td>VKDCVVLHSYFTSDYYQLY</td>\n",
       "      <td>False</td>\n",
       "    </tr>\n",
       "  </tbody>\n",
       "</table>\n",
       "</div>"
      ],
      "text/plain": [
       "                 peptide  mhc_1\n",
       "0              ATSRTLSYY   True\n",
       "1              FAYANRNRF   True\n",
       "2              FLNRFTTTL   True\n",
       "3             FTYASALWEI   True\n",
       "4             SINFVRIIMR   True\n",
       "5              SPRWYFYYL   True\n",
       "6              TVYSHLLLV   True\n",
       "7              YIFFASFYY   True\n",
       "8              YLDAYNMMI   True\n",
       "9    AVFQSASKIITLKKRWQLA  False\n",
       "10  DGVKHVYQLRARSVSPKLFI  False\n",
       "11  DNKFALTCFSTQFAFACPDG  False\n",
       "12   DQVILLNKHIDAYKTFPPT  False\n",
       "13   EHVTFFIYNKIVDEPEEHV  False\n",
       "14  HQPYVVDDPCPIHFYSKWYI  False\n",
       "15   IITLKKRWQLALSKGVHFV  False\n",
       "16   MDLFMRIFTIGTVTLKQGE  False\n",
       "17   MWLSYFIASFRLFARTRSM  False\n",
       "18   NGGDAALALLLLDRLNQLE  False\n",
       "19   PKEITVATSRTLSYYKLGA  False\n",
       "20   PRQKRTATKAYNVTQAFGR  False\n",
       "21   PSDFVRATATIPIQASLPF  False\n",
       "22   RWYFYYLGTGPEAGLPYGA  False\n",
       "23   SFRLFARTRSMWSFNPETN  False\n",
       "24   SYFTSDYYQLYSTQLSTDT  False\n",
       "25   TGPEAGLPYGANKDGIIWV  False\n",
       "26   TSPARMAGNGGDAALALLL  False\n",
       "27   TYTGAIKLDDKDPNFKDQV  False\n",
       "28   VKDCVVLHSYFTSDYYQLY  False"
      ]
     },
     "execution_count": 3,
     "metadata": {},
     "output_type": "execute_result"
    }
   ],
   "source": [
    "s_peptides = pd.read_csv('S-augmentation-peptide.txt', names=['peptide'])\n",
    "s_peptides['mhc_1'] = [len(x) <= 12 for x in s_peptides['peptide'].values]\n",
    "s_peptides"
   ]
  },
  {
   "cell_type": "code",
   "execution_count": 4,
   "metadata": {},
   "outputs": [
    {
     "name": "stdout",
     "output_type": "stream",
     "text": [
      "9\n",
      "['ATSRTLSYY', 'FAYANRNRF', 'FLNRFTTTL', 'FTYASALWEI', 'SINFVRIIMR', 'SPRWYFYYL', 'TVYSHLLLV', 'YIFFASFYY', 'YLDAYNMMI']\n"
     ]
    }
   ],
   "source": [
    "s_mhc1_peptides = s_peptides.loc[s_peptides['mhc_1']]['peptide'].values.tolist()\n",
    "print(len(s_mhc1_peptides))\n",
    "print(s_mhc1_peptides)"
   ]
  },
  {
   "cell_type": "code",
   "execution_count": 5,
   "metadata": {},
   "outputs": [
    {
     "name": "stdout",
     "output_type": "stream",
     "text": [
      "20\n",
      "['AVFQSASKIITLKKRWQLA', 'DGVKHVYQLRARSVSPKLFI', 'DNKFALTCFSTQFAFACPDG', 'DQVILLNKHIDAYKTFPPT', 'EHVTFFIYNKIVDEPEEHV', 'HQPYVVDDPCPIHFYSKWYI', 'IITLKKRWQLALSKGVHFV', 'MDLFMRIFTIGTVTLKQGE', 'MWLSYFIASFRLFARTRSM', 'NGGDAALALLLLDRLNQLE', 'PKEITVATSRTLSYYKLGA', 'PRQKRTATKAYNVTQAFGR', 'PSDFVRATATIPIQASLPF', 'RWYFYYLGTGPEAGLPYGA', 'SFRLFARTRSMWSFNPETN', 'SYFTSDYYQLYSTQLSTDT', 'TGPEAGLPYGANKDGIIWV', 'TSPARMAGNGGDAALALLL', 'TYTGAIKLDDKDPNFKDQV', 'VKDCVVLHSYFTSDYYQLY']\n"
     ]
    }
   ],
   "source": [
    "s_mhc2_peptides = s_peptides.loc[~s_peptides['mhc_1']]['peptide'].values.tolist()\n",
    "print(len(s_mhc2_peptides))\n",
    "print(s_mhc2_peptides)"
   ]
  },
  {
   "cell_type": "code",
   "execution_count": 6,
   "metadata": {},
   "outputs": [
    {
     "name": "stdout",
     "output_type": "stream",
     "text": [
      "S MHC 1 construct length:  264\n",
      "S MHC 2 construct length:  674\n"
     ]
    }
   ],
   "source": [
    "s_mhc1_construct = (\n",
    "    SIGNAL_SEQ +\n",
    "    START_LINKER_SEQ +\n",
    "    MIDDLE_LINKER_SEQ.join(s_mhc1_peptides) +\n",
    "    END_LINKER_SEQ +\n",
    "    MITD_SEQ\n",
    ")\n",
    "s_mhc2_construct = (\n",
    "    SIGNAL_SEQ +\n",
    "    START_LINKER_SEQ +\n",
    "    MIDDLE_LINKER_SEQ.join(s_mhc2_peptides) +\n",
    "    END_LINKER_SEQ +\n",
    "    MITD_SEQ\n",
    ")\n",
    "\n",
    "print('S MHC 1 construct length: ', len(s_mhc1_construct))\n",
    "print('S MHC 2 construct length: ', len(s_mhc2_construct))"
   ]
  },
  {
   "cell_type": "code",
   "execution_count": 7,
   "metadata": {},
   "outputs": [
    {
     "name": "stdout",
     "output_type": "stream",
     "text": [
      "MRVTAPRTLILLLSGALALTETWAGSGGSGGGGSGGATSRTLSYYGGSGGGGSGGFAYANRNRFGGSGGGGSGGFLNRFTTTLGGSGGGGSGGFTYASALWEIGGSGGGGSGGSINFVRIIMRGGSGGGGSGGSPRWYFYYLGGSGGGGSGGTVYSHLLLVGGSGGGGSGGYIFFASFYYGGSGGGGSGGYLDAYNMMIGGSLGGGGSGIVGIVAGLAVLAVVVIGAVVATVMCRRKSSGGKGGSYSQAASSDSAQGSDVSLTA\n"
     ]
    }
   ],
   "source": [
    "print(s_mhc1_construct)"
   ]
  },
  {
   "cell_type": "code",
   "execution_count": 8,
   "metadata": {},
   "outputs": [
    {
     "name": "stdout",
     "output_type": "stream",
     "text": [
      "MRVTAPRTLILLLSGALALTETWAGSGGSGGGGSGGAVFQSASKIITLKKRWQLAGGSGGGGSGGDGVKHVYQLRARSVSPKLFIGGSGGGGSGGDNKFALTCFSTQFAFACPDGGGSGGGGSGGDQVILLNKHIDAYKTFPPTGGSGGGGSGGEHVTFFIYNKIVDEPEEHVGGSGGGGSGGHQPYVVDDPCPIHFYSKWYIGGSGGGGSGGIITLKKRWQLALSKGVHFVGGSGGGGSGGMDLFMRIFTIGTVTLKQGEGGSGGGGSGGMWLSYFIASFRLFARTRSMGGSGGGGSGGNGGDAALALLLLDRLNQLEGGSGGGGSGGPKEITVATSRTLSYYKLGAGGSGGGGSGGPRQKRTATKAYNVTQAFGRGGSGGGGSGGPSDFVRATATIPIQASLPFGGSGGGGSGGRWYFYYLGTGPEAGLPYGAGGSGGGGSGGSFRLFARTRSMWSFNPETNGGSGGGGSGGSYFTSDYYQLYSTQLSTDTGGSGGGGSGGTGPEAGLPYGANKDGIIWVGGSGGGGSGGTSPARMAGNGGDAALALLLGGSGGGGSGGTYTGAIKLDDKDPNFKDQVGGSGGGGSGGVKDCVVLHSYFTSDYYQLYGGSLGGGGSGIVGIVAGLAVLAVVVIGAVVATVMCRRKSSGGKGGSYSQAASSDSAQGSDVSLTA\n"
     ]
    }
   ],
   "source": [
    "print(s_mhc2_construct)"
   ]
  },
  {
   "cell_type": "markdown",
   "metadata": {},
   "source": [
    "## Joint Design"
   ]
  },
  {
   "cell_type": "code",
   "execution_count": 9,
   "metadata": {},
   "outputs": [
    {
     "name": "stdout",
     "output_type": "stream",
     "text": [
      "33\n",
      "['ASEFSSLPSYAAFATAQEAYEQAVA', 'DTDFVNEFYAYLRKHFSMMILSDDA', 'DYPKCDRAMPNMLRIMASLVLARKH', 'EKVNINIVGDFKLNEEIAIILASFS', 'ESPFVMMSAPPAQYELKHGTFTCAS', 'FGLVAEWFLAYILFTRFFYVLGLAA', 'FKIYSKHTPINLVRDLPQGFSALEP', 'FRNARNGVLITEGSVKGLQPSVGPK', 'GAGAALQIPFAMQMAYRFNGIGVTQ', 'GIATVREVLSDRELHLSWEVGKPRP', 'GLMWLSYFIASFRLFARTRSMWSFN', 'GVSFSTFEEAALCTFLLNKEMYLKL', 'GVYDYLVSTQEFRYMNSQGLLPPKN', 'GWTAGAAAYYVGYLQPRTFLLKYNE', 'IICISTKHFYWFFSNYLKRRVVFNG', 'IPKDMTYRRLISMMGFKMNYQVNGY', 'LDISASIVAGGIVAIVVTCLAYYFM', 'LQSLQTYVTQQLIRAAEIRASANLA', 'NNLVVMAYITGGVVQLTSQWLTNIF', 'PLIQPIGALDISASIVAGGIVAIVV', 'QPTESIVRFPNITNLCPFGEVFNAT', 'SIKNFKSVLYYQNNVFMSEAKCWTE', 'SQSIIAYTMSLGAENSVAYSNNSIA', 'TDTPKGPKVKYLYFIKGLNNLNRGM', 'TFCAGSTFISDEVARDLSLQFKRPI', 'TFYLTNDVSFLAHIQWMVMFTPLVP', 'TITQMNLKYAISAKNRARTVAGVSI', 'TITSGWTFGAGAALQIPFAMQMAYR', 'TSQWLTNIFGTVYEKLKPVLDWLEE', 'VRKIFVDGVPFVVSTGYHFRELGVV', 'VVFVLWAHGFELTSMKYFVKIGPER', 'WESGVKDCVVLHSYFTSDYYQLYST', 'YESLRPDTRYVLMDGSIIQFPNTYL']\n"
     ]
    }
   ],
   "source": [
    "joint_s_peptides = pd.read_csv('Joint-vaccine-peptide.txt', names=['peptide'])['peptide'].values.tolist()\n",
    "print(len(joint_s_peptides))\n",
    "print(joint_s_peptides)"
   ]
  },
  {
   "cell_type": "code",
   "execution_count": 10,
   "metadata": {},
   "outputs": [
    {
     "name": "stdout",
     "output_type": "stream",
     "text": [
      "S Joint MHC I/II construct length:  1246\n"
     ]
    }
   ],
   "source": [
    "s_joint_construct = (\n",
    "    SIGNAL_SEQ +\n",
    "    START_LINKER_SEQ +\n",
    "    MIDDLE_LINKER_SEQ.join(joint_s_peptides) +\n",
    "    END_LINKER_SEQ +\n",
    "    MITD_SEQ\n",
    ")\n",
    "\n",
    "print('S Joint MHC I/II construct length: ', len(s_joint_construct))"
   ]
  },
  {
   "cell_type": "code",
   "execution_count": 11,
   "metadata": {},
   "outputs": [
    {
     "name": "stdout",
     "output_type": "stream",
     "text": [
      "MRVTAPRTLILLLSGALALTETWAGSGGSGGGGSGGASEFSSLPSYAAFATAQEAYEQAVAGGSGGGGSGGDTDFVNEFYAYLRKHFSMMILSDDAGGSGGGGSGGDYPKCDRAMPNMLRIMASLVLARKHGGSGGGGSGGEKVNINIVGDFKLNEEIAIILASFSGGSGGGGSGGESPFVMMSAPPAQYELKHGTFTCASGGSGGGGSGGFGLVAEWFLAYILFTRFFYVLGLAAGGSGGGGSGGFKIYSKHTPINLVRDLPQGFSALEPGGSGGGGSGGFRNARNGVLITEGSVKGLQPSVGPKGGSGGGGSGGGAGAALQIPFAMQMAYRFNGIGVTQGGSGGGGSGGGIATVREVLSDRELHLSWEVGKPRPGGSGGGGSGGGLMWLSYFIASFRLFARTRSMWSFNGGSGGGGSGGGVSFSTFEEAALCTFLLNKEMYLKLGGSGGGGSGGGVYDYLVSTQEFRYMNSQGLLPPKNGGSGGGGSGGGWTAGAAAYYVGYLQPRTFLLKYNEGGSGGGGSGGIICISTKHFYWFFSNYLKRRVVFNGGGSGGGGSGGIPKDMTYRRLISMMGFKMNYQVNGYGGSGGGGSGGLDISASIVAGGIVAIVVTCLAYYFMGGSGGGGSGGLQSLQTYVTQQLIRAAEIRASANLAGGSGGGGSGGNNLVVMAYITGGVVQLTSQWLTNIFGGSGGGGSGGPLIQPIGALDISASIVAGGIVAIVVGGSGGGGSGGQPTESIVRFPNITNLCPFGEVFNATGGSGGGGSGGSIKNFKSVLYYQNNVFMSEAKCWTEGGSGGGGSGGSQSIIAYTMSLGAENSVAYSNNSIAGGSGGGGSGGTDTPKGPKVKYLYFIKGLNNLNRGMGGSGGGGSGGTFCAGSTFISDEVARDLSLQFKRPIGGSGGGGSGGTFYLTNDVSFLAHIQWMVMFTPLVPGGSGGGGSGGTITQMNLKYAISAKNRARTVAGVSIGGSGGGGSGGTITSGWTFGAGAALQIPFAMQMAYRGGSGGGGSGGTSQWLTNIFGTVYEKLKPVLDWLEEGGSGGGGSGGVRKIFVDGVPFVVSTGYHFRELGVVGGSGGGGSGGVVFVLWAHGFELTSMKYFVKIGPERGGSGGGGSGGWESGVKDCVVLHSYFTSDYYQLYSTGGSGGGGSGGYESLRPDTRYVLMDGSIIQFPNTYLGGSLGGGGSGIVGIVAGLAVLAVVVIGAVVATVMCRRKSSGGKGGSYSQAASSDSAQGSDVSLTA\n"
     ]
    }
   ],
   "source": [
    "print(s_joint_construct)"
   ]
  },
  {
   "cell_type": "code",
   "execution_count": null,
   "metadata": {},
   "outputs": [],
   "source": []
  }
 ],
 "metadata": {
  "kernelspec": {
   "display_name": "Python 3",
   "language": "python",
   "name": "python3"
  },
  "language_info": {
   "codemirror_mode": {
    "name": "ipython",
    "version": 3
   },
   "file_extension": ".py",
   "mimetype": "text/x-python",
   "name": "python",
   "nbconvert_exporter": "python",
   "pygments_lexer": "ipython3",
   "version": "3.7.7"
  }
 },
 "nbformat": 4,
 "nbformat_minor": 4
}
